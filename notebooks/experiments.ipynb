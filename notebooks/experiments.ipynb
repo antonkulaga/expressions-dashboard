{
 "cells": [
  {
   "cell_type": "code",
   "execution_count": 1,
   "metadata": {
    "collapsed": true
   },
   "outputs": [],
   "source": [
    "import polars as pl\n",
    "from pathlib import Path\n",
    "from pycomfort.files import *\n",
    "from pycomfort import files\n",
    "import pyarrow\n",
    "import pandas as pd\n",
    "from functional import seq\n",
    "from typing import *\n",
    "import functools"
   ]
  },
  {
   "cell_type": "code",
   "execution_count": 2,
   "outputs": [
    {
     "data": {
      "text/plain": "polars.cfg.Config"
     },
     "execution_count": 2,
     "metadata": {},
     "output_type": "execute_result"
    }
   ],
   "source": [
    "pl.Config.set_tbl_width_chars(10000)\n",
    "pl.Config.set_fmt_str_lengths(1000)\n",
    "pl.Config.set_tbl_rows(20)"
   ],
   "metadata": {
    "collapsed": false
   }
  },
  {
   "cell_type": "code",
   "execution_count": 3,
   "outputs": [
    {
     "data": {
      "text/plain": "shape: (5, 22)\n┌───────────────────────┬───────────┬──────────────────┬────────────┬─────┬───────────────────┬──────────────────┬──────────────────────────────────────────┬──────────────────────────────────────┐\n│ DATE ADDED TO CATALOG ┆ PUBMED ID ┆ FIRST AUTHOR     ┆ DATE       ┆ ... ┆ STATISTICAL MODEL ┆ BACKGROUND TRAIT ┆ MAPPED BACKGROUND TRAIT                  ┆ MAPPED BACKGROUND TRAIT URI          │\n│ ---                   ┆ ---       ┆ ---              ┆ ---        ┆     ┆ ---               ┆ ---              ┆ ---                                      ┆ ---                                  │\n│ str                   ┆ i64       ┆ str              ┆ str        ┆     ┆ str               ┆ str              ┆ str                                      ┆ str                                  │\n╞═══════════════════════╪═══════════╪══════════════════╪════════════╪═════╪═══════════════════╪══════════════════╪══════════════════════════════════════════╪══════════════════════════════════════╡\n│ 2021-03-25            ┆ 32701512  ┆ Cairns J         ┆ 2020-07-23 ┆ ... ┆ null              ┆ null             ┆ estrogen-receptor positive breast cancer ┆ http://www.ebi.ac.uk/efo/EFO_1000649 │\n├╌╌╌╌╌╌╌╌╌╌╌╌╌╌╌╌╌╌╌╌╌╌╌┼╌╌╌╌╌╌╌╌╌╌╌┼╌╌╌╌╌╌╌╌╌╌╌╌╌╌╌╌╌╌┼╌╌╌╌╌╌╌╌╌╌╌╌┼╌╌╌╌╌┼╌╌╌╌╌╌╌╌╌╌╌╌╌╌╌╌╌╌╌┼╌╌╌╌╌╌╌╌╌╌╌╌╌╌╌╌╌╌┼╌╌╌╌╌╌╌╌╌╌╌╌╌╌╌╌╌╌╌╌╌╌╌╌╌╌╌╌╌╌╌╌╌╌╌╌╌╌╌╌╌╌┼╌╌╌╌╌╌╌╌╌╌╌╌╌╌╌╌╌╌╌╌╌╌╌╌╌╌╌╌╌╌╌╌╌╌╌╌╌╌┤\n│ 2020-09-15            ┆ 32580138  ┆ Shi XY           ┆ 2020-06-21 ┆ ... ┆ null              ┆ null             ┆ null                                     ┆ null                                 │\n├╌╌╌╌╌╌╌╌╌╌╌╌╌╌╌╌╌╌╌╌╌╌╌┼╌╌╌╌╌╌╌╌╌╌╌┼╌╌╌╌╌╌╌╌╌╌╌╌╌╌╌╌╌╌┼╌╌╌╌╌╌╌╌╌╌╌╌┼╌╌╌╌╌┼╌╌╌╌╌╌╌╌╌╌╌╌╌╌╌╌╌╌╌┼╌╌╌╌╌╌╌╌╌╌╌╌╌╌╌╌╌╌┼╌╌╌╌╌╌╌╌╌╌╌╌╌╌╌╌╌╌╌╌╌╌╌╌╌╌╌╌╌╌╌╌╌╌╌╌╌╌╌╌╌╌┼╌╌╌╌╌╌╌╌╌╌╌╌╌╌╌╌╌╌╌╌╌╌╌╌╌╌╌╌╌╌╌╌╌╌╌╌╌╌┤\n│ 2020-07-09            ┆ 32118827  ┆ Bonde A          ┆ 2020-02-28 ┆ ... ┆ null              ┆ null             ┆ null                                     ┆ null                                 │\n├╌╌╌╌╌╌╌╌╌╌╌╌╌╌╌╌╌╌╌╌╌╌╌┼╌╌╌╌╌╌╌╌╌╌╌┼╌╌╌╌╌╌╌╌╌╌╌╌╌╌╌╌╌╌┼╌╌╌╌╌╌╌╌╌╌╌╌┼╌╌╌╌╌┼╌╌╌╌╌╌╌╌╌╌╌╌╌╌╌╌╌╌╌┼╌╌╌╌╌╌╌╌╌╌╌╌╌╌╌╌╌╌┼╌╌╌╌╌╌╌╌╌╌╌╌╌╌╌╌╌╌╌╌╌╌╌╌╌╌╌╌╌╌╌╌╌╌╌╌╌╌╌╌╌╌┼╌╌╌╌╌╌╌╌╌╌╌╌╌╌╌╌╌╌╌╌╌╌╌╌╌╌╌╌╌╌╌╌╌╌╌╌╌╌┤\n│ 2020-07-09            ┆ 32118827  ┆ Bonde A          ┆ 2020-02-28 ┆ ... ┆ null              ┆ null             ┆ null                                     ┆ null                                 │\n├╌╌╌╌╌╌╌╌╌╌╌╌╌╌╌╌╌╌╌╌╌╌╌┼╌╌╌╌╌╌╌╌╌╌╌┼╌╌╌╌╌╌╌╌╌╌╌╌╌╌╌╌╌╌┼╌╌╌╌╌╌╌╌╌╌╌╌┼╌╌╌╌╌┼╌╌╌╌╌╌╌╌╌╌╌╌╌╌╌╌╌╌╌┼╌╌╌╌╌╌╌╌╌╌╌╌╌╌╌╌╌╌┼╌╌╌╌╌╌╌╌╌╌╌╌╌╌╌╌╌╌╌╌╌╌╌╌╌╌╌╌╌╌╌╌╌╌╌╌╌╌╌╌╌╌┼╌╌╌╌╌╌╌╌╌╌╌╌╌╌╌╌╌╌╌╌╌╌╌╌╌╌╌╌╌╌╌╌╌╌╌╌╌╌┤\n│ 2021-06-22            ┆ 33293549  ┆ Sargurupremraj M ┆ 2020-12-08 ┆ ... ┆ null              ┆ null             ┆ null                                     ┆ null                                 │\n└───────────────────────┴───────────┴──────────────────┴────────────┴─────┴───────────────────┴──────────────────┴──────────────────────────────────────────┴──────────────────────────────────────┘",
      "text/html": "<div>\n<style scoped>\n    .dataframe tbody tr th:only-of-type {\n        vertical-align: middle;\n    }\n\n    .dataframe tbody tr th {\n        vertical-align: top;\n    }\n\n    .dataframe thead th {\n        text-align: right;\n    }\n\n    .dataframe td {\n        white-space: pre;\n    }\n\n    .dataframe td {\n        padding-top: 0;\n    }\n\n    .dataframe td {\n        padding-bottom: 0;\n    }\n\n    .dataframe td {\n        line-height: 95%;\n    }\n</style>\n<table border=\"1\" class=\"dataframe\" >\n<small>shape: (5, 22)</small>\n<thead>\n<tr>\n<th>\nDATE ADDED TO CATALOG\n</th>\n<th>\nPUBMED ID\n</th>\n<th>\nFIRST AUTHOR\n</th>\n<th>\nDATE\n</th>\n<th>\nJOURNAL\n</th>\n<th>\nLINK\n</th>\n<th>\nSTUDY\n</th>\n<th>\nDISEASE/TRAIT\n</th>\n<th>\nINITIAL SAMPLE SIZE\n</th>\n<th>\nREPLICATION SAMPLE SIZE\n</th>\n<th>\nPLATFORM [SNPS PASSING QC]\n</th>\n<th>\nASSOCIATION COUNT\n</th>\n<th>\nMAPPED_TRAIT\n</th>\n<th>\nMAPPED_TRAIT_URI\n</th>\n<th>\nSTUDY ACCESSION\n</th>\n<th>\nGENOTYPING TECHNOLOGY\n</th>\n<th>\nSUMMARY STATS LOCATION\n</th>\n<th>\nSUBMISSION DATE\n</th>\n<th>\nSTATISTICAL MODEL\n</th>\n<th>\nBACKGROUND TRAIT\n</th>\n<th>\nMAPPED BACKGROUND TRAIT\n</th>\n<th>\nMAPPED BACKGROUND TRAIT URI\n</th>\n</tr>\n<tr>\n<td>\nstr\n</td>\n<td>\ni64\n</td>\n<td>\nstr\n</td>\n<td>\nstr\n</td>\n<td>\nstr\n</td>\n<td>\nstr\n</td>\n<td>\nstr\n</td>\n<td>\nstr\n</td>\n<td>\nstr\n</td>\n<td>\nstr\n</td>\n<td>\nstr\n</td>\n<td>\ni64\n</td>\n<td>\nstr\n</td>\n<td>\nstr\n</td>\n<td>\nstr\n</td>\n<td>\nstr\n</td>\n<td>\nstr\n</td>\n<td>\nstr\n</td>\n<td>\nstr\n</td>\n<td>\nstr\n</td>\n<td>\nstr\n</td>\n<td>\nstr\n</td>\n</tr>\n</thead>\n<tbody>\n<tr>\n<td>\n&quot;2021-03-25&quot;\n</td>\n<td>\n32701512\n</td>\n<td>\n&quot;Cairns J&quot;\n</td>\n<td>\n&quot;2020-07-23&quot;\n</td>\n<td>\n&quot;JCI Insight&quot;\n</td>\n<td>\n&quot;www.ncbi.nlm.nih.gov/pubmed/32701512&quot;\n</td>\n<td>\n&quot;Pharmacogenomics of aromatase inhibitors in postmenopausal breast cancer and additional mechanisms of anastrozole action.&quot;\n</td>\n<td>\n&quot;Estrogen level change in anastrozole-treated breast cancer&quot;\n</td>\n<td>\n&quot;624 individuals&quot;\n</td>\n<td>\n&quot;NA&quot;\n</td>\n<td>\n&quot;Illumina [up to 8000000] (imputed)&quot;\n</td>\n<td>\n5\n</td>\n<td>\n&quot;estrogen measurement, response to aromatase inhibitor&quot;\n</td>\n<td>\n&quot;http://www.ebi.ac.uk/efo/EFO_0011007, http://purl.obolibrary.org/obo/GO_0061477&quot;\n</td>\n<td>\n&quot;GCST011407&quot;\n</td>\n<td>\n&quot;Genome-wide genotyping array&quot;\n</td>\n<td>\nnull\n</td>\n<td>\nnull\n</td>\n<td>\nnull\n</td>\n<td>\nnull\n</td>\n<td>\n&quot;estrogen-receptor positive breast cancer&quot;\n</td>\n<td>\n&quot;http://www.ebi.ac.uk/efo/EFO_1000649&quot;\n</td>\n</tr>\n<tr>\n<td>\n&quot;2020-09-15&quot;\n</td>\n<td>\n32580138\n</td>\n<td>\n&quot;Shi XY&quot;\n</td>\n<td>\n&quot;2020-06-21&quot;\n</td>\n<td>\n&quot;EBioMedicine&quot;\n</td>\n<td>\n&quot;www.ncbi.nlm.nih.gov/pubmed/32580138&quot;\n</td>\n<td>\n&quot;Identification of susceptibility variants to benign childhood epilepsy with centro-temporal spikes (BECTS) in Chinese Han population.&quot;\n</td>\n<td>\n&quot;Benign childhood epilepsy with centro-temporal spikes&quot;\n</td>\n<td>\n&quot;1,738 Han Chinese ancestry cases, 6,592 Han Chinese ancestry controls&quot;\n</td>\n<td>\n&quot;NA&quot;\n</td>\n<td>\n&quot;Illumina [5352724] (imputed)&quot;\n</td>\n<td>\n12\n</td>\n<td>\n&quot;Rolandic epilepsy&quot;\n</td>\n<td>\n&quot;http://www.orpha.net/ORDO/Orphanet_1945&quot;\n</td>\n<td>\n&quot;GCST010566&quot;\n</td>\n<td>\n&quot;Genome-wide genotyping array&quot;\n</td>\n<td>\nnull\n</td>\n<td>\nnull\n</td>\n<td>\nnull\n</td>\n<td>\nnull\n</td>\n<td>\nnull\n</td>\n<td>\nnull\n</td>\n</tr>\n<tr>\n<td>\n&quot;2020-07-09&quot;\n</td>\n<td>\n32118827\n</td>\n<td>\n&quot;Bonde A&quot;\n</td>\n<td>\n&quot;2020-02-28&quot;\n</td>\n<td>\n&quot;J Trauma Acute Care Surg&quot;\n</td>\n<td>\n&quot;www.ncbi.nlm.nih.gov/pubmed/32118827&quot;\n</td>\n<td>\n&quot;Identification of a new genetic variant associated with cholecystitis: a multicenter genome-wide association study.&quot;\n</td>\n<td>\n&quot;Acute cholecystitis&quot;\n</td>\n<td>\n&quot;900 European ancestry cases, 23,727 European ancestry controls&quot;\n</td>\n<td>\n&quot;NA&quot;\n</td>\n<td>\n&quot;Illumina [NR] (imputed)&quot;\n</td>\n<td>\n1\n</td>\n<td>\n&quot;Cholecystitis, Acute&quot;\n</td>\n<td>\n&quot;http://www.ebi.ac.uk/efo/EFO_1001289&quot;\n</td>\n<td>\n&quot;GCST010176&quot;\n</td>\n<td>\n&quot;Genome-wide genotyping array&quot;\n</td>\n<td>\nnull\n</td>\n<td>\nnull\n</td>\n<td>\nnull\n</td>\n<td>\nnull\n</td>\n<td>\nnull\n</td>\n<td>\nnull\n</td>\n</tr>\n<tr>\n<td>\n&quot;2020-07-09&quot;\n</td>\n<td>\n32118827\n</td>\n<td>\n&quot;Bonde A&quot;\n</td>\n<td>\n&quot;2020-02-28&quot;\n</td>\n<td>\n&quot;J Trauma Acute Care Surg&quot;\n</td>\n<td>\n&quot;www.ncbi.nlm.nih.gov/pubmed/32118827&quot;\n</td>\n<td>\n&quot;Identification of a new genetic variant associated with cholecystitis: a multicenter genome-wide association study.&quot;\n</td>\n<td>\n&quot;Cholelithiasis&quot;\n</td>\n<td>\n&quot;up to 2,377 European ancestry cases, 22,203 European ancestry controls&quot;\n</td>\n<td>\n&quot;NA&quot;\n</td>\n<td>\n&quot;Illumina [NR] (imputed)&quot;\n</td>\n<td>\n0\n</td>\n<td>\n&quot;cholelithiasis&quot;\n</td>\n<td>\n&quot;http://www.ebi.ac.uk/efo/EFO_0004799&quot;\n</td>\n<td>\n&quot;GCST010177&quot;\n</td>\n<td>\n&quot;Genome-wide genotyping array&quot;\n</td>\n<td>\nnull\n</td>\n<td>\nnull\n</td>\n<td>\nnull\n</td>\n<td>\nnull\n</td>\n<td>\nnull\n</td>\n<td>\nnull\n</td>\n</tr>\n<tr>\n<td>\n&quot;2021-06-22&quot;\n</td>\n<td>\n33293549\n</td>\n<td>\n&quot;Sargurupremraj M&quot;\n</td>\n<td>\n&quot;2020-12-08&quot;\n</td>\n<td>\n&quot;Nat Commun&quot;\n</td>\n<td>\n&quot;www.ncbi.nlm.nih.gov/pubmed/33293549&quot;\n</td>\n<td>\n&quot;Cerebral small vessel disease genomics and its implications across the lifespan.&quot;\n</td>\n<td>\n&quot;White matter hyperintensity volume x hypertension interaction (2df)&quot;\n</td>\n<td>\n&quot;46,055 European ancestry individuals&quot;\n</td>\n<td>\n&quot;NA&quot;\n</td>\n<td>\n&quot;Affymetrix, Illumina [9900000] (imputed)&quot;\n</td>\n<td>\n26\n</td>\n<td>\n&quot;hypertension, white matter hyperintensity measurement&quot;\n</td>\n<td>\n&quot;http://www.ebi.ac.uk/efo/EFO_0000537, http://www.ebi.ac.uk/efo/EFO_0005665&quot;\n</td>\n<td>\n&quot;GCST011953&quot;\n</td>\n<td>\n&quot;Genome-wide genotyping array&quot;\n</td>\n<td>\nnull\n</td>\n<td>\nnull\n</td>\n<td>\nnull\n</td>\n<td>\nnull\n</td>\n<td>\nnull\n</td>\n<td>\nnull\n</td>\n</tr>\n</tbody>\n</table>\n</div>"
     },
     "execution_count": 3,
     "metadata": {},
     "output_type": "execute_result"
    }
   ],
   "source": [
    "gwas = pl.read_csv(\"/home/antonkulaga/Downloads/gwas-catalog-v1.0.3-studies-r2022-12-15.tsv\", sep=\"\\t\")\n",
    "gwas.head()"
   ],
   "metadata": {
    "collapsed": false
   }
  },
  {
   "cell_type": "code",
   "execution_count": 13,
   "outputs": [
    {
     "data": {
      "text/plain": "shape: (8961, 5)\n┌──────────────────────────────────────────────────────────────┬──────────────────────────────────────────────────────────────────────────────────────────────────────────────────────────┬─────────┬────────────────────┬────────┐\n│ trait                                                        ┆ trait_uri                                                                                                                ┆ studies ┆ association_counts ┆ papers │\n│ ---                                                          ┆ ---                                                                                                                      ┆ ---     ┆ ---                ┆ ---    │\n│ str                                                          ┆ str                                                                                                                      ┆ u32     ┆ i64                ┆ u32    │\n╞══════════════════════════════════════════════════════════════╪══════════════════════════════════════════════════════════════════════════════════════════════════════════════════════════╪═════════╪════════════════════╪════════╡\n│ blood protein measurement                                    ┆ http://www.ebi.ac.uk/efo/EFO_0007937                                                                                     ┆ 5354    ┆ 8587               ┆ 5354   │\n├╌╌╌╌╌╌╌╌╌╌╌╌╌╌╌╌╌╌╌╌╌╌╌╌╌╌╌╌╌╌╌╌╌╌╌╌╌╌╌╌╌╌╌╌╌╌╌╌╌╌╌╌╌╌╌╌╌╌╌╌╌╌┼╌╌╌╌╌╌╌╌╌╌╌╌╌╌╌╌╌╌╌╌╌╌╌╌╌╌╌╌╌╌╌╌╌╌╌╌╌╌╌╌╌╌╌╌╌╌╌╌╌╌╌╌╌╌╌╌╌╌╌╌╌╌╌╌╌╌╌╌╌╌╌╌╌╌╌╌╌╌╌╌╌╌╌╌╌╌╌╌╌╌╌╌╌╌╌╌╌╌╌╌╌╌╌╌╌╌╌╌╌╌╌╌╌╌╌╌╌╌╌╌╌╌┼╌╌╌╌╌╌╌╌╌┼╌╌╌╌╌╌╌╌╌╌╌╌╌╌╌╌╌╌╌╌┼╌╌╌╌╌╌╌╌┤\n│ protein measurement                                          ┆ http://www.ebi.ac.uk/efo/EFO_0004747                                                                                     ┆ 5242    ┆ 3814               ┆ 5242   │\n├╌╌╌╌╌╌╌╌╌╌╌╌╌╌╌╌╌╌╌╌╌╌╌╌╌╌╌╌╌╌╌╌╌╌╌╌╌╌╌╌╌╌╌╌╌╌╌╌╌╌╌╌╌╌╌╌╌╌╌╌╌╌┼╌╌╌╌╌╌╌╌╌╌╌╌╌╌╌╌╌╌╌╌╌╌╌╌╌╌╌╌╌╌╌╌╌╌╌╌╌╌╌╌╌╌╌╌╌╌╌╌╌╌╌╌╌╌╌╌╌╌╌╌╌╌╌╌╌╌╌╌╌╌╌╌╌╌╌╌╌╌╌╌╌╌╌╌╌╌╌╌╌╌╌╌╌╌╌╌╌╌╌╌╌╌╌╌╌╌╌╌╌╌╌╌╌╌╌╌╌╌╌╌╌╌┼╌╌╌╌╌╌╌╌╌┼╌╌╌╌╌╌╌╌╌╌╌╌╌╌╌╌╌╌╌╌┼╌╌╌╌╌╌╌╌┤\n│ metabolite measurement                                       ┆ http://www.ebi.ac.uk/efo/EFO_0004725                                                                                     ┆ 3040    ┆ 2776               ┆ 3040   │\n├╌╌╌╌╌╌╌╌╌╌╌╌╌╌╌╌╌╌╌╌╌╌╌╌╌╌╌╌╌╌╌╌╌╌╌╌╌╌╌╌╌╌╌╌╌╌╌╌╌╌╌╌╌╌╌╌╌╌╌╌╌╌┼╌╌╌╌╌╌╌╌╌╌╌╌╌╌╌╌╌╌╌╌╌╌╌╌╌╌╌╌╌╌╌╌╌╌╌╌╌╌╌╌╌╌╌╌╌╌╌╌╌╌╌╌╌╌╌╌╌╌╌╌╌╌╌╌╌╌╌╌╌╌╌╌╌╌╌╌╌╌╌╌╌╌╌╌╌╌╌╌╌╌╌╌╌╌╌╌╌╌╌╌╌╌╌╌╌╌╌╌╌╌╌╌╌╌╌╌╌╌╌╌╌╌┼╌╌╌╌╌╌╌╌╌┼╌╌╌╌╌╌╌╌╌╌╌╌╌╌╌╌╌╌╌╌┼╌╌╌╌╌╌╌╌┤\n│ gut microbiome measurement                                   ┆ http://www.ebi.ac.uk/efo/EFO_0007874                                                                                     ┆ 2300    ┆ 6547               ┆ 2300   │\n├╌╌╌╌╌╌╌╌╌╌╌╌╌╌╌╌╌╌╌╌╌╌╌╌╌╌╌╌╌╌╌╌╌╌╌╌╌╌╌╌╌╌╌╌╌╌╌╌╌╌╌╌╌╌╌╌╌╌╌╌╌╌┼╌╌╌╌╌╌╌╌╌╌╌╌╌╌╌╌╌╌╌╌╌╌╌╌╌╌╌╌╌╌╌╌╌╌╌╌╌╌╌╌╌╌╌╌╌╌╌╌╌╌╌╌╌╌╌╌╌╌╌╌╌╌╌╌╌╌╌╌╌╌╌╌╌╌╌╌╌╌╌╌╌╌╌╌╌╌╌╌╌╌╌╌╌╌╌╌╌╌╌╌╌╌╌╌╌╌╌╌╌╌╌╌╌╌╌╌╌╌╌╌╌╌┼╌╌╌╌╌╌╌╌╌┼╌╌╌╌╌╌╌╌╌╌╌╌╌╌╌╌╌╌╌╌┼╌╌╌╌╌╌╌╌┤\n│ functional brain measurement                                 ┆ http://www.ebi.ac.uk/efo/EFO_0007849                                                                                     ┆ 1811    ┆ 147                ┆ 1811   │\n├╌╌╌╌╌╌╌╌╌╌╌╌╌╌╌╌╌╌╌╌╌╌╌╌╌╌╌╌╌╌╌╌╌╌╌╌╌╌╌╌╌╌╌╌╌╌╌╌╌╌╌╌╌╌╌╌╌╌╌╌╌╌┼╌╌╌╌╌╌╌╌╌╌╌╌╌╌╌╌╌╌╌╌╌╌╌╌╌╌╌╌╌╌╌╌╌╌╌╌╌╌╌╌╌╌╌╌╌╌╌╌╌╌╌╌╌╌╌╌╌╌╌╌╌╌╌╌╌╌╌╌╌╌╌╌╌╌╌╌╌╌╌╌╌╌╌╌╌╌╌╌╌╌╌╌╌╌╌╌╌╌╌╌╌╌╌╌╌╌╌╌╌╌╌╌╌╌╌╌╌╌╌╌╌╌┼╌╌╌╌╌╌╌╌╌┼╌╌╌╌╌╌╌╌╌╌╌╌╌╌╌╌╌╌╌╌┼╌╌╌╌╌╌╌╌┤\n│ brain connectivity measurement                               ┆ http://www.ebi.ac.uk/efo/EFO_0005210                                                                                     ┆ 1706    ┆ 100                ┆ 1706   │\n├╌╌╌╌╌╌╌╌╌╌╌╌╌╌╌╌╌╌╌╌╌╌╌╌╌╌╌╌╌╌╌╌╌╌╌╌╌╌╌╌╌╌╌╌╌╌╌╌╌╌╌╌╌╌╌╌╌╌╌╌╌╌┼╌╌╌╌╌╌╌╌╌╌╌╌╌╌╌╌╌╌╌╌╌╌╌╌╌╌╌╌╌╌╌╌╌╌╌╌╌╌╌╌╌╌╌╌╌╌╌╌╌╌╌╌╌╌╌╌╌╌╌╌╌╌╌╌╌╌╌╌╌╌╌╌╌╌╌╌╌╌╌╌╌╌╌╌╌╌╌╌╌╌╌╌╌╌╌╌╌╌╌╌╌╌╌╌╌╌╌╌╌╌╌╌╌╌╌╌╌╌╌╌╌╌┼╌╌╌╌╌╌╌╌╌┼╌╌╌╌╌╌╌╌╌╌╌╌╌╌╌╌╌╌╌╌┼╌╌╌╌╌╌╌╌┤\n│ phosphatidylcholine measurement                              ┆ http://www.ebi.ac.uk/efo/EFO_0010226                                                                                     ┆ 733     ┆ 4805               ┆ 733    │\n├╌╌╌╌╌╌╌╌╌╌╌╌╌╌╌╌╌╌╌╌╌╌╌╌╌╌╌╌╌╌╌╌╌╌╌╌╌╌╌╌╌╌╌╌╌╌╌╌╌╌╌╌╌╌╌╌╌╌╌╌╌╌┼╌╌╌╌╌╌╌╌╌╌╌╌╌╌╌╌╌╌╌╌╌╌╌╌╌╌╌╌╌╌╌╌╌╌╌╌╌╌╌╌╌╌╌╌╌╌╌╌╌╌╌╌╌╌╌╌╌╌╌╌╌╌╌╌╌╌╌╌╌╌╌╌╌╌╌╌╌╌╌╌╌╌╌╌╌╌╌╌╌╌╌╌╌╌╌╌╌╌╌╌╌╌╌╌╌╌╌╌╌╌╌╌╌╌╌╌╌╌╌╌╌╌┼╌╌╌╌╌╌╌╌╌┼╌╌╌╌╌╌╌╌╌╌╌╌╌╌╌╌╌╌╌╌┼╌╌╌╌╌╌╌╌┤\n│ clinical treatment                                           ┆ http://www.ebi.ac.uk/efo/EFO_0007056                                                                                     ┆ 687     ┆ 31                 ┆ 687    │\n├╌╌╌╌╌╌╌╌╌╌╌╌╌╌╌╌╌╌╌╌╌╌╌╌╌╌╌╌╌╌╌╌╌╌╌╌╌╌╌╌╌╌╌╌╌╌╌╌╌╌╌╌╌╌╌╌╌╌╌╌╌╌┼╌╌╌╌╌╌╌╌╌╌╌╌╌╌╌╌╌╌╌╌╌╌╌╌╌╌╌╌╌╌╌╌╌╌╌╌╌╌╌╌╌╌╌╌╌╌╌╌╌╌╌╌╌╌╌╌╌╌╌╌╌╌╌╌╌╌╌╌╌╌╌╌╌╌╌╌╌╌╌╌╌╌╌╌╌╌╌╌╌╌╌╌╌╌╌╌╌╌╌╌╌╌╌╌╌╌╌╌╌╌╌╌╌╌╌╌╌╌╌╌╌╌┼╌╌╌╌╌╌╌╌╌┼╌╌╌╌╌╌╌╌╌╌╌╌╌╌╌╌╌╌╌╌┼╌╌╌╌╌╌╌╌┤\n│ employment status                                            ┆ http://www.ebi.ac.uk/efo/EFO_0005241                                                                                     ┆ 687     ┆ 10                 ┆ 687    │\n├╌╌╌╌╌╌╌╌╌╌╌╌╌╌╌╌╌╌╌╌╌╌╌╌╌╌╌╌╌╌╌╌╌╌╌╌╌╌╌╌╌╌╌╌╌╌╌╌╌╌╌╌╌╌╌╌╌╌╌╌╌╌┼╌╌╌╌╌╌╌╌╌╌╌╌╌╌╌╌╌╌╌╌╌╌╌╌╌╌╌╌╌╌╌╌╌╌╌╌╌╌╌╌╌╌╌╌╌╌╌╌╌╌╌╌╌╌╌╌╌╌╌╌╌╌╌╌╌╌╌╌╌╌╌╌╌╌╌╌╌╌╌╌╌╌╌╌╌╌╌╌╌╌╌╌╌╌╌╌╌╌╌╌╌╌╌╌╌╌╌╌╌╌╌╌╌╌╌╌╌╌╌╌╌╌┼╌╌╌╌╌╌╌╌╌┼╌╌╌╌╌╌╌╌╌╌╌╌╌╌╌╌╌╌╌╌┼╌╌╌╌╌╌╌╌┤\n│ brain volume measurement                                     ┆ http://www.ebi.ac.uk/efo/EFO_0006930                                                                                     ┆ 657     ┆ 1847               ┆ 657    │\n├╌╌╌╌╌╌╌╌╌╌╌╌╌╌╌╌╌╌╌╌╌╌╌╌╌╌╌╌╌╌╌╌╌╌╌╌╌╌╌╌╌╌╌╌╌╌╌╌╌╌╌╌╌╌╌╌╌╌╌╌╌╌┼╌╌╌╌╌╌╌╌╌╌╌╌╌╌╌╌╌╌╌╌╌╌╌╌╌╌╌╌╌╌╌╌╌╌╌╌╌╌╌╌╌╌╌╌╌╌╌╌╌╌╌╌╌╌╌╌╌╌╌╌╌╌╌╌╌╌╌╌╌╌╌╌╌╌╌╌╌╌╌╌╌╌╌╌╌╌╌╌╌╌╌╌╌╌╌╌╌╌╌╌╌╌╌╌╌╌╌╌╌╌╌╌╌╌╌╌╌╌╌╌╌╌┼╌╌╌╌╌╌╌╌╌┼╌╌╌╌╌╌╌╌╌╌╌╌╌╌╌╌╌╌╌╌┼╌╌╌╌╌╌╌╌┤\n│ ...                                                          ┆ ...                                                                                                                      ┆ ...     ┆ ...                ┆ ...    │\n├╌╌╌╌╌╌╌╌╌╌╌╌╌╌╌╌╌╌╌╌╌╌╌╌╌╌╌╌╌╌╌╌╌╌╌╌╌╌╌╌╌╌╌╌╌╌╌╌╌╌╌╌╌╌╌╌╌╌╌╌╌╌┼╌╌╌╌╌╌╌╌╌╌╌╌╌╌╌╌╌╌╌╌╌╌╌╌╌╌╌╌╌╌╌╌╌╌╌╌╌╌╌╌╌╌╌╌╌╌╌╌╌╌╌╌╌╌╌╌╌╌╌╌╌╌╌╌╌╌╌╌╌╌╌╌╌╌╌╌╌╌╌╌╌╌╌╌╌╌╌╌╌╌╌╌╌╌╌╌╌╌╌╌╌╌╌╌╌╌╌╌╌╌╌╌╌╌╌╌╌╌╌╌╌╌┼╌╌╌╌╌╌╌╌╌┼╌╌╌╌╌╌╌╌╌╌╌╌╌╌╌╌╌╌╌╌┼╌╌╌╌╌╌╌╌┤\n│ total cholesterol measurement, total campesterol measurement ┆ http://www.ebi.ac.uk/efo/EFO_0004574, http://www.ebi.ac.uk/efo/EFO_0020962                                               ┆ 1       ┆ 0                  ┆ 1      │\n├╌╌╌╌╌╌╌╌╌╌╌╌╌╌╌╌╌╌╌╌╌╌╌╌╌╌╌╌╌╌╌╌╌╌╌╌╌╌╌╌╌╌╌╌╌╌╌╌╌╌╌╌╌╌╌╌╌╌╌╌╌╌┼╌╌╌╌╌╌╌╌╌╌╌╌╌╌╌╌╌╌╌╌╌╌╌╌╌╌╌╌╌╌╌╌╌╌╌╌╌╌╌╌╌╌╌╌╌╌╌╌╌╌╌╌╌╌╌╌╌╌╌╌╌╌╌╌╌╌╌╌╌╌╌╌╌╌╌╌╌╌╌╌╌╌╌╌╌╌╌╌╌╌╌╌╌╌╌╌╌╌╌╌╌╌╌╌╌╌╌╌╌╌╌╌╌╌╌╌╌╌╌╌╌╌┼╌╌╌╌╌╌╌╌╌┼╌╌╌╌╌╌╌╌╌╌╌╌╌╌╌╌╌╌╌╌┼╌╌╌╌╌╌╌╌┤\n│ phytanate measurement                                        ┆ http://www.ebi.ac.uk/efo/EFO_0801065                                                                                     ┆ 1       ┆ 0                  ┆ 1      │\n├╌╌╌╌╌╌╌╌╌╌╌╌╌╌╌╌╌╌╌╌╌╌╌╌╌╌╌╌╌╌╌╌╌╌╌╌╌╌╌╌╌╌╌╌╌╌╌╌╌╌╌╌╌╌╌╌╌╌╌╌╌╌┼╌╌╌╌╌╌╌╌╌╌╌╌╌╌╌╌╌╌╌╌╌╌╌╌╌╌╌╌╌╌╌╌╌╌╌╌╌╌╌╌╌╌╌╌╌╌╌╌╌╌╌╌╌╌╌╌╌╌╌╌╌╌╌╌╌╌╌╌╌╌╌╌╌╌╌╌╌╌╌╌╌╌╌╌╌╌╌╌╌╌╌╌╌╌╌╌╌╌╌╌╌╌╌╌╌╌╌╌╌╌╌╌╌╌╌╌╌╌╌╌╌╌┼╌╌╌╌╌╌╌╌╌┼╌╌╌╌╌╌╌╌╌╌╌╌╌╌╌╌╌╌╌╌┼╌╌╌╌╌╌╌╌┤\n│ psychotic symptoms, response to anticonvulsant               ┆ http://www.ebi.ac.uk/efo/EFO_0005940, http://purl.obolibrary.org/obo/GO_0036277                                          ┆ 1       ┆ 0                  ┆ 1      │\n├╌╌╌╌╌╌╌╌╌╌╌╌╌╌╌╌╌╌╌╌╌╌╌╌╌╌╌╌╌╌╌╌╌╌╌╌╌╌╌╌╌╌╌╌╌╌╌╌╌╌╌╌╌╌╌╌╌╌╌╌╌╌┼╌╌╌╌╌╌╌╌╌╌╌╌╌╌╌╌╌╌╌╌╌╌╌╌╌╌╌╌╌╌╌╌╌╌╌╌╌╌╌╌╌╌╌╌╌╌╌╌╌╌╌╌╌╌╌╌╌╌╌╌╌╌╌╌╌╌╌╌╌╌╌╌╌╌╌╌╌╌╌╌╌╌╌╌╌╌╌╌╌╌╌╌╌╌╌╌╌╌╌╌╌╌╌╌╌╌╌╌╌╌╌╌╌╌╌╌╌╌╌╌╌╌┼╌╌╌╌╌╌╌╌╌┼╌╌╌╌╌╌╌╌╌╌╌╌╌╌╌╌╌╌╌╌┼╌╌╌╌╌╌╌╌┤\n│ X-17351 measurement                                          ┆ http://www.ebi.ac.uk/efo/EFO_0800774                                                                                     ┆ 1       ┆ 0                  ┆ 1      │\n├╌╌╌╌╌╌╌╌╌╌╌╌╌╌╌╌╌╌╌╌╌╌╌╌╌╌╌╌╌╌╌╌╌╌╌╌╌╌╌╌╌╌╌╌╌╌╌╌╌╌╌╌╌╌╌╌╌╌╌╌╌╌┼╌╌╌╌╌╌╌╌╌╌╌╌╌╌╌╌╌╌╌╌╌╌╌╌╌╌╌╌╌╌╌╌╌╌╌╌╌╌╌╌╌╌╌╌╌╌╌╌╌╌╌╌╌╌╌╌╌╌╌╌╌╌╌╌╌╌╌╌╌╌╌╌╌╌╌╌╌╌╌╌╌╌╌╌╌╌╌╌╌╌╌╌╌╌╌╌╌╌╌╌╌╌╌╌╌╌╌╌╌╌╌╌╌╌╌╌╌╌╌╌╌╌┼╌╌╌╌╌╌╌╌╌┼╌╌╌╌╌╌╌╌╌╌╌╌╌╌╌╌╌╌╌╌┼╌╌╌╌╌╌╌╌┤\n│ X-24970 measurement                                          ┆ http://www.ebi.ac.uk/efo/EFO_0800913                                                                                     ┆ 1       ┆ 0                  ┆ 1      │\n├╌╌╌╌╌╌╌╌╌╌╌╌╌╌╌╌╌╌╌╌╌╌╌╌╌╌╌╌╌╌╌╌╌╌╌╌╌╌╌╌╌╌╌╌╌╌╌╌╌╌╌╌╌╌╌╌╌╌╌╌╌╌┼╌╌╌╌╌╌╌╌╌╌╌╌╌╌╌╌╌╌╌╌╌╌╌╌╌╌╌╌╌╌╌╌╌╌╌╌╌╌╌╌╌╌╌╌╌╌╌╌╌╌╌╌╌╌╌╌╌╌╌╌╌╌╌╌╌╌╌╌╌╌╌╌╌╌╌╌╌╌╌╌╌╌╌╌╌╌╌╌╌╌╌╌╌╌╌╌╌╌╌╌╌╌╌╌╌╌╌╌╌╌╌╌╌╌╌╌╌╌╌╌╌╌┼╌╌╌╌╌╌╌╌╌┼╌╌╌╌╌╌╌╌╌╌╌╌╌╌╌╌╌╌╌╌┼╌╌╌╌╌╌╌╌┤\n│ X-17690 measurement                                          ┆ http://www.ebi.ac.uk/efo/EFO_0800788                                                                                     ┆ 1       ┆ 0                  ┆ 1      │\n├╌╌╌╌╌╌╌╌╌╌╌╌╌╌╌╌╌╌╌╌╌╌╌╌╌╌╌╌╌╌╌╌╌╌╌╌╌╌╌╌╌╌╌╌╌╌╌╌╌╌╌╌╌╌╌╌╌╌╌╌╌╌┼╌╌╌╌╌╌╌╌╌╌╌╌╌╌╌╌╌╌╌╌╌╌╌╌╌╌╌╌╌╌╌╌╌╌╌╌╌╌╌╌╌╌╌╌╌╌╌╌╌╌╌╌╌╌╌╌╌╌╌╌╌╌╌╌╌╌╌╌╌╌╌╌╌╌╌╌╌╌╌╌╌╌╌╌╌╌╌╌╌╌╌╌╌╌╌╌╌╌╌╌╌╌╌╌╌╌╌╌╌╌╌╌╌╌╌╌╌╌╌╌╌╌┼╌╌╌╌╌╌╌╌╌┼╌╌╌╌╌╌╌╌╌╌╌╌╌╌╌╌╌╌╌╌┼╌╌╌╌╌╌╌╌┤\n│ disorder of ear                                              ┆ http://purl.obolibrary.org/obo/MONDO_0021205                                                                             ┆ 1       ┆ 0                  ┆ 1      │\n├╌╌╌╌╌╌╌╌╌╌╌╌╌╌╌╌╌╌╌╌╌╌╌╌╌╌╌╌╌╌╌╌╌╌╌╌╌╌╌╌╌╌╌╌╌╌╌╌╌╌╌╌╌╌╌╌╌╌╌╌╌╌┼╌╌╌╌╌╌╌╌╌╌╌╌╌╌╌╌╌╌╌╌╌╌╌╌╌╌╌╌╌╌╌╌╌╌╌╌╌╌╌╌╌╌╌╌╌╌╌╌╌╌╌╌╌╌╌╌╌╌╌╌╌╌╌╌╌╌╌╌╌╌╌╌╌╌╌╌╌╌╌╌╌╌╌╌╌╌╌╌╌╌╌╌╌╌╌╌╌╌╌╌╌╌╌╌╌╌╌╌╌╌╌╌╌╌╌╌╌╌╌╌╌╌┼╌╌╌╌╌╌╌╌╌┼╌╌╌╌╌╌╌╌╌╌╌╌╌╌╌╌╌╌╌╌┼╌╌╌╌╌╌╌╌┤\n│ type 2 diabetes mellitus, obesity, coronary artery disease   ┆ http://purl.obolibrary.org/obo/MONDO_0005148, http://www.ebi.ac.uk/efo/EFO_0001073, http://www.ebi.ac.uk/efo/EFO_0001645 ┆ 1       ┆ 0                  ┆ 1      │\n├╌╌╌╌╌╌╌╌╌╌╌╌╌╌╌╌╌╌╌╌╌╌╌╌╌╌╌╌╌╌╌╌╌╌╌╌╌╌╌╌╌╌╌╌╌╌╌╌╌╌╌╌╌╌╌╌╌╌╌╌╌╌┼╌╌╌╌╌╌╌╌╌╌╌╌╌╌╌╌╌╌╌╌╌╌╌╌╌╌╌╌╌╌╌╌╌╌╌╌╌╌╌╌╌╌╌╌╌╌╌╌╌╌╌╌╌╌╌╌╌╌╌╌╌╌╌╌╌╌╌╌╌╌╌╌╌╌╌╌╌╌╌╌╌╌╌╌╌╌╌╌╌╌╌╌╌╌╌╌╌╌╌╌╌╌╌╌╌╌╌╌╌╌╌╌╌╌╌╌╌╌╌╌╌╌┼╌╌╌╌╌╌╌╌╌┼╌╌╌╌╌╌╌╌╌╌╌╌╌╌╌╌╌╌╌╌┼╌╌╌╌╌╌╌╌┤\n│ familial hypercholesterolemia                                ┆ http://www.ebi.ac.uk/efo/EFO_0004911                                                                                     ┆ 1       ┆ 0                  ┆ 1      │\n├╌╌╌╌╌╌╌╌╌╌╌╌╌╌╌╌╌╌╌╌╌╌╌╌╌╌╌╌╌╌╌╌╌╌╌╌╌╌╌╌╌╌╌╌╌╌╌╌╌╌╌╌╌╌╌╌╌╌╌╌╌╌┼╌╌╌╌╌╌╌╌╌╌╌╌╌╌╌╌╌╌╌╌╌╌╌╌╌╌╌╌╌╌╌╌╌╌╌╌╌╌╌╌╌╌╌╌╌╌╌╌╌╌╌╌╌╌╌╌╌╌╌╌╌╌╌╌╌╌╌╌╌╌╌╌╌╌╌╌╌╌╌╌╌╌╌╌╌╌╌╌╌╌╌╌╌╌╌╌╌╌╌╌╌╌╌╌╌╌╌╌╌╌╌╌╌╌╌╌╌╌╌╌╌╌┼╌╌╌╌╌╌╌╌╌┼╌╌╌╌╌╌╌╌╌╌╌╌╌╌╌╌╌╌╌╌┼╌╌╌╌╌╌╌╌┤\n│ survival time, lymphoid leukemia                             ┆ http://www.ebi.ac.uk/efo/EFO_0000714, http://www.ebi.ac.uk/efo/EFO_0004289                                               ┆ 1       ┆ 0                  ┆ 1      │\n└──────────────────────────────────────────────────────────────┴──────────────────────────────────────────────────────────────────────────────────────────────────────────────────────────┴─────────┴────────────────────┴────────┘",
      "text/html": "<div>\n<style scoped>\n    .dataframe tbody tr th:only-of-type {\n        vertical-align: middle;\n    }\n\n    .dataframe tbody tr th {\n        vertical-align: top;\n    }\n\n    .dataframe thead th {\n        text-align: right;\n    }\n\n    .dataframe td {\n        white-space: pre;\n    }\n\n    .dataframe td {\n        padding-top: 0;\n    }\n\n    .dataframe td {\n        padding-bottom: 0;\n    }\n\n    .dataframe td {\n        line-height: 95%;\n    }\n</style>\n<table border=\"1\" class=\"dataframe\" >\n<small>shape: (8961, 5)</small>\n<thead>\n<tr>\n<th>\ntrait\n</th>\n<th>\ntrait_uri\n</th>\n<th>\nstudies\n</th>\n<th>\nassociation_counts\n</th>\n<th>\npapers\n</th>\n</tr>\n<tr>\n<td>\nstr\n</td>\n<td>\nstr\n</td>\n<td>\nu32\n</td>\n<td>\ni64\n</td>\n<td>\nu32\n</td>\n</tr>\n</thead>\n<tbody>\n<tr>\n<td>\n&quot;blood protein measurement&quot;\n</td>\n<td>\n&quot;http://www.ebi.ac.uk/efo/EFO_0007937&quot;\n</td>\n<td>\n5354\n</td>\n<td>\n8587\n</td>\n<td>\n5354\n</td>\n</tr>\n<tr>\n<td>\n&quot;protein measurement&quot;\n</td>\n<td>\n&quot;http://www.ebi.ac.uk/efo/EFO_0004747&quot;\n</td>\n<td>\n5242\n</td>\n<td>\n3814\n</td>\n<td>\n5242\n</td>\n</tr>\n<tr>\n<td>\n&quot;metabolite measurement&quot;\n</td>\n<td>\n&quot;http://www.ebi.ac.uk/efo/EFO_0004725&quot;\n</td>\n<td>\n3040\n</td>\n<td>\n2776\n</td>\n<td>\n3040\n</td>\n</tr>\n<tr>\n<td>\n&quot;gut microbiome measurement&quot;\n</td>\n<td>\n&quot;http://www.ebi.ac.uk/efo/EFO_0007874&quot;\n</td>\n<td>\n2300\n</td>\n<td>\n6547\n</td>\n<td>\n2300\n</td>\n</tr>\n<tr>\n<td>\n&quot;functional brain measurement&quot;\n</td>\n<td>\n&quot;http://www.ebi.ac.uk/efo/EFO_0007849&quot;\n</td>\n<td>\n1811\n</td>\n<td>\n147\n</td>\n<td>\n1811\n</td>\n</tr>\n<tr>\n<td>\n&quot;brain connectivity measurement&quot;\n</td>\n<td>\n&quot;http://www.ebi.ac.uk/efo/EFO_0005210&quot;\n</td>\n<td>\n1706\n</td>\n<td>\n100\n</td>\n<td>\n1706\n</td>\n</tr>\n<tr>\n<td>\n&quot;phosphatidylcholine measurement&quot;\n</td>\n<td>\n&quot;http://www.ebi.ac.uk/efo/EFO_0010226&quot;\n</td>\n<td>\n733\n</td>\n<td>\n4805\n</td>\n<td>\n733\n</td>\n</tr>\n<tr>\n<td>\n&quot;clinical treatment&quot;\n</td>\n<td>\n&quot;http://www.ebi.ac.uk/efo/EFO_0007056&quot;\n</td>\n<td>\n687\n</td>\n<td>\n31\n</td>\n<td>\n687\n</td>\n</tr>\n<tr>\n<td>\n&quot;employment status&quot;\n</td>\n<td>\n&quot;http://www.ebi.ac.uk/efo/EFO_0005241&quot;\n</td>\n<td>\n687\n</td>\n<td>\n10\n</td>\n<td>\n687\n</td>\n</tr>\n<tr>\n<td>\n&quot;brain volume measurement&quot;\n</td>\n<td>\n&quot;http://www.ebi.ac.uk/efo/EFO_0006930&quot;\n</td>\n<td>\n657\n</td>\n<td>\n1847\n</td>\n<td>\n657\n</td>\n</tr>\n<tr>\n<td>\n...\n</td>\n<td>\n...\n</td>\n<td>\n...\n</td>\n<td>\n...\n</td>\n<td>\n...\n</td>\n</tr>\n<tr>\n<td>\n&quot;total cholesterol measurement, total campesterol measurement&quot;\n</td>\n<td>\n&quot;http://www.ebi.ac.uk/efo/EFO_0004574, http://www.ebi.ac.uk/efo/EFO_0020962&quot;\n</td>\n<td>\n1\n</td>\n<td>\n0\n</td>\n<td>\n1\n</td>\n</tr>\n<tr>\n<td>\n&quot;phytanate measurement&quot;\n</td>\n<td>\n&quot;http://www.ebi.ac.uk/efo/EFO_0801065&quot;\n</td>\n<td>\n1\n</td>\n<td>\n0\n</td>\n<td>\n1\n</td>\n</tr>\n<tr>\n<td>\n&quot;psychotic symptoms, response to anticonvulsant&quot;\n</td>\n<td>\n&quot;http://www.ebi.ac.uk/efo/EFO_0005940, http://purl.obolibrary.org/obo/GO_0036277&quot;\n</td>\n<td>\n1\n</td>\n<td>\n0\n</td>\n<td>\n1\n</td>\n</tr>\n<tr>\n<td>\n&quot;X-17351 measurement&quot;\n</td>\n<td>\n&quot;http://www.ebi.ac.uk/efo/EFO_0800774&quot;\n</td>\n<td>\n1\n</td>\n<td>\n0\n</td>\n<td>\n1\n</td>\n</tr>\n<tr>\n<td>\n&quot;X-24970 measurement&quot;\n</td>\n<td>\n&quot;http://www.ebi.ac.uk/efo/EFO_0800913&quot;\n</td>\n<td>\n1\n</td>\n<td>\n0\n</td>\n<td>\n1\n</td>\n</tr>\n<tr>\n<td>\n&quot;X-17690 measurement&quot;\n</td>\n<td>\n&quot;http://www.ebi.ac.uk/efo/EFO_0800788&quot;\n</td>\n<td>\n1\n</td>\n<td>\n0\n</td>\n<td>\n1\n</td>\n</tr>\n<tr>\n<td>\n&quot;disorder of ear&quot;\n</td>\n<td>\n&quot;http://purl.obolibrary.org/obo/MONDO_0021205&quot;\n</td>\n<td>\n1\n</td>\n<td>\n0\n</td>\n<td>\n1\n</td>\n</tr>\n<tr>\n<td>\n&quot;type 2 diabetes mellitus, obesity, coronary artery disease&quot;\n</td>\n<td>\n&quot;http://purl.obolibrary.org/obo/MONDO_0005148, http://www.ebi.ac.uk/efo/EFO_0001073, http://www.ebi.ac.uk/efo/EFO_0001645&quot;\n</td>\n<td>\n1\n</td>\n<td>\n0\n</td>\n<td>\n1\n</td>\n</tr>\n<tr>\n<td>\n&quot;familial hypercholesterolemia&quot;\n</td>\n<td>\n&quot;http://www.ebi.ac.uk/efo/EFO_0004911&quot;\n</td>\n<td>\n1\n</td>\n<td>\n0\n</td>\n<td>\n1\n</td>\n</tr>\n<tr>\n<td>\n&quot;survival time, lymphoid leukemia&quot;\n</td>\n<td>\n&quot;http://www.ebi.ac.uk/efo/EFO_0000714, http://www.ebi.ac.uk/efo/EFO_0004289&quot;\n</td>\n<td>\n1\n</td>\n<td>\n0\n</td>\n<td>\n1\n</td>\n</tr>\n</tbody>\n</table>\n</div>"
     },
     "execution_count": 13,
     "metadata": {},
     "output_type": "execute_result"
    }
   ],
   "source": [
    "traits = gwas\\\n",
    "    .groupby([pl.col(\"MAPPED_TRAIT\").alias(\"trait\"), pl.col(\"MAPPED_TRAIT_URI\").alias(\"trait_uri\")])\\\n",
    "    .agg([pl.count(\"STUDY ACCESSION\").alias(\"studies\"), pl.sum(\"ASSOCIATION COUNT\").alias(\"association_counts\"), pl.count(\"PUBMED ID\").alias(\"papers\")])\\\n",
    "    .sort([\"studies\",\"association_counts\", \"papers\"], True)\n",
    "traits"
   ],
   "metadata": {
    "collapsed": false
   }
  },
  {
   "cell_type": "code",
   "execution_count": 14,
   "outputs": [],
   "source": [
    "traits.write_csv(\"/home/antonkulaga/Downloads/TRAITS.tsv\", sep=\"\\t\")"
   ],
   "metadata": {
    "collapsed": false
   }
  },
  {
   "cell_type": "code",
   "execution_count": null,
   "outputs": [],
   "source": [
    "no_measure = traits.filter(~pl.col(\"trait\").str.contains(\"measurement\") & ~pl.col(\"trait\").str.contains(\"count\"))\n",
    "    no_measure .write_csv(\"/home/antonkulaga/Downloads/traits_no_measurement.tsv\",  sep=\"\\t\")\n",
    "no_measure#%%\n",
    "import polars as pl\n",
    "from pathlib import Path\n",
    "from pycomfort.files import *\n",
    "from pycomfort import files\n",
    "import pyarrow\n",
    "import pandas as pd\n",
    "from functional import seq\n",
    "from typing import *\n",
    "import functools"
   ],
   "metadata": {
    "collapsed": false
   }
  },
  {
   "cell_type": "code",
   "execution_count": null,
   "outputs": [],
   "source": [
    "pl.Config.set_tbl_width_chars(10000)\n",
    "pl.Config.set_fmt_str_lengths(1000)\n",
    "pl.Config.set_tbl_rows(20)"
   ],
   "metadata": {
    "collapsed": false
   }
  },
  {
   "cell_type": "code",
   "execution_count": null,
   "outputs": [],
   "source": [
    "gwas = pl.read_csv(\"/home/antonkulaga/Downloads/gwas-catalog-v1.0.3-studies-r2022-12-15.tsv\", sep=\"\\t\")\n",
    "gwas.head()"
   ],
   "metadata": {
    "collapsed": false
   }
  },
  {
   "cell_type": "code",
   "execution_count": null,
   "outputs": [],
   "source": [
    "traits = gwas\\\n",
    "    .groupby([pl.col(\"MAPPED_TRAIT\").alias(\"trait\"), pl.col(\"MAPPED_TRAIT_URI\").alias(\"trait_uri\")])\\\n",
    "    .agg([pl.count(\"STUDY ACCESSION\").alias(\"studies\"), pl.sum(\"ASSOCIATION COUNT\").alias(\"association_counts\"), pl.count(\"PUBMED ID\").alias(\"papers\")])\\\n",
    "    .sort([\"studies\",\"association_counts\", \"papers\"], True)\n",
    "traits"
   ],
   "metadata": {
    "collapsed": false
   }
  },
  {
   "cell_type": "code",
   "execution_count": null,
   "outputs": [],
   "source": [
    "traits.write_csv(\"/home/antonkulaga/Downloads/TRAITS.tsv\", sep=\"\\t\")"
   ],
   "metadata": {
    "collapsed": false
   }
  },
  {
   "cell_type": "code",
   "execution_count": 20,
   "outputs": [
    {
     "data": {
      "text/plain": "(3325, 5)"
     },
     "execution_count": 20,
     "metadata": {},
     "output_type": "execute_result"
    }
   ],
   "source": [
    "no_measure = traits.filter(~pl.col(\"trait\").str.contains(\"measurement\") & ~pl.col(\"trait\").str.contains(\"count\"))\n",
    "no_measure .write_csv(\"/home/antonkulaga/Downloads/traits_no_measurement.tsv\",  sep=\"\\t\")\n",
    "no_measure.shape"
   ],
   "metadata": {
    "collapsed": false
   }
  },
  {
   "cell_type": "code",
   "execution_count": null,
   "outputs": [],
   "source": [],
   "metadata": {
    "collapsed": false
   }
  },
  {
   "cell_type": "code",
   "execution_count": null,
   "outputs": [],
   "source": [],
   "metadata": {
    "collapsed": false
   }
  }
 ],
 "metadata": {
  "kernelspec": {
   "display_name": "Python 3",
   "language": "python",
   "name": "python3"
  },
  "language_info": {
   "codemirror_mode": {
    "name": "ipython",
    "version": 2
   },
   "file_extension": ".py",
   "mimetype": "text/x-python",
   "name": "python",
   "nbconvert_exporter": "python",
   "pygments_lexer": "ipython2",
   "version": "2.7.6"
  }
 },
 "nbformat": 4,
 "nbformat_minor": 0
}
