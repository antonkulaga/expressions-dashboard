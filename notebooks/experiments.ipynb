{
 "cells": [
  {
   "cell_type": "markdown",
   "source": [
    "Notebooks to make experiments\n",
    "-----------------------------"
   ],
   "metadata": {
    "collapsed": false
   }
  },
  {
   "cell_type": "code",
   "execution_count": 38,
   "outputs": [],
   "source": [
    "import genotations.ensembl\n",
    "import polars as pl\n",
    "from pycomfort.files import *"
   ],
   "metadata": {
    "collapsed": false
   }
  },
  {
   "cell_type": "code",
   "execution_count": 39,
   "outputs": [
    {
     "name": "stdout",
     "output_type": "stream",
     "text": [
      "[PosixPath('/home/antonkulaga/sources/expressions-dashboard/dashboard'), '/home/antonkulaga/sources/expressions-dashboard/notebooks/..', PosixPath('/home/antonkulaga/sources/expressions-dashboard/dashboard'), '/home/antonkulaga/sources/expressions-dashboard/notebooks/..', PosixPath('/home/antonkulaga/sources/expressions-dashboard/dashboard'), '/home/antonkulaga/sources/expressions-dashboard/notebooks/..', '/home/antonkulaga/.local/share/JetBrains/Toolbox/apps/IDEA-U/ch-0/223.8617.56.plugins/python/helpers-pro/jupyter_debug', '/home/antonkulaga/.local/share/JetBrains/Toolbox/apps/IDEA-U/ch-0/223.8617.56.plugins/python/helpers/pydev', '/home/antonkulaga/sources/expressions-dashboard/notebooks', '/home/antonkulaga/sources/expressions-dashboard', '/home/antonkulaga/micromamba/envs/dashboard/lib/python310.zip', '/home/antonkulaga/micromamba/envs/dashboard/lib/python3.10', '/home/antonkulaga/micromamba/envs/dashboard/lib/python3.10/lib-dynload', '', '/home/antonkulaga/.local/lib/python3.10/site-packages', '/home/antonkulaga/micromamba/envs/dashboard/lib/python3.10/site-packages']\n",
      "The autoreload extension is already loaded. To reload it, use:\n",
      "  %reload_ext autoreload\n"
     ]
    }
   ],
   "source": [
    "import sys\n",
    "\n",
    "base = Path(\"..\")\n",
    "local = (base / \"dashboard\").resolve()\n",
    "if local.exists():\n",
    "    sys.path.insert(0, Path(\"..\").absolute().as_posix())\n",
    "    sys.path.insert(0, local)\n",
    "    print(sys.path)\n",
    "else:\n",
    "    base = Path(\".\")\n",
    "%load_ext autoreload\n",
    "%autoreload 2"
   ],
   "metadata": {
    "collapsed": false
   }
  },
  {
   "cell_type": "code",
   "execution_count": 40,
   "outputs": [
    {
     "data": {
      "text/plain": "polars.cfg.Config"
     },
     "execution_count": 40,
     "metadata": {},
     "output_type": "execute_result"
    }
   ],
   "source": [
    "pl.Config.set_tbl_width_chars(10000)\n",
    "pl.Config.set_fmt_str_lengths(1000)\n",
    "pl.Config.set_tbl_rows(20)"
   ],
   "metadata": {
    "collapsed": false
   }
  },
  {
   "cell_type": "code",
   "execution_count": 41,
   "outputs": [],
   "source": [
    "from dashboard.cell_models import *\n",
    "from dashboard.config import *"
   ],
   "metadata": {
    "collapsed": false
   }
  },
  {
   "cell_type": "code",
   "execution_count": 42,
   "outputs": [],
   "source": [
    "#expressions = SpeciesExpressions.summaries_from_runs(runs_list)\n",
    "#expressions"
   ],
   "metadata": {
    "collapsed": false
   }
  },
  {
   "cell_type": "code",
   "execution_count": 43,
   "outputs": [
    {
     "data": {
      "text/plain": "PosixPath('../data/inputs/cell_lines/CACHE')"
     },
     "execution_count": 43,
     "metadata": {},
     "output_type": "execute_result"
    }
   ],
   "source": [
    "locations = Locations(base)\n",
    "locations.cell_lines_cache"
   ],
   "metadata": {
    "collapsed": false
   }
  },
  {
   "cell_type": "code",
   "execution_count": 49,
   "outputs": [
    {
     "name": "stdout",
     "output_type": "stream",
     "text": [
      "cell line /home/antonkulaga/sources/expressions-dashboard/data/inputs/cell_lines/INS-1 does not seem to exist!\n"
     ]
    }
   ],
   "source": [
    "cells = Cells(locations.cell_lines)"
   ],
   "metadata": {
    "collapsed": false
   }
  },
  {
   "cell_type": "code",
   "execution_count": 50,
   "outputs": [
    {
     "data": {
      "text/plain": "shape: (11, 10)\n┌────────────────┬───────────────────────────────────────┬─────────┬────────────────────────────────────┬─────┬────────────────┬──────────────────────────────────────────────────────────┬─────────┬──────────────────────┐\n│ Cell line name ┆ URL                                   ┆ Species ┆ Phenotype                          ┆ ... ┆ Modified lines ┆ Owners                                                   ┆ Sources ┆ Commens              │\n│ ---            ┆ ---                                   ┆ ---     ┆ ---                                ┆     ┆ ---            ┆ ---                                                      ┆ ---     ┆ ---                  │\n│ str            ┆ str                                   ┆ str     ┆ str                                ┆     ┆ str            ┆ str                                                      ┆ str     ┆ str                  │\n╞════════════════╪═══════════════════════════════════════╪═════════╪════════════════════════════════════╪═════╪════════════════╪══════════════════════════════════════════════════════════╪═════════╪══════════════════════╡\n│ INS-1          ┆ https://www.cellosaurus.org/CVCL_0352 ┆ Rat     ┆ Celule Beta de insulinom           ┆ ... ┆ null           ┆ Molecular Cell Biology Department                        ┆ null    ┆ null                 │\n├╌╌╌╌╌╌╌╌╌╌╌╌╌╌╌╌┼╌╌╌╌╌╌╌╌╌╌╌╌╌╌╌╌╌╌╌╌╌╌╌╌╌╌╌╌╌╌╌╌╌╌╌╌╌╌╌┼╌╌╌╌╌╌╌╌╌┼╌╌╌╌╌╌╌╌╌╌╌╌╌╌╌╌╌╌╌╌╌╌╌╌╌╌╌╌╌╌╌╌╌╌╌╌┼╌╌╌╌╌┼╌╌╌╌╌╌╌╌╌╌╌╌╌╌╌╌┼╌╌╌╌╌╌╌╌╌╌╌╌╌╌╌╌╌╌╌╌╌╌╌╌╌╌╌╌╌╌╌╌╌╌╌╌╌╌╌╌╌╌╌╌╌╌╌╌╌╌╌╌╌╌╌╌╌╌┼╌╌╌╌╌╌╌╌╌┼╌╌╌╌╌╌╌╌╌╌╌╌╌╌╌╌╌╌╌╌╌╌┤\n│ PANC-1         ┆ https://www.cellosaurus.org/CVCL_0480 ┆ Rat     ┆ Beta cells                         ┆ ... ┆ null           ┆ Molecular Cell Biology Department                        ┆ null    ┆ null                 │\n├╌╌╌╌╌╌╌╌╌╌╌╌╌╌╌╌┼╌╌╌╌╌╌╌╌╌╌╌╌╌╌╌╌╌╌╌╌╌╌╌╌╌╌╌╌╌╌╌╌╌╌╌╌╌╌╌┼╌╌╌╌╌╌╌╌╌┼╌╌╌╌╌╌╌╌╌╌╌╌╌╌╌╌╌╌╌╌╌╌╌╌╌╌╌╌╌╌╌╌╌╌╌╌┼╌╌╌╌╌┼╌╌╌╌╌╌╌╌╌╌╌╌╌╌╌╌┼╌╌╌╌╌╌╌╌╌╌╌╌╌╌╌╌╌╌╌╌╌╌╌╌╌╌╌╌╌╌╌╌╌╌╌╌╌╌╌╌╌╌╌╌╌╌╌╌╌╌╌╌╌╌╌╌╌╌┼╌╌╌╌╌╌╌╌╌┼╌╌╌╌╌╌╌╌╌╌╌╌╌╌╌╌╌╌╌╌╌╌┤\n│ MelJuSo        ┆ https://www.cellosaurus.org/CVCL_1403 ┆ Human   ┆ Celule de melanom uman faza VGP    ┆ ... ┆ null           ┆ Molecular Cell Biology Department                        ┆ null    ┆ null                 │\n├╌╌╌╌╌╌╌╌╌╌╌╌╌╌╌╌┼╌╌╌╌╌╌╌╌╌╌╌╌╌╌╌╌╌╌╌╌╌╌╌╌╌╌╌╌╌╌╌╌╌╌╌╌╌╌╌┼╌╌╌╌╌╌╌╌╌┼╌╌╌╌╌╌╌╌╌╌╌╌╌╌╌╌╌╌╌╌╌╌╌╌╌╌╌╌╌╌╌╌╌╌╌╌┼╌╌╌╌╌┼╌╌╌╌╌╌╌╌╌╌╌╌╌╌╌╌┼╌╌╌╌╌╌╌╌╌╌╌╌╌╌╌╌╌╌╌╌╌╌╌╌╌╌╌╌╌╌╌╌╌╌╌╌╌╌╌╌╌╌╌╌╌╌╌╌╌╌╌╌╌╌╌╌╌╌┼╌╌╌╌╌╌╌╌╌┼╌╌╌╌╌╌╌╌╌╌╌╌╌╌╌╌╌╌╌╌╌╌┤\n│ HEK293T        ┆ https://www.cellosaurus.org/CVCL_0063 ┆ Human   ┆ Celule umane embrionare de rinichi ┆ ... ┆ null           ┆ Molecular Cell Biology Department, Enzymology Department ┆ null    ┆ null                 │\n├╌╌╌╌╌╌╌╌╌╌╌╌╌╌╌╌┼╌╌╌╌╌╌╌╌╌╌╌╌╌╌╌╌╌╌╌╌╌╌╌╌╌╌╌╌╌╌╌╌╌╌╌╌╌╌╌┼╌╌╌╌╌╌╌╌╌┼╌╌╌╌╌╌╌╌╌╌╌╌╌╌╌╌╌╌╌╌╌╌╌╌╌╌╌╌╌╌╌╌╌╌╌╌┼╌╌╌╌╌┼╌╌╌╌╌╌╌╌╌╌╌╌╌╌╌╌┼╌╌╌╌╌╌╌╌╌╌╌╌╌╌╌╌╌╌╌╌╌╌╌╌╌╌╌╌╌╌╌╌╌╌╌╌╌╌╌╌╌╌╌╌╌╌╌╌╌╌╌╌╌╌╌╌╌╌┼╌╌╌╌╌╌╌╌╌┼╌╌╌╌╌╌╌╌╌╌╌╌╌╌╌╌╌╌╌╌╌╌┤\n│ CCD-1070Sk     ┆ https://www.cellosaurus.org/CVCL_2332 ┆ null    ┆ null                               ┆ ... ┆ null           ┆ Molecular Cell Biology Department                        ┆ null    ┆ null                 │\n├╌╌╌╌╌╌╌╌╌╌╌╌╌╌╌╌┼╌╌╌╌╌╌╌╌╌╌╌╌╌╌╌╌╌╌╌╌╌╌╌╌╌╌╌╌╌╌╌╌╌╌╌╌╌╌╌┼╌╌╌╌╌╌╌╌╌┼╌╌╌╌╌╌╌╌╌╌╌╌╌╌╌╌╌╌╌╌╌╌╌╌╌╌╌╌╌╌╌╌╌╌╌╌┼╌╌╌╌╌┼╌╌╌╌╌╌╌╌╌╌╌╌╌╌╌╌┼╌╌╌╌╌╌╌╌╌╌╌╌╌╌╌╌╌╌╌╌╌╌╌╌╌╌╌╌╌╌╌╌╌╌╌╌╌╌╌╌╌╌╌╌╌╌╌╌╌╌╌╌╌╌╌╌╌╌┼╌╌╌╌╌╌╌╌╌┼╌╌╌╌╌╌╌╌╌╌╌╌╌╌╌╌╌╌╌╌╌╌┤\n│ RAW 264.7      ┆ https://www.cellosaurus.org/CVCL_0493 ┆ Mouse   ┆ null                               ┆ ... ┆ null           ┆ Molecular Cell Biology Department                        ┆ null    ┆ FAILED, need to redo │\n├╌╌╌╌╌╌╌╌╌╌╌╌╌╌╌╌┼╌╌╌╌╌╌╌╌╌╌╌╌╌╌╌╌╌╌╌╌╌╌╌╌╌╌╌╌╌╌╌╌╌╌╌╌╌╌╌┼╌╌╌╌╌╌╌╌╌┼╌╌╌╌╌╌╌╌╌╌╌╌╌╌╌╌╌╌╌╌╌╌╌╌╌╌╌╌╌╌╌╌╌╌╌╌┼╌╌╌╌╌┼╌╌╌╌╌╌╌╌╌╌╌╌╌╌╌╌┼╌╌╌╌╌╌╌╌╌╌╌╌╌╌╌╌╌╌╌╌╌╌╌╌╌╌╌╌╌╌╌╌╌╌╌╌╌╌╌╌╌╌╌╌╌╌╌╌╌╌╌╌╌╌╌╌╌╌┼╌╌╌╌╌╌╌╌╌┼╌╌╌╌╌╌╌╌╌╌╌╌╌╌╌╌╌╌╌╌╌╌┤\n│ SKOV3          ┆ https://www.cellosaurus.org/CVCL_0532 ┆ Human   ┆ null                               ┆ ... ┆ null           ┆ Molecular Cell Biology Department                        ┆ null    ┆ null                 │\n├╌╌╌╌╌╌╌╌╌╌╌╌╌╌╌╌┼╌╌╌╌╌╌╌╌╌╌╌╌╌╌╌╌╌╌╌╌╌╌╌╌╌╌╌╌╌╌╌╌╌╌╌╌╌╌╌┼╌╌╌╌╌╌╌╌╌┼╌╌╌╌╌╌╌╌╌╌╌╌╌╌╌╌╌╌╌╌╌╌╌╌╌╌╌╌╌╌╌╌╌╌╌╌┼╌╌╌╌╌┼╌╌╌╌╌╌╌╌╌╌╌╌╌╌╌╌┼╌╌╌╌╌╌╌╌╌╌╌╌╌╌╌╌╌╌╌╌╌╌╌╌╌╌╌╌╌╌╌╌╌╌╌╌╌╌╌╌╌╌╌╌╌╌╌╌╌╌╌╌╌╌╌╌╌╌┼╌╌╌╌╌╌╌╌╌┼╌╌╌╌╌╌╌╌╌╌╌╌╌╌╌╌╌╌╌╌╌╌┤\n│ B16F10         ┆ https://www.cellosaurus.org/CVCL_0159 ┆ Mouse   ┆ null                               ┆ ... ┆ null           ┆ Ligand-Receptor Interactions Department                  ┆ null    ┆ null                 │\n├╌╌╌╌╌╌╌╌╌╌╌╌╌╌╌╌┼╌╌╌╌╌╌╌╌╌╌╌╌╌╌╌╌╌╌╌╌╌╌╌╌╌╌╌╌╌╌╌╌╌╌╌╌╌╌╌┼╌╌╌╌╌╌╌╌╌┼╌╌╌╌╌╌╌╌╌╌╌╌╌╌╌╌╌╌╌╌╌╌╌╌╌╌╌╌╌╌╌╌╌╌╌╌┼╌╌╌╌╌┼╌╌╌╌╌╌╌╌╌╌╌╌╌╌╌╌┼╌╌╌╌╌╌╌╌╌╌╌╌╌╌╌╌╌╌╌╌╌╌╌╌╌╌╌╌╌╌╌╌╌╌╌╌╌╌╌╌╌╌╌╌╌╌╌╌╌╌╌╌╌╌╌╌╌╌┼╌╌╌╌╌╌╌╌╌┼╌╌╌╌╌╌╌╌╌╌╌╌╌╌╌╌╌╌╌╌╌╌┤\n│ B16F1          ┆ https://www.cellosaurus.org/CVCL_0158 ┆ Mouse   ┆ null                               ┆ ... ┆ null           ┆ Ligand-Receptor Interactions Department                  ┆ null    ┆ null                 │\n├╌╌╌╌╌╌╌╌╌╌╌╌╌╌╌╌┼╌╌╌╌╌╌╌╌╌╌╌╌╌╌╌╌╌╌╌╌╌╌╌╌╌╌╌╌╌╌╌╌╌╌╌╌╌╌╌┼╌╌╌╌╌╌╌╌╌┼╌╌╌╌╌╌╌╌╌╌╌╌╌╌╌╌╌╌╌╌╌╌╌╌╌╌╌╌╌╌╌╌╌╌╌╌┼╌╌╌╌╌┼╌╌╌╌╌╌╌╌╌╌╌╌╌╌╌╌┼╌╌╌╌╌╌╌╌╌╌╌╌╌╌╌╌╌╌╌╌╌╌╌╌╌╌╌╌╌╌╌╌╌╌╌╌╌╌╌╌╌╌╌╌╌╌╌╌╌╌╌╌╌╌╌╌╌╌┼╌╌╌╌╌╌╌╌╌┼╌╌╌╌╌╌╌╌╌╌╌╌╌╌╌╌╌╌╌╌╌╌┤\n│ THP-1          ┆ https://www.cellosaurus.org/CVCL_0006 ┆ Human   ┆ null                               ┆ ... ┆ null           ┆ Ligand-Receptor Interactions Department                  ┆ null    ┆ null                 │\n├╌╌╌╌╌╌╌╌╌╌╌╌╌╌╌╌┼╌╌╌╌╌╌╌╌╌╌╌╌╌╌╌╌╌╌╌╌╌╌╌╌╌╌╌╌╌╌╌╌╌╌╌╌╌╌╌┼╌╌╌╌╌╌╌╌╌┼╌╌╌╌╌╌╌╌╌╌╌╌╌╌╌╌╌╌╌╌╌╌╌╌╌╌╌╌╌╌╌╌╌╌╌╌┼╌╌╌╌╌┼╌╌╌╌╌╌╌╌╌╌╌╌╌╌╌╌┼╌╌╌╌╌╌╌╌╌╌╌╌╌╌╌╌╌╌╌╌╌╌╌╌╌╌╌╌╌╌╌╌╌╌╌╌╌╌╌╌╌╌╌╌╌╌╌╌╌╌╌╌╌╌╌╌╌╌┼╌╌╌╌╌╌╌╌╌┼╌╌╌╌╌╌╌╌╌╌╌╌╌╌╌╌╌╌╌╌╌╌┤\n│ MDBK           ┆ https://www.cellosaurus.org/CVCL_0421 ┆ Bovine  ┆ null                               ┆ ... ┆ null           ┆ Ligand-Receptor Interactions Department                  ┆ null    ┆ null                 │\n└────────────────┴───────────────────────────────────────┴─────────┴────────────────────────────────────┴─────┴────────────────┴──────────────────────────────────────────────────────────┴─────────┴──────────────────────┘",
      "text/html": "<div>\n<style scoped>\n    .dataframe tbody tr th:only-of-type {\n        vertical-align: middle;\n    }\n\n    .dataframe tbody tr th {\n        vertical-align: top;\n    }\n\n    .dataframe thead th {\n        text-align: right;\n    }\n\n    .dataframe td {\n        white-space: pre;\n    }\n\n    .dataframe td {\n        padding-top: 0;\n    }\n\n    .dataframe td {\n        padding-bottom: 0;\n    }\n\n    .dataframe td {\n        line-height: 95%;\n    }\n</style>\n<table border=\"1\" class=\"dataframe\" >\n<small>shape: (11, 10)</small>\n<thead>\n<tr>\n<th>\nCell line name\n</th>\n<th>\nURL\n</th>\n<th>\nSpecies\n</th>\n<th>\nPhenotype\n</th>\n<th>\nTissue\n</th>\n<th>\nSamples\n</th>\n<th>\nModified lines\n</th>\n<th>\nOwners\n</th>\n<th>\nSources\n</th>\n<th>\nCommens\n</th>\n</tr>\n<tr>\n<td>\nstr\n</td>\n<td>\nstr\n</td>\n<td>\nstr\n</td>\n<td>\nstr\n</td>\n<td>\nstr\n</td>\n<td>\nstr\n</td>\n<td>\nstr\n</td>\n<td>\nstr\n</td>\n<td>\nstr\n</td>\n<td>\nstr\n</td>\n</tr>\n</thead>\n<tbody>\n<tr>\n<td>\n&quot;INS-1&quot;\n</td>\n<td>\n&quot;https://www.cellosaurus.org/CVCL_0352&quot;\n</td>\n<td>\n&quot;Rat&quot;\n</td>\n<td>\n&quot;Celule Beta de insulinom &quot;\n</td>\n<td>\n&quot;Insulinom/Pancreas&quot;\n</td>\n<td>\n&quot;SAMN07421988, SAMN07421989, SAMN07421987, SAMN07421986&quot;\n</td>\n<td>\nnull\n</td>\n<td>\n&quot;Molecular Cell Biology Department&quot;\n</td>\n<td>\nnull\n</td>\n<td>\nnull\n</td>\n</tr>\n<tr>\n<td>\n&quot;PANC-1&quot;\n</td>\n<td>\n&quot;https://www.cellosaurus.org/CVCL_0480&quot;\n</td>\n<td>\n&quot;Rat&quot;\n</td>\n<td>\n&quot;Beta cells&quot;\n</td>\n<td>\n&quot;Pancreas&quot;\n</td>\n<td>\n&quot;SAMN10460093, SAMN06642004&quot;\n</td>\n<td>\nnull\n</td>\n<td>\n&quot;Molecular Cell Biology Department&quot;\n</td>\n<td>\nnull\n</td>\n<td>\nnull\n</td>\n</tr>\n<tr>\n<td>\n&quot;MelJuSo &quot;\n</td>\n<td>\n&quot;https://www.cellosaurus.org/CVCL_1403&quot;\n</td>\n<td>\n&quot;Human&quot;\n</td>\n<td>\n&quot;Celule de melanom uman faza VGP&quot;\n</td>\n<td>\n&quot;Melanoma&quot;\n</td>\n<td>\n&quot;SAMN07168087, SAMN07168088, SAMN07168089, SAMN07168090, SAMN07168091, SAMN07168092&quot;\n</td>\n<td>\nnull\n</td>\n<td>\n&quot;Molecular Cell Biology Department&quot;\n</td>\n<td>\nnull\n</td>\n<td>\nnull\n</td>\n</tr>\n<tr>\n<td>\n&quot;HEK293T&quot;\n</td>\n<td>\n&quot;https://www.cellosaurus.org/CVCL_0063&quot;\n</td>\n<td>\n&quot;Human&quot;\n</td>\n<td>\n&quot;Celule umane embrionare de rinichi&quot;\n</td>\n<td>\n&quot;Human kidney&quot;\n</td>\n<td>\n&quot;SAMN22420271, SAMN22420269, SAMN22420270&quot;\n</td>\n<td>\nnull\n</td>\n<td>\n&quot;Molecular Cell Biology Department, Enzymology Department&quot;\n</td>\n<td>\nnull\n</td>\n<td>\nnull\n</td>\n</tr>\n<tr>\n<td>\n&quot;CCD-1070Sk&quot;\n</td>\n<td>\n&quot;https://www.cellosaurus.org/CVCL_2332&quot;\n</td>\n<td>\nnull\n</td>\n<td>\nnull\n</td>\n<td>\nnull\n</td>\n<td>\n&quot;SAMN21374231, SAMN21374232, SAMN21374233, SAMN21374234 &quot;\n</td>\n<td>\nnull\n</td>\n<td>\n&quot;Molecular Cell Biology Department&quot;\n</td>\n<td>\nnull\n</td>\n<td>\nnull\n</td>\n</tr>\n<tr>\n<td>\n&quot;RAW 264.7&quot;\n</td>\n<td>\n&quot;https://www.cellosaurus.org/CVCL_0493&quot;\n</td>\n<td>\n&quot;Mouse&quot;\n</td>\n<td>\nnull\n</td>\n<td>\nnull\n</td>\n<td>\n&quot;SAMN32489934, SAMN32489935&quot;\n</td>\n<td>\nnull\n</td>\n<td>\n&quot;Molecular Cell Biology Department&quot;\n</td>\n<td>\nnull\n</td>\n<td>\n&quot;FAILED, need to redo&quot;\n</td>\n</tr>\n<tr>\n<td>\n&quot;SKOV3&quot;\n</td>\n<td>\n&quot;https://www.cellosaurus.org/CVCL_0532&quot;\n</td>\n<td>\n&quot;Human&quot;\n</td>\n<td>\nnull\n</td>\n<td>\nnull\n</td>\n<td>\n&quot;SAMN20710030 , SAMN20710031, SAMN20710032 &quot;\n</td>\n<td>\nnull\n</td>\n<td>\n&quot;Molecular Cell Biology Department&quot;\n</td>\n<td>\nnull\n</td>\n<td>\nnull\n</td>\n</tr>\n<tr>\n<td>\n&quot;B16F10&quot;\n</td>\n<td>\n&quot;https://www.cellosaurus.org/CVCL_0159&quot;\n</td>\n<td>\n&quot;Mouse&quot;\n</td>\n<td>\nnull\n</td>\n<td>\n&quot;Melanoma&quot;\n</td>\n<td>\n&quot;SAMN22137224, SAMN22137225, SAMN22137226&quot;\n</td>\n<td>\nnull\n</td>\n<td>\n&quot;Ligand-Receptor Interactions Department&quot;\n</td>\n<td>\nnull\n</td>\n<td>\nnull\n</td>\n</tr>\n<tr>\n<td>\n&quot;B16F1&quot;\n</td>\n<td>\n&quot;https://www.cellosaurus.org/CVCL_0158&quot;\n</td>\n<td>\n&quot;Mouse&quot;\n</td>\n<td>\nnull\n</td>\n<td>\nnull\n</td>\n<td>\n&quot;SAMN07340361, SAMN07340362, SAMN07340363&quot;\n</td>\n<td>\nnull\n</td>\n<td>\n&quot;Ligand-Receptor Interactions Department&quot;\n</td>\n<td>\nnull\n</td>\n<td>\nnull\n</td>\n</tr>\n<tr>\n<td>\n&quot;THP-1&quot;\n</td>\n<td>\n&quot;https://www.cellosaurus.org/CVCL_0006&quot;\n</td>\n<td>\n&quot;Human&quot;\n</td>\n<td>\nnull\n</td>\n<td>\n&quot;macrophages&quot;\n</td>\n<td>\n&quot;SAMN16623487, SAMN16623488, SAMN16623489&quot;\n</td>\n<td>\nnull\n</td>\n<td>\n&quot;Ligand-Receptor Interactions Department&quot;\n</td>\n<td>\nnull\n</td>\n<td>\nnull\n</td>\n</tr>\n<tr>\n<td>\n&quot;MDBK&quot;\n</td>\n<td>\n&quot;https://www.cellosaurus.org/CVCL_0421&quot;\n</td>\n<td>\n&quot;Bovine&quot;\n</td>\n<td>\nnull\n</td>\n<td>\n&quot;Kidney&quot;\n</td>\n<td>\n&quot;SAMN04378088&quot;\n</td>\n<td>\nnull\n</td>\n<td>\n&quot;Ligand-Receptor Interactions Department&quot;\n</td>\n<td>\nnull\n</td>\n<td>\nnull\n</td>\n</tr>\n</tbody>\n</table>\n</div>"
     },
     "execution_count": 50,
     "metadata": {},
     "output_type": "execute_result"
    }
   ],
   "source": [
    "cells.toc_samples"
   ],
   "metadata": {
    "collapsed": false
   }
  },
  {
   "cell_type": "code",
   "execution_count": 51,
   "outputs": [
    {
     "name": "stdout",
     "output_type": "stream",
     "text": [
      "genes summarized for Homo_sapiens: runs 5, merged genes shape (194142, 6)\n",
      "transcripts summarized for Homo_sapiens: runs 5, merged transcripts shape (194142, 6)\n",
      "could not find quantification data for /home/antonkulaga/sources/expressions-dashboard/data/inputs/cell_lines/B16F10/SAMN22137224/SRR16242848\n",
      "could not find quantification data for /home/antonkulaga/sources/expressions-dashboard/data/inputs/cell_lines/B16F10/SAMN22137224/SRR16242848\n",
      "could not find quantification data for /home/antonkulaga/sources/expressions-dashboard/data/inputs/cell_lines/B16F1/SAMN07340361/SRR5815762\n",
      "could not find quantification data for /home/antonkulaga/sources/expressions-dashboard/data/inputs/cell_lines/B16F1/SAMN07340361/SRR5815762\n",
      "no quantified transcripts found in SRR16242848;SRR5815762\n"
     ]
    },
    {
     "data": {
      "text/plain": "[<dashboard.cell_models.SpeciesExpressions at 0x7fe567e13b80>,\n <dashboard.cell_models.SpeciesExpressions at 0x7fe567e13dc0>]"
     },
     "execution_count": 51,
     "metadata": {},
     "output_type": "execute_result"
    }
   ],
   "source": [
    "summaries = SpeciesExpressions.summaries_from_samples(cells.samples)\n",
    "summaries"
   ],
   "metadata": {
    "collapsed": false
   }
  },
  {
   "cell_type": "code",
   "execution_count": 52,
   "outputs": [
    {
     "data": {
      "text/plain": "['Homo_sapiens', 'Mus_musculus']"
     },
     "execution_count": 52,
     "metadata": {},
     "output_type": "execute_result"
    }
   ],
   "source": [
    "seq(summaries).map(lambda s: s.species)"
   ],
   "metadata": {
    "collapsed": false
   }
  },
  {
   "cell_type": "code",
   "execution_count": 45,
   "outputs": [
    {
     "data": {
      "text/plain": "[<dashboard.cell_models.SpeciesExpressions object at 0x7fe803169210>]"
     },
     "execution_count": 45,
     "metadata": {},
     "output_type": "execute_result"
    }
   ],
   "source": [
    "SpeciesExpressions.load_summaries_from(locations.cell_lines_cache)"
   ],
   "metadata": {
    "collapsed": false
   }
  },
  {
   "cell_type": "code",
   "execution_count": null,
   "outputs": [],
   "source": [
    "summaries = SpeciesExpressions.summaries_from_samples(cells.samples)\n",
    "summaries"
   ],
   "metadata": {
    "collapsed": false
   }
  },
  {
   "cell_type": "markdown",
   "source": [
    "## Other stuff"
   ],
   "metadata": {
    "collapsed": false
   }
  },
  {
   "cell_type": "code",
   "execution_count": 46,
   "outputs": [
    {
     "data": {
      "text/plain": "shape: (5, 22)\n┌───────────────────────┬───────────┬──────────────────┬────────────┬─────┬───────────────────┬──────────────────┬──────────────────────────────────────────┬──────────────────────────────────────┐\n│ DATE ADDED TO CATALOG ┆ PUBMED ID ┆ FIRST AUTHOR     ┆ DATE       ┆ ... ┆ STATISTICAL MODEL ┆ BACKGROUND TRAIT ┆ MAPPED BACKGROUND TRAIT                  ┆ MAPPED BACKGROUND TRAIT URI          │\n│ ---                   ┆ ---       ┆ ---              ┆ ---        ┆     ┆ ---               ┆ ---              ┆ ---                                      ┆ ---                                  │\n│ str                   ┆ i64       ┆ str              ┆ str        ┆     ┆ str               ┆ str              ┆ str                                      ┆ str                                  │\n╞═══════════════════════╪═══════════╪══════════════════╪════════════╪═════╪═══════════════════╪══════════════════╪══════════════════════════════════════════╪══════════════════════════════════════╡\n│ 2021-03-25            ┆ 32701512  ┆ Cairns J         ┆ 2020-07-23 ┆ ... ┆ null              ┆ null             ┆ estrogen-receptor positive breast cancer ┆ http://www.ebi.ac.uk/efo/EFO_1000649 │\n├╌╌╌╌╌╌╌╌╌╌╌╌╌╌╌╌╌╌╌╌╌╌╌┼╌╌╌╌╌╌╌╌╌╌╌┼╌╌╌╌╌╌╌╌╌╌╌╌╌╌╌╌╌╌┼╌╌╌╌╌╌╌╌╌╌╌╌┼╌╌╌╌╌┼╌╌╌╌╌╌╌╌╌╌╌╌╌╌╌╌╌╌╌┼╌╌╌╌╌╌╌╌╌╌╌╌╌╌╌╌╌╌┼╌╌╌╌╌╌╌╌╌╌╌╌╌╌╌╌╌╌╌╌╌╌╌╌╌╌╌╌╌╌╌╌╌╌╌╌╌╌╌╌╌╌┼╌╌╌╌╌╌╌╌╌╌╌╌╌╌╌╌╌╌╌╌╌╌╌╌╌╌╌╌╌╌╌╌╌╌╌╌╌╌┤\n│ 2020-09-15            ┆ 32580138  ┆ Shi XY           ┆ 2020-06-21 ┆ ... ┆ null              ┆ null             ┆ null                                     ┆ null                                 │\n├╌╌╌╌╌╌╌╌╌╌╌╌╌╌╌╌╌╌╌╌╌╌╌┼╌╌╌╌╌╌╌╌╌╌╌┼╌╌╌╌╌╌╌╌╌╌╌╌╌╌╌╌╌╌┼╌╌╌╌╌╌╌╌╌╌╌╌┼╌╌╌╌╌┼╌╌╌╌╌╌╌╌╌╌╌╌╌╌╌╌╌╌╌┼╌╌╌╌╌╌╌╌╌╌╌╌╌╌╌╌╌╌┼╌╌╌╌╌╌╌╌╌╌╌╌╌╌╌╌╌╌╌╌╌╌╌╌╌╌╌╌╌╌╌╌╌╌╌╌╌╌╌╌╌╌┼╌╌╌╌╌╌╌╌╌╌╌╌╌╌╌╌╌╌╌╌╌╌╌╌╌╌╌╌╌╌╌╌╌╌╌╌╌╌┤\n│ 2020-07-09            ┆ 32118827  ┆ Bonde A          ┆ 2020-02-28 ┆ ... ┆ null              ┆ null             ┆ null                                     ┆ null                                 │\n├╌╌╌╌╌╌╌╌╌╌╌╌╌╌╌╌╌╌╌╌╌╌╌┼╌╌╌╌╌╌╌╌╌╌╌┼╌╌╌╌╌╌╌╌╌╌╌╌╌╌╌╌╌╌┼╌╌╌╌╌╌╌╌╌╌╌╌┼╌╌╌╌╌┼╌╌╌╌╌╌╌╌╌╌╌╌╌╌╌╌╌╌╌┼╌╌╌╌╌╌╌╌╌╌╌╌╌╌╌╌╌╌┼╌╌╌╌╌╌╌╌╌╌╌╌╌╌╌╌╌╌╌╌╌╌╌╌╌╌╌╌╌╌╌╌╌╌╌╌╌╌╌╌╌╌┼╌╌╌╌╌╌╌╌╌╌╌╌╌╌╌╌╌╌╌╌╌╌╌╌╌╌╌╌╌╌╌╌╌╌╌╌╌╌┤\n│ 2020-07-09            ┆ 32118827  ┆ Bonde A          ┆ 2020-02-28 ┆ ... ┆ null              ┆ null             ┆ null                                     ┆ null                                 │\n├╌╌╌╌╌╌╌╌╌╌╌╌╌╌╌╌╌╌╌╌╌╌╌┼╌╌╌╌╌╌╌╌╌╌╌┼╌╌╌╌╌╌╌╌╌╌╌╌╌╌╌╌╌╌┼╌╌╌╌╌╌╌╌╌╌╌╌┼╌╌╌╌╌┼╌╌╌╌╌╌╌╌╌╌╌╌╌╌╌╌╌╌╌┼╌╌╌╌╌╌╌╌╌╌╌╌╌╌╌╌╌╌┼╌╌╌╌╌╌╌╌╌╌╌╌╌╌╌╌╌╌╌╌╌╌╌╌╌╌╌╌╌╌╌╌╌╌╌╌╌╌╌╌╌╌┼╌╌╌╌╌╌╌╌╌╌╌╌╌╌╌╌╌╌╌╌╌╌╌╌╌╌╌╌╌╌╌╌╌╌╌╌╌╌┤\n│ 2021-06-22            ┆ 33293549  ┆ Sargurupremraj M ┆ 2020-12-08 ┆ ... ┆ null              ┆ null             ┆ null                                     ┆ null                                 │\n└───────────────────────┴───────────┴──────────────────┴────────────┴─────┴───────────────────┴──────────────────┴──────────────────────────────────────────┴──────────────────────────────────────┘",
      "text/html": "<div>\n<style scoped>\n    .dataframe tbody tr th:only-of-type {\n        vertical-align: middle;\n    }\n\n    .dataframe tbody tr th {\n        vertical-align: top;\n    }\n\n    .dataframe thead th {\n        text-align: right;\n    }\n\n    .dataframe td {\n        white-space: pre;\n    }\n\n    .dataframe td {\n        padding-top: 0;\n    }\n\n    .dataframe td {\n        padding-bottom: 0;\n    }\n\n    .dataframe td {\n        line-height: 95%;\n    }\n</style>\n<table border=\"1\" class=\"dataframe\" >\n<small>shape: (5, 22)</small>\n<thead>\n<tr>\n<th>\nDATE ADDED TO CATALOG\n</th>\n<th>\nPUBMED ID\n</th>\n<th>\nFIRST AUTHOR\n</th>\n<th>\nDATE\n</th>\n<th>\nJOURNAL\n</th>\n<th>\nLINK\n</th>\n<th>\nSTUDY\n</th>\n<th>\nDISEASE/TRAIT\n</th>\n<th>\nINITIAL SAMPLE SIZE\n</th>\n<th>\nREPLICATION SAMPLE SIZE\n</th>\n<th>\nPLATFORM [SNPS PASSING QC]\n</th>\n<th>\nASSOCIATION COUNT\n</th>\n<th>\nMAPPED_TRAIT\n</th>\n<th>\nMAPPED_TRAIT_URI\n</th>\n<th>\nSTUDY ACCESSION\n</th>\n<th>\nGENOTYPING TECHNOLOGY\n</th>\n<th>\nSUMMARY STATS LOCATION\n</th>\n<th>\nSUBMISSION DATE\n</th>\n<th>\nSTATISTICAL MODEL\n</th>\n<th>\nBACKGROUND TRAIT\n</th>\n<th>\nMAPPED BACKGROUND TRAIT\n</th>\n<th>\nMAPPED BACKGROUND TRAIT URI\n</th>\n</tr>\n<tr>\n<td>\nstr\n</td>\n<td>\ni64\n</td>\n<td>\nstr\n</td>\n<td>\nstr\n</td>\n<td>\nstr\n</td>\n<td>\nstr\n</td>\n<td>\nstr\n</td>\n<td>\nstr\n</td>\n<td>\nstr\n</td>\n<td>\nstr\n</td>\n<td>\nstr\n</td>\n<td>\ni64\n</td>\n<td>\nstr\n</td>\n<td>\nstr\n</td>\n<td>\nstr\n</td>\n<td>\nstr\n</td>\n<td>\nstr\n</td>\n<td>\nstr\n</td>\n<td>\nstr\n</td>\n<td>\nstr\n</td>\n<td>\nstr\n</td>\n<td>\nstr\n</td>\n</tr>\n</thead>\n<tbody>\n<tr>\n<td>\n&quot;2021-03-25&quot;\n</td>\n<td>\n32701512\n</td>\n<td>\n&quot;Cairns J&quot;\n</td>\n<td>\n&quot;2020-07-23&quot;\n</td>\n<td>\n&quot;JCI Insight&quot;\n</td>\n<td>\n&quot;www.ncbi.nlm.nih.gov/pubmed/32701512&quot;\n</td>\n<td>\n&quot;Pharmacogenomics of aromatase inhibitors in postmenopausal breast cancer and additional mechanisms of anastrozole action.&quot;\n</td>\n<td>\n&quot;Estrogen level change in anastrozole-treated breast cancer&quot;\n</td>\n<td>\n&quot;624 individuals&quot;\n</td>\n<td>\n&quot;NA&quot;\n</td>\n<td>\n&quot;Illumina [up to 8000000] (imputed)&quot;\n</td>\n<td>\n5\n</td>\n<td>\n&quot;estrogen measurement, response to aromatase inhibitor&quot;\n</td>\n<td>\n&quot;http://www.ebi.ac.uk/efo/EFO_0011007, http://purl.obolibrary.org/obo/GO_0061477&quot;\n</td>\n<td>\n&quot;GCST011407&quot;\n</td>\n<td>\n&quot;Genome-wide genotyping array&quot;\n</td>\n<td>\nnull\n</td>\n<td>\nnull\n</td>\n<td>\nnull\n</td>\n<td>\nnull\n</td>\n<td>\n&quot;estrogen-receptor positive breast cancer&quot;\n</td>\n<td>\n&quot;http://www.ebi.ac.uk/efo/EFO_1000649&quot;\n</td>\n</tr>\n<tr>\n<td>\n&quot;2020-09-15&quot;\n</td>\n<td>\n32580138\n</td>\n<td>\n&quot;Shi XY&quot;\n</td>\n<td>\n&quot;2020-06-21&quot;\n</td>\n<td>\n&quot;EBioMedicine&quot;\n</td>\n<td>\n&quot;www.ncbi.nlm.nih.gov/pubmed/32580138&quot;\n</td>\n<td>\n&quot;Identification of susceptibility variants to benign childhood epilepsy with centro-temporal spikes (BECTS) in Chinese Han population.&quot;\n</td>\n<td>\n&quot;Benign childhood epilepsy with centro-temporal spikes&quot;\n</td>\n<td>\n&quot;1,738 Han Chinese ancestry cases, 6,592 Han Chinese ancestry controls&quot;\n</td>\n<td>\n&quot;NA&quot;\n</td>\n<td>\n&quot;Illumina [5352724] (imputed)&quot;\n</td>\n<td>\n12\n</td>\n<td>\n&quot;Rolandic epilepsy&quot;\n</td>\n<td>\n&quot;http://www.orpha.net/ORDO/Orphanet_1945&quot;\n</td>\n<td>\n&quot;GCST010566&quot;\n</td>\n<td>\n&quot;Genome-wide genotyping array&quot;\n</td>\n<td>\nnull\n</td>\n<td>\nnull\n</td>\n<td>\nnull\n</td>\n<td>\nnull\n</td>\n<td>\nnull\n</td>\n<td>\nnull\n</td>\n</tr>\n<tr>\n<td>\n&quot;2020-07-09&quot;\n</td>\n<td>\n32118827\n</td>\n<td>\n&quot;Bonde A&quot;\n</td>\n<td>\n&quot;2020-02-28&quot;\n</td>\n<td>\n&quot;J Trauma Acute Care Surg&quot;\n</td>\n<td>\n&quot;www.ncbi.nlm.nih.gov/pubmed/32118827&quot;\n</td>\n<td>\n&quot;Identification of a new genetic variant associated with cholecystitis: a multicenter genome-wide association study.&quot;\n</td>\n<td>\n&quot;Acute cholecystitis&quot;\n</td>\n<td>\n&quot;900 European ancestry cases, 23,727 European ancestry controls&quot;\n</td>\n<td>\n&quot;NA&quot;\n</td>\n<td>\n&quot;Illumina [NR] (imputed)&quot;\n</td>\n<td>\n1\n</td>\n<td>\n&quot;Cholecystitis, Acute&quot;\n</td>\n<td>\n&quot;http://www.ebi.ac.uk/efo/EFO_1001289&quot;\n</td>\n<td>\n&quot;GCST010176&quot;\n</td>\n<td>\n&quot;Genome-wide genotyping array&quot;\n</td>\n<td>\nnull\n</td>\n<td>\nnull\n</td>\n<td>\nnull\n</td>\n<td>\nnull\n</td>\n<td>\nnull\n</td>\n<td>\nnull\n</td>\n</tr>\n<tr>\n<td>\n&quot;2020-07-09&quot;\n</td>\n<td>\n32118827\n</td>\n<td>\n&quot;Bonde A&quot;\n</td>\n<td>\n&quot;2020-02-28&quot;\n</td>\n<td>\n&quot;J Trauma Acute Care Surg&quot;\n</td>\n<td>\n&quot;www.ncbi.nlm.nih.gov/pubmed/32118827&quot;\n</td>\n<td>\n&quot;Identification of a new genetic variant associated with cholecystitis: a multicenter genome-wide association study.&quot;\n</td>\n<td>\n&quot;Cholelithiasis&quot;\n</td>\n<td>\n&quot;up to 2,377 European ancestry cases, 22,203 European ancestry controls&quot;\n</td>\n<td>\n&quot;NA&quot;\n</td>\n<td>\n&quot;Illumina [NR] (imputed)&quot;\n</td>\n<td>\n0\n</td>\n<td>\n&quot;cholelithiasis&quot;\n</td>\n<td>\n&quot;http://www.ebi.ac.uk/efo/EFO_0004799&quot;\n</td>\n<td>\n&quot;GCST010177&quot;\n</td>\n<td>\n&quot;Genome-wide genotyping array&quot;\n</td>\n<td>\nnull\n</td>\n<td>\nnull\n</td>\n<td>\nnull\n</td>\n<td>\nnull\n</td>\n<td>\nnull\n</td>\n<td>\nnull\n</td>\n</tr>\n<tr>\n<td>\n&quot;2021-06-22&quot;\n</td>\n<td>\n33293549\n</td>\n<td>\n&quot;Sargurupremraj M&quot;\n</td>\n<td>\n&quot;2020-12-08&quot;\n</td>\n<td>\n&quot;Nat Commun&quot;\n</td>\n<td>\n&quot;www.ncbi.nlm.nih.gov/pubmed/33293549&quot;\n</td>\n<td>\n&quot;Cerebral small vessel disease genomics and its implications across the lifespan.&quot;\n</td>\n<td>\n&quot;White matter hyperintensity volume x hypertension interaction (2df)&quot;\n</td>\n<td>\n&quot;46,055 European ancestry individuals&quot;\n</td>\n<td>\n&quot;NA&quot;\n</td>\n<td>\n&quot;Affymetrix, Illumina [9900000] (imputed)&quot;\n</td>\n<td>\n26\n</td>\n<td>\n&quot;hypertension, white matter hyperintensity measurement&quot;\n</td>\n<td>\n&quot;http://www.ebi.ac.uk/efo/EFO_0000537, http://www.ebi.ac.uk/efo/EFO_0005665&quot;\n</td>\n<td>\n&quot;GCST011953&quot;\n</td>\n<td>\n&quot;Genome-wide genotyping array&quot;\n</td>\n<td>\nnull\n</td>\n<td>\nnull\n</td>\n<td>\nnull\n</td>\n<td>\nnull\n</td>\n<td>\nnull\n</td>\n<td>\nnull\n</td>\n</tr>\n</tbody>\n</table>\n</div>"
     },
     "execution_count": 46,
     "metadata": {},
     "output_type": "execute_result"
    }
   ],
   "source": [
    "gwas = pl.read_csv(\"/home/antonkulaga/Downloads/gwas-catalog-v1.0.3-studies-r2022-12-15.tsv\", sep=\"\\t\")\n",
    "gwas.head()"
   ],
   "metadata": {
    "collapsed": false
   }
  },
  {
   "cell_type": "code",
   "execution_count": 47,
   "outputs": [
    {
     "data": {
      "text/plain": "shape: (8961, 5)\n┌────────────────────────────────────────────────────────────────────────────┬──────────────────────────────────────────────────────────────────────────────────────────────────────────────────┬─────────┬────────────────────┬────────┐\n│ trait                                                                      ┆ trait_uri                                                                                                        ┆ studies ┆ association_counts ┆ papers │\n│ ---                                                                        ┆ ---                                                                                                              ┆ ---     ┆ ---                ┆ ---    │\n│ str                                                                        ┆ str                                                                                                              ┆ u32     ┆ i64                ┆ u32    │\n╞════════════════════════════════════════════════════════════════════════════╪══════════════════════════════════════════════════════════════════════════════════════════════════════════════════╪═════════╪════════════════════╪════════╡\n│ blood protein measurement                                                  ┆ http://www.ebi.ac.uk/efo/EFO_0007937                                                                             ┆ 5354    ┆ 8587               ┆ 5354   │\n├╌╌╌╌╌╌╌╌╌╌╌╌╌╌╌╌╌╌╌╌╌╌╌╌╌╌╌╌╌╌╌╌╌╌╌╌╌╌╌╌╌╌╌╌╌╌╌╌╌╌╌╌╌╌╌╌╌╌╌╌╌╌╌╌╌╌╌╌╌╌╌╌╌╌╌╌┼╌╌╌╌╌╌╌╌╌╌╌╌╌╌╌╌╌╌╌╌╌╌╌╌╌╌╌╌╌╌╌╌╌╌╌╌╌╌╌╌╌╌╌╌╌╌╌╌╌╌╌╌╌╌╌╌╌╌╌╌╌╌╌╌╌╌╌╌╌╌╌╌╌╌╌╌╌╌╌╌╌╌╌╌╌╌╌╌╌╌╌╌╌╌╌╌╌╌╌╌╌╌╌╌╌╌╌╌╌╌╌╌╌╌┼╌╌╌╌╌╌╌╌╌┼╌╌╌╌╌╌╌╌╌╌╌╌╌╌╌╌╌╌╌╌┼╌╌╌╌╌╌╌╌┤\n│ protein measurement                                                        ┆ http://www.ebi.ac.uk/efo/EFO_0004747                                                                             ┆ 5242    ┆ 3814               ┆ 5242   │\n├╌╌╌╌╌╌╌╌╌╌╌╌╌╌╌╌╌╌╌╌╌╌╌╌╌╌╌╌╌╌╌╌╌╌╌╌╌╌╌╌╌╌╌╌╌╌╌╌╌╌╌╌╌╌╌╌╌╌╌╌╌╌╌╌╌╌╌╌╌╌╌╌╌╌╌╌┼╌╌╌╌╌╌╌╌╌╌╌╌╌╌╌╌╌╌╌╌╌╌╌╌╌╌╌╌╌╌╌╌╌╌╌╌╌╌╌╌╌╌╌╌╌╌╌╌╌╌╌╌╌╌╌╌╌╌╌╌╌╌╌╌╌╌╌╌╌╌╌╌╌╌╌╌╌╌╌╌╌╌╌╌╌╌╌╌╌╌╌╌╌╌╌╌╌╌╌╌╌╌╌╌╌╌╌╌╌╌╌╌╌╌┼╌╌╌╌╌╌╌╌╌┼╌╌╌╌╌╌╌╌╌╌╌╌╌╌╌╌╌╌╌╌┼╌╌╌╌╌╌╌╌┤\n│ metabolite measurement                                                     ┆ http://www.ebi.ac.uk/efo/EFO_0004725                                                                             ┆ 3040    ┆ 2776               ┆ 3040   │\n├╌╌╌╌╌╌╌╌╌╌╌╌╌╌╌╌╌╌╌╌╌╌╌╌╌╌╌╌╌╌╌╌╌╌╌╌╌╌╌╌╌╌╌╌╌╌╌╌╌╌╌╌╌╌╌╌╌╌╌╌╌╌╌╌╌╌╌╌╌╌╌╌╌╌╌╌┼╌╌╌╌╌╌╌╌╌╌╌╌╌╌╌╌╌╌╌╌╌╌╌╌╌╌╌╌╌╌╌╌╌╌╌╌╌╌╌╌╌╌╌╌╌╌╌╌╌╌╌╌╌╌╌╌╌╌╌╌╌╌╌╌╌╌╌╌╌╌╌╌╌╌╌╌╌╌╌╌╌╌╌╌╌╌╌╌╌╌╌╌╌╌╌╌╌╌╌╌╌╌╌╌╌╌╌╌╌╌╌╌╌╌┼╌╌╌╌╌╌╌╌╌┼╌╌╌╌╌╌╌╌╌╌╌╌╌╌╌╌╌╌╌╌┼╌╌╌╌╌╌╌╌┤\n│ gut microbiome measurement                                                 ┆ http://www.ebi.ac.uk/efo/EFO_0007874                                                                             ┆ 2300    ┆ 6547               ┆ 2300   │\n├╌╌╌╌╌╌╌╌╌╌╌╌╌╌╌╌╌╌╌╌╌╌╌╌╌╌╌╌╌╌╌╌╌╌╌╌╌╌╌╌╌╌╌╌╌╌╌╌╌╌╌╌╌╌╌╌╌╌╌╌╌╌╌╌╌╌╌╌╌╌╌╌╌╌╌╌┼╌╌╌╌╌╌╌╌╌╌╌╌╌╌╌╌╌╌╌╌╌╌╌╌╌╌╌╌╌╌╌╌╌╌╌╌╌╌╌╌╌╌╌╌╌╌╌╌╌╌╌╌╌╌╌╌╌╌╌╌╌╌╌╌╌╌╌╌╌╌╌╌╌╌╌╌╌╌╌╌╌╌╌╌╌╌╌╌╌╌╌╌╌╌╌╌╌╌╌╌╌╌╌╌╌╌╌╌╌╌╌╌╌╌┼╌╌╌╌╌╌╌╌╌┼╌╌╌╌╌╌╌╌╌╌╌╌╌╌╌╌╌╌╌╌┼╌╌╌╌╌╌╌╌┤\n│ functional brain measurement                                               ┆ http://www.ebi.ac.uk/efo/EFO_0007849                                                                             ┆ 1811    ┆ 147                ┆ 1811   │\n├╌╌╌╌╌╌╌╌╌╌╌╌╌╌╌╌╌╌╌╌╌╌╌╌╌╌╌╌╌╌╌╌╌╌╌╌╌╌╌╌╌╌╌╌╌╌╌╌╌╌╌╌╌╌╌╌╌╌╌╌╌╌╌╌╌╌╌╌╌╌╌╌╌╌╌╌┼╌╌╌╌╌╌╌╌╌╌╌╌╌╌╌╌╌╌╌╌╌╌╌╌╌╌╌╌╌╌╌╌╌╌╌╌╌╌╌╌╌╌╌╌╌╌╌╌╌╌╌╌╌╌╌╌╌╌╌╌╌╌╌╌╌╌╌╌╌╌╌╌╌╌╌╌╌╌╌╌╌╌╌╌╌╌╌╌╌╌╌╌╌╌╌╌╌╌╌╌╌╌╌╌╌╌╌╌╌╌╌╌╌╌┼╌╌╌╌╌╌╌╌╌┼╌╌╌╌╌╌╌╌╌╌╌╌╌╌╌╌╌╌╌╌┼╌╌╌╌╌╌╌╌┤\n│ brain connectivity measurement                                             ┆ http://www.ebi.ac.uk/efo/EFO_0005210                                                                             ┆ 1706    ┆ 100                ┆ 1706   │\n├╌╌╌╌╌╌╌╌╌╌╌╌╌╌╌╌╌╌╌╌╌╌╌╌╌╌╌╌╌╌╌╌╌╌╌╌╌╌╌╌╌╌╌╌╌╌╌╌╌╌╌╌╌╌╌╌╌╌╌╌╌╌╌╌╌╌╌╌╌╌╌╌╌╌╌╌┼╌╌╌╌╌╌╌╌╌╌╌╌╌╌╌╌╌╌╌╌╌╌╌╌╌╌╌╌╌╌╌╌╌╌╌╌╌╌╌╌╌╌╌╌╌╌╌╌╌╌╌╌╌╌╌╌╌╌╌╌╌╌╌╌╌╌╌╌╌╌╌╌╌╌╌╌╌╌╌╌╌╌╌╌╌╌╌╌╌╌╌╌╌╌╌╌╌╌╌╌╌╌╌╌╌╌╌╌╌╌╌╌╌╌┼╌╌╌╌╌╌╌╌╌┼╌╌╌╌╌╌╌╌╌╌╌╌╌╌╌╌╌╌╌╌┼╌╌╌╌╌╌╌╌┤\n│ phosphatidylcholine measurement                                            ┆ http://www.ebi.ac.uk/efo/EFO_0010226                                                                             ┆ 733     ┆ 4805               ┆ 733    │\n├╌╌╌╌╌╌╌╌╌╌╌╌╌╌╌╌╌╌╌╌╌╌╌╌╌╌╌╌╌╌╌╌╌╌╌╌╌╌╌╌╌╌╌╌╌╌╌╌╌╌╌╌╌╌╌╌╌╌╌╌╌╌╌╌╌╌╌╌╌╌╌╌╌╌╌╌┼╌╌╌╌╌╌╌╌╌╌╌╌╌╌╌╌╌╌╌╌╌╌╌╌╌╌╌╌╌╌╌╌╌╌╌╌╌╌╌╌╌╌╌╌╌╌╌╌╌╌╌╌╌╌╌╌╌╌╌╌╌╌╌╌╌╌╌╌╌╌╌╌╌╌╌╌╌╌╌╌╌╌╌╌╌╌╌╌╌╌╌╌╌╌╌╌╌╌╌╌╌╌╌╌╌╌╌╌╌╌╌╌╌╌┼╌╌╌╌╌╌╌╌╌┼╌╌╌╌╌╌╌╌╌╌╌╌╌╌╌╌╌╌╌╌┼╌╌╌╌╌╌╌╌┤\n│ clinical treatment                                                         ┆ http://www.ebi.ac.uk/efo/EFO_0007056                                                                             ┆ 687     ┆ 31                 ┆ 687    │\n├╌╌╌╌╌╌╌╌╌╌╌╌╌╌╌╌╌╌╌╌╌╌╌╌╌╌╌╌╌╌╌╌╌╌╌╌╌╌╌╌╌╌╌╌╌╌╌╌╌╌╌╌╌╌╌╌╌╌╌╌╌╌╌╌╌╌╌╌╌╌╌╌╌╌╌╌┼╌╌╌╌╌╌╌╌╌╌╌╌╌╌╌╌╌╌╌╌╌╌╌╌╌╌╌╌╌╌╌╌╌╌╌╌╌╌╌╌╌╌╌╌╌╌╌╌╌╌╌╌╌╌╌╌╌╌╌╌╌╌╌╌╌╌╌╌╌╌╌╌╌╌╌╌╌╌╌╌╌╌╌╌╌╌╌╌╌╌╌╌╌╌╌╌╌╌╌╌╌╌╌╌╌╌╌╌╌╌╌╌╌╌┼╌╌╌╌╌╌╌╌╌┼╌╌╌╌╌╌╌╌╌╌╌╌╌╌╌╌╌╌╌╌┼╌╌╌╌╌╌╌╌┤\n│ employment status                                                          ┆ http://www.ebi.ac.uk/efo/EFO_0005241                                                                             ┆ 687     ┆ 10                 ┆ 687    │\n├╌╌╌╌╌╌╌╌╌╌╌╌╌╌╌╌╌╌╌╌╌╌╌╌╌╌╌╌╌╌╌╌╌╌╌╌╌╌╌╌╌╌╌╌╌╌╌╌╌╌╌╌╌╌╌╌╌╌╌╌╌╌╌╌╌╌╌╌╌╌╌╌╌╌╌╌┼╌╌╌╌╌╌╌╌╌╌╌╌╌╌╌╌╌╌╌╌╌╌╌╌╌╌╌╌╌╌╌╌╌╌╌╌╌╌╌╌╌╌╌╌╌╌╌╌╌╌╌╌╌╌╌╌╌╌╌╌╌╌╌╌╌╌╌╌╌╌╌╌╌╌╌╌╌╌╌╌╌╌╌╌╌╌╌╌╌╌╌╌╌╌╌╌╌╌╌╌╌╌╌╌╌╌╌╌╌╌╌╌╌╌┼╌╌╌╌╌╌╌╌╌┼╌╌╌╌╌╌╌╌╌╌╌╌╌╌╌╌╌╌╌╌┼╌╌╌╌╌╌╌╌┤\n│ brain volume measurement                                                   ┆ http://www.ebi.ac.uk/efo/EFO_0006930                                                                             ┆ 657     ┆ 1847               ┆ 657    │\n├╌╌╌╌╌╌╌╌╌╌╌╌╌╌╌╌╌╌╌╌╌╌╌╌╌╌╌╌╌╌╌╌╌╌╌╌╌╌╌╌╌╌╌╌╌╌╌╌╌╌╌╌╌╌╌╌╌╌╌╌╌╌╌╌╌╌╌╌╌╌╌╌╌╌╌╌┼╌╌╌╌╌╌╌╌╌╌╌╌╌╌╌╌╌╌╌╌╌╌╌╌╌╌╌╌╌╌╌╌╌╌╌╌╌╌╌╌╌╌╌╌╌╌╌╌╌╌╌╌╌╌╌╌╌╌╌╌╌╌╌╌╌╌╌╌╌╌╌╌╌╌╌╌╌╌╌╌╌╌╌╌╌╌╌╌╌╌╌╌╌╌╌╌╌╌╌╌╌╌╌╌╌╌╌╌╌╌╌╌╌╌┼╌╌╌╌╌╌╌╌╌┼╌╌╌╌╌╌╌╌╌╌╌╌╌╌╌╌╌╌╌╌┼╌╌╌╌╌╌╌╌┤\n│ ...                                                                        ┆ ...                                                                                                              ┆ ...     ┆ ...                ┆ ...    │\n├╌╌╌╌╌╌╌╌╌╌╌╌╌╌╌╌╌╌╌╌╌╌╌╌╌╌╌╌╌╌╌╌╌╌╌╌╌╌╌╌╌╌╌╌╌╌╌╌╌╌╌╌╌╌╌╌╌╌╌╌╌╌╌╌╌╌╌╌╌╌╌╌╌╌╌╌┼╌╌╌╌╌╌╌╌╌╌╌╌╌╌╌╌╌╌╌╌╌╌╌╌╌╌╌╌╌╌╌╌╌╌╌╌╌╌╌╌╌╌╌╌╌╌╌╌╌╌╌╌╌╌╌╌╌╌╌╌╌╌╌╌╌╌╌╌╌╌╌╌╌╌╌╌╌╌╌╌╌╌╌╌╌╌╌╌╌╌╌╌╌╌╌╌╌╌╌╌╌╌╌╌╌╌╌╌╌╌╌╌╌╌┼╌╌╌╌╌╌╌╌╌┼╌╌╌╌╌╌╌╌╌╌╌╌╌╌╌╌╌╌╌╌┼╌╌╌╌╌╌╌╌┤\n│ CYP3A4 activity                                                            ┆ http://www.ebi.ac.uk/efo/EFO_0004910                                                                             ┆ 1       ┆ 0                  ┆ 1      │\n├╌╌╌╌╌╌╌╌╌╌╌╌╌╌╌╌╌╌╌╌╌╌╌╌╌╌╌╌╌╌╌╌╌╌╌╌╌╌╌╌╌╌╌╌╌╌╌╌╌╌╌╌╌╌╌╌╌╌╌╌╌╌╌╌╌╌╌╌╌╌╌╌╌╌╌╌┼╌╌╌╌╌╌╌╌╌╌╌╌╌╌╌╌╌╌╌╌╌╌╌╌╌╌╌╌╌╌╌╌╌╌╌╌╌╌╌╌╌╌╌╌╌╌╌╌╌╌╌╌╌╌╌╌╌╌╌╌╌╌╌╌╌╌╌╌╌╌╌╌╌╌╌╌╌╌╌╌╌╌╌╌╌╌╌╌╌╌╌╌╌╌╌╌╌╌╌╌╌╌╌╌╌╌╌╌╌╌╌╌╌╌┼╌╌╌╌╌╌╌╌╌┼╌╌╌╌╌╌╌╌╌╌╌╌╌╌╌╌╌╌╌╌┼╌╌╌╌╌╌╌╌┤\n│ peak expiratory flow, sex interaction measurement                          ┆ http://www.ebi.ac.uk/efo/EFO_0009718, http://www.ebi.ac.uk/efo/EFO_0008343                                       ┆ 1       ┆ 0                  ┆ 1      │\n├╌╌╌╌╌╌╌╌╌╌╌╌╌╌╌╌╌╌╌╌╌╌╌╌╌╌╌╌╌╌╌╌╌╌╌╌╌╌╌╌╌╌╌╌╌╌╌╌╌╌╌╌╌╌╌╌╌╌╌╌╌╌╌╌╌╌╌╌╌╌╌╌╌╌╌╌┼╌╌╌╌╌╌╌╌╌╌╌╌╌╌╌╌╌╌╌╌╌╌╌╌╌╌╌╌╌╌╌╌╌╌╌╌╌╌╌╌╌╌╌╌╌╌╌╌╌╌╌╌╌╌╌╌╌╌╌╌╌╌╌╌╌╌╌╌╌╌╌╌╌╌╌╌╌╌╌╌╌╌╌╌╌╌╌╌╌╌╌╌╌╌╌╌╌╌╌╌╌╌╌╌╌╌╌╌╌╌╌╌╌╌┼╌╌╌╌╌╌╌╌╌┼╌╌╌╌╌╌╌╌╌╌╌╌╌╌╌╌╌╌╌╌┼╌╌╌╌╌╌╌╌┤\n│ pathologic complete response measurement, response to antineoplastic agent ┆ http://www.ebi.ac.uk/efo/EFO_0007771, http://purl.obolibrary.org/obo/GO_0097327                                  ┆ 1       ┆ 0                  ┆ 1      │\n├╌╌╌╌╌╌╌╌╌╌╌╌╌╌╌╌╌╌╌╌╌╌╌╌╌╌╌╌╌╌╌╌╌╌╌╌╌╌╌╌╌╌╌╌╌╌╌╌╌╌╌╌╌╌╌╌╌╌╌╌╌╌╌╌╌╌╌╌╌╌╌╌╌╌╌╌┼╌╌╌╌╌╌╌╌╌╌╌╌╌╌╌╌╌╌╌╌╌╌╌╌╌╌╌╌╌╌╌╌╌╌╌╌╌╌╌╌╌╌╌╌╌╌╌╌╌╌╌╌╌╌╌╌╌╌╌╌╌╌╌╌╌╌╌╌╌╌╌╌╌╌╌╌╌╌╌╌╌╌╌╌╌╌╌╌╌╌╌╌╌╌╌╌╌╌╌╌╌╌╌╌╌╌╌╌╌╌╌╌╌╌┼╌╌╌╌╌╌╌╌╌┼╌╌╌╌╌╌╌╌╌╌╌╌╌╌╌╌╌╌╌╌┼╌╌╌╌╌╌╌╌┤\n│ adipose tissue measurement, body mass index                                ┆ http://www.ebi.ac.uk/efo/EFO_0004764, http://www.ebi.ac.uk/efo/EFO_0004340                                       ┆ 1       ┆ 0                  ┆ 1      │\n├╌╌╌╌╌╌╌╌╌╌╌╌╌╌╌╌╌╌╌╌╌╌╌╌╌╌╌╌╌╌╌╌╌╌╌╌╌╌╌╌╌╌╌╌╌╌╌╌╌╌╌╌╌╌╌╌╌╌╌╌╌╌╌╌╌╌╌╌╌╌╌╌╌╌╌╌┼╌╌╌╌╌╌╌╌╌╌╌╌╌╌╌╌╌╌╌╌╌╌╌╌╌╌╌╌╌╌╌╌╌╌╌╌╌╌╌╌╌╌╌╌╌╌╌╌╌╌╌╌╌╌╌╌╌╌╌╌╌╌╌╌╌╌╌╌╌╌╌╌╌╌╌╌╌╌╌╌╌╌╌╌╌╌╌╌╌╌╌╌╌╌╌╌╌╌╌╌╌╌╌╌╌╌╌╌╌╌╌╌╌╌┼╌╌╌╌╌╌╌╌╌┼╌╌╌╌╌╌╌╌╌╌╌╌╌╌╌╌╌╌╌╌┼╌╌╌╌╌╌╌╌┤\n│ drug misuse, anxiety, alcohol drinking                                     ┆ http://www.ebi.ac.uk/efo/EFO_0011049, http://www.ebi.ac.uk/efo/EFO_0005230, http://www.ebi.ac.uk/efo/EFO_0004329 ┆ 1       ┆ 0                  ┆ 1      │\n├╌╌╌╌╌╌╌╌╌╌╌╌╌╌╌╌╌╌╌╌╌╌╌╌╌╌╌╌╌╌╌╌╌╌╌╌╌╌╌╌╌╌╌╌╌╌╌╌╌╌╌╌╌╌╌╌╌╌╌╌╌╌╌╌╌╌╌╌╌╌╌╌╌╌╌╌┼╌╌╌╌╌╌╌╌╌╌╌╌╌╌╌╌╌╌╌╌╌╌╌╌╌╌╌╌╌╌╌╌╌╌╌╌╌╌╌╌╌╌╌╌╌╌╌╌╌╌╌╌╌╌╌╌╌╌╌╌╌╌╌╌╌╌╌╌╌╌╌╌╌╌╌╌╌╌╌╌╌╌╌╌╌╌╌╌╌╌╌╌╌╌╌╌╌╌╌╌╌╌╌╌╌╌╌╌╌╌╌╌╌╌┼╌╌╌╌╌╌╌╌╌┼╌╌╌╌╌╌╌╌╌╌╌╌╌╌╌╌╌╌╌╌┼╌╌╌╌╌╌╌╌┤\n│ hydroxyectoine measurement                                                 ┆ http://www.ebi.ac.uk/efo/EFO_0801168                                                                             ┆ 1       ┆ 0                  ┆ 1      │\n├╌╌╌╌╌╌╌╌╌╌╌╌╌╌╌╌╌╌╌╌╌╌╌╌╌╌╌╌╌╌╌╌╌╌╌╌╌╌╌╌╌╌╌╌╌╌╌╌╌╌╌╌╌╌╌╌╌╌╌╌╌╌╌╌╌╌╌╌╌╌╌╌╌╌╌╌┼╌╌╌╌╌╌╌╌╌╌╌╌╌╌╌╌╌╌╌╌╌╌╌╌╌╌╌╌╌╌╌╌╌╌╌╌╌╌╌╌╌╌╌╌╌╌╌╌╌╌╌╌╌╌╌╌╌╌╌╌╌╌╌╌╌╌╌╌╌╌╌╌╌╌╌╌╌╌╌╌╌╌╌╌╌╌╌╌╌╌╌╌╌╌╌╌╌╌╌╌╌╌╌╌╌╌╌╌╌╌╌╌╌╌┼╌╌╌╌╌╌╌╌╌┼╌╌╌╌╌╌╌╌╌╌╌╌╌╌╌╌╌╌╌╌┼╌╌╌╌╌╌╌╌┤\n│ 4-acetylphenol sulfate measurement                                         ┆ http://www.ebi.ac.uk/efo/EFO_0800942                                                                             ┆ 1       ┆ 0                  ┆ 1      │\n├╌╌╌╌╌╌╌╌╌╌╌╌╌╌╌╌╌╌╌╌╌╌╌╌╌╌╌╌╌╌╌╌╌╌╌╌╌╌╌╌╌╌╌╌╌╌╌╌╌╌╌╌╌╌╌╌╌╌╌╌╌╌╌╌╌╌╌╌╌╌╌╌╌╌╌╌┼╌╌╌╌╌╌╌╌╌╌╌╌╌╌╌╌╌╌╌╌╌╌╌╌╌╌╌╌╌╌╌╌╌╌╌╌╌╌╌╌╌╌╌╌╌╌╌╌╌╌╌╌╌╌╌╌╌╌╌╌╌╌╌╌╌╌╌╌╌╌╌╌╌╌╌╌╌╌╌╌╌╌╌╌╌╌╌╌╌╌╌╌╌╌╌╌╌╌╌╌╌╌╌╌╌╌╌╌╌╌╌╌╌╌┼╌╌╌╌╌╌╌╌╌┼╌╌╌╌╌╌╌╌╌╌╌╌╌╌╌╌╌╌╌╌┼╌╌╌╌╌╌╌╌┤\n│ L-Isoleucine measurement                                                   ┆ http://www.ebi.ac.uk/efo/EFO_0021619                                                                             ┆ 1       ┆ 0                  ┆ 1      │\n├╌╌╌╌╌╌╌╌╌╌╌╌╌╌╌╌╌╌╌╌╌╌╌╌╌╌╌╌╌╌╌╌╌╌╌╌╌╌╌╌╌╌╌╌╌╌╌╌╌╌╌╌╌╌╌╌╌╌╌╌╌╌╌╌╌╌╌╌╌╌╌╌╌╌╌╌┼╌╌╌╌╌╌╌╌╌╌╌╌╌╌╌╌╌╌╌╌╌╌╌╌╌╌╌╌╌╌╌╌╌╌╌╌╌╌╌╌╌╌╌╌╌╌╌╌╌╌╌╌╌╌╌╌╌╌╌╌╌╌╌╌╌╌╌╌╌╌╌╌╌╌╌╌╌╌╌╌╌╌╌╌╌╌╌╌╌╌╌╌╌╌╌╌╌╌╌╌╌╌╌╌╌╌╌╌╌╌╌╌╌╌┼╌╌╌╌╌╌╌╌╌┼╌╌╌╌╌╌╌╌╌╌╌╌╌╌╌╌╌╌╌╌┼╌╌╌╌╌╌╌╌┤\n│ executive function                                                         ┆ http://www.ebi.ac.uk/efo/EFO_0007046                                                                             ┆ 1       ┆ 0                  ┆ 1      │\n├╌╌╌╌╌╌╌╌╌╌╌╌╌╌╌╌╌╌╌╌╌╌╌╌╌╌╌╌╌╌╌╌╌╌╌╌╌╌╌╌╌╌╌╌╌╌╌╌╌╌╌╌╌╌╌╌╌╌╌╌╌╌╌╌╌╌╌╌╌╌╌╌╌╌╌╌┼╌╌╌╌╌╌╌╌╌╌╌╌╌╌╌╌╌╌╌╌╌╌╌╌╌╌╌╌╌╌╌╌╌╌╌╌╌╌╌╌╌╌╌╌╌╌╌╌╌╌╌╌╌╌╌╌╌╌╌╌╌╌╌╌╌╌╌╌╌╌╌╌╌╌╌╌╌╌╌╌╌╌╌╌╌╌╌╌╌╌╌╌╌╌╌╌╌╌╌╌╌╌╌╌╌╌╌╌╌╌╌╌╌╌┼╌╌╌╌╌╌╌╌╌┼╌╌╌╌╌╌╌╌╌╌╌╌╌╌╌╌╌╌╌╌┼╌╌╌╌╌╌╌╌┤\n│ oxalic acid measurement                                                    ┆ http://www.ebi.ac.uk/efo/EFO_0801211                                                                             ┆ 1       ┆ 0                  ┆ 1      │\n└────────────────────────────────────────────────────────────────────────────┴──────────────────────────────────────────────────────────────────────────────────────────────────────────────────┴─────────┴────────────────────┴────────┘",
      "text/html": "<div>\n<style scoped>\n    .dataframe tbody tr th:only-of-type {\n        vertical-align: middle;\n    }\n\n    .dataframe tbody tr th {\n        vertical-align: top;\n    }\n\n    .dataframe thead th {\n        text-align: right;\n    }\n\n    .dataframe td {\n        white-space: pre;\n    }\n\n    .dataframe td {\n        padding-top: 0;\n    }\n\n    .dataframe td {\n        padding-bottom: 0;\n    }\n\n    .dataframe td {\n        line-height: 95%;\n    }\n</style>\n<table border=\"1\" class=\"dataframe\" >\n<small>shape: (8961, 5)</small>\n<thead>\n<tr>\n<th>\ntrait\n</th>\n<th>\ntrait_uri\n</th>\n<th>\nstudies\n</th>\n<th>\nassociation_counts\n</th>\n<th>\npapers\n</th>\n</tr>\n<tr>\n<td>\nstr\n</td>\n<td>\nstr\n</td>\n<td>\nu32\n</td>\n<td>\ni64\n</td>\n<td>\nu32\n</td>\n</tr>\n</thead>\n<tbody>\n<tr>\n<td>\n&quot;blood protein measurement&quot;\n</td>\n<td>\n&quot;http://www.ebi.ac.uk/efo/EFO_0007937&quot;\n</td>\n<td>\n5354\n</td>\n<td>\n8587\n</td>\n<td>\n5354\n</td>\n</tr>\n<tr>\n<td>\n&quot;protein measurement&quot;\n</td>\n<td>\n&quot;http://www.ebi.ac.uk/efo/EFO_0004747&quot;\n</td>\n<td>\n5242\n</td>\n<td>\n3814\n</td>\n<td>\n5242\n</td>\n</tr>\n<tr>\n<td>\n&quot;metabolite measurement&quot;\n</td>\n<td>\n&quot;http://www.ebi.ac.uk/efo/EFO_0004725&quot;\n</td>\n<td>\n3040\n</td>\n<td>\n2776\n</td>\n<td>\n3040\n</td>\n</tr>\n<tr>\n<td>\n&quot;gut microbiome measurement&quot;\n</td>\n<td>\n&quot;http://www.ebi.ac.uk/efo/EFO_0007874&quot;\n</td>\n<td>\n2300\n</td>\n<td>\n6547\n</td>\n<td>\n2300\n</td>\n</tr>\n<tr>\n<td>\n&quot;functional brain measurement&quot;\n</td>\n<td>\n&quot;http://www.ebi.ac.uk/efo/EFO_0007849&quot;\n</td>\n<td>\n1811\n</td>\n<td>\n147\n</td>\n<td>\n1811\n</td>\n</tr>\n<tr>\n<td>\n&quot;brain connectivity measurement&quot;\n</td>\n<td>\n&quot;http://www.ebi.ac.uk/efo/EFO_0005210&quot;\n</td>\n<td>\n1706\n</td>\n<td>\n100\n</td>\n<td>\n1706\n</td>\n</tr>\n<tr>\n<td>\n&quot;phosphatidylcholine measurement&quot;\n</td>\n<td>\n&quot;http://www.ebi.ac.uk/efo/EFO_0010226&quot;\n</td>\n<td>\n733\n</td>\n<td>\n4805\n</td>\n<td>\n733\n</td>\n</tr>\n<tr>\n<td>\n&quot;clinical treatment&quot;\n</td>\n<td>\n&quot;http://www.ebi.ac.uk/efo/EFO_0007056&quot;\n</td>\n<td>\n687\n</td>\n<td>\n31\n</td>\n<td>\n687\n</td>\n</tr>\n<tr>\n<td>\n&quot;employment status&quot;\n</td>\n<td>\n&quot;http://www.ebi.ac.uk/efo/EFO_0005241&quot;\n</td>\n<td>\n687\n</td>\n<td>\n10\n</td>\n<td>\n687\n</td>\n</tr>\n<tr>\n<td>\n&quot;brain volume measurement&quot;\n</td>\n<td>\n&quot;http://www.ebi.ac.uk/efo/EFO_0006930&quot;\n</td>\n<td>\n657\n</td>\n<td>\n1847\n</td>\n<td>\n657\n</td>\n</tr>\n<tr>\n<td>\n...\n</td>\n<td>\n...\n</td>\n<td>\n...\n</td>\n<td>\n...\n</td>\n<td>\n...\n</td>\n</tr>\n<tr>\n<td>\n&quot;CYP3A4 activity&quot;\n</td>\n<td>\n&quot;http://www.ebi.ac.uk/efo/EFO_0004910&quot;\n</td>\n<td>\n1\n</td>\n<td>\n0\n</td>\n<td>\n1\n</td>\n</tr>\n<tr>\n<td>\n&quot;peak expiratory flow, sex interaction measurement&quot;\n</td>\n<td>\n&quot;http://www.ebi.ac.uk/efo/EFO_0009718, http://www.ebi.ac.uk/efo/EFO_0008343&quot;\n</td>\n<td>\n1\n</td>\n<td>\n0\n</td>\n<td>\n1\n</td>\n</tr>\n<tr>\n<td>\n&quot;pathologic complete response measurement, response to antineoplastic agent&quot;\n</td>\n<td>\n&quot;http://www.ebi.ac.uk/efo/EFO_0007771, http://purl.obolibrary.org/obo/GO_0097327&quot;\n</td>\n<td>\n1\n</td>\n<td>\n0\n</td>\n<td>\n1\n</td>\n</tr>\n<tr>\n<td>\n&quot;adipose tissue measurement, body mass index&quot;\n</td>\n<td>\n&quot;http://www.ebi.ac.uk/efo/EFO_0004764, http://www.ebi.ac.uk/efo/EFO_0004340&quot;\n</td>\n<td>\n1\n</td>\n<td>\n0\n</td>\n<td>\n1\n</td>\n</tr>\n<tr>\n<td>\n&quot;drug misuse, anxiety, alcohol drinking&quot;\n</td>\n<td>\n&quot;http://www.ebi.ac.uk/efo/EFO_0011049, http://www.ebi.ac.uk/efo/EFO_0005230, http://www.ebi.ac.uk/efo/EFO_0004329&quot;\n</td>\n<td>\n1\n</td>\n<td>\n0\n</td>\n<td>\n1\n</td>\n</tr>\n<tr>\n<td>\n&quot;hydroxyectoine measurement&quot;\n</td>\n<td>\n&quot;http://www.ebi.ac.uk/efo/EFO_0801168&quot;\n</td>\n<td>\n1\n</td>\n<td>\n0\n</td>\n<td>\n1\n</td>\n</tr>\n<tr>\n<td>\n&quot;4-acetylphenol sulfate measurement&quot;\n</td>\n<td>\n&quot;http://www.ebi.ac.uk/efo/EFO_0800942&quot;\n</td>\n<td>\n1\n</td>\n<td>\n0\n</td>\n<td>\n1\n</td>\n</tr>\n<tr>\n<td>\n&quot;L-Isoleucine measurement&quot;\n</td>\n<td>\n&quot;http://www.ebi.ac.uk/efo/EFO_0021619&quot;\n</td>\n<td>\n1\n</td>\n<td>\n0\n</td>\n<td>\n1\n</td>\n</tr>\n<tr>\n<td>\n&quot;executive function&quot;\n</td>\n<td>\n&quot;http://www.ebi.ac.uk/efo/EFO_0007046&quot;\n</td>\n<td>\n1\n</td>\n<td>\n0\n</td>\n<td>\n1\n</td>\n</tr>\n<tr>\n<td>\n&quot;oxalic acid measurement&quot;\n</td>\n<td>\n&quot;http://www.ebi.ac.uk/efo/EFO_0801211&quot;\n</td>\n<td>\n1\n</td>\n<td>\n0\n</td>\n<td>\n1\n</td>\n</tr>\n</tbody>\n</table>\n</div>"
     },
     "execution_count": 47,
     "metadata": {},
     "output_type": "execute_result"
    }
   ],
   "source": [
    "traits = gwas\\\n",
    "    .groupby([pl.col(\"MAPPED_TRAIT\").alias(\"trait\"), pl.col(\"MAPPED_TRAIT_URI\").alias(\"trait_uri\")])\\\n",
    "    .agg([pl.count(\"STUDY ACCESSION\").alias(\"studies\"), pl.sum(\"ASSOCIATION COUNT\").alias(\"association_counts\"), pl.count(\"PUBMED ID\").alias(\"papers\")])\\\n",
    "    .sort([\"studies\",\"association_counts\", \"papers\"], True)\n",
    "traits"
   ],
   "metadata": {
    "collapsed": false
   }
  },
  {
   "cell_type": "code",
   "execution_count": null,
   "outputs": [],
   "source": [
    "traits.write_csv(\"/home/antonkulaga/Downloads/TRAITS.tsv\", sep=\"\\t\")"
   ],
   "metadata": {
    "collapsed": false
   }
  },
  {
   "cell_type": "code",
   "execution_count": null,
   "outputs": [],
   "source": [
    "no_measure = traits.filter(~pl.col(\"trait\").str.contains(\"measurement\") & ~pl.col(\"trait\").str.contains(\"count\"))\n",
    "    no_measure .write_csv(\"/home/antonkulaga/Downloads/traits_no_measurement.tsv\",  sep=\"\\t\")\n",
    "no_measure#%%\n",
    "import polars as pl\n",
    "from pathlib import Path\n",
    "from pycomfort.files import *\n",
    "from pycomfort import files\n",
    "import pyarrow\n",
    "import pandas as pd\n",
    "from functional import seq\n",
    "from typing import *\n",
    "import functools"
   ],
   "metadata": {
    "collapsed": false
   }
  },
  {
   "cell_type": "code",
   "execution_count": null,
   "outputs": [],
   "source": [
    "pl.Config.set_tbl_width_chars(10000)\n",
    "pl.Config.set_fmt_str_lengths(1000)\n",
    "pl.Config.set_tbl_rows(20)"
   ],
   "metadata": {
    "collapsed": false
   }
  },
  {
   "cell_type": "code",
   "execution_count": null,
   "outputs": [],
   "source": [
    "gwas = pl.read_csv(\"/home/antonkulaga/Downloads/gwas-catalog-v1.0.3-studies-r2022-12-15.tsv\", sep=\"\\t\")\n",
    "gwas.head()"
   ],
   "metadata": {
    "collapsed": false
   }
  },
  {
   "cell_type": "code",
   "execution_count": null,
   "outputs": [],
   "source": [
    "traits = gwas\\\n",
    "    .groupby([pl.col(\"MAPPED_TRAIT\").alias(\"trait\"), pl.col(\"MAPPED_TRAIT_URI\").alias(\"trait_uri\")])\\\n",
    "    .agg([pl.count(\"STUDY ACCESSION\").alias(\"studies\"), pl.sum(\"ASSOCIATION COUNT\").alias(\"association_counts\"), pl.count(\"PUBMED ID\").alias(\"papers\")])\\\n",
    "    .sort([\"studies\",\"association_counts\", \"papers\"], True)\n",
    "traits"
   ],
   "metadata": {
    "collapsed": false
   }
  },
  {
   "cell_type": "code",
   "execution_count": null,
   "outputs": [],
   "source": [
    "traits.write_csv(\"/home/antonkulaga/Downloads/TRAITS.tsv\", sep=\"\\t\")"
   ],
   "metadata": {
    "collapsed": false
   }
  },
  {
   "cell_type": "code",
   "execution_count": 20,
   "outputs": [
    {
     "data": {
      "text/plain": "(3325, 5)"
     },
     "execution_count": 20,
     "metadata": {},
     "output_type": "execute_result"
    }
   ],
   "source": [
    "no_measure = traits.filter(~pl.col(\"trait\").str.contains(\"measurement\") & ~pl.col(\"trait\").str.contains(\"count\"))\n",
    "no_measure .write_csv(\"/home/antonkulaga/Downloads/traits_no_measurement.tsv\",  sep=\"\\t\")\n",
    "no_measure.shape"
   ],
   "metadata": {
    "collapsed": false
   }
  },
  {
   "cell_type": "code",
   "execution_count": null,
   "outputs": [],
   "source": [],
   "metadata": {
    "collapsed": false
   }
  },
  {
   "cell_type": "code",
   "execution_count": null,
   "outputs": [],
   "source": [],
   "metadata": {
    "collapsed": false
   }
  }
 ],
 "metadata": {
  "kernelspec": {
   "display_name": "Python 3",
   "language": "python",
   "name": "python3"
  },
  "language_info": {
   "codemirror_mode": {
    "name": "ipython",
    "version": 2
   },
   "file_extension": ".py",
   "mimetype": "text/x-python",
   "name": "python",
   "nbconvert_exporter": "python",
   "pygments_lexer": "ipython2",
   "version": "2.7.6"
  }
 },
 "nbformat": 4,
 "nbformat_minor": 0
}
