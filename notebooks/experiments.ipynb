{
 "cells": [
  {
   "cell_type": "code",
   "execution_count": 1,
   "metadata": {
    "collapsed": true
   },
   "outputs": [],
   "source": [
    "import polars as pl\n",
    "from pycomfort.files import *"
   ]
  },
  {
   "cell_type": "code",
   "execution_count": 2,
   "outputs": [
    {
     "name": "stdout",
     "output_type": "stream",
     "text": [
      "[PosixPath('/home/antonkulaga/sources/expressions-dashboard/dashboard'), '/home/antonkulaga/sources/expressions-dashboard/notebooks/..', '/home/antonkulaga/.local/share/JetBrains/Toolbox/apps/IDEA-U/ch-0/223.8617.56.plugins/python/helpers-pro/jupyter_debug', '/home/antonkulaga/.local/share/JetBrains/Toolbox/apps/IDEA-U/ch-0/223.8617.56.plugins/python/helpers/pydev', '/home/antonkulaga/sources/expressions-dashboard/notebooks', '/home/antonkulaga/sources/expressions-dashboard', '/home/antonkulaga/micromamba/envs/dashboard/lib/python310.zip', '/home/antonkulaga/micromamba/envs/dashboard/lib/python3.10', '/home/antonkulaga/micromamba/envs/dashboard/lib/python3.10/lib-dynload', '', '/home/antonkulaga/.local/lib/python3.10/site-packages', '/home/antonkulaga/micromamba/envs/dashboard/lib/python3.10/site-packages']\n"
     ]
    }
   ],
   "source": [
    "import sys\n",
    "\n",
    "base = Path(\"..\")\n",
    "local = (base / \"dashboard\").resolve()\n",
    "if local.exists():\n",
    "    sys.path.insert(0, Path(\"..\").absolute().as_posix())\n",
    "    sys.path.insert(0, local)\n",
    "    print(sys.path)\n",
    "else:\n",
    "    base = Path(\".\")\n",
    "%load_ext autoreload\n",
    "%autoreload 2"
   ],
   "metadata": {
    "collapsed": false
   }
  },
  {
   "cell_type": "code",
   "execution_count": 3,
   "outputs": [
    {
     "data": {
      "text/plain": "polars.cfg.Config"
     },
     "execution_count": 3,
     "metadata": {},
     "output_type": "execute_result"
    }
   ],
   "source": [
    "pl.Config.set_tbl_width_chars(10000)\n",
    "pl.Config.set_fmt_str_lengths(1000)\n",
    "pl.Config.set_tbl_rows(20)"
   ],
   "metadata": {
    "collapsed": false
   }
  },
  {
   "cell_type": "code",
   "execution_count": 4,
   "outputs": [
    {
     "name": "stderr",
     "output_type": "stream",
     "text": [
      "/home/antonkulaga/micromamba/envs/dashboard/lib/python3.10/site-packages/tqdm/auto.py:22: TqdmWarning: IProgress not found. Please update jupyter and ipywidgets. See https://ipywidgets.readthedocs.io/en/stable/user_install.html\n",
      "  from .autonotebook import tqdm as notebook_tqdm\n"
     ]
    }
   ],
   "source": [
    "from dashboard.cell_models import *\n",
    "from dashboard.config import *"
   ],
   "metadata": {
    "collapsed": false
   }
  },
  {
   "cell_type": "code",
   "execution_count": 5,
   "outputs": [
    {
     "data": {
      "text/plain": "shape: (10, 10)\n┌────────────────┬───────────────────────────────────────┬─────────┬────────────────────────────────────┬─────┬────────────────┬──────────────────────────────────────────────────────────┬─────────┬──────────────────────┐\n│ Cell line name ┆ URL                                   ┆ Species ┆ Phenotype                          ┆ ... ┆ Modified lines ┆ Owners                                                   ┆ Sources ┆ Commens              │\n│ ---            ┆ ---                                   ┆ ---     ┆ ---                                ┆     ┆ ---            ┆ ---                                                      ┆ ---     ┆ ---                  │\n│ str            ┆ str                                   ┆ str     ┆ str                                ┆     ┆ str            ┆ str                                                      ┆ str     ┆ str                  │\n╞════════════════╪═══════════════════════════════════════╪═════════╪════════════════════════════════════╪═════╪════════════════╪══════════════════════════════════════════════════════════╪═════════╪══════════════════════╡\n│ INS-1          ┆ https://www.cellosaurus.org/CVCL_0352 ┆ Rat     ┆ Celule Beta de insulinom           ┆ ... ┆ null           ┆ Molecular Cell Biology Department                        ┆ null    ┆ null                 │\n├╌╌╌╌╌╌╌╌╌╌╌╌╌╌╌╌┼╌╌╌╌╌╌╌╌╌╌╌╌╌╌╌╌╌╌╌╌╌╌╌╌╌╌╌╌╌╌╌╌╌╌╌╌╌╌╌┼╌╌╌╌╌╌╌╌╌┼╌╌╌╌╌╌╌╌╌╌╌╌╌╌╌╌╌╌╌╌╌╌╌╌╌╌╌╌╌╌╌╌╌╌╌╌┼╌╌╌╌╌┼╌╌╌╌╌╌╌╌╌╌╌╌╌╌╌╌┼╌╌╌╌╌╌╌╌╌╌╌╌╌╌╌╌╌╌╌╌╌╌╌╌╌╌╌╌╌╌╌╌╌╌╌╌╌╌╌╌╌╌╌╌╌╌╌╌╌╌╌╌╌╌╌╌╌╌┼╌╌╌╌╌╌╌╌╌┼╌╌╌╌╌╌╌╌╌╌╌╌╌╌╌╌╌╌╌╌╌╌┤\n│ PANC-1         ┆ https://www.cellosaurus.org/CVCL_0480 ┆ Rat     ┆ Beta cells                         ┆ ... ┆ null           ┆ Molecular Cell Biology Department                        ┆ null    ┆ null                 │\n├╌╌╌╌╌╌╌╌╌╌╌╌╌╌╌╌┼╌╌╌╌╌╌╌╌╌╌╌╌╌╌╌╌╌╌╌╌╌╌╌╌╌╌╌╌╌╌╌╌╌╌╌╌╌╌╌┼╌╌╌╌╌╌╌╌╌┼╌╌╌╌╌╌╌╌╌╌╌╌╌╌╌╌╌╌╌╌╌╌╌╌╌╌╌╌╌╌╌╌╌╌╌╌┼╌╌╌╌╌┼╌╌╌╌╌╌╌╌╌╌╌╌╌╌╌╌┼╌╌╌╌╌╌╌╌╌╌╌╌╌╌╌╌╌╌╌╌╌╌╌╌╌╌╌╌╌╌╌╌╌╌╌╌╌╌╌╌╌╌╌╌╌╌╌╌╌╌╌╌╌╌╌╌╌╌┼╌╌╌╌╌╌╌╌╌┼╌╌╌╌╌╌╌╌╌╌╌╌╌╌╌╌╌╌╌╌╌╌┤\n│ MelJuSo        ┆ https://www.cellosaurus.org/CVCL_1403 ┆ Human   ┆ Celule de melanom uman faza VGP    ┆ ... ┆ null           ┆ Molecular Cell Biology Department                        ┆ null    ┆ null                 │\n├╌╌╌╌╌╌╌╌╌╌╌╌╌╌╌╌┼╌╌╌╌╌╌╌╌╌╌╌╌╌╌╌╌╌╌╌╌╌╌╌╌╌╌╌╌╌╌╌╌╌╌╌╌╌╌╌┼╌╌╌╌╌╌╌╌╌┼╌╌╌╌╌╌╌╌╌╌╌╌╌╌╌╌╌╌╌╌╌╌╌╌╌╌╌╌╌╌╌╌╌╌╌╌┼╌╌╌╌╌┼╌╌╌╌╌╌╌╌╌╌╌╌╌╌╌╌┼╌╌╌╌╌╌╌╌╌╌╌╌╌╌╌╌╌╌╌╌╌╌╌╌╌╌╌╌╌╌╌╌╌╌╌╌╌╌╌╌╌╌╌╌╌╌╌╌╌╌╌╌╌╌╌╌╌╌┼╌╌╌╌╌╌╌╌╌┼╌╌╌╌╌╌╌╌╌╌╌╌╌╌╌╌╌╌╌╌╌╌┤\n│ HEK293T        ┆ https://www.cellosaurus.org/CVCL_0063 ┆ Human   ┆ Celule umane embrionare de rinichi ┆ ... ┆ null           ┆ Molecular Cell Biology Department, Enzymology Department ┆ null    ┆ null                 │\n├╌╌╌╌╌╌╌╌╌╌╌╌╌╌╌╌┼╌╌╌╌╌╌╌╌╌╌╌╌╌╌╌╌╌╌╌╌╌╌╌╌╌╌╌╌╌╌╌╌╌╌╌╌╌╌╌┼╌╌╌╌╌╌╌╌╌┼╌╌╌╌╌╌╌╌╌╌╌╌╌╌╌╌╌╌╌╌╌╌╌╌╌╌╌╌╌╌╌╌╌╌╌╌┼╌╌╌╌╌┼╌╌╌╌╌╌╌╌╌╌╌╌╌╌╌╌┼╌╌╌╌╌╌╌╌╌╌╌╌╌╌╌╌╌╌╌╌╌╌╌╌╌╌╌╌╌╌╌╌╌╌╌╌╌╌╌╌╌╌╌╌╌╌╌╌╌╌╌╌╌╌╌╌╌╌┼╌╌╌╌╌╌╌╌╌┼╌╌╌╌╌╌╌╌╌╌╌╌╌╌╌╌╌╌╌╌╌╌┤\n│ CCD-1070Sk     ┆ https://www.cellosaurus.org/CVCL_2332 ┆ null    ┆ null                               ┆ ... ┆ null           ┆ Molecular Cell Biology Department                        ┆ null    ┆ null                 │\n├╌╌╌╌╌╌╌╌╌╌╌╌╌╌╌╌┼╌╌╌╌╌╌╌╌╌╌╌╌╌╌╌╌╌╌╌╌╌╌╌╌╌╌╌╌╌╌╌╌╌╌╌╌╌╌╌┼╌╌╌╌╌╌╌╌╌┼╌╌╌╌╌╌╌╌╌╌╌╌╌╌╌╌╌╌╌╌╌╌╌╌╌╌╌╌╌╌╌╌╌╌╌╌┼╌╌╌╌╌┼╌╌╌╌╌╌╌╌╌╌╌╌╌╌╌╌┼╌╌╌╌╌╌╌╌╌╌╌╌╌╌╌╌╌╌╌╌╌╌╌╌╌╌╌╌╌╌╌╌╌╌╌╌╌╌╌╌╌╌╌╌╌╌╌╌╌╌╌╌╌╌╌╌╌╌┼╌╌╌╌╌╌╌╌╌┼╌╌╌╌╌╌╌╌╌╌╌╌╌╌╌╌╌╌╌╌╌╌┤\n│ RAW 264.7      ┆ https://www.cellosaurus.org/CVCL_0493 ┆ Mouse   ┆ null                               ┆ ... ┆ null           ┆ Molecular Cell Biology Department                        ┆ null    ┆ FAILED, need to redo │\n├╌╌╌╌╌╌╌╌╌╌╌╌╌╌╌╌┼╌╌╌╌╌╌╌╌╌╌╌╌╌╌╌╌╌╌╌╌╌╌╌╌╌╌╌╌╌╌╌╌╌╌╌╌╌╌╌┼╌╌╌╌╌╌╌╌╌┼╌╌╌╌╌╌╌╌╌╌╌╌╌╌╌╌╌╌╌╌╌╌╌╌╌╌╌╌╌╌╌╌╌╌╌╌┼╌╌╌╌╌┼╌╌╌╌╌╌╌╌╌╌╌╌╌╌╌╌┼╌╌╌╌╌╌╌╌╌╌╌╌╌╌╌╌╌╌╌╌╌╌╌╌╌╌╌╌╌╌╌╌╌╌╌╌╌╌╌╌╌╌╌╌╌╌╌╌╌╌╌╌╌╌╌╌╌╌┼╌╌╌╌╌╌╌╌╌┼╌╌╌╌╌╌╌╌╌╌╌╌╌╌╌╌╌╌╌╌╌╌┤\n│ SKOV3          ┆ https://www.cellosaurus.org/CVCL_0532 ┆ Human   ┆ null                               ┆ ... ┆ null           ┆ Molecular Cell Biology Department                        ┆ null    ┆ null                 │\n├╌╌╌╌╌╌╌╌╌╌╌╌╌╌╌╌┼╌╌╌╌╌╌╌╌╌╌╌╌╌╌╌╌╌╌╌╌╌╌╌╌╌╌╌╌╌╌╌╌╌╌╌╌╌╌╌┼╌╌╌╌╌╌╌╌╌┼╌╌╌╌╌╌╌╌╌╌╌╌╌╌╌╌╌╌╌╌╌╌╌╌╌╌╌╌╌╌╌╌╌╌╌╌┼╌╌╌╌╌┼╌╌╌╌╌╌╌╌╌╌╌╌╌╌╌╌┼╌╌╌╌╌╌╌╌╌╌╌╌╌╌╌╌╌╌╌╌╌╌╌╌╌╌╌╌╌╌╌╌╌╌╌╌╌╌╌╌╌╌╌╌╌╌╌╌╌╌╌╌╌╌╌╌╌╌┼╌╌╌╌╌╌╌╌╌┼╌╌╌╌╌╌╌╌╌╌╌╌╌╌╌╌╌╌╌╌╌╌┤\n│ B16F10         ┆ https://www.cellosaurus.org/CVCL_0159 ┆ Mouse   ┆ null                               ┆ ... ┆ null           ┆ Ligand-Receptor Interactions Department                  ┆ null    ┆ null                 │\n├╌╌╌╌╌╌╌╌╌╌╌╌╌╌╌╌┼╌╌╌╌╌╌╌╌╌╌╌╌╌╌╌╌╌╌╌╌╌╌╌╌╌╌╌╌╌╌╌╌╌╌╌╌╌╌╌┼╌╌╌╌╌╌╌╌╌┼╌╌╌╌╌╌╌╌╌╌╌╌╌╌╌╌╌╌╌╌╌╌╌╌╌╌╌╌╌╌╌╌╌╌╌╌┼╌╌╌╌╌┼╌╌╌╌╌╌╌╌╌╌╌╌╌╌╌╌┼╌╌╌╌╌╌╌╌╌╌╌╌╌╌╌╌╌╌╌╌╌╌╌╌╌╌╌╌╌╌╌╌╌╌╌╌╌╌╌╌╌╌╌╌╌╌╌╌╌╌╌╌╌╌╌╌╌╌┼╌╌╌╌╌╌╌╌╌┼╌╌╌╌╌╌╌╌╌╌╌╌╌╌╌╌╌╌╌╌╌╌┤\n│ B16F1          ┆ https://www.cellosaurus.org/CVCL_0158 ┆ Mouse   ┆ null                               ┆ ... ┆ null           ┆ Ligand-Receptor Interactions Department                  ┆ null    ┆ null                 │\n├╌╌╌╌╌╌╌╌╌╌╌╌╌╌╌╌┼╌╌╌╌╌╌╌╌╌╌╌╌╌╌╌╌╌╌╌╌╌╌╌╌╌╌╌╌╌╌╌╌╌╌╌╌╌╌╌┼╌╌╌╌╌╌╌╌╌┼╌╌╌╌╌╌╌╌╌╌╌╌╌╌╌╌╌╌╌╌╌╌╌╌╌╌╌╌╌╌╌╌╌╌╌╌┼╌╌╌╌╌┼╌╌╌╌╌╌╌╌╌╌╌╌╌╌╌╌┼╌╌╌╌╌╌╌╌╌╌╌╌╌╌╌╌╌╌╌╌╌╌╌╌╌╌╌╌╌╌╌╌╌╌╌╌╌╌╌╌╌╌╌╌╌╌╌╌╌╌╌╌╌╌╌╌╌╌┼╌╌╌╌╌╌╌╌╌┼╌╌╌╌╌╌╌╌╌╌╌╌╌╌╌╌╌╌╌╌╌╌┤\n│ THP-1          ┆ https://www.cellosaurus.org/CVCL_0006 ┆ Human   ┆ null                               ┆ ... ┆ null           ┆ Ligand-Receptor Interactions Department                  ┆ null    ┆ null                 │\n└────────────────┴───────────────────────────────────────┴─────────┴────────────────────────────────────┴─────┴────────────────┴──────────────────────────────────────────────────────────┴─────────┴──────────────────────┘",
      "text/html": "<div>\n<style scoped>\n    .dataframe tbody tr th:only-of-type {\n        vertical-align: middle;\n    }\n\n    .dataframe tbody tr th {\n        vertical-align: top;\n    }\n\n    .dataframe thead th {\n        text-align: right;\n    }\n\n    .dataframe td {\n        white-space: pre;\n    }\n\n    .dataframe td {\n        padding-top: 0;\n    }\n\n    .dataframe td {\n        padding-bottom: 0;\n    }\n\n    .dataframe td {\n        line-height: 95%;\n    }\n</style>\n<table border=\"1\" class=\"dataframe\" >\n<small>shape: (10, 10)</small>\n<thead>\n<tr>\n<th>\nCell line name\n</th>\n<th>\nURL\n</th>\n<th>\nSpecies\n</th>\n<th>\nPhenotype\n</th>\n<th>\nTissue\n</th>\n<th>\nSamples\n</th>\n<th>\nModified lines\n</th>\n<th>\nOwners\n</th>\n<th>\nSources\n</th>\n<th>\nCommens\n</th>\n</tr>\n<tr>\n<td>\nstr\n</td>\n<td>\nstr\n</td>\n<td>\nstr\n</td>\n<td>\nstr\n</td>\n<td>\nstr\n</td>\n<td>\nstr\n</td>\n<td>\nstr\n</td>\n<td>\nstr\n</td>\n<td>\nstr\n</td>\n<td>\nstr\n</td>\n</tr>\n</thead>\n<tbody>\n<tr>\n<td>\n&quot;INS-1&quot;\n</td>\n<td>\n&quot;https://www.cellosaurus.org/CVCL_0352&quot;\n</td>\n<td>\n&quot;Rat&quot;\n</td>\n<td>\n&quot;Celule Beta de insulinom &quot;\n</td>\n<td>\n&quot;Insulinom/Pancreas&quot;\n</td>\n<td>\n&quot;SAMN07421988, SAMN07421989, SAMN07421987, SAMN07421986&quot;\n</td>\n<td>\nnull\n</td>\n<td>\n&quot;Molecular Cell Biology Department&quot;\n</td>\n<td>\nnull\n</td>\n<td>\nnull\n</td>\n</tr>\n<tr>\n<td>\n&quot;PANC-1&quot;\n</td>\n<td>\n&quot;https://www.cellosaurus.org/CVCL_0480&quot;\n</td>\n<td>\n&quot;Rat&quot;\n</td>\n<td>\n&quot;Beta cells&quot;\n</td>\n<td>\n&quot;Pancreas&quot;\n</td>\n<td>\n&quot;SAMN10460093, SAMN06642004&quot;\n</td>\n<td>\nnull\n</td>\n<td>\n&quot;Molecular Cell Biology Department&quot;\n</td>\n<td>\nnull\n</td>\n<td>\nnull\n</td>\n</tr>\n<tr>\n<td>\n&quot;MelJuSo &quot;\n</td>\n<td>\n&quot;https://www.cellosaurus.org/CVCL_1403&quot;\n</td>\n<td>\n&quot;Human&quot;\n</td>\n<td>\n&quot;Celule de melanom uman faza VGP&quot;\n</td>\n<td>\n&quot;Melanoma&quot;\n</td>\n<td>\n&quot;SAMN07168087, SAMN07168088, SAMN07168089, SAMN07168090, SAMN07168091, SAMN07168092&quot;\n</td>\n<td>\nnull\n</td>\n<td>\n&quot;Molecular Cell Biology Department&quot;\n</td>\n<td>\nnull\n</td>\n<td>\nnull\n</td>\n</tr>\n<tr>\n<td>\n&quot;HEK293T&quot;\n</td>\n<td>\n&quot;https://www.cellosaurus.org/CVCL_0063&quot;\n</td>\n<td>\n&quot;Human&quot;\n</td>\n<td>\n&quot;Celule umane embrionare de rinichi&quot;\n</td>\n<td>\n&quot;Human kidney&quot;\n</td>\n<td>\n&quot;SAMN22420271, SAMN22420269, SAMN22420270&quot;\n</td>\n<td>\nnull\n</td>\n<td>\n&quot;Molecular Cell Biology Department, Enzymology Department&quot;\n</td>\n<td>\nnull\n</td>\n<td>\nnull\n</td>\n</tr>\n<tr>\n<td>\n&quot;CCD-1070Sk&quot;\n</td>\n<td>\n&quot;https://www.cellosaurus.org/CVCL_2332&quot;\n</td>\n<td>\nnull\n</td>\n<td>\nnull\n</td>\n<td>\nnull\n</td>\n<td>\n&quot;SAMN21374231, SAMN21374232, SAMN21374233, SAMN21374234 &quot;\n</td>\n<td>\nnull\n</td>\n<td>\n&quot;Molecular Cell Biology Department&quot;\n</td>\n<td>\nnull\n</td>\n<td>\nnull\n</td>\n</tr>\n<tr>\n<td>\n&quot;RAW 264.7&quot;\n</td>\n<td>\n&quot;https://www.cellosaurus.org/CVCL_0493&quot;\n</td>\n<td>\n&quot;Mouse&quot;\n</td>\n<td>\nnull\n</td>\n<td>\nnull\n</td>\n<td>\n&quot;SAMN32489934, SAMN32489935&quot;\n</td>\n<td>\nnull\n</td>\n<td>\n&quot;Molecular Cell Biology Department&quot;\n</td>\n<td>\nnull\n</td>\n<td>\n&quot;FAILED, need to redo&quot;\n</td>\n</tr>\n<tr>\n<td>\n&quot;SKOV3&quot;\n</td>\n<td>\n&quot;https://www.cellosaurus.org/CVCL_0532&quot;\n</td>\n<td>\n&quot;Human&quot;\n</td>\n<td>\nnull\n</td>\n<td>\nnull\n</td>\n<td>\n&quot;SAMN20710030 , SAMN20710031, SAMN20710032 &quot;\n</td>\n<td>\nnull\n</td>\n<td>\n&quot;Molecular Cell Biology Department&quot;\n</td>\n<td>\nnull\n</td>\n<td>\nnull\n</td>\n</tr>\n<tr>\n<td>\n&quot;B16F10&quot;\n</td>\n<td>\n&quot;https://www.cellosaurus.org/CVCL_0159&quot;\n</td>\n<td>\n&quot;Mouse&quot;\n</td>\n<td>\nnull\n</td>\n<td>\n&quot;Melanoma&quot;\n</td>\n<td>\n&quot;SAMN22137224, SAMN22137225, SAMN22137226&quot;\n</td>\n<td>\nnull\n</td>\n<td>\n&quot;Ligand-Receptor Interactions Department&quot;\n</td>\n<td>\nnull\n</td>\n<td>\nnull\n</td>\n</tr>\n<tr>\n<td>\n&quot;B16F1&quot;\n</td>\n<td>\n&quot;https://www.cellosaurus.org/CVCL_0158&quot;\n</td>\n<td>\n&quot;Mouse&quot;\n</td>\n<td>\nnull\n</td>\n<td>\nnull\n</td>\n<td>\n&quot;SAMN07340361, SAMN07340362, SAMN07340363&quot;\n</td>\n<td>\nnull\n</td>\n<td>\n&quot;Ligand-Receptor Interactions Department&quot;\n</td>\n<td>\nnull\n</td>\n<td>\nnull\n</td>\n</tr>\n<tr>\n<td>\n&quot;THP-1&quot;\n</td>\n<td>\n&quot;https://www.cellosaurus.org/CVCL_0006&quot;\n</td>\n<td>\n&quot;Human&quot;\n</td>\n<td>\nnull\n</td>\n<td>\n&quot;macrophages&quot;\n</td>\n<td>\n&quot;SAMN16623487, SAMN16623488, SAMN16623489&quot;\n</td>\n<td>\nnull\n</td>\n<td>\n&quot;Ligand-Receptor Interactions Department&quot;\n</td>\n<td>\nnull\n</td>\n<td>\nnull\n</td>\n</tr>\n</tbody>\n</table>\n</div>"
     },
     "execution_count": 5,
     "metadata": {},
     "output_type": "execute_result"
    }
   ],
   "source": [
    "locations = Locations(base)\n",
    "cells = Cells(locations.cell_lines)\n",
    "cells.toc_samples.head(10)"
   ],
   "metadata": {
    "collapsed": false
   }
  },
  {
   "cell_type": "code",
   "execution_count": 6,
   "outputs": [
    {
     "name": "stdout",
     "output_type": "stream",
     "text": [
      "cell line /home/antonkulaga/sources/expressions-dashboard/data/inputs/cell_lines/INS-1 does not seem to exist!\n"
     ]
    },
    {
     "data": {
      "text/plain": "[<dashboard.cell_models.Sample at 0x7f47c556d1e0>,\n <dashboard.cell_models.Sample at 0x7f47c556d330>,\n <dashboard.cell_models.Sample at 0x7f47c556d450>,\n <dashboard.cell_models.Sample at 0x7f47c556d570>,\n <dashboard.cell_models.Sample at 0x7f47c556d690>,\n <dashboard.cell_models.Sample at 0x7f47c556d7b0>,\n <dashboard.cell_models.Sample at 0x7f47c556d8d0>,\n <dashboard.cell_models.Sample at 0x7f47c556d9f0>]"
     },
     "execution_count": 6,
     "metadata": {},
     "output_type": "execute_result"
    }
   ],
   "source": [
    "samples = cells.extract_all_samples()\n",
    "samples"
   ],
   "metadata": {
    "collapsed": false
   }
  },
  {
   "cell_type": "code",
   "execution_count": 8,
   "outputs": [
    {
     "name": "stdout",
     "output_type": "stream",
     "text": [
      "could not find quantification data for /home/antonkulaga/sources/expressions-dashboard/data/inputs/cell_lines/B16F10/SAMN22137224/SRR16242848\n",
      "could not find quantification data for /home/antonkulaga/sources/expressions-dashboard/data/inputs/cell_lines/B16F10/SAMN22137224/SRR16242848\n",
      "could not find quantification data for /home/antonkulaga/sources/expressions-dashboard/data/inputs/cell_lines/B16F1/SAMN07340361/SRR5815762\n",
      "could not find quantification data for /home/antonkulaga/sources/expressions-dashboard/data/inputs/cell_lines/B16F1/SAMN07340361/SRR5815762\n"
     ]
    },
    {
     "ename": "AttributeError",
     "evalue": "'NoneType' object has no attribute 'select'",
     "output_type": "error",
     "traceback": [
      "\u001B[0;31m---------------------------------------------------------------------------\u001B[0m",
      "\u001B[0;31mAttributeError\u001B[0m                            Traceback (most recent call last)",
      "Cell \u001B[0;32mIn[8], line 1\u001B[0m\n\u001B[0;32m----> 1\u001B[0m selected \u001B[38;5;241m=\u001B[39m \u001B[43mExpressionSelection\u001B[49m\u001B[43m(\u001B[49m\u001B[43msamples\u001B[49m\u001B[43m)\u001B[49m\n\u001B[1;32m      2\u001B[0m selected\n",
      "File \u001B[0;32m~/sources/expressions-dashboard/notebooks/../dashboard/cell_models.py:137\u001B[0m, in \u001B[0;36mExpressionSelection.__init__\u001B[0;34m(self, selected_samples)\u001B[0m\n\u001B[1;32m    135\u001B[0m species_info: genotations\u001B[38;5;241m.\u001B[39mensembl\u001B[38;5;241m.\u001B[39mSpeciesInfo \u001B[38;5;241m=\u001B[39m genotations\u001B[38;5;241m.\u001B[39mensembl\u001B[38;5;241m.\u001B[39mspecies[s]\n\u001B[1;32m    136\u001B[0m genes_for_merge \u001B[38;5;241m=\u001B[39m collections\u001B[38;5;241m.\u001B[39mOrderedDict(seq(runs)\u001B[38;5;241m.\u001B[39mmap(\u001B[38;5;28;01mlambda\u001B[39;00m r: (r\u001B[38;5;241m.\u001B[39mrun_accession, r\u001B[38;5;241m.\u001B[39mload()\u001B[38;5;241m.\u001B[39mgenes))\u001B[38;5;241m.\u001B[39mto_list())\n\u001B[0;32m--> 137\u001B[0m merged_genes \u001B[38;5;241m=\u001B[39m \u001B[43mgenotations\u001B[49m\u001B[38;5;241;43m.\u001B[39;49m\u001B[43mquantification\u001B[49m\u001B[38;5;241;43m.\u001B[39;49m\u001B[43mmerge_expressions\u001B[49m\u001B[43m(\u001B[49m\u001B[43mgenes_for_merge\u001B[49m\u001B[43m,\u001B[49m\u001B[43m \u001B[49m\u001B[38;5;28;43;01mFalse\u001B[39;49;00m\u001B[43m)\u001B[49m\n\u001B[1;32m    138\u001B[0m acc_genes\u001B[38;5;241m.\u001B[39mappend((species_info\u001B[38;5;241m.\u001B[39mspecies_name, merged_genes))\n\u001B[1;32m    139\u001B[0m transcripts_for_merge \u001B[38;5;241m=\u001B[39m collections\u001B[38;5;241m.\u001B[39mOrderedDict(seq(runs)\u001B[38;5;241m.\u001B[39mmap(\u001B[38;5;28;01mlambda\u001B[39;00m r: (r\u001B[38;5;241m.\u001B[39mrun_accession, r\u001B[38;5;241m.\u001B[39mload()\u001B[38;5;241m.\u001B[39mtranscripts))\u001B[38;5;241m.\u001B[39mto_list())\n",
      "File \u001B[0;32m~/micromamba/envs/dashboard/lib/python3.10/site-packages/genotations/quantification.py:86\u001B[0m, in \u001B[0;36mmerge_expressions\u001B[0;34m(expressions, transcripts)\u001B[0m\n\u001B[1;32m     84\u001B[0m \u001B[38;5;28;01mdef\u001B[39;00m \u001B[38;5;21mmerge_expressions\u001B[39m(expressions: OrderedDict[\u001B[38;5;28mstr\u001B[39m, pl\u001B[38;5;241m.\u001B[39mDataFrame], transcripts: \u001B[38;5;28mbool\u001B[39m \u001B[38;5;241m=\u001B[39m \u001B[38;5;28;01mTrue\u001B[39;00m):\n\u001B[1;32m     85\u001B[0m     name \u001B[38;5;241m=\u001B[39m \u001B[38;5;124m\"\u001B[39m\u001B[38;5;124mtranscript\u001B[39m\u001B[38;5;124m\"\u001B[39m \u001B[38;5;28;01mif\u001B[39;00m transcripts \u001B[38;5;28;01melse\u001B[39;00m \u001B[38;5;124m\"\u001B[39m\u001B[38;5;124mgene\u001B[39m\u001B[38;5;124m\"\u001B[39m\n\u001B[0;32m---> 86\u001B[0m     frames \u001B[38;5;241m=\u001B[39m [v\u001B[38;5;241m.\u001B[39mselect([pl\u001B[38;5;241m.\u001B[39mcol(name), pl\u001B[38;5;241m.\u001B[39mcol(\u001B[38;5;124m\"\u001B[39m\u001B[38;5;124mTPM\u001B[39m\u001B[38;5;124m\"\u001B[39m)\u001B[38;5;241m.\u001B[39malias(k)]) \u001B[38;5;28;01mfor\u001B[39;00m k, v \u001B[38;5;129;01min\u001B[39;00m expressions\u001B[38;5;241m.\u001B[39mitems()]\n\u001B[1;32m     87\u001B[0m     \u001B[38;5;28;01mreturn\u001B[39;00m functools\u001B[38;5;241m.\u001B[39mreduce(\u001B[38;5;28;01mlambda\u001B[39;00m a, b: a\u001B[38;5;241m.\u001B[39mjoin(b, on\u001B[38;5;241m=\u001B[39mname), frames)\n",
      "File \u001B[0;32m~/micromamba/envs/dashboard/lib/python3.10/site-packages/genotations/quantification.py:86\u001B[0m, in \u001B[0;36m<listcomp>\u001B[0;34m(.0)\u001B[0m\n\u001B[1;32m     84\u001B[0m \u001B[38;5;28;01mdef\u001B[39;00m \u001B[38;5;21mmerge_expressions\u001B[39m(expressions: OrderedDict[\u001B[38;5;28mstr\u001B[39m, pl\u001B[38;5;241m.\u001B[39mDataFrame], transcripts: \u001B[38;5;28mbool\u001B[39m \u001B[38;5;241m=\u001B[39m \u001B[38;5;28;01mTrue\u001B[39;00m):\n\u001B[1;32m     85\u001B[0m     name \u001B[38;5;241m=\u001B[39m \u001B[38;5;124m\"\u001B[39m\u001B[38;5;124mtranscript\u001B[39m\u001B[38;5;124m\"\u001B[39m \u001B[38;5;28;01mif\u001B[39;00m transcripts \u001B[38;5;28;01melse\u001B[39;00m \u001B[38;5;124m\"\u001B[39m\u001B[38;5;124mgene\u001B[39m\u001B[38;5;124m\"\u001B[39m\n\u001B[0;32m---> 86\u001B[0m     frames \u001B[38;5;241m=\u001B[39m [\u001B[43mv\u001B[49m\u001B[38;5;241;43m.\u001B[39;49m\u001B[43mselect\u001B[49m([pl\u001B[38;5;241m.\u001B[39mcol(name), pl\u001B[38;5;241m.\u001B[39mcol(\u001B[38;5;124m\"\u001B[39m\u001B[38;5;124mTPM\u001B[39m\u001B[38;5;124m\"\u001B[39m)\u001B[38;5;241m.\u001B[39malias(k)]) \u001B[38;5;28;01mfor\u001B[39;00m k, v \u001B[38;5;129;01min\u001B[39;00m expressions\u001B[38;5;241m.\u001B[39mitems()]\n\u001B[1;32m     87\u001B[0m     \u001B[38;5;28;01mreturn\u001B[39;00m functools\u001B[38;5;241m.\u001B[39mreduce(\u001B[38;5;28;01mlambda\u001B[39;00m a, b: a\u001B[38;5;241m.\u001B[39mjoin(b, on\u001B[38;5;241m=\u001B[39mname), frames)\n",
      "\u001B[0;31mAttributeError\u001B[0m: 'NoneType' object has no attribute 'select'"
     ]
    }
   ],
   "source": [
    "selected = ExpressionSelection(samples)\n",
    "selected"
   ],
   "metadata": {
    "collapsed": false
   }
  },
  {
   "cell_type": "code",
   "execution_count": null,
   "outputs": [],
   "source": [],
   "metadata": {
    "collapsed": false
   }
  },
  {
   "cell_type": "code",
   "execution_count": 34,
   "outputs": [
    {
     "name": "stdout",
     "output_type": "stream",
     "text": [
      "cell line /home/antonkulaga/sources/expressions-dashboard/data/inputs/cell_lines/INS-1 does not seem to exist!\n"
     ]
    },
    {
     "data": {
      "text/plain": "OrderedDict([('Homo sapiens',\n              [<dashboard.cell_models.Run at 0x7f8b1c178df0>,\n               <dashboard.cell_models.Run at 0x7f8b1c179510>,\n               <dashboard.cell_models.Run at 0x7f8b1c179e70>,\n               <dashboard.cell_models.Run at 0x7f8b1c13bbb0>,\n               <dashboard.cell_models.Run at 0x7f8b1c179a50>]),\n             ('Mus musculus',\n              [<dashboard.cell_models.Run at 0x7f8b1c17ac50>,\n               <dashboard.cell_models.Run at 0x7f8b1c13b850>]),\n             ('Bos taurus',\n              [<dashboard.cell_models.Run at 0x7f8b1c13ba90>,\n               <dashboard.cell_models.Run at 0x7f8b1c13bbe0>,\n               <dashboard.cell_models.Run at 0x7f8b1c139d20>,\n               <dashboard.cell_models.Run at 0x7f8b1c138250>,\n               <dashboard.cell_models.Run at 0x7f8b1c13b8e0>,\n               <dashboard.cell_models.Run at 0x7f8b1d292110>])])"
     },
     "execution_count": 34,
     "metadata": {},
     "output_type": "execute_result"
    }
   ],
   "source": [
    "cells.extract_all_runs_by_species()"
   ],
   "metadata": {
    "collapsed": false
   }
  },
  {
   "cell_type": "code",
   "execution_count": 32,
   "outputs": [
    {
     "data": {
      "text/plain": "PosixPath('/home/antonkulaga/sources/expressions-dashboard/data/inputs/cell_lines')"
     },
     "execution_count": 32,
     "metadata": {},
     "output_type": "execute_result"
    }
   ],
   "source": [
    "locations.cell_lines.absolute().resolve()"
   ],
   "metadata": {
    "collapsed": false
   }
  },
  {
   "cell_type": "code",
   "execution_count": 29,
   "outputs": [
    {
     "data": {
      "text/plain": "PosixPath('/home/antonkulaga/sources/expressions-dashboard/data/inputs/cell_lines/MDBK')"
     },
     "execution_count": 29,
     "metadata": {},
     "output_type": "execute_result"
    }
   ],
   "source": [
    "test_line = dirs(locations.cell_lines).first()\n",
    "test_line.absolute().resolve()"
   ],
   "metadata": {
    "collapsed": false
   }
  },
  {
   "cell_type": "code",
   "execution_count": 30,
   "outputs": [],
   "source": [
    "test_sample = dirs(test_line).first()\n",
    "s = Sample(test_sample)"
   ],
   "metadata": {
    "collapsed": false
   }
  },
  {
   "cell_type": "code",
   "execution_count": 31,
   "outputs": [
    {
     "ename": "AttributeError",
     "evalue": "'Sample' object has no attribute 'runs'",
     "output_type": "error",
     "traceback": [
      "\u001B[0;31m---------------------------------------------------------------------------\u001B[0m",
      "\u001B[0;31mAttributeError\u001B[0m                            Traceback (most recent call last)",
      "Cell \u001B[0;32mIn[31], line 1\u001B[0m\n\u001B[0;32m----> 1\u001B[0m t \u001B[38;5;241m=\u001B[39m seq(\u001B[43ms\u001B[49m\u001B[38;5;241;43m.\u001B[39;49m\u001B[43mruns\u001B[49m\u001B[38;5;241m.\u001B[39mvalues())\u001B[38;5;241m.\u001B[39mto_list()[\u001B[38;5;241m0\u001B[39m]\n\u001B[1;32m      2\u001B[0m t\u001B[38;5;241m.\u001B[39mgenes\u001B[38;5;241m.\u001B[39mhead(\u001B[38;5;241m10\u001B[39m)\n",
      "\u001B[0;31mAttributeError\u001B[0m: 'Sample' object has no attribute 'runs'"
     ]
    }
   ],
   "source": [
    "t = seq(s.runs.values()).to_list()[0]\n",
    "t.genes.head(10)"
   ],
   "metadata": {
    "collapsed": false
   }
  },
  {
   "cell_type": "code",
   "execution_count": 17,
   "outputs": [
    {
     "data": {
      "text/plain": "PosixPath('/home/antonkulaga/sources/expressions-dashboard/data/inputs/cell_lines/MDBK/SAMN04378088')"
     },
     "execution_count": 17,
     "metadata": {},
     "output_type": "execute_result"
    }
   ],
   "source": [
    "s.folder"
   ],
   "metadata": {
    "collapsed": false
   }
  },
  {
   "cell_type": "code",
   "execution_count": 22,
   "outputs": [
    {
     "data": {
      "text/plain": "'Bos taurus'"
     },
     "execution_count": 22,
     "metadata": {},
     "output_type": "execute_result"
    }
   ],
   "source": [
    "seq(s.runs.values()).to_list()[0].scientific_name"
   ],
   "metadata": {
    "collapsed": false
   }
  },
  {
   "cell_type": "code",
   "execution_count": 10,
   "outputs": [
    {
     "data": {
      "text/plain": "OrderedDict([('SRR3068343',\n              shape: (194142, 4)\n              ┌─────────────────┬────────────┬─────────────────┬──────────┐\n              │ transcript      ┆ TPM        ┆ EffectiveLength ┆ NumReads │\n              │ ---             ┆ ---        ┆ ---             ┆ ---      │\n              │ str             ┆ f64        ┆ f64             ┆ f64      │\n              ╞═════════════════╪════════════╪═════════════════╪══════════╡\n              │ ENST00000631435 ┆ 0.0        ┆ 12.0            ┆ 0.0      │\n              ├╌╌╌╌╌╌╌╌╌╌╌╌╌╌╌╌╌┼╌╌╌╌╌╌╌╌╌╌╌╌┼╌╌╌╌╌╌╌╌╌╌╌╌╌╌╌╌╌┼╌╌╌╌╌╌╌╌╌╌┤\n              │ ENST00000415118 ┆ 0.0        ┆ 7.0             ┆ 0.0      │\n              ├╌╌╌╌╌╌╌╌╌╌╌╌╌╌╌╌╌┼╌╌╌╌╌╌╌╌╌╌╌╌┼╌╌╌╌╌╌╌╌╌╌╌╌╌╌╌╌╌┼╌╌╌╌╌╌╌╌╌╌┤\n              │ ENST00000448914 ┆ 0.0        ┆ 13.0            ┆ 0.0      │\n              ├╌╌╌╌╌╌╌╌╌╌╌╌╌╌╌╌╌┼╌╌╌╌╌╌╌╌╌╌╌╌┼╌╌╌╌╌╌╌╌╌╌╌╌╌╌╌╌╌┼╌╌╌╌╌╌╌╌╌╌┤\n              │ ENST00000434970 ┆ 0.0        ┆ 9.0             ┆ 0.0      │\n              ├╌╌╌╌╌╌╌╌╌╌╌╌╌╌╌╌╌┼╌╌╌╌╌╌╌╌╌╌╌╌┼╌╌╌╌╌╌╌╌╌╌╌╌╌╌╌╌╌┼╌╌╌╌╌╌╌╌╌╌┤\n              │ ENST00000632524 ┆ 0.0        ┆ 11.0            ┆ 0.0      │\n              ├╌╌╌╌╌╌╌╌╌╌╌╌╌╌╌╌╌┼╌╌╌╌╌╌╌╌╌╌╌╌┼╌╌╌╌╌╌╌╌╌╌╌╌╌╌╌╌╌┼╌╌╌╌╌╌╌╌╌╌┤\n              │ ENST00000633009 ┆ 0.0        ┆ 19.0            ┆ 0.0      │\n              ├╌╌╌╌╌╌╌╌╌╌╌╌╌╌╌╌╌┼╌╌╌╌╌╌╌╌╌╌╌╌┼╌╌╌╌╌╌╌╌╌╌╌╌╌╌╌╌╌┼╌╌╌╌╌╌╌╌╌╌┤\n              │ ENST00000634070 ┆ 0.0        ┆ 17.0            ┆ 0.0      │\n              ├╌╌╌╌╌╌╌╌╌╌╌╌╌╌╌╌╌┼╌╌╌╌╌╌╌╌╌╌╌╌┼╌╌╌╌╌╌╌╌╌╌╌╌╌╌╌╌╌┼╌╌╌╌╌╌╌╌╌╌┤\n              │ ENST00000632963 ┆ 0.0        ┆ 19.0            ┆ 0.0      │\n              ├╌╌╌╌╌╌╌╌╌╌╌╌╌╌╌╌╌┼╌╌╌╌╌╌╌╌╌╌╌╌┼╌╌╌╌╌╌╌╌╌╌╌╌╌╌╌╌╌┼╌╌╌╌╌╌╌╌╌╌┤\n              │ ENST00000633030 ┆ 0.0        ┆ 18.0            ┆ 0.0      │\n              ├╌╌╌╌╌╌╌╌╌╌╌╌╌╌╌╌╌┼╌╌╌╌╌╌╌╌╌╌╌╌┼╌╌╌╌╌╌╌╌╌╌╌╌╌╌╌╌╌┼╌╌╌╌╌╌╌╌╌╌┤\n              │ ENST00000633765 ┆ 0.0        ┆ 1.0             ┆ 0.0      │\n              ├╌╌╌╌╌╌╌╌╌╌╌╌╌╌╌╌╌┼╌╌╌╌╌╌╌╌╌╌╌╌┼╌╌╌╌╌╌╌╌╌╌╌╌╌╌╌╌╌┼╌╌╌╌╌╌╌╌╌╌┤\n              │ ...             ┆ ...        ┆ ...             ┆ ...      │\n              ├╌╌╌╌╌╌╌╌╌╌╌╌╌╌╌╌╌┼╌╌╌╌╌╌╌╌╌╌╌╌┼╌╌╌╌╌╌╌╌╌╌╌╌╌╌╌╌╌┼╌╌╌╌╌╌╌╌╌╌┤\n              │ ENST00000457540 ┆ 0.0        ┆ 878.0           ┆ 0.0      │\n              ├╌╌╌╌╌╌╌╌╌╌╌╌╌╌╌╌╌┼╌╌╌╌╌╌╌╌╌╌╌╌┼╌╌╌╌╌╌╌╌╌╌╌╌╌╌╌╌╌┼╌╌╌╌╌╌╌╌╌╌┤\n              │ ENST00000414273 ┆ 200.872509 ┆ 1269.94         ┆ 3925.446 │\n              ├╌╌╌╌╌╌╌╌╌╌╌╌╌╌╌╌╌┼╌╌╌╌╌╌╌╌╌╌╌╌┼╌╌╌╌╌╌╌╌╌╌╌╌╌╌╌╌╌┼╌╌╌╌╌╌╌╌╌╌┤\n              │ ENST00000427426 ┆ 0.0        ┆ 516.0           ┆ 0.0      │\n              ├╌╌╌╌╌╌╌╌╌╌╌╌╌╌╌╌╌┼╌╌╌╌╌╌╌╌╌╌╌╌┼╌╌╌╌╌╌╌╌╌╌╌╌╌╌╌╌╌┼╌╌╌╌╌╌╌╌╌╌┤\n              │ ENST00000467115 ┆ 0.0        ┆ 62.0            ┆ 0.0      │\n              ├╌╌╌╌╌╌╌╌╌╌╌╌╌╌╌╌╌┼╌╌╌╌╌╌╌╌╌╌╌╌┼╌╌╌╌╌╌╌╌╌╌╌╌╌╌╌╌╌┼╌╌╌╌╌╌╌╌╌╌┤\n              │ ENST00000514057 ┆ 0.0        ┆ 515.0           ┆ 0.0      │\n              ├╌╌╌╌╌╌╌╌╌╌╌╌╌╌╌╌╌┼╌╌╌╌╌╌╌╌╌╌╌╌┼╌╌╌╌╌╌╌╌╌╌╌╌╌╌╌╌╌┼╌╌╌╌╌╌╌╌╌╌┤\n              │ ENST00000416718 ┆ 0.0        ┆ 381.0           ┆ 0.0      │\n              ├╌╌╌╌╌╌╌╌╌╌╌╌╌╌╌╌╌┼╌╌╌╌╌╌╌╌╌╌╌╌┼╌╌╌╌╌╌╌╌╌╌╌╌╌╌╌╌╌┼╌╌╌╌╌╌╌╌╌╌┤\n              │ ENST00000445254 ┆ 0.0        ┆ 250.0           ┆ 0.0      │\n              ├╌╌╌╌╌╌╌╌╌╌╌╌╌╌╌╌╌┼╌╌╌╌╌╌╌╌╌╌╌╌┼╌╌╌╌╌╌╌╌╌╌╌╌╌╌╌╌╌┼╌╌╌╌╌╌╌╌╌╌┤\n              │ ENST00000441281 ┆ 0.0        ┆ 127.0           ┆ 0.0      │\n              ├╌╌╌╌╌╌╌╌╌╌╌╌╌╌╌╌╌┼╌╌╌╌╌╌╌╌╌╌╌╌┼╌╌╌╌╌╌╌╌╌╌╌╌╌╌╌╌╌┼╌╌╌╌╌╌╌╌╌╌┤\n              │ ENST00000614199 ┆ 0.0        ┆ 285.0           ┆ 0.0      │\n              ├╌╌╌╌╌╌╌╌╌╌╌╌╌╌╌╌╌┼╌╌╌╌╌╌╌╌╌╌╌╌┼╌╌╌╌╌╌╌╌╌╌╌╌╌╌╌╌╌┼╌╌╌╌╌╌╌╌╌╌┤\n              │ ENST00000503096 ┆ 9.819344   ┆ 979.208         ┆ 147.959  │\n              └─────────────────┴────────────┴─────────────────┴──────────┘),\n             ('SRR3068362',\n              shape: (194142, 4)\n              ┌─────────────────┬────────────┬─────────────────┬──────────┐\n              │ transcript      ┆ TPM        ┆ EffectiveLength ┆ NumReads │\n              │ ---             ┆ ---        ┆ ---             ┆ ---      │\n              │ str             ┆ f64        ┆ f64             ┆ f64      │\n              ╞═════════════════╪════════════╪═════════════════╪══════════╡\n              │ ENST00000631435 ┆ 0.0        ┆ 12.0            ┆ 0.0      │\n              ├╌╌╌╌╌╌╌╌╌╌╌╌╌╌╌╌╌┼╌╌╌╌╌╌╌╌╌╌╌╌┼╌╌╌╌╌╌╌╌╌╌╌╌╌╌╌╌╌┼╌╌╌╌╌╌╌╌╌╌┤\n              │ ENST00000415118 ┆ 0.0        ┆ 7.0             ┆ 0.0      │\n              ├╌╌╌╌╌╌╌╌╌╌╌╌╌╌╌╌╌┼╌╌╌╌╌╌╌╌╌╌╌╌┼╌╌╌╌╌╌╌╌╌╌╌╌╌╌╌╌╌┼╌╌╌╌╌╌╌╌╌╌┤\n              │ ENST00000448914 ┆ 0.0        ┆ 13.0            ┆ 0.0      │\n              ├╌╌╌╌╌╌╌╌╌╌╌╌╌╌╌╌╌┼╌╌╌╌╌╌╌╌╌╌╌╌┼╌╌╌╌╌╌╌╌╌╌╌╌╌╌╌╌╌┼╌╌╌╌╌╌╌╌╌╌┤\n              │ ENST00000434970 ┆ 0.0        ┆ 9.0             ┆ 0.0      │\n              ├╌╌╌╌╌╌╌╌╌╌╌╌╌╌╌╌╌┼╌╌╌╌╌╌╌╌╌╌╌╌┼╌╌╌╌╌╌╌╌╌╌╌╌╌╌╌╌╌┼╌╌╌╌╌╌╌╌╌╌┤\n              │ ENST00000632524 ┆ 0.0        ┆ 11.0            ┆ 0.0      │\n              ├╌╌╌╌╌╌╌╌╌╌╌╌╌╌╌╌╌┼╌╌╌╌╌╌╌╌╌╌╌╌┼╌╌╌╌╌╌╌╌╌╌╌╌╌╌╌╌╌┼╌╌╌╌╌╌╌╌╌╌┤\n              │ ENST00000633009 ┆ 0.0        ┆ 19.0            ┆ 0.0      │\n              ├╌╌╌╌╌╌╌╌╌╌╌╌╌╌╌╌╌┼╌╌╌╌╌╌╌╌╌╌╌╌┼╌╌╌╌╌╌╌╌╌╌╌╌╌╌╌╌╌┼╌╌╌╌╌╌╌╌╌╌┤\n              │ ENST00000634070 ┆ 0.0        ┆ 17.0            ┆ 0.0      │\n              ├╌╌╌╌╌╌╌╌╌╌╌╌╌╌╌╌╌┼╌╌╌╌╌╌╌╌╌╌╌╌┼╌╌╌╌╌╌╌╌╌╌╌╌╌╌╌╌╌┼╌╌╌╌╌╌╌╌╌╌┤\n              │ ENST00000632963 ┆ 0.0        ┆ 19.0            ┆ 0.0      │\n              ├╌╌╌╌╌╌╌╌╌╌╌╌╌╌╌╌╌┼╌╌╌╌╌╌╌╌╌╌╌╌┼╌╌╌╌╌╌╌╌╌╌╌╌╌╌╌╌╌┼╌╌╌╌╌╌╌╌╌╌┤\n              │ ENST00000633030 ┆ 0.0        ┆ 18.0            ┆ 0.0      │\n              ├╌╌╌╌╌╌╌╌╌╌╌╌╌╌╌╌╌┼╌╌╌╌╌╌╌╌╌╌╌╌┼╌╌╌╌╌╌╌╌╌╌╌╌╌╌╌╌╌┼╌╌╌╌╌╌╌╌╌╌┤\n              │ ENST00000633765 ┆ 0.0        ┆ 31.0            ┆ 0.0      │\n              ├╌╌╌╌╌╌╌╌╌╌╌╌╌╌╌╌╌┼╌╌╌╌╌╌╌╌╌╌╌╌┼╌╌╌╌╌╌╌╌╌╌╌╌╌╌╌╌╌┼╌╌╌╌╌╌╌╌╌╌┤\n              │ ...             ┆ ...        ┆ ...             ┆ ...      │\n              ├╌╌╌╌╌╌╌╌╌╌╌╌╌╌╌╌╌┼╌╌╌╌╌╌╌╌╌╌╌╌┼╌╌╌╌╌╌╌╌╌╌╌╌╌╌╌╌╌┼╌╌╌╌╌╌╌╌╌╌┤\n              │ ENST00000457540 ┆ 0.0        ┆ 801.139         ┆ 0.0      │\n              ├╌╌╌╌╌╌╌╌╌╌╌╌╌╌╌╌╌┼╌╌╌╌╌╌╌╌╌╌╌╌┼╌╌╌╌╌╌╌╌╌╌╌╌╌╌╌╌╌┼╌╌╌╌╌╌╌╌╌╌┤\n              │ ENST00000414273 ┆ 160.314478 ┆ 1269.723        ┆ 3220.511 │\n              ├╌╌╌╌╌╌╌╌╌╌╌╌╌╌╌╌╌┼╌╌╌╌╌╌╌╌╌╌╌╌┼╌╌╌╌╌╌╌╌╌╌╌╌╌╌╌╌╌┼╌╌╌╌╌╌╌╌╌╌┤\n              │ ENST00000427426 ┆ 0.0        ┆ 516.0           ┆ 0.0      │\n              ├╌╌╌╌╌╌╌╌╌╌╌╌╌╌╌╌╌┼╌╌╌╌╌╌╌╌╌╌╌╌┼╌╌╌╌╌╌╌╌╌╌╌╌╌╌╌╌╌┼╌╌╌╌╌╌╌╌╌╌┤\n              │ ENST00000467115 ┆ 0.0        ┆ 63.0            ┆ 0.0      │\n              ├╌╌╌╌╌╌╌╌╌╌╌╌╌╌╌╌╌┼╌╌╌╌╌╌╌╌╌╌╌╌┼╌╌╌╌╌╌╌╌╌╌╌╌╌╌╌╌╌┼╌╌╌╌╌╌╌╌╌╌┤\n              │ ENST00000514057 ┆ 0.0        ┆ 515.0           ┆ 0.0      │\n              ├╌╌╌╌╌╌╌╌╌╌╌╌╌╌╌╌╌┼╌╌╌╌╌╌╌╌╌╌╌╌┼╌╌╌╌╌╌╌╌╌╌╌╌╌╌╌╌╌┼╌╌╌╌╌╌╌╌╌╌┤\n              │ ENST00000416718 ┆ 0.0        ┆ 382.0           ┆ 0.0      │\n              ├╌╌╌╌╌╌╌╌╌╌╌╌╌╌╌╌╌┼╌╌╌╌╌╌╌╌╌╌╌╌┼╌╌╌╌╌╌╌╌╌╌╌╌╌╌╌╌╌┼╌╌╌╌╌╌╌╌╌╌┤\n              │ ENST00000445254 ┆ 0.0        ┆ 251.0           ┆ 0.0      │\n              ├╌╌╌╌╌╌╌╌╌╌╌╌╌╌╌╌╌┼╌╌╌╌╌╌╌╌╌╌╌╌┼╌╌╌╌╌╌╌╌╌╌╌╌╌╌╌╌╌┼╌╌╌╌╌╌╌╌╌╌┤\n              │ ENST00000441281 ┆ 0.0        ┆ 127.0           ┆ 0.0      │\n              ├╌╌╌╌╌╌╌╌╌╌╌╌╌╌╌╌╌┼╌╌╌╌╌╌╌╌╌╌╌╌┼╌╌╌╌╌╌╌╌╌╌╌╌╌╌╌╌╌┼╌╌╌╌╌╌╌╌╌╌┤\n              │ ENST00000614199 ┆ 0.0        ┆ 286.0           ┆ 0.0      │\n              ├╌╌╌╌╌╌╌╌╌╌╌╌╌╌╌╌╌┼╌╌╌╌╌╌╌╌╌╌╌╌┼╌╌╌╌╌╌╌╌╌╌╌╌╌╌╌╌╌┼╌╌╌╌╌╌╌╌╌╌┤\n              │ ENST00000503096 ┆ 11.133365  ┆ 983.555         ┆ 173.248  │\n              └─────────────────┴────────────┴─────────────────┴──────────┘),\n             ('SRR3068342',\n              shape: (194142, 4)\n              ┌─────────────────┬────────────┬─────────────────┬──────────┐\n              │ transcript      ┆ TPM        ┆ EffectiveLength ┆ NumReads │\n              │ ---             ┆ ---        ┆ ---             ┆ ---      │\n              │ str             ┆ f64        ┆ f64             ┆ f64      │\n              ╞═════════════════╪════════════╪═════════════════╪══════════╡\n              │ ENST00000631435 ┆ 0.0        ┆ 12.0            ┆ 0.0      │\n              ├╌╌╌╌╌╌╌╌╌╌╌╌╌╌╌╌╌┼╌╌╌╌╌╌╌╌╌╌╌╌┼╌╌╌╌╌╌╌╌╌╌╌╌╌╌╌╌╌┼╌╌╌╌╌╌╌╌╌╌┤\n              │ ENST00000415118 ┆ 0.0        ┆ 7.0             ┆ 0.0      │\n              ├╌╌╌╌╌╌╌╌╌╌╌╌╌╌╌╌╌┼╌╌╌╌╌╌╌╌╌╌╌╌┼╌╌╌╌╌╌╌╌╌╌╌╌╌╌╌╌╌┼╌╌╌╌╌╌╌╌╌╌┤\n              │ ENST00000448914 ┆ 0.0        ┆ 13.0            ┆ 0.0      │\n              ├╌╌╌╌╌╌╌╌╌╌╌╌╌╌╌╌╌┼╌╌╌╌╌╌╌╌╌╌╌╌┼╌╌╌╌╌╌╌╌╌╌╌╌╌╌╌╌╌┼╌╌╌╌╌╌╌╌╌╌┤\n              │ ENST00000434970 ┆ 0.0        ┆ 9.0             ┆ 0.0      │\n              ├╌╌╌╌╌╌╌╌╌╌╌╌╌╌╌╌╌┼╌╌╌╌╌╌╌╌╌╌╌╌┼╌╌╌╌╌╌╌╌╌╌╌╌╌╌╌╌╌┼╌╌╌╌╌╌╌╌╌╌┤\n              │ ENST00000632524 ┆ 0.0        ┆ 11.0            ┆ 0.0      │\n              ├╌╌╌╌╌╌╌╌╌╌╌╌╌╌╌╌╌┼╌╌╌╌╌╌╌╌╌╌╌╌┼╌╌╌╌╌╌╌╌╌╌╌╌╌╌╌╌╌┼╌╌╌╌╌╌╌╌╌╌┤\n              │ ENST00000633009 ┆ 0.0        ┆ 19.0            ┆ 0.0      │\n              ├╌╌╌╌╌╌╌╌╌╌╌╌╌╌╌╌╌┼╌╌╌╌╌╌╌╌╌╌╌╌┼╌╌╌╌╌╌╌╌╌╌╌╌╌╌╌╌╌┼╌╌╌╌╌╌╌╌╌╌┤\n              │ ENST00000634070 ┆ 0.0        ┆ 17.0            ┆ 0.0      │\n              ├╌╌╌╌╌╌╌╌╌╌╌╌╌╌╌╌╌┼╌╌╌╌╌╌╌╌╌╌╌╌┼╌╌╌╌╌╌╌╌╌╌╌╌╌╌╌╌╌┼╌╌╌╌╌╌╌╌╌╌┤\n              │ ENST00000632963 ┆ 0.0        ┆ 19.0            ┆ 0.0      │\n              ├╌╌╌╌╌╌╌╌╌╌╌╌╌╌╌╌╌┼╌╌╌╌╌╌╌╌╌╌╌╌┼╌╌╌╌╌╌╌╌╌╌╌╌╌╌╌╌╌┼╌╌╌╌╌╌╌╌╌╌┤\n              │ ENST00000633030 ┆ 0.0        ┆ 18.0            ┆ 0.0      │\n              ├╌╌╌╌╌╌╌╌╌╌╌╌╌╌╌╌╌┼╌╌╌╌╌╌╌╌╌╌╌╌┼╌╌╌╌╌╌╌╌╌╌╌╌╌╌╌╌╌┼╌╌╌╌╌╌╌╌╌╌┤\n              │ ENST00000633765 ┆ 0.0        ┆ 1.0             ┆ 0.0      │\n              ├╌╌╌╌╌╌╌╌╌╌╌╌╌╌╌╌╌┼╌╌╌╌╌╌╌╌╌╌╌╌┼╌╌╌╌╌╌╌╌╌╌╌╌╌╌╌╌╌┼╌╌╌╌╌╌╌╌╌╌┤\n              │ ...             ┆ ...        ┆ ...             ┆ ...      │\n              ├╌╌╌╌╌╌╌╌╌╌╌╌╌╌╌╌╌┼╌╌╌╌╌╌╌╌╌╌╌╌┼╌╌╌╌╌╌╌╌╌╌╌╌╌╌╌╌╌┼╌╌╌╌╌╌╌╌╌╌┤\n              │ ENST00000457540 ┆ 0.0        ┆ 877.0           ┆ 0.0      │\n              ├╌╌╌╌╌╌╌╌╌╌╌╌╌╌╌╌╌┼╌╌╌╌╌╌╌╌╌╌╌╌┼╌╌╌╌╌╌╌╌╌╌╌╌╌╌╌╌╌┼╌╌╌╌╌╌╌╌╌╌┤\n              │ ENST00000414273 ┆ 158.782545 ┆ 1276.833        ┆ 3325.607 │\n              ├╌╌╌╌╌╌╌╌╌╌╌╌╌╌╌╌╌┼╌╌╌╌╌╌╌╌╌╌╌╌┼╌╌╌╌╌╌╌╌╌╌╌╌╌╌╌╌╌┼╌╌╌╌╌╌╌╌╌╌┤\n              │ ENST00000427426 ┆ 0.0        ┆ 515.0           ┆ 0.0      │\n              ├╌╌╌╌╌╌╌╌╌╌╌╌╌╌╌╌╌┼╌╌╌╌╌╌╌╌╌╌╌╌┼╌╌╌╌╌╌╌╌╌╌╌╌╌╌╌╌╌┼╌╌╌╌╌╌╌╌╌╌┤\n              │ ENST00000467115 ┆ 0.0        ┆ 63.0            ┆ 0.0      │\n              ├╌╌╌╌╌╌╌╌╌╌╌╌╌╌╌╌╌┼╌╌╌╌╌╌╌╌╌╌╌╌┼╌╌╌╌╌╌╌╌╌╌╌╌╌╌╌╌╌┼╌╌╌╌╌╌╌╌╌╌┤\n              │ ENST00000514057 ┆ 0.117808   ┆ 518.813         ┆ 1.003    │\n              ├╌╌╌╌╌╌╌╌╌╌╌╌╌╌╌╌╌┼╌╌╌╌╌╌╌╌╌╌╌╌┼╌╌╌╌╌╌╌╌╌╌╌╌╌╌╌╌╌┼╌╌╌╌╌╌╌╌╌╌┤\n              │ ENST00000416718 ┆ 0.0        ┆ 381.0           ┆ 0.0      │\n              ├╌╌╌╌╌╌╌╌╌╌╌╌╌╌╌╌╌┼╌╌╌╌╌╌╌╌╌╌╌╌┼╌╌╌╌╌╌╌╌╌╌╌╌╌╌╌╌╌┼╌╌╌╌╌╌╌╌╌╌┤\n              │ ENST00000445254 ┆ 0.0        ┆ 250.0           ┆ 0.0      │\n              ├╌╌╌╌╌╌╌╌╌╌╌╌╌╌╌╌╌┼╌╌╌╌╌╌╌╌╌╌╌╌┼╌╌╌╌╌╌╌╌╌╌╌╌╌╌╌╌╌┼╌╌╌╌╌╌╌╌╌╌┤\n              │ ENST00000441281 ┆ 0.0        ┆ 127.0           ┆ 0.0      │\n              ├╌╌╌╌╌╌╌╌╌╌╌╌╌╌╌╌╌┼╌╌╌╌╌╌╌╌╌╌╌╌┼╌╌╌╌╌╌╌╌╌╌╌╌╌╌╌╌╌┼╌╌╌╌╌╌╌╌╌╌┤\n              │ ENST00000614199 ┆ 0.0        ┆ 285.0           ┆ 0.0      │\n              ├╌╌╌╌╌╌╌╌╌╌╌╌╌╌╌╌╌┼╌╌╌╌╌╌╌╌╌╌╌╌┼╌╌╌╌╌╌╌╌╌╌╌╌╌╌╌╌╌┼╌╌╌╌╌╌╌╌╌╌┤\n              │ ENST00000503096 ┆ 7.977022   ┆ 895.393         ┆ 117.162  │\n              └─────────────────┴────────────┴─────────────────┴──────────┘),\n             ('SRR3068344',\n              shape: (194142, 4)\n              ┌─────────────────┬────────────┬─────────────────┬──────────┐\n              │ transcript      ┆ TPM        ┆ EffectiveLength ┆ NumReads │\n              │ ---             ┆ ---        ┆ ---             ┆ ---      │\n              │ str             ┆ f64        ┆ f64             ┆ f64      │\n              ╞═════════════════╪════════════╪═════════════════╪══════════╡\n              │ ENST00000631435 ┆ 0.0        ┆ 12.0            ┆ 0.0      │\n              ├╌╌╌╌╌╌╌╌╌╌╌╌╌╌╌╌╌┼╌╌╌╌╌╌╌╌╌╌╌╌┼╌╌╌╌╌╌╌╌╌╌╌╌╌╌╌╌╌┼╌╌╌╌╌╌╌╌╌╌┤\n              │ ENST00000415118 ┆ 0.0        ┆ 7.0             ┆ 0.0      │\n              ├╌╌╌╌╌╌╌╌╌╌╌╌╌╌╌╌╌┼╌╌╌╌╌╌╌╌╌╌╌╌┼╌╌╌╌╌╌╌╌╌╌╌╌╌╌╌╌╌┼╌╌╌╌╌╌╌╌╌╌┤\n              │ ENST00000448914 ┆ 0.0        ┆ 13.0            ┆ 0.0      │\n              ├╌╌╌╌╌╌╌╌╌╌╌╌╌╌╌╌╌┼╌╌╌╌╌╌╌╌╌╌╌╌┼╌╌╌╌╌╌╌╌╌╌╌╌╌╌╌╌╌┼╌╌╌╌╌╌╌╌╌╌┤\n              │ ENST00000434970 ┆ 0.0        ┆ 9.0             ┆ 0.0      │\n              ├╌╌╌╌╌╌╌╌╌╌╌╌╌╌╌╌╌┼╌╌╌╌╌╌╌╌╌╌╌╌┼╌╌╌╌╌╌╌╌╌╌╌╌╌╌╌╌╌┼╌╌╌╌╌╌╌╌╌╌┤\n              │ ENST00000632524 ┆ 0.0        ┆ 11.0            ┆ 0.0      │\n              ├╌╌╌╌╌╌╌╌╌╌╌╌╌╌╌╌╌┼╌╌╌╌╌╌╌╌╌╌╌╌┼╌╌╌╌╌╌╌╌╌╌╌╌╌╌╌╌╌┼╌╌╌╌╌╌╌╌╌╌┤\n              │ ENST00000633009 ┆ 0.0        ┆ 19.0            ┆ 0.0      │\n              ├╌╌╌╌╌╌╌╌╌╌╌╌╌╌╌╌╌┼╌╌╌╌╌╌╌╌╌╌╌╌┼╌╌╌╌╌╌╌╌╌╌╌╌╌╌╌╌╌┼╌╌╌╌╌╌╌╌╌╌┤\n              │ ENST00000634070 ┆ 0.0        ┆ 17.0            ┆ 0.0      │\n              ├╌╌╌╌╌╌╌╌╌╌╌╌╌╌╌╌╌┼╌╌╌╌╌╌╌╌╌╌╌╌┼╌╌╌╌╌╌╌╌╌╌╌╌╌╌╌╌╌┼╌╌╌╌╌╌╌╌╌╌┤\n              │ ENST00000632963 ┆ 0.0        ┆ 19.0            ┆ 0.0      │\n              ├╌╌╌╌╌╌╌╌╌╌╌╌╌╌╌╌╌┼╌╌╌╌╌╌╌╌╌╌╌╌┼╌╌╌╌╌╌╌╌╌╌╌╌╌╌╌╌╌┼╌╌╌╌╌╌╌╌╌╌┤\n              │ ENST00000633030 ┆ 0.0        ┆ 18.0            ┆ 0.0      │\n              ├╌╌╌╌╌╌╌╌╌╌╌╌╌╌╌╌╌┼╌╌╌╌╌╌╌╌╌╌╌╌┼╌╌╌╌╌╌╌╌╌╌╌╌╌╌╌╌╌┼╌╌╌╌╌╌╌╌╌╌┤\n              │ ENST00000633765 ┆ 0.0        ┆ 31.0            ┆ 0.0      │\n              ├╌╌╌╌╌╌╌╌╌╌╌╌╌╌╌╌╌┼╌╌╌╌╌╌╌╌╌╌╌╌┼╌╌╌╌╌╌╌╌╌╌╌╌╌╌╌╌╌┼╌╌╌╌╌╌╌╌╌╌┤\n              │ ...             ┆ ...        ┆ ...             ┆ ...      │\n              ├╌╌╌╌╌╌╌╌╌╌╌╌╌╌╌╌╌┼╌╌╌╌╌╌╌╌╌╌╌╌┼╌╌╌╌╌╌╌╌╌╌╌╌╌╌╌╌╌┼╌╌╌╌╌╌╌╌╌╌┤\n              │ ENST00000457540 ┆ 0.0        ┆ 879.0           ┆ 0.0      │\n              ├╌╌╌╌╌╌╌╌╌╌╌╌╌╌╌╌╌┼╌╌╌╌╌╌╌╌╌╌╌╌┼╌╌╌╌╌╌╌╌╌╌╌╌╌╌╌╌╌┼╌╌╌╌╌╌╌╌╌╌┤\n              │ ENST00000414273 ┆ 184.328728 ┆ 1273.056        ┆ 3851.46  │\n              ├╌╌╌╌╌╌╌╌╌╌╌╌╌╌╌╌╌┼╌╌╌╌╌╌╌╌╌╌╌╌┼╌╌╌╌╌╌╌╌╌╌╌╌╌╌╌╌╌┼╌╌╌╌╌╌╌╌╌╌┤\n              │ ENST00000427426 ┆ 0.0        ┆ 517.0           ┆ 0.0      │\n              ├╌╌╌╌╌╌╌╌╌╌╌╌╌╌╌╌╌┼╌╌╌╌╌╌╌╌╌╌╌╌┼╌╌╌╌╌╌╌╌╌╌╌╌╌╌╌╌╌┼╌╌╌╌╌╌╌╌╌╌┤\n              │ ENST00000467115 ┆ 0.0        ┆ 64.0            ┆ 0.0      │\n              ├╌╌╌╌╌╌╌╌╌╌╌╌╌╌╌╌╌┼╌╌╌╌╌╌╌╌╌╌╌╌┼╌╌╌╌╌╌╌╌╌╌╌╌╌╌╌╌╌┼╌╌╌╌╌╌╌╌╌╌┤\n              │ ENST00000514057 ┆ 0.0        ┆ 516.0           ┆ 0.0      │\n              ├╌╌╌╌╌╌╌╌╌╌╌╌╌╌╌╌╌┼╌╌╌╌╌╌╌╌╌╌╌╌┼╌╌╌╌╌╌╌╌╌╌╌╌╌╌╌╌╌┼╌╌╌╌╌╌╌╌╌╌┤\n              │ ENST00000416718 ┆ 0.0        ┆ 382.0           ┆ 0.0      │\n              ├╌╌╌╌╌╌╌╌╌╌╌╌╌╌╌╌╌┼╌╌╌╌╌╌╌╌╌╌╌╌┼╌╌╌╌╌╌╌╌╌╌╌╌╌╌╌╌╌┼╌╌╌╌╌╌╌╌╌╌┤\n              │ ENST00000445254 ┆ 0.0        ┆ 251.0           ┆ 0.0      │\n              ├╌╌╌╌╌╌╌╌╌╌╌╌╌╌╌╌╌┼╌╌╌╌╌╌╌╌╌╌╌╌┼╌╌╌╌╌╌╌╌╌╌╌╌╌╌╌╌╌┼╌╌╌╌╌╌╌╌╌╌┤\n              │ ENST00000441281 ┆ 0.0        ┆ 128.0           ┆ 0.0      │\n              ├╌╌╌╌╌╌╌╌╌╌╌╌╌╌╌╌╌┼╌╌╌╌╌╌╌╌╌╌╌╌┼╌╌╌╌╌╌╌╌╌╌╌╌╌╌╌╌╌┼╌╌╌╌╌╌╌╌╌╌┤\n              │ ENST00000614199 ┆ 0.0        ┆ 287.0           ┆ 0.0      │\n              ├╌╌╌╌╌╌╌╌╌╌╌╌╌╌╌╌╌┼╌╌╌╌╌╌╌╌╌╌╌╌┼╌╌╌╌╌╌╌╌╌╌╌╌╌╌╌╌╌┼╌╌╌╌╌╌╌╌╌╌┤\n              │ ENST00000503096 ┆ 9.217901   ┆ 964.123         ┆ 145.864  │\n              └─────────────────┴────────────┴─────────────────┴──────────┘),\n             ('SRR3068364',\n              shape: (194142, 4)\n              ┌─────────────────┬────────────┬─────────────────┬──────────┐\n              │ transcript      ┆ TPM        ┆ EffectiveLength ┆ NumReads │\n              │ ---             ┆ ---        ┆ ---             ┆ ---      │\n              │ str             ┆ f64        ┆ f64             ┆ f64      │\n              ╞═════════════════╪════════════╪═════════════════╪══════════╡\n              │ ENST00000631435 ┆ 0.0        ┆ 12.0            ┆ 0.0      │\n              ├╌╌╌╌╌╌╌╌╌╌╌╌╌╌╌╌╌┼╌╌╌╌╌╌╌╌╌╌╌╌┼╌╌╌╌╌╌╌╌╌╌╌╌╌╌╌╌╌┼╌╌╌╌╌╌╌╌╌╌┤\n              │ ENST00000415118 ┆ 0.0        ┆ 7.0             ┆ 0.0      │\n              ├╌╌╌╌╌╌╌╌╌╌╌╌╌╌╌╌╌┼╌╌╌╌╌╌╌╌╌╌╌╌┼╌╌╌╌╌╌╌╌╌╌╌╌╌╌╌╌╌┼╌╌╌╌╌╌╌╌╌╌┤\n              │ ENST00000448914 ┆ 0.0        ┆ 13.0            ┆ 0.0      │\n              ├╌╌╌╌╌╌╌╌╌╌╌╌╌╌╌╌╌┼╌╌╌╌╌╌╌╌╌╌╌╌┼╌╌╌╌╌╌╌╌╌╌╌╌╌╌╌╌╌┼╌╌╌╌╌╌╌╌╌╌┤\n              │ ENST00000434970 ┆ 0.0        ┆ 9.0             ┆ 0.0      │\n              ├╌╌╌╌╌╌╌╌╌╌╌╌╌╌╌╌╌┼╌╌╌╌╌╌╌╌╌╌╌╌┼╌╌╌╌╌╌╌╌╌╌╌╌╌╌╌╌╌┼╌╌╌╌╌╌╌╌╌╌┤\n              │ ENST00000632524 ┆ 0.0        ┆ 11.0            ┆ 0.0      │\n              ├╌╌╌╌╌╌╌╌╌╌╌╌╌╌╌╌╌┼╌╌╌╌╌╌╌╌╌╌╌╌┼╌╌╌╌╌╌╌╌╌╌╌╌╌╌╌╌╌┼╌╌╌╌╌╌╌╌╌╌┤\n              │ ENST00000633009 ┆ 0.0        ┆ 19.0            ┆ 0.0      │\n              ├╌╌╌╌╌╌╌╌╌╌╌╌╌╌╌╌╌┼╌╌╌╌╌╌╌╌╌╌╌╌┼╌╌╌╌╌╌╌╌╌╌╌╌╌╌╌╌╌┼╌╌╌╌╌╌╌╌╌╌┤\n              │ ENST00000634070 ┆ 0.0        ┆ 17.0            ┆ 0.0      │\n              ├╌╌╌╌╌╌╌╌╌╌╌╌╌╌╌╌╌┼╌╌╌╌╌╌╌╌╌╌╌╌┼╌╌╌╌╌╌╌╌╌╌╌╌╌╌╌╌╌┼╌╌╌╌╌╌╌╌╌╌┤\n              │ ENST00000632963 ┆ 0.0        ┆ 19.0            ┆ 0.0      │\n              ├╌╌╌╌╌╌╌╌╌╌╌╌╌╌╌╌╌┼╌╌╌╌╌╌╌╌╌╌╌╌┼╌╌╌╌╌╌╌╌╌╌╌╌╌╌╌╌╌┼╌╌╌╌╌╌╌╌╌╌┤\n              │ ENST00000633030 ┆ 0.0        ┆ 18.0            ┆ 0.0      │\n              ├╌╌╌╌╌╌╌╌╌╌╌╌╌╌╌╌╌┼╌╌╌╌╌╌╌╌╌╌╌╌┼╌╌╌╌╌╌╌╌╌╌╌╌╌╌╌╌╌┼╌╌╌╌╌╌╌╌╌╌┤\n              │ ENST00000633765 ┆ 0.0        ┆ 31.0            ┆ 0.0      │\n              ├╌╌╌╌╌╌╌╌╌╌╌╌╌╌╌╌╌┼╌╌╌╌╌╌╌╌╌╌╌╌┼╌╌╌╌╌╌╌╌╌╌╌╌╌╌╌╌╌┼╌╌╌╌╌╌╌╌╌╌┤\n              │ ...             ┆ ...        ┆ ...             ┆ ...      │\n              ├╌╌╌╌╌╌╌╌╌╌╌╌╌╌╌╌╌┼╌╌╌╌╌╌╌╌╌╌╌╌┼╌╌╌╌╌╌╌╌╌╌╌╌╌╌╌╌╌┼╌╌╌╌╌╌╌╌╌╌┤\n              │ ENST00000457540 ┆ 0.0        ┆ 877.0           ┆ 0.0      │\n              ├╌╌╌╌╌╌╌╌╌╌╌╌╌╌╌╌╌┼╌╌╌╌╌╌╌╌╌╌╌╌┼╌╌╌╌╌╌╌╌╌╌╌╌╌╌╌╌╌┼╌╌╌╌╌╌╌╌╌╌┤\n              │ ENST00000414273 ┆ 211.291634 ┆ 1271.71         ┆ 4253.878 │\n              ├╌╌╌╌╌╌╌╌╌╌╌╌╌╌╌╌╌┼╌╌╌╌╌╌╌╌╌╌╌╌┼╌╌╌╌╌╌╌╌╌╌╌╌╌╌╌╌╌┼╌╌╌╌╌╌╌╌╌╌┤\n              │ ENST00000427426 ┆ 0.0        ┆ 515.0           ┆ 0.0      │\n              ├╌╌╌╌╌╌╌╌╌╌╌╌╌╌╌╌╌┼╌╌╌╌╌╌╌╌╌╌╌╌┼╌╌╌╌╌╌╌╌╌╌╌╌╌╌╌╌╌┼╌╌╌╌╌╌╌╌╌╌┤\n              │ ENST00000467115 ┆ 0.0        ┆ 62.0            ┆ 0.0      │\n              ├╌╌╌╌╌╌╌╌╌╌╌╌╌╌╌╌╌┼╌╌╌╌╌╌╌╌╌╌╌╌┼╌╌╌╌╌╌╌╌╌╌╌╌╌╌╌╌╌┼╌╌╌╌╌╌╌╌╌╌┤\n              │ ENST00000514057 ┆ 0.0        ┆ 514.0           ┆ 0.0      │\n              ├╌╌╌╌╌╌╌╌╌╌╌╌╌╌╌╌╌┼╌╌╌╌╌╌╌╌╌╌╌╌┼╌╌╌╌╌╌╌╌╌╌╌╌╌╌╌╌╌┼╌╌╌╌╌╌╌╌╌╌┤\n              │ ENST00000416718 ┆ 0.0        ┆ 380.0           ┆ 0.0      │\n              ├╌╌╌╌╌╌╌╌╌╌╌╌╌╌╌╌╌┼╌╌╌╌╌╌╌╌╌╌╌╌┼╌╌╌╌╌╌╌╌╌╌╌╌╌╌╌╌╌┼╌╌╌╌╌╌╌╌╌╌┤\n              │ ENST00000445254 ┆ 0.0        ┆ 249.0           ┆ 0.0      │\n              ├╌╌╌╌╌╌╌╌╌╌╌╌╌╌╌╌╌┼╌╌╌╌╌╌╌╌╌╌╌╌┼╌╌╌╌╌╌╌╌╌╌╌╌╌╌╌╌╌┼╌╌╌╌╌╌╌╌╌╌┤\n              │ ENST00000441281 ┆ 0.0        ┆ 126.0           ┆ 0.0      │\n              ├╌╌╌╌╌╌╌╌╌╌╌╌╌╌╌╌╌┼╌╌╌╌╌╌╌╌╌╌╌╌┼╌╌╌╌╌╌╌╌╌╌╌╌╌╌╌╌╌┼╌╌╌╌╌╌╌╌╌╌┤\n              │ ENST00000614199 ┆ 0.0        ┆ 285.0           ┆ 0.0      │\n              ├╌╌╌╌╌╌╌╌╌╌╌╌╌╌╌╌╌┼╌╌╌╌╌╌╌╌╌╌╌╌┼╌╌╌╌╌╌╌╌╌╌╌╌╌╌╌╌╌┼╌╌╌╌╌╌╌╌╌╌┤\n              │ ENST00000503096 ┆ 13.621556  ┆ 993.299         ┆ 214.201  │\n              └─────────────────┴────────────┴─────────────────┴──────────┘),\n             ('SRR3068361',\n              shape: (194142, 4)\n              ┌─────────────────┬────────────┬─────────────────┬──────────┐\n              │ transcript      ┆ TPM        ┆ EffectiveLength ┆ NumReads │\n              │ ---             ┆ ---        ┆ ---             ┆ ---      │\n              │ str             ┆ f64        ┆ f64             ┆ f64      │\n              ╞═════════════════╪════════════╪═════════════════╪══════════╡\n              │ ENST00000631435 ┆ 0.0        ┆ 12.0            ┆ 0.0      │\n              ├╌╌╌╌╌╌╌╌╌╌╌╌╌╌╌╌╌┼╌╌╌╌╌╌╌╌╌╌╌╌┼╌╌╌╌╌╌╌╌╌╌╌╌╌╌╌╌╌┼╌╌╌╌╌╌╌╌╌╌┤\n              │ ENST00000415118 ┆ 0.0        ┆ 7.0             ┆ 0.0      │\n              ├╌╌╌╌╌╌╌╌╌╌╌╌╌╌╌╌╌┼╌╌╌╌╌╌╌╌╌╌╌╌┼╌╌╌╌╌╌╌╌╌╌╌╌╌╌╌╌╌┼╌╌╌╌╌╌╌╌╌╌┤\n              │ ENST00000448914 ┆ 0.0        ┆ 13.0            ┆ 0.0      │\n              ├╌╌╌╌╌╌╌╌╌╌╌╌╌╌╌╌╌┼╌╌╌╌╌╌╌╌╌╌╌╌┼╌╌╌╌╌╌╌╌╌╌╌╌╌╌╌╌╌┼╌╌╌╌╌╌╌╌╌╌┤\n              │ ENST00000434970 ┆ 0.0        ┆ 9.0             ┆ 0.0      │\n              ├╌╌╌╌╌╌╌╌╌╌╌╌╌╌╌╌╌┼╌╌╌╌╌╌╌╌╌╌╌╌┼╌╌╌╌╌╌╌╌╌╌╌╌╌╌╌╌╌┼╌╌╌╌╌╌╌╌╌╌┤\n              │ ENST00000632524 ┆ 0.0        ┆ 11.0            ┆ 0.0      │\n              ├╌╌╌╌╌╌╌╌╌╌╌╌╌╌╌╌╌┼╌╌╌╌╌╌╌╌╌╌╌╌┼╌╌╌╌╌╌╌╌╌╌╌╌╌╌╌╌╌┼╌╌╌╌╌╌╌╌╌╌┤\n              │ ENST00000633009 ┆ 0.0        ┆ 19.0            ┆ 0.0      │\n              ├╌╌╌╌╌╌╌╌╌╌╌╌╌╌╌╌╌┼╌╌╌╌╌╌╌╌╌╌╌╌┼╌╌╌╌╌╌╌╌╌╌╌╌╌╌╌╌╌┼╌╌╌╌╌╌╌╌╌╌┤\n              │ ENST00000634070 ┆ 0.0        ┆ 17.0            ┆ 0.0      │\n              ├╌╌╌╌╌╌╌╌╌╌╌╌╌╌╌╌╌┼╌╌╌╌╌╌╌╌╌╌╌╌┼╌╌╌╌╌╌╌╌╌╌╌╌╌╌╌╌╌┼╌╌╌╌╌╌╌╌╌╌┤\n              │ ENST00000632963 ┆ 0.0        ┆ 19.0            ┆ 0.0      │\n              ├╌╌╌╌╌╌╌╌╌╌╌╌╌╌╌╌╌┼╌╌╌╌╌╌╌╌╌╌╌╌┼╌╌╌╌╌╌╌╌╌╌╌╌╌╌╌╌╌┼╌╌╌╌╌╌╌╌╌╌┤\n              │ ENST00000633030 ┆ 0.0        ┆ 18.0            ┆ 0.0      │\n              ├╌╌╌╌╌╌╌╌╌╌╌╌╌╌╌╌╌┼╌╌╌╌╌╌╌╌╌╌╌╌┼╌╌╌╌╌╌╌╌╌╌╌╌╌╌╌╌╌┼╌╌╌╌╌╌╌╌╌╌┤\n              │ ENST00000633765 ┆ 0.0        ┆ 1.0             ┆ 0.0      │\n              ├╌╌╌╌╌╌╌╌╌╌╌╌╌╌╌╌╌┼╌╌╌╌╌╌╌╌╌╌╌╌┼╌╌╌╌╌╌╌╌╌╌╌╌╌╌╌╌╌┼╌╌╌╌╌╌╌╌╌╌┤\n              │ ...             ┆ ...        ┆ ...             ┆ ...      │\n              ├╌╌╌╌╌╌╌╌╌╌╌╌╌╌╌╌╌┼╌╌╌╌╌╌╌╌╌╌╌╌┼╌╌╌╌╌╌╌╌╌╌╌╌╌╌╌╌╌┼╌╌╌╌╌╌╌╌╌╌┤\n              │ ENST00000457540 ┆ 0.0        ┆ 880.0           ┆ 0.0      │\n              ├╌╌╌╌╌╌╌╌╌╌╌╌╌╌╌╌╌┼╌╌╌╌╌╌╌╌╌╌╌╌┼╌╌╌╌╌╌╌╌╌╌╌╌╌╌╌╌╌┼╌╌╌╌╌╌╌╌╌╌┤\n              │ ENST00000414273 ┆ 219.793103 ┆ 1276.86         ┆ 4663.571 │\n              ├╌╌╌╌╌╌╌╌╌╌╌╌╌╌╌╌╌┼╌╌╌╌╌╌╌╌╌╌╌╌┼╌╌╌╌╌╌╌╌╌╌╌╌╌╌╌╌╌┼╌╌╌╌╌╌╌╌╌╌┤\n              │ ENST00000427426 ┆ 0.0        ┆ 519.0           ┆ 0.0      │\n              ├╌╌╌╌╌╌╌╌╌╌╌╌╌╌╌╌╌┼╌╌╌╌╌╌╌╌╌╌╌╌┼╌╌╌╌╌╌╌╌╌╌╌╌╌╌╌╌╌┼╌╌╌╌╌╌╌╌╌╌┤\n              │ ENST00000467115 ┆ 0.0        ┆ 64.0            ┆ 0.0      │\n              ├╌╌╌╌╌╌╌╌╌╌╌╌╌╌╌╌╌┼╌╌╌╌╌╌╌╌╌╌╌╌┼╌╌╌╌╌╌╌╌╌╌╌╌╌╌╌╌╌┼╌╌╌╌╌╌╌╌╌╌┤\n              │ ENST00000514057 ┆ 0.0        ┆ 518.0           ┆ 0.0      │\n              ├╌╌╌╌╌╌╌╌╌╌╌╌╌╌╌╌╌┼╌╌╌╌╌╌╌╌╌╌╌╌┼╌╌╌╌╌╌╌╌╌╌╌╌╌╌╌╌╌┼╌╌╌╌╌╌╌╌╌╌┤\n              │ ENST00000416718 ┆ 0.0        ┆ 384.0           ┆ 0.0      │\n              ├╌╌╌╌╌╌╌╌╌╌╌╌╌╌╌╌╌┼╌╌╌╌╌╌╌╌╌╌╌╌┼╌╌╌╌╌╌╌╌╌╌╌╌╌╌╌╌╌┼╌╌╌╌╌╌╌╌╌╌┤\n              │ ENST00000445254 ┆ 0.0        ┆ 253.0           ┆ 0.0      │\n              ├╌╌╌╌╌╌╌╌╌╌╌╌╌╌╌╌╌┼╌╌╌╌╌╌╌╌╌╌╌╌┼╌╌╌╌╌╌╌╌╌╌╌╌╌╌╌╌╌┼╌╌╌╌╌╌╌╌╌╌┤\n              │ ENST00000441281 ┆ 0.0        ┆ 129.0           ┆ 0.0      │\n              ├╌╌╌╌╌╌╌╌╌╌╌╌╌╌╌╌╌┼╌╌╌╌╌╌╌╌╌╌╌╌┼╌╌╌╌╌╌╌╌╌╌╌╌╌╌╌╌╌┼╌╌╌╌╌╌╌╌╌╌┤\n              │ ENST00000614199 ┆ 0.0        ┆ 288.0           ┆ 0.0      │\n              ├╌╌╌╌╌╌╌╌╌╌╌╌╌╌╌╌╌┼╌╌╌╌╌╌╌╌╌╌╌╌┼╌╌╌╌╌╌╌╌╌╌╌╌╌╌╌╌╌┼╌╌╌╌╌╌╌╌╌╌┤\n              │ ENST00000503096 ┆ 9.093428   ┆ 989.791         ┆ 149.566  │\n              └─────────────────┴────────────┴─────────────────┴──────────┘)])"
     },
     "execution_count": 10,
     "metadata": {},
     "output_type": "execute_result"
    }
   ],
   "source": [
    "from genotations.quantification import quants_from_bioproject\n",
    "t = quants_from_bioproject(s.folder)\n",
    "t"
   ],
   "metadata": {
    "collapsed": false
   }
  },
  {
   "cell_type": "code",
   "execution_count": 15,
   "outputs": [
    {
     "data": {
      "text/plain": "shape: (1902096, 17)\n┌────────────┬─────────┬────────────┬───────────┬─────┬─────────────────┬────────────────────┬─────────────┬─────────────────┐\n│ seqname    ┆ source  ┆ feature    ┆ start     ┆ ... ┆ transcript_name ┆ exon               ┆ exon_number ┆ transcript_exon │\n│ ---        ┆ ---     ┆ ---        ┆ ---       ┆     ┆ ---             ┆ ---                ┆ ---         ┆ ---             │\n│ str        ┆ str     ┆ str        ┆ u64       ┆     ┆ str             ┆ str                ┆ u64         ┆ str             │\n╞════════════╪═════════╪════════════╪═══════════╪═════╪═════════════════╪════════════════════╪═════════════╪═════════════════╡\n│ 1          ┆ havana  ┆ gene       ┆ 150956201 ┆ ... ┆ null            ┆ null               ┆ null        ┆ null            │\n├╌╌╌╌╌╌╌╌╌╌╌╌┼╌╌╌╌╌╌╌╌╌┼╌╌╌╌╌╌╌╌╌╌╌╌┼╌╌╌╌╌╌╌╌╌╌╌┼╌╌╌╌╌┼╌╌╌╌╌╌╌╌╌╌╌╌╌╌╌╌╌┼╌╌╌╌╌╌╌╌╌╌╌╌╌╌╌╌╌╌╌╌┼╌╌╌╌╌╌╌╌╌╌╌╌╌┼╌╌╌╌╌╌╌╌╌╌╌╌╌╌╌╌╌┤\n│ 1          ┆ havana  ┆ transcript ┆ 150956201 ┆ ... ┆ Gm37671-201     ┆ null               ┆ null        ┆ null            │\n├╌╌╌╌╌╌╌╌╌╌╌╌┼╌╌╌╌╌╌╌╌╌┼╌╌╌╌╌╌╌╌╌╌╌╌┼╌╌╌╌╌╌╌╌╌╌╌┼╌╌╌╌╌┼╌╌╌╌╌╌╌╌╌╌╌╌╌╌╌╌╌┼╌╌╌╌╌╌╌╌╌╌╌╌╌╌╌╌╌╌╌╌┼╌╌╌╌╌╌╌╌╌╌╌╌╌┼╌╌╌╌╌╌╌╌╌╌╌╌╌╌╌╌╌┤\n│ 1          ┆ havana  ┆ exon       ┆ 150956201 ┆ ... ┆ Gm37671-201     ┆ ENSMUSE00001342333 ┆ 1           ┆ Gm37671-201_1   │\n├╌╌╌╌╌╌╌╌╌╌╌╌┼╌╌╌╌╌╌╌╌╌┼╌╌╌╌╌╌╌╌╌╌╌╌┼╌╌╌╌╌╌╌╌╌╌╌┼╌╌╌╌╌┼╌╌╌╌╌╌╌╌╌╌╌╌╌╌╌╌╌┼╌╌╌╌╌╌╌╌╌╌╌╌╌╌╌╌╌╌╌╌┼╌╌╌╌╌╌╌╌╌╌╌╌╌┼╌╌╌╌╌╌╌╌╌╌╌╌╌╌╌╌╌┤\n│ 1          ┆ havana  ┆ gene       ┆ 150983666 ┆ ... ┆ null            ┆ null               ┆ null        ┆ null            │\n├╌╌╌╌╌╌╌╌╌╌╌╌┼╌╌╌╌╌╌╌╌╌┼╌╌╌╌╌╌╌╌╌╌╌╌┼╌╌╌╌╌╌╌╌╌╌╌┼╌╌╌╌╌┼╌╌╌╌╌╌╌╌╌╌╌╌╌╌╌╌╌┼╌╌╌╌╌╌╌╌╌╌╌╌╌╌╌╌╌╌╌╌┼╌╌╌╌╌╌╌╌╌╌╌╌╌┼╌╌╌╌╌╌╌╌╌╌╌╌╌╌╌╌╌┤\n│ 1          ┆ havana  ┆ transcript ┆ 150983666 ┆ ... ┆ Gm19087-201     ┆ null               ┆ null        ┆ null            │\n├╌╌╌╌╌╌╌╌╌╌╌╌┼╌╌╌╌╌╌╌╌╌┼╌╌╌╌╌╌╌╌╌╌╌╌┼╌╌╌╌╌╌╌╌╌╌╌┼╌╌╌╌╌┼╌╌╌╌╌╌╌╌╌╌╌╌╌╌╌╌╌┼╌╌╌╌╌╌╌╌╌╌╌╌╌╌╌╌╌╌╌╌┼╌╌╌╌╌╌╌╌╌╌╌╌╌┼╌╌╌╌╌╌╌╌╌╌╌╌╌╌╌╌╌┤\n│ 1          ┆ havana  ┆ exon       ┆ 150983666 ┆ ... ┆ Gm19087-201     ┆ ENSMUSE00001324949 ┆ 1           ┆ Gm19087-201_1   │\n├╌╌╌╌╌╌╌╌╌╌╌╌┼╌╌╌╌╌╌╌╌╌┼╌╌╌╌╌╌╌╌╌╌╌╌┼╌╌╌╌╌╌╌╌╌╌╌┼╌╌╌╌╌┼╌╌╌╌╌╌╌╌╌╌╌╌╌╌╌╌╌┼╌╌╌╌╌╌╌╌╌╌╌╌╌╌╌╌╌╌╌╌┼╌╌╌╌╌╌╌╌╌╌╌╌╌┼╌╌╌╌╌╌╌╌╌╌╌╌╌╌╌╌╌┤\n│ 1          ┆ havana  ┆ gene       ┆ 151012258 ┆ ... ┆ null            ┆ null               ┆ null        ┆ null            │\n├╌╌╌╌╌╌╌╌╌╌╌╌┼╌╌╌╌╌╌╌╌╌┼╌╌╌╌╌╌╌╌╌╌╌╌┼╌╌╌╌╌╌╌╌╌╌╌┼╌╌╌╌╌┼╌╌╌╌╌╌╌╌╌╌╌╌╌╌╌╌╌┼╌╌╌╌╌╌╌╌╌╌╌╌╌╌╌╌╌╌╌╌┼╌╌╌╌╌╌╌╌╌╌╌╌╌┼╌╌╌╌╌╌╌╌╌╌╌╌╌╌╌╌╌┤\n│ 1          ┆ havana  ┆ transcript ┆ 151012258 ┆ ... ┆ Gm8941-201      ┆ null               ┆ null        ┆ null            │\n├╌╌╌╌╌╌╌╌╌╌╌╌┼╌╌╌╌╌╌╌╌╌┼╌╌╌╌╌╌╌╌╌╌╌╌┼╌╌╌╌╌╌╌╌╌╌╌┼╌╌╌╌╌┼╌╌╌╌╌╌╌╌╌╌╌╌╌╌╌╌╌┼╌╌╌╌╌╌╌╌╌╌╌╌╌╌╌╌╌╌╌╌┼╌╌╌╌╌╌╌╌╌╌╌╌╌┼╌╌╌╌╌╌╌╌╌╌╌╌╌╌╌╌╌┤\n│ 1          ┆ havana  ┆ exon       ┆ 151012258 ┆ ... ┆ Gm8941-201      ┆ ENSMUSE00001158900 ┆ 1           ┆ Gm8941-201_1    │\n├╌╌╌╌╌╌╌╌╌╌╌╌┼╌╌╌╌╌╌╌╌╌┼╌╌╌╌╌╌╌╌╌╌╌╌┼╌╌╌╌╌╌╌╌╌╌╌┼╌╌╌╌╌┼╌╌╌╌╌╌╌╌╌╌╌╌╌╌╌╌╌┼╌╌╌╌╌╌╌╌╌╌╌╌╌╌╌╌╌╌╌╌┼╌╌╌╌╌╌╌╌╌╌╌╌╌┼╌╌╌╌╌╌╌╌╌╌╌╌╌╌╌╌╌┤\n│ 1          ┆ havana  ┆ exon       ┆ 151013347 ┆ ... ┆ Gm8941-201      ┆ ENSMUSE00001115039 ┆ 2           ┆ Gm8941-201_2    │\n├╌╌╌╌╌╌╌╌╌╌╌╌┼╌╌╌╌╌╌╌╌╌┼╌╌╌╌╌╌╌╌╌╌╌╌┼╌╌╌╌╌╌╌╌╌╌╌┼╌╌╌╌╌┼╌╌╌╌╌╌╌╌╌╌╌╌╌╌╌╌╌┼╌╌╌╌╌╌╌╌╌╌╌╌╌╌╌╌╌╌╌╌┼╌╌╌╌╌╌╌╌╌╌╌╌╌┼╌╌╌╌╌╌╌╌╌╌╌╌╌╌╌╌╌┤\n│ ...        ┆ ...     ┆ ...        ┆ ...       ┆ ... ┆ ...             ┆ ...                ┆ ...         ┆ ...             │\n├╌╌╌╌╌╌╌╌╌╌╌╌┼╌╌╌╌╌╌╌╌╌┼╌╌╌╌╌╌╌╌╌╌╌╌┼╌╌╌╌╌╌╌╌╌╌╌┼╌╌╌╌╌┼╌╌╌╌╌╌╌╌╌╌╌╌╌╌╌╌╌┼╌╌╌╌╌╌╌╌╌╌╌╌╌╌╌╌╌╌╌╌┼╌╌╌╌╌╌╌╌╌╌╌╌╌┼╌╌╌╌╌╌╌╌╌╌╌╌╌╌╌╌╌┤\n│ JH584295.1 ┆ ensembl ┆ exon       ┆ 986       ┆ ... ┆ null            ┆ ENSMUSE00001085113 ┆ 3           ┆ null            │\n├╌╌╌╌╌╌╌╌╌╌╌╌┼╌╌╌╌╌╌╌╌╌┼╌╌╌╌╌╌╌╌╌╌╌╌┼╌╌╌╌╌╌╌╌╌╌╌┼╌╌╌╌╌┼╌╌╌╌╌╌╌╌╌╌╌╌╌╌╌╌╌┼╌╌╌╌╌╌╌╌╌╌╌╌╌╌╌╌╌╌╌╌┼╌╌╌╌╌╌╌╌╌╌╌╌╌┼╌╌╌╌╌╌╌╌╌╌╌╌╌╌╌╌╌┤\n│ JH584295.1 ┆ ensembl ┆ CDS        ┆ 986       ┆ ... ┆ null            ┆ null               ┆ 3           ┆ null            │\n├╌╌╌╌╌╌╌╌╌╌╌╌┼╌╌╌╌╌╌╌╌╌┼╌╌╌╌╌╌╌╌╌╌╌╌┼╌╌╌╌╌╌╌╌╌╌╌┼╌╌╌╌╌┼╌╌╌╌╌╌╌╌╌╌╌╌╌╌╌╌╌┼╌╌╌╌╌╌╌╌╌╌╌╌╌╌╌╌╌╌╌╌┼╌╌╌╌╌╌╌╌╌╌╌╌╌┼╌╌╌╌╌╌╌╌╌╌╌╌╌╌╌╌╌┤\n│ JH584295.1 ┆ ensembl ┆ exon       ┆ 972       ┆ ... ┆ null            ┆ ENSMUSE00001070510 ┆ 4           ┆ null            │\n├╌╌╌╌╌╌╌╌╌╌╌╌┼╌╌╌╌╌╌╌╌╌┼╌╌╌╌╌╌╌╌╌╌╌╌┼╌╌╌╌╌╌╌╌╌╌╌┼╌╌╌╌╌┼╌╌╌╌╌╌╌╌╌╌╌╌╌╌╌╌╌┼╌╌╌╌╌╌╌╌╌╌╌╌╌╌╌╌╌╌╌╌┼╌╌╌╌╌╌╌╌╌╌╌╌╌┼╌╌╌╌╌╌╌╌╌╌╌╌╌╌╌╌╌┤\n│ JH584295.1 ┆ ensembl ┆ CDS        ┆ 972       ┆ ... ┆ null            ┆ null               ┆ 4           ┆ null            │\n├╌╌╌╌╌╌╌╌╌╌╌╌┼╌╌╌╌╌╌╌╌╌┼╌╌╌╌╌╌╌╌╌╌╌╌┼╌╌╌╌╌╌╌╌╌╌╌┼╌╌╌╌╌┼╌╌╌╌╌╌╌╌╌╌╌╌╌╌╌╌╌┼╌╌╌╌╌╌╌╌╌╌╌╌╌╌╌╌╌╌╌╌┼╌╌╌╌╌╌╌╌╌╌╌╌╌┼╌╌╌╌╌╌╌╌╌╌╌╌╌╌╌╌╌┤\n│ JH584295.1 ┆ ensembl ┆ exon       ┆ 708       ┆ ... ┆ null            ┆ ENSMUSE00001015770 ┆ 5           ┆ null            │\n├╌╌╌╌╌╌╌╌╌╌╌╌┼╌╌╌╌╌╌╌╌╌┼╌╌╌╌╌╌╌╌╌╌╌╌┼╌╌╌╌╌╌╌╌╌╌╌┼╌╌╌╌╌┼╌╌╌╌╌╌╌╌╌╌╌╌╌╌╌╌╌┼╌╌╌╌╌╌╌╌╌╌╌╌╌╌╌╌╌╌╌╌┼╌╌╌╌╌╌╌╌╌╌╌╌╌┼╌╌╌╌╌╌╌╌╌╌╌╌╌╌╌╌╌┤\n│ JH584295.1 ┆ ensembl ┆ CDS        ┆ 708       ┆ ... ┆ null            ┆ null               ┆ 5           ┆ null            │\n├╌╌╌╌╌╌╌╌╌╌╌╌┼╌╌╌╌╌╌╌╌╌┼╌╌╌╌╌╌╌╌╌╌╌╌┼╌╌╌╌╌╌╌╌╌╌╌┼╌╌╌╌╌┼╌╌╌╌╌╌╌╌╌╌╌╌╌╌╌╌╌┼╌╌╌╌╌╌╌╌╌╌╌╌╌╌╌╌╌╌╌╌┼╌╌╌╌╌╌╌╌╌╌╌╌╌┼╌╌╌╌╌╌╌╌╌╌╌╌╌╌╌╌╌┤\n│ JH584295.1 ┆ ensembl ┆ exon       ┆ 565       ┆ ... ┆ null            ┆ ENSMUSE00000997159 ┆ 6           ┆ null            │\n├╌╌╌╌╌╌╌╌╌╌╌╌┼╌╌╌╌╌╌╌╌╌┼╌╌╌╌╌╌╌╌╌╌╌╌┼╌╌╌╌╌╌╌╌╌╌╌┼╌╌╌╌╌┼╌╌╌╌╌╌╌╌╌╌╌╌╌╌╌╌╌┼╌╌╌╌╌╌╌╌╌╌╌╌╌╌╌╌╌╌╌╌┼╌╌╌╌╌╌╌╌╌╌╌╌╌┼╌╌╌╌╌╌╌╌╌╌╌╌╌╌╌╌╌┤\n│ JH584295.1 ┆ ensembl ┆ CDS        ┆ 565       ┆ ... ┆ null            ┆ null               ┆ 6           ┆ null            │\n├╌╌╌╌╌╌╌╌╌╌╌╌┼╌╌╌╌╌╌╌╌╌┼╌╌╌╌╌╌╌╌╌╌╌╌┼╌╌╌╌╌╌╌╌╌╌╌┼╌╌╌╌╌┼╌╌╌╌╌╌╌╌╌╌╌╌╌╌╌╌╌┼╌╌╌╌╌╌╌╌╌╌╌╌╌╌╌╌╌╌╌╌┼╌╌╌╌╌╌╌╌╌╌╌╌╌┼╌╌╌╌╌╌╌╌╌╌╌╌╌╌╌╌╌┤\n│ JH584295.1 ┆ ensembl ┆ exon       ┆ 66        ┆ ... ┆ null            ┆ ENSMUSE00001007635 ┆ 7           ┆ null            │\n├╌╌╌╌╌╌╌╌╌╌╌╌┼╌╌╌╌╌╌╌╌╌┼╌╌╌╌╌╌╌╌╌╌╌╌┼╌╌╌╌╌╌╌╌╌╌╌┼╌╌╌╌╌┼╌╌╌╌╌╌╌╌╌╌╌╌╌╌╌╌╌┼╌╌╌╌╌╌╌╌╌╌╌╌╌╌╌╌╌╌╌╌┼╌╌╌╌╌╌╌╌╌╌╌╌╌┼╌╌╌╌╌╌╌╌╌╌╌╌╌╌╌╌╌┤\n│ JH584295.1 ┆ ensembl ┆ CDS        ┆ 66        ┆ ... ┆ null            ┆ null               ┆ 7           ┆ null            │\n└────────────┴─────────┴────────────┴───────────┴─────┴─────────────────┴────────────────────┴─────────────┴─────────────────┘",
      "text/html": "<div>\n<style scoped>\n    .dataframe tbody tr th:only-of-type {\n        vertical-align: middle;\n    }\n\n    .dataframe tbody tr th {\n        vertical-align: top;\n    }\n\n    .dataframe thead th {\n        text-align: right;\n    }\n\n    .dataframe td {\n        white-space: pre;\n    }\n\n    .dataframe td {\n        padding-top: 0;\n    }\n\n    .dataframe td {\n        padding-bottom: 0;\n    }\n\n    .dataframe td {\n        line-height: 95%;\n    }\n</style>\n<table border=\"1\" class=\"dataframe\" >\n<small>shape: (1902096, 17)</small>\n<thead>\n<tr>\n<th>\nseqname\n</th>\n<th>\nsource\n</th>\n<th>\nfeature\n</th>\n<th>\nstart\n</th>\n<th>\nend\n</th>\n<th>\nscore\n</th>\n<th>\nstrand\n</th>\n<th>\nframe\n</th>\n<th>\nattribute\n</th>\n<th>\ngene\n</th>\n<th>\ngene_name\n</th>\n<th>\ntranscript_biotype\n</th>\n<th>\ntranscript\n</th>\n<th>\ntranscript_name\n</th>\n<th>\nexon\n</th>\n<th>\nexon_number\n</th>\n<th>\ntranscript_exon\n</th>\n</tr>\n<tr>\n<td>\nstr\n</td>\n<td>\nstr\n</td>\n<td>\nstr\n</td>\n<td>\nu64\n</td>\n<td>\nu64\n</td>\n<td>\nstr\n</td>\n<td>\ncat\n</td>\n<td>\nstr\n</td>\n<td>\nstr\n</td>\n<td>\nstr\n</td>\n<td>\nstr\n</td>\n<td>\nstr\n</td>\n<td>\nstr\n</td>\n<td>\nstr\n</td>\n<td>\nstr\n</td>\n<td>\nu64\n</td>\n<td>\nstr\n</td>\n</tr>\n</thead>\n<tbody>\n<tr>\n<td>\n&quot;1&quot;\n</td>\n<td>\n&quot;havana&quot;\n</td>\n<td>\n&quot;gene&quot;\n</td>\n<td>\n150956201\n</td>\n<td>\n150958296\n</td>\n<td>\n&quot;.&quot;\n</td>\n<td>\n&quot;+&quot;\n</td>\n<td>\n&quot;.&quot;\n</td>\n<td>\n&quot;gene_id &quot;ENSMUSG00000102628&quot;; gene_version &quot;2&quot;; gene_name &quot;Gm37671&quot;; gene_source &quot;havana&quot;; gene_biotype &quot;TEC&quot;;&quot;\n</td>\n<td>\n&quot;ENSMUSG00000102628&quot;\n</td>\n<td>\n&quot;Gm37671&quot;\n</td>\n<td>\nnull\n</td>\n<td>\nnull\n</td>\n<td>\nnull\n</td>\n<td>\nnull\n</td>\n<td>\nnull\n</td>\n<td>\nnull\n</td>\n</tr>\n<tr>\n<td>\n&quot;1&quot;\n</td>\n<td>\n&quot;havana&quot;\n</td>\n<td>\n&quot;transcript&quot;\n</td>\n<td>\n150956201\n</td>\n<td>\n150958296\n</td>\n<td>\n&quot;.&quot;\n</td>\n<td>\n&quot;+&quot;\n</td>\n<td>\n&quot;.&quot;\n</td>\n<td>\n&quot;gene_id &quot;ENSMUSG00000102628&quot;; gene_version &quot;2&quot;; transcript_id &quot;ENSMUST00000193198&quot;; transcript_version &quot;2&quot;; gene_name &quot;Gm37671&quot;; gene_source &quot;havana&quot;; gene_biotype &quot;TEC&quot;; transcript_name &quot;Gm37671-201&quot;; transcript_source &quot;havana&quot;; transcript_biotype &quot;TEC&quot;; tag &quot;basic&quot;; tag &quot;Ensembl_canonical&quot;; transcript_support_level &quot;NA (assigned to previous version 1)&quot;;&quot;\n</td>\n<td>\n&quot;ENSMUSG00000102628&quot;\n</td>\n<td>\n&quot;Gm37671&quot;\n</td>\n<td>\n&quot;TEC&quot;\n</td>\n<td>\n&quot;ENSMUST00000193198&quot;\n</td>\n<td>\n&quot;Gm37671-201&quot;\n</td>\n<td>\nnull\n</td>\n<td>\nnull\n</td>\n<td>\nnull\n</td>\n</tr>\n<tr>\n<td>\n&quot;1&quot;\n</td>\n<td>\n&quot;havana&quot;\n</td>\n<td>\n&quot;exon&quot;\n</td>\n<td>\n150956201\n</td>\n<td>\n150958296\n</td>\n<td>\n&quot;.&quot;\n</td>\n<td>\n&quot;+&quot;\n</td>\n<td>\n&quot;.&quot;\n</td>\n<td>\n&quot;gene_id &quot;ENSMUSG00000102628&quot;; gene_version &quot;2&quot;; transcript_id &quot;ENSMUST00000193198&quot;; transcript_version &quot;2&quot;; exon_number &quot;1&quot;; gene_name &quot;Gm37671&quot;; gene_source &quot;havana&quot;; gene_biotype &quot;TEC&quot;; transcript_name &quot;Gm37671-201&quot;; transcript_source &quot;havana&quot;; transcript_biotype &quot;TEC&quot;; exon_id &quot;ENSMUSE00001342333&quot;; exon_version &quot;2&quot;; tag &quot;basic&quot;; tag &quot;Ensembl_canonical&quot;; transcript_support_level &quot;NA (assigned to previous version 1)&quot;;&quot;\n</td>\n<td>\n&quot;ENSMUSG00000102628&quot;\n</td>\n<td>\n&quot;Gm37671&quot;\n</td>\n<td>\n&quot;TEC&quot;\n</td>\n<td>\n&quot;ENSMUST00000193198&quot;\n</td>\n<td>\n&quot;Gm37671-201&quot;\n</td>\n<td>\n&quot;ENSMUSE00001342333&quot;\n</td>\n<td>\n1\n</td>\n<td>\n&quot;Gm37671-201_1&quot;\n</td>\n</tr>\n<tr>\n<td>\n&quot;1&quot;\n</td>\n<td>\n&quot;havana&quot;\n</td>\n<td>\n&quot;gene&quot;\n</td>\n<td>\n150983666\n</td>\n<td>\n150984611\n</td>\n<td>\n&quot;.&quot;\n</td>\n<td>\n&quot;+&quot;\n</td>\n<td>\n&quot;.&quot;\n</td>\n<td>\n&quot;gene_id &quot;ENSMUSG00000100595&quot;; gene_version &quot;2&quot;; gene_name &quot;Gm19087&quot;; gene_source &quot;havana&quot;; gene_biotype &quot;processed_pseudogene&quot;;&quot;\n</td>\n<td>\n&quot;ENSMUSG00000100595&quot;\n</td>\n<td>\n&quot;Gm19087&quot;\n</td>\n<td>\nnull\n</td>\n<td>\nnull\n</td>\n<td>\nnull\n</td>\n<td>\nnull\n</td>\n<td>\nnull\n</td>\n<td>\nnull\n</td>\n</tr>\n<tr>\n<td>\n&quot;1&quot;\n</td>\n<td>\n&quot;havana&quot;\n</td>\n<td>\n&quot;transcript&quot;\n</td>\n<td>\n150983666\n</td>\n<td>\n150984611\n</td>\n<td>\n&quot;.&quot;\n</td>\n<td>\n&quot;+&quot;\n</td>\n<td>\n&quot;.&quot;\n</td>\n<td>\n&quot;gene_id &quot;ENSMUSG00000100595&quot;; gene_version &quot;2&quot;; transcript_id &quot;ENSMUST00000191430&quot;; transcript_version &quot;2&quot;; gene_name &quot;Gm19087&quot;; gene_source &quot;havana&quot;; gene_biotype &quot;processed_pseudogene&quot;; transcript_name &quot;Gm19087-201&quot;; transcript_source &quot;havana&quot;; transcript_biotype &quot;processed_pseudogene&quot;; tag &quot;basic&quot;; tag &quot;Ensembl_canonical&quot;; transcript_support_level &quot;NA (assigned to previous version 1)&quot;;&quot;\n</td>\n<td>\n&quot;ENSMUSG00000100595&quot;\n</td>\n<td>\n&quot;Gm19087&quot;\n</td>\n<td>\n&quot;processed_pseudogene&quot;\n</td>\n<td>\n&quot;ENSMUST00000191430&quot;\n</td>\n<td>\n&quot;Gm19087-201&quot;\n</td>\n<td>\nnull\n</td>\n<td>\nnull\n</td>\n<td>\nnull\n</td>\n</tr>\n<tr>\n<td>\n&quot;1&quot;\n</td>\n<td>\n&quot;havana&quot;\n</td>\n<td>\n&quot;exon&quot;\n</td>\n<td>\n150983666\n</td>\n<td>\n150984611\n</td>\n<td>\n&quot;.&quot;\n</td>\n<td>\n&quot;+&quot;\n</td>\n<td>\n&quot;.&quot;\n</td>\n<td>\n&quot;gene_id &quot;ENSMUSG00000100595&quot;; gene_version &quot;2&quot;; transcript_id &quot;ENSMUST00000191430&quot;; transcript_version &quot;2&quot;; exon_number &quot;1&quot;; gene_name &quot;Gm19087&quot;; gene_source &quot;havana&quot;; gene_biotype &quot;processed_pseudogene&quot;; transcript_name &quot;Gm19087-201&quot;; transcript_source &quot;havana&quot;; transcript_biotype &quot;processed_pseudogene&quot;; exon_id &quot;ENSMUSE00001324949&quot;; exon_version &quot;2&quot;; tag &quot;basic&quot;; tag &quot;Ensembl_canonical&quot;; transcript_support_level &quot;NA (assigned to previous version 1)&quot;;&quot;\n</td>\n<td>\n&quot;ENSMUSG00000100595&quot;\n</td>\n<td>\n&quot;Gm19087&quot;\n</td>\n<td>\n&quot;processed_pseudogene&quot;\n</td>\n<td>\n&quot;ENSMUST00000191430&quot;\n</td>\n<td>\n&quot;Gm19087-201&quot;\n</td>\n<td>\n&quot;ENSMUSE00001324949&quot;\n</td>\n<td>\n1\n</td>\n<td>\n&quot;Gm19087-201_1&quot;\n</td>\n</tr>\n<tr>\n<td>\n&quot;1&quot;\n</td>\n<td>\n&quot;havana&quot;\n</td>\n<td>\n&quot;gene&quot;\n</td>\n<td>\n151012258\n</td>\n<td>\n151013531\n</td>\n<td>\n&quot;.&quot;\n</td>\n<td>\n&quot;+&quot;\n</td>\n<td>\n&quot;.&quot;\n</td>\n<td>\n&quot;gene_id &quot;ENSMUSG00000097426&quot;; gene_version &quot;2&quot;; gene_name &quot;Gm8941&quot;; gene_source &quot;havana&quot;; gene_biotype &quot;processed_pseudogene&quot;;&quot;\n</td>\n<td>\n&quot;ENSMUSG00000097426&quot;\n</td>\n<td>\n&quot;Gm8941&quot;\n</td>\n<td>\nnull\n</td>\n<td>\nnull\n</td>\n<td>\nnull\n</td>\n<td>\nnull\n</td>\n<td>\nnull\n</td>\n<td>\nnull\n</td>\n</tr>\n<tr>\n<td>\n&quot;1&quot;\n</td>\n<td>\n&quot;havana&quot;\n</td>\n<td>\n&quot;transcript&quot;\n</td>\n<td>\n151012258\n</td>\n<td>\n151013531\n</td>\n<td>\n&quot;.&quot;\n</td>\n<td>\n&quot;+&quot;\n</td>\n<td>\n&quot;.&quot;\n</td>\n<td>\n&quot;gene_id &quot;ENSMUSG00000097426&quot;; gene_version &quot;2&quot;; transcript_id &quot;ENSMUST00000181451&quot;; transcript_version &quot;2&quot;; gene_name &quot;Gm8941&quot;; gene_source &quot;havana&quot;; gene_biotype &quot;processed_pseudogene&quot;; transcript_name &quot;Gm8941-201&quot;; transcript_source &quot;havana&quot;; transcript_biotype &quot;processed_pseudogene&quot;; tag &quot;basic&quot;; tag &quot;Ensembl_canonical&quot;; transcript_support_level &quot;NA (assigned to previous version 1)&quot;;&quot;\n</td>\n<td>\n&quot;ENSMUSG00000097426&quot;\n</td>\n<td>\n&quot;Gm8941&quot;\n</td>\n<td>\n&quot;processed_pseudogene&quot;\n</td>\n<td>\n&quot;ENSMUST00000181451&quot;\n</td>\n<td>\n&quot;Gm8941-201&quot;\n</td>\n<td>\nnull\n</td>\n<td>\nnull\n</td>\n<td>\nnull\n</td>\n</tr>\n<tr>\n<td>\n&quot;1&quot;\n</td>\n<td>\n&quot;havana&quot;\n</td>\n<td>\n&quot;exon&quot;\n</td>\n<td>\n151012258\n</td>\n<td>\n151012971\n</td>\n<td>\n&quot;.&quot;\n</td>\n<td>\n&quot;+&quot;\n</td>\n<td>\n&quot;.&quot;\n</td>\n<td>\n&quot;gene_id &quot;ENSMUSG00000097426&quot;; gene_version &quot;2&quot;; transcript_id &quot;ENSMUST00000181451&quot;; transcript_version &quot;2&quot;; exon_number &quot;1&quot;; gene_name &quot;Gm8941&quot;; gene_source &quot;havana&quot;; gene_biotype &quot;processed_pseudogene&quot;; transcript_name &quot;Gm8941-201&quot;; transcript_source &quot;havana&quot;; transcript_biotype &quot;processed_pseudogene&quot;; exon_id &quot;ENSMUSE00001158900&quot;; exon_version &quot;2&quot;; tag &quot;basic&quot;; tag &quot;Ensembl_canonical&quot;; transcript_support_level &quot;NA (assigned to previous version 1)&quot;;&quot;\n</td>\n<td>\n&quot;ENSMUSG00000097426&quot;\n</td>\n<td>\n&quot;Gm8941&quot;\n</td>\n<td>\n&quot;processed_pseudogene&quot;\n</td>\n<td>\n&quot;ENSMUST00000181451&quot;\n</td>\n<td>\n&quot;Gm8941-201&quot;\n</td>\n<td>\n&quot;ENSMUSE00001158900&quot;\n</td>\n<td>\n1\n</td>\n<td>\n&quot;Gm8941-201_1&quot;\n</td>\n</tr>\n<tr>\n<td>\n&quot;1&quot;\n</td>\n<td>\n&quot;havana&quot;\n</td>\n<td>\n&quot;exon&quot;\n</td>\n<td>\n151013347\n</td>\n<td>\n151013531\n</td>\n<td>\n&quot;.&quot;\n</td>\n<td>\n&quot;+&quot;\n</td>\n<td>\n&quot;.&quot;\n</td>\n<td>\n&quot;gene_id &quot;ENSMUSG00000097426&quot;; gene_version &quot;2&quot;; transcript_id &quot;ENSMUST00000181451&quot;; transcript_version &quot;2&quot;; exon_number &quot;2&quot;; gene_name &quot;Gm8941&quot;; gene_source &quot;havana&quot;; gene_biotype &quot;processed_pseudogene&quot;; transcript_name &quot;Gm8941-201&quot;; transcript_source &quot;havana&quot;; transcript_biotype &quot;processed_pseudogene&quot;; exon_id &quot;ENSMUSE00001115039&quot;; exon_version &quot;2&quot;; tag &quot;basic&quot;; tag &quot;Ensembl_canonical&quot;; transcript_support_level &quot;NA (assigned to previous version 1)&quot;;&quot;\n</td>\n<td>\n&quot;ENSMUSG00000097426&quot;\n</td>\n<td>\n&quot;Gm8941&quot;\n</td>\n<td>\n&quot;processed_pseudogene&quot;\n</td>\n<td>\n&quot;ENSMUST00000181451&quot;\n</td>\n<td>\n&quot;Gm8941-201&quot;\n</td>\n<td>\n&quot;ENSMUSE00001115039&quot;\n</td>\n<td>\n2\n</td>\n<td>\n&quot;Gm8941-201_2&quot;\n</td>\n</tr>\n<tr>\n<td>\n...\n</td>\n<td>\n...\n</td>\n<td>\n...\n</td>\n<td>\n...\n</td>\n<td>\n...\n</td>\n<td>\n...\n</td>\n<td>\n...\n</td>\n<td>\n...\n</td>\n<td>\n...\n</td>\n<td>\n...\n</td>\n<td>\n...\n</td>\n<td>\n...\n</td>\n<td>\n...\n</td>\n<td>\n...\n</td>\n<td>\n...\n</td>\n<td>\n...\n</td>\n<td>\n...\n</td>\n</tr>\n<tr>\n<td>\n&quot;JH584295.1&quot;\n</td>\n<td>\n&quot;ensembl&quot;\n</td>\n<td>\n&quot;exon&quot;\n</td>\n<td>\n986\n</td>\n<td>\n1009\n</td>\n<td>\n&quot;.&quot;\n</td>\n<td>\n&quot;-&quot;\n</td>\n<td>\n&quot;.&quot;\n</td>\n<td>\n&quot;gene_id &quot;ENSMUSG00000095742&quot;; gene_version &quot;2&quot;; transcript_id &quot;ENSMUST00000179436&quot;; transcript_version &quot;2&quot;; exon_number &quot;3&quot;; gene_source &quot;ensembl&quot;; gene_biotype &quot;protein_coding&quot;; transcript_source &quot;ensembl&quot;; transcript_biotype &quot;protein_coding&quot;; exon_id &quot;ENSMUSE00001085113&quot;; exon_version &quot;2&quot;; tag &quot;basic&quot;; tag &quot;Ensembl_canonical&quot;; transcript_support_level &quot;5 (assigned to previous version 1)&quot;;&quot;\n</td>\n<td>\n&quot;ENSMUSG00000095742&quot;\n</td>\n<td>\nnull\n</td>\n<td>\n&quot;protein_coding&quot;\n</td>\n<td>\n&quot;ENSMUST00000179436&quot;\n</td>\n<td>\nnull\n</td>\n<td>\n&quot;ENSMUSE00001085113&quot;\n</td>\n<td>\n3\n</td>\n<td>\nnull\n</td>\n</tr>\n<tr>\n<td>\n&quot;JH584295.1&quot;\n</td>\n<td>\n&quot;ensembl&quot;\n</td>\n<td>\n&quot;CDS&quot;\n</td>\n<td>\n986\n</td>\n<td>\n1009\n</td>\n<td>\n&quot;.&quot;\n</td>\n<td>\n&quot;-&quot;\n</td>\n<td>\n&quot;0&quot;\n</td>\n<td>\n&quot;gene_id &quot;ENSMUSG00000095742&quot;; gene_version &quot;2&quot;; transcript_id &quot;ENSMUST00000179436&quot;; transcript_version &quot;2&quot;; exon_number &quot;3&quot;; gene_source &quot;ensembl&quot;; gene_biotype &quot;protein_coding&quot;; transcript_source &quot;ensembl&quot;; transcript_biotype &quot;protein_coding&quot;; protein_id &quot;ENSMUSP00000137004&quot;; protein_version &quot;2&quot;; tag &quot;basic&quot;; tag &quot;Ensembl_canonical&quot;; transcript_support_level &quot;5 (assigned to previous version 1)&quot;;&quot;\n</td>\n<td>\n&quot;ENSMUSG00000095742&quot;\n</td>\n<td>\nnull\n</td>\n<td>\n&quot;protein_coding&quot;\n</td>\n<td>\n&quot;ENSMUST00000179436&quot;\n</td>\n<td>\nnull\n</td>\n<td>\nnull\n</td>\n<td>\n3\n</td>\n<td>\nnull\n</td>\n</tr>\n<tr>\n<td>\n&quot;JH584295.1&quot;\n</td>\n<td>\n&quot;ensembl&quot;\n</td>\n<td>\n&quot;exon&quot;\n</td>\n<td>\n972\n</td>\n<td>\n981\n</td>\n<td>\n&quot;.&quot;\n</td>\n<td>\n&quot;-&quot;\n</td>\n<td>\n&quot;.&quot;\n</td>\n<td>\n&quot;gene_id &quot;ENSMUSG00000095742&quot;; gene_version &quot;2&quot;; transcript_id &quot;ENSMUST00000179436&quot;; transcript_version &quot;2&quot;; exon_number &quot;4&quot;; gene_source &quot;ensembl&quot;; gene_biotype &quot;protein_coding&quot;; transcript_source &quot;ensembl&quot;; transcript_biotype &quot;protein_coding&quot;; exon_id &quot;ENSMUSE00001070510&quot;; exon_version &quot;2&quot;; tag &quot;basic&quot;; tag &quot;Ensembl_canonical&quot;; transcript_support_level &quot;5 (assigned to previous version 1)&quot;;&quot;\n</td>\n<td>\n&quot;ENSMUSG00000095742&quot;\n</td>\n<td>\nnull\n</td>\n<td>\n&quot;protein_coding&quot;\n</td>\n<td>\n&quot;ENSMUST00000179436&quot;\n</td>\n<td>\nnull\n</td>\n<td>\n&quot;ENSMUSE00001070510&quot;\n</td>\n<td>\n4\n</td>\n<td>\nnull\n</td>\n</tr>\n<tr>\n<td>\n&quot;JH584295.1&quot;\n</td>\n<td>\n&quot;ensembl&quot;\n</td>\n<td>\n&quot;CDS&quot;\n</td>\n<td>\n972\n</td>\n<td>\n981\n</td>\n<td>\n&quot;.&quot;\n</td>\n<td>\n&quot;-&quot;\n</td>\n<td>\n&quot;0&quot;\n</td>\n<td>\n&quot;gene_id &quot;ENSMUSG00000095742&quot;; gene_version &quot;2&quot;; transcript_id &quot;ENSMUST00000179436&quot;; transcript_version &quot;2&quot;; exon_number &quot;4&quot;; gene_source &quot;ensembl&quot;; gene_biotype &quot;protein_coding&quot;; transcript_source &quot;ensembl&quot;; transcript_biotype &quot;protein_coding&quot;; protein_id &quot;ENSMUSP00000137004&quot;; protein_version &quot;2&quot;; tag &quot;basic&quot;; tag &quot;Ensembl_canonical&quot;; transcript_support_level &quot;5 (assigned to previous version 1)&quot;;&quot;\n</td>\n<td>\n&quot;ENSMUSG00000095742&quot;\n</td>\n<td>\nnull\n</td>\n<td>\n&quot;protein_coding&quot;\n</td>\n<td>\n&quot;ENSMUST00000179436&quot;\n</td>\n<td>\nnull\n</td>\n<td>\nnull\n</td>\n<td>\n4\n</td>\n<td>\nnull\n</td>\n</tr>\n<tr>\n<td>\n&quot;JH584295.1&quot;\n</td>\n<td>\n&quot;ensembl&quot;\n</td>\n<td>\n&quot;exon&quot;\n</td>\n<td>\n708\n</td>\n<td>\n752\n</td>\n<td>\n&quot;.&quot;\n</td>\n<td>\n&quot;-&quot;\n</td>\n<td>\n&quot;.&quot;\n</td>\n<td>\n&quot;gene_id &quot;ENSMUSG00000095742&quot;; gene_version &quot;2&quot;; transcript_id &quot;ENSMUST00000179436&quot;; transcript_version &quot;2&quot;; exon_number &quot;5&quot;; gene_source &quot;ensembl&quot;; gene_biotype &quot;protein_coding&quot;; transcript_source &quot;ensembl&quot;; transcript_biotype &quot;protein_coding&quot;; exon_id &quot;ENSMUSE00001015770&quot;; exon_version &quot;2&quot;; tag &quot;basic&quot;; tag &quot;Ensembl_canonical&quot;; transcript_support_level &quot;5 (assigned to previous version 1)&quot;;&quot;\n</td>\n<td>\n&quot;ENSMUSG00000095742&quot;\n</td>\n<td>\nnull\n</td>\n<td>\n&quot;protein_coding&quot;\n</td>\n<td>\n&quot;ENSMUST00000179436&quot;\n</td>\n<td>\nnull\n</td>\n<td>\n&quot;ENSMUSE00001015770&quot;\n</td>\n<td>\n5\n</td>\n<td>\nnull\n</td>\n</tr>\n<tr>\n<td>\n&quot;JH584295.1&quot;\n</td>\n<td>\n&quot;ensembl&quot;\n</td>\n<td>\n&quot;CDS&quot;\n</td>\n<td>\n708\n</td>\n<td>\n752\n</td>\n<td>\n&quot;.&quot;\n</td>\n<td>\n&quot;-&quot;\n</td>\n<td>\n&quot;2&quot;\n</td>\n<td>\n&quot;gene_id &quot;ENSMUSG00000095742&quot;; gene_version &quot;2&quot;; transcript_id &quot;ENSMUST00000179436&quot;; transcript_version &quot;2&quot;; exon_number &quot;5&quot;; gene_source &quot;ensembl&quot;; gene_biotype &quot;protein_coding&quot;; transcript_source &quot;ensembl&quot;; transcript_biotype &quot;protein_coding&quot;; protein_id &quot;ENSMUSP00000137004&quot;; protein_version &quot;2&quot;; tag &quot;basic&quot;; tag &quot;Ensembl_canonical&quot;; transcript_support_level &quot;5 (assigned to previous version 1)&quot;;&quot;\n</td>\n<td>\n&quot;ENSMUSG00000095742&quot;\n</td>\n<td>\nnull\n</td>\n<td>\n&quot;protein_coding&quot;\n</td>\n<td>\n&quot;ENSMUST00000179436&quot;\n</td>\n<td>\nnull\n</td>\n<td>\nnull\n</td>\n<td>\n5\n</td>\n<td>\nnull\n</td>\n</tr>\n<tr>\n<td>\n&quot;JH584295.1&quot;\n</td>\n<td>\n&quot;ensembl&quot;\n</td>\n<td>\n&quot;exon&quot;\n</td>\n<td>\n565\n</td>\n<td>\n633\n</td>\n<td>\n&quot;.&quot;\n</td>\n<td>\n&quot;-&quot;\n</td>\n<td>\n&quot;.&quot;\n</td>\n<td>\n&quot;gene_id &quot;ENSMUSG00000095742&quot;; gene_version &quot;2&quot;; transcript_id &quot;ENSMUST00000179436&quot;; transcript_version &quot;2&quot;; exon_number &quot;6&quot;; gene_source &quot;ensembl&quot;; gene_biotype &quot;protein_coding&quot;; transcript_source &quot;ensembl&quot;; transcript_biotype &quot;protein_coding&quot;; exon_id &quot;ENSMUSE00000997159&quot;; exon_version &quot;2&quot;; tag &quot;basic&quot;; tag &quot;Ensembl_canonical&quot;; transcript_support_level &quot;5 (assigned to previous version 1)&quot;;&quot;\n</td>\n<td>\n&quot;ENSMUSG00000095742&quot;\n</td>\n<td>\nnull\n</td>\n<td>\n&quot;protein_coding&quot;\n</td>\n<td>\n&quot;ENSMUST00000179436&quot;\n</td>\n<td>\nnull\n</td>\n<td>\n&quot;ENSMUSE00000997159&quot;\n</td>\n<td>\n6\n</td>\n<td>\nnull\n</td>\n</tr>\n<tr>\n<td>\n&quot;JH584295.1&quot;\n</td>\n<td>\n&quot;ensembl&quot;\n</td>\n<td>\n&quot;CDS&quot;\n</td>\n<td>\n565\n</td>\n<td>\n633\n</td>\n<td>\n&quot;.&quot;\n</td>\n<td>\n&quot;-&quot;\n</td>\n<td>\n&quot;2&quot;\n</td>\n<td>\n&quot;gene_id &quot;ENSMUSG00000095742&quot;; gene_version &quot;2&quot;; transcript_id &quot;ENSMUST00000179436&quot;; transcript_version &quot;2&quot;; exon_number &quot;6&quot;; gene_source &quot;ensembl&quot;; gene_biotype &quot;protein_coding&quot;; transcript_source &quot;ensembl&quot;; transcript_biotype &quot;protein_coding&quot;; protein_id &quot;ENSMUSP00000137004&quot;; protein_version &quot;2&quot;; tag &quot;basic&quot;; tag &quot;Ensembl_canonical&quot;; transcript_support_level &quot;5 (assigned to previous version 1)&quot;;&quot;\n</td>\n<td>\n&quot;ENSMUSG00000095742&quot;\n</td>\n<td>\nnull\n</td>\n<td>\n&quot;protein_coding&quot;\n</td>\n<td>\n&quot;ENSMUST00000179436&quot;\n</td>\n<td>\nnull\n</td>\n<td>\nnull\n</td>\n<td>\n6\n</td>\n<td>\nnull\n</td>\n</tr>\n<tr>\n<td>\n&quot;JH584295.1&quot;\n</td>\n<td>\n&quot;ensembl&quot;\n</td>\n<td>\n&quot;exon&quot;\n</td>\n<td>\n66\n</td>\n<td>\n109\n</td>\n<td>\n&quot;.&quot;\n</td>\n<td>\n&quot;-&quot;\n</td>\n<td>\n&quot;.&quot;\n</td>\n<td>\n&quot;gene_id &quot;ENSMUSG00000095742&quot;; gene_version &quot;2&quot;; transcript_id &quot;ENSMUST00000179436&quot;; transcript_version &quot;2&quot;; exon_number &quot;7&quot;; gene_source &quot;ensembl&quot;; gene_biotype &quot;protein_coding&quot;; transcript_source &quot;ensembl&quot;; transcript_biotype &quot;protein_coding&quot;; exon_id &quot;ENSMUSE00001007635&quot;; exon_version &quot;2&quot;; tag &quot;basic&quot;; tag &quot;Ensembl_canonical&quot;; transcript_support_level &quot;5 (assigned to previous version 1)&quot;;&quot;\n</td>\n<td>\n&quot;ENSMUSG00000095742&quot;\n</td>\n<td>\nnull\n</td>\n<td>\n&quot;protein_coding&quot;\n</td>\n<td>\n&quot;ENSMUST00000179436&quot;\n</td>\n<td>\nnull\n</td>\n<td>\n&quot;ENSMUSE00001007635&quot;\n</td>\n<td>\n7\n</td>\n<td>\nnull\n</td>\n</tr>\n<tr>\n<td>\n&quot;JH584295.1&quot;\n</td>\n<td>\n&quot;ensembl&quot;\n</td>\n<td>\n&quot;CDS&quot;\n</td>\n<td>\n66\n</td>\n<td>\n109\n</td>\n<td>\n&quot;.&quot;\n</td>\n<td>\n&quot;-&quot;\n</td>\n<td>\n&quot;2&quot;\n</td>\n<td>\n&quot;gene_id &quot;ENSMUSG00000095742&quot;; gene_version &quot;2&quot;; transcript_id &quot;ENSMUST00000179436&quot;; transcript_version &quot;2&quot;; exon_number &quot;7&quot;; gene_source &quot;ensembl&quot;; gene_biotype &quot;protein_coding&quot;; transcript_source &quot;ensembl&quot;; transcript_biotype &quot;protein_coding&quot;; protein_id &quot;ENSMUSP00000137004&quot;; protein_version &quot;2&quot;; tag &quot;basic&quot;; tag &quot;Ensembl_canonical&quot;; transcript_support_level &quot;5 (assigned to previous version 1)&quot;;&quot;\n</td>\n<td>\n&quot;ENSMUSG00000095742&quot;\n</td>\n<td>\nnull\n</td>\n<td>\n&quot;protein_coding&quot;\n</td>\n<td>\n&quot;ENSMUST00000179436&quot;\n</td>\n<td>\nnull\n</td>\n<td>\nnull\n</td>\n<td>\n7\n</td>\n<td>\nnull\n</td>\n</tr>\n</tbody>\n</table>\n</div>"
     },
     "execution_count": 15,
     "metadata": {},
     "output_type": "execute_result"
    }
   ],
   "source": [
    "from genotations import ensembl\n",
    "ensembl.mouse.annotations.annotations_df"
   ],
   "metadata": {
    "collapsed": false
   }
  },
  {
   "cell_type": "code",
   "execution_count": null,
   "outputs": [],
   "source": [
    "import genomepy\n",
    "ens = genomepy.providers.EnsemblProvider()\n",
    "gs = [g for g in ens.list_available_genomes()]\n",
    "gs"
   ],
   "metadata": {
    "collapsed": false
   }
  },
  {
   "cell_type": "code",
   "execution_count": null,
   "outputs": [],
   "source": [],
   "metadata": {
    "collapsed": false
   }
  },
  {
   "cell_type": "code",
   "execution_count": 3,
   "outputs": [
    {
     "data": {
      "text/plain": "shape: (5, 22)\n┌───────────────────────┬───────────┬──────────────────┬────────────┬─────┬───────────────────┬──────────────────┬──────────────────────────────────────────┬──────────────────────────────────────┐\n│ DATE ADDED TO CATALOG ┆ PUBMED ID ┆ FIRST AUTHOR     ┆ DATE       ┆ ... ┆ STATISTICAL MODEL ┆ BACKGROUND TRAIT ┆ MAPPED BACKGROUND TRAIT                  ┆ MAPPED BACKGROUND TRAIT URI          │\n│ ---                   ┆ ---       ┆ ---              ┆ ---        ┆     ┆ ---               ┆ ---              ┆ ---                                      ┆ ---                                  │\n│ str                   ┆ i64       ┆ str              ┆ str        ┆     ┆ str               ┆ str              ┆ str                                      ┆ str                                  │\n╞═══════════════════════╪═══════════╪══════════════════╪════════════╪═════╪═══════════════════╪══════════════════╪══════════════════════════════════════════╪══════════════════════════════════════╡\n│ 2021-03-25            ┆ 32701512  ┆ Cairns J         ┆ 2020-07-23 ┆ ... ┆ null              ┆ null             ┆ estrogen-receptor positive breast cancer ┆ http://www.ebi.ac.uk/efo/EFO_1000649 │\n├╌╌╌╌╌╌╌╌╌╌╌╌╌╌╌╌╌╌╌╌╌╌╌┼╌╌╌╌╌╌╌╌╌╌╌┼╌╌╌╌╌╌╌╌╌╌╌╌╌╌╌╌╌╌┼╌╌╌╌╌╌╌╌╌╌╌╌┼╌╌╌╌╌┼╌╌╌╌╌╌╌╌╌╌╌╌╌╌╌╌╌╌╌┼╌╌╌╌╌╌╌╌╌╌╌╌╌╌╌╌╌╌┼╌╌╌╌╌╌╌╌╌╌╌╌╌╌╌╌╌╌╌╌╌╌╌╌╌╌╌╌╌╌╌╌╌╌╌╌╌╌╌╌╌╌┼╌╌╌╌╌╌╌╌╌╌╌╌╌╌╌╌╌╌╌╌╌╌╌╌╌╌╌╌╌╌╌╌╌╌╌╌╌╌┤\n│ 2020-09-15            ┆ 32580138  ┆ Shi XY           ┆ 2020-06-21 ┆ ... ┆ null              ┆ null             ┆ null                                     ┆ null                                 │\n├╌╌╌╌╌╌╌╌╌╌╌╌╌╌╌╌╌╌╌╌╌╌╌┼╌╌╌╌╌╌╌╌╌╌╌┼╌╌╌╌╌╌╌╌╌╌╌╌╌╌╌╌╌╌┼╌╌╌╌╌╌╌╌╌╌╌╌┼╌╌╌╌╌┼╌╌╌╌╌╌╌╌╌╌╌╌╌╌╌╌╌╌╌┼╌╌╌╌╌╌╌╌╌╌╌╌╌╌╌╌╌╌┼╌╌╌╌╌╌╌╌╌╌╌╌╌╌╌╌╌╌╌╌╌╌╌╌╌╌╌╌╌╌╌╌╌╌╌╌╌╌╌╌╌╌┼╌╌╌╌╌╌╌╌╌╌╌╌╌╌╌╌╌╌╌╌╌╌╌╌╌╌╌╌╌╌╌╌╌╌╌╌╌╌┤\n│ 2020-07-09            ┆ 32118827  ┆ Bonde A          ┆ 2020-02-28 ┆ ... ┆ null              ┆ null             ┆ null                                     ┆ null                                 │\n├╌╌╌╌╌╌╌╌╌╌╌╌╌╌╌╌╌╌╌╌╌╌╌┼╌╌╌╌╌╌╌╌╌╌╌┼╌╌╌╌╌╌╌╌╌╌╌╌╌╌╌╌╌╌┼╌╌╌╌╌╌╌╌╌╌╌╌┼╌╌╌╌╌┼╌╌╌╌╌╌╌╌╌╌╌╌╌╌╌╌╌╌╌┼╌╌╌╌╌╌╌╌╌╌╌╌╌╌╌╌╌╌┼╌╌╌╌╌╌╌╌╌╌╌╌╌╌╌╌╌╌╌╌╌╌╌╌╌╌╌╌╌╌╌╌╌╌╌╌╌╌╌╌╌╌┼╌╌╌╌╌╌╌╌╌╌╌╌╌╌╌╌╌╌╌╌╌╌╌╌╌╌╌╌╌╌╌╌╌╌╌╌╌╌┤\n│ 2020-07-09            ┆ 32118827  ┆ Bonde A          ┆ 2020-02-28 ┆ ... ┆ null              ┆ null             ┆ null                                     ┆ null                                 │\n├╌╌╌╌╌╌╌╌╌╌╌╌╌╌╌╌╌╌╌╌╌╌╌┼╌╌╌╌╌╌╌╌╌╌╌┼╌╌╌╌╌╌╌╌╌╌╌╌╌╌╌╌╌╌┼╌╌╌╌╌╌╌╌╌╌╌╌┼╌╌╌╌╌┼╌╌╌╌╌╌╌╌╌╌╌╌╌╌╌╌╌╌╌┼╌╌╌╌╌╌╌╌╌╌╌╌╌╌╌╌╌╌┼╌╌╌╌╌╌╌╌╌╌╌╌╌╌╌╌╌╌╌╌╌╌╌╌╌╌╌╌╌╌╌╌╌╌╌╌╌╌╌╌╌╌┼╌╌╌╌╌╌╌╌╌╌╌╌╌╌╌╌╌╌╌╌╌╌╌╌╌╌╌╌╌╌╌╌╌╌╌╌╌╌┤\n│ 2021-06-22            ┆ 33293549  ┆ Sargurupremraj M ┆ 2020-12-08 ┆ ... ┆ null              ┆ null             ┆ null                                     ┆ null                                 │\n└───────────────────────┴───────────┴──────────────────┴────────────┴─────┴───────────────────┴──────────────────┴──────────────────────────────────────────┴──────────────────────────────────────┘",
      "text/html": "<div>\n<style scoped>\n    .dataframe tbody tr th:only-of-type {\n        vertical-align: middle;\n    }\n\n    .dataframe tbody tr th {\n        vertical-align: top;\n    }\n\n    .dataframe thead th {\n        text-align: right;\n    }\n\n    .dataframe td {\n        white-space: pre;\n    }\n\n    .dataframe td {\n        padding-top: 0;\n    }\n\n    .dataframe td {\n        padding-bottom: 0;\n    }\n\n    .dataframe td {\n        line-height: 95%;\n    }\n</style>\n<table border=\"1\" class=\"dataframe\" >\n<small>shape: (5, 22)</small>\n<thead>\n<tr>\n<th>\nDATE ADDED TO CATALOG\n</th>\n<th>\nPUBMED ID\n</th>\n<th>\nFIRST AUTHOR\n</th>\n<th>\nDATE\n</th>\n<th>\nJOURNAL\n</th>\n<th>\nLINK\n</th>\n<th>\nSTUDY\n</th>\n<th>\nDISEASE/TRAIT\n</th>\n<th>\nINITIAL SAMPLE SIZE\n</th>\n<th>\nREPLICATION SAMPLE SIZE\n</th>\n<th>\nPLATFORM [SNPS PASSING QC]\n</th>\n<th>\nASSOCIATION COUNT\n</th>\n<th>\nMAPPED_TRAIT\n</th>\n<th>\nMAPPED_TRAIT_URI\n</th>\n<th>\nSTUDY ACCESSION\n</th>\n<th>\nGENOTYPING TECHNOLOGY\n</th>\n<th>\nSUMMARY STATS LOCATION\n</th>\n<th>\nSUBMISSION DATE\n</th>\n<th>\nSTATISTICAL MODEL\n</th>\n<th>\nBACKGROUND TRAIT\n</th>\n<th>\nMAPPED BACKGROUND TRAIT\n</th>\n<th>\nMAPPED BACKGROUND TRAIT URI\n</th>\n</tr>\n<tr>\n<td>\nstr\n</td>\n<td>\ni64\n</td>\n<td>\nstr\n</td>\n<td>\nstr\n</td>\n<td>\nstr\n</td>\n<td>\nstr\n</td>\n<td>\nstr\n</td>\n<td>\nstr\n</td>\n<td>\nstr\n</td>\n<td>\nstr\n</td>\n<td>\nstr\n</td>\n<td>\ni64\n</td>\n<td>\nstr\n</td>\n<td>\nstr\n</td>\n<td>\nstr\n</td>\n<td>\nstr\n</td>\n<td>\nstr\n</td>\n<td>\nstr\n</td>\n<td>\nstr\n</td>\n<td>\nstr\n</td>\n<td>\nstr\n</td>\n<td>\nstr\n</td>\n</tr>\n</thead>\n<tbody>\n<tr>\n<td>\n&quot;2021-03-25&quot;\n</td>\n<td>\n32701512\n</td>\n<td>\n&quot;Cairns J&quot;\n</td>\n<td>\n&quot;2020-07-23&quot;\n</td>\n<td>\n&quot;JCI Insight&quot;\n</td>\n<td>\n&quot;www.ncbi.nlm.nih.gov/pubmed/32701512&quot;\n</td>\n<td>\n&quot;Pharmacogenomics of aromatase inhibitors in postmenopausal breast cancer and additional mechanisms of anastrozole action.&quot;\n</td>\n<td>\n&quot;Estrogen level change in anastrozole-treated breast cancer&quot;\n</td>\n<td>\n&quot;624 individuals&quot;\n</td>\n<td>\n&quot;NA&quot;\n</td>\n<td>\n&quot;Illumina [up to 8000000] (imputed)&quot;\n</td>\n<td>\n5\n</td>\n<td>\n&quot;estrogen measurement, response to aromatase inhibitor&quot;\n</td>\n<td>\n&quot;http://www.ebi.ac.uk/efo/EFO_0011007, http://purl.obolibrary.org/obo/GO_0061477&quot;\n</td>\n<td>\n&quot;GCST011407&quot;\n</td>\n<td>\n&quot;Genome-wide genotyping array&quot;\n</td>\n<td>\nnull\n</td>\n<td>\nnull\n</td>\n<td>\nnull\n</td>\n<td>\nnull\n</td>\n<td>\n&quot;estrogen-receptor positive breast cancer&quot;\n</td>\n<td>\n&quot;http://www.ebi.ac.uk/efo/EFO_1000649&quot;\n</td>\n</tr>\n<tr>\n<td>\n&quot;2020-09-15&quot;\n</td>\n<td>\n32580138\n</td>\n<td>\n&quot;Shi XY&quot;\n</td>\n<td>\n&quot;2020-06-21&quot;\n</td>\n<td>\n&quot;EBioMedicine&quot;\n</td>\n<td>\n&quot;www.ncbi.nlm.nih.gov/pubmed/32580138&quot;\n</td>\n<td>\n&quot;Identification of susceptibility variants to benign childhood epilepsy with centro-temporal spikes (BECTS) in Chinese Han population.&quot;\n</td>\n<td>\n&quot;Benign childhood epilepsy with centro-temporal spikes&quot;\n</td>\n<td>\n&quot;1,738 Han Chinese ancestry cases, 6,592 Han Chinese ancestry controls&quot;\n</td>\n<td>\n&quot;NA&quot;\n</td>\n<td>\n&quot;Illumina [5352724] (imputed)&quot;\n</td>\n<td>\n12\n</td>\n<td>\n&quot;Rolandic epilepsy&quot;\n</td>\n<td>\n&quot;http://www.orpha.net/ORDO/Orphanet_1945&quot;\n</td>\n<td>\n&quot;GCST010566&quot;\n</td>\n<td>\n&quot;Genome-wide genotyping array&quot;\n</td>\n<td>\nnull\n</td>\n<td>\nnull\n</td>\n<td>\nnull\n</td>\n<td>\nnull\n</td>\n<td>\nnull\n</td>\n<td>\nnull\n</td>\n</tr>\n<tr>\n<td>\n&quot;2020-07-09&quot;\n</td>\n<td>\n32118827\n</td>\n<td>\n&quot;Bonde A&quot;\n</td>\n<td>\n&quot;2020-02-28&quot;\n</td>\n<td>\n&quot;J Trauma Acute Care Surg&quot;\n</td>\n<td>\n&quot;www.ncbi.nlm.nih.gov/pubmed/32118827&quot;\n</td>\n<td>\n&quot;Identification of a new genetic variant associated with cholecystitis: a multicenter genome-wide association study.&quot;\n</td>\n<td>\n&quot;Acute cholecystitis&quot;\n</td>\n<td>\n&quot;900 European ancestry cases, 23,727 European ancestry controls&quot;\n</td>\n<td>\n&quot;NA&quot;\n</td>\n<td>\n&quot;Illumina [NR] (imputed)&quot;\n</td>\n<td>\n1\n</td>\n<td>\n&quot;Cholecystitis, Acute&quot;\n</td>\n<td>\n&quot;http://www.ebi.ac.uk/efo/EFO_1001289&quot;\n</td>\n<td>\n&quot;GCST010176&quot;\n</td>\n<td>\n&quot;Genome-wide genotyping array&quot;\n</td>\n<td>\nnull\n</td>\n<td>\nnull\n</td>\n<td>\nnull\n</td>\n<td>\nnull\n</td>\n<td>\nnull\n</td>\n<td>\nnull\n</td>\n</tr>\n<tr>\n<td>\n&quot;2020-07-09&quot;\n</td>\n<td>\n32118827\n</td>\n<td>\n&quot;Bonde A&quot;\n</td>\n<td>\n&quot;2020-02-28&quot;\n</td>\n<td>\n&quot;J Trauma Acute Care Surg&quot;\n</td>\n<td>\n&quot;www.ncbi.nlm.nih.gov/pubmed/32118827&quot;\n</td>\n<td>\n&quot;Identification of a new genetic variant associated with cholecystitis: a multicenter genome-wide association study.&quot;\n</td>\n<td>\n&quot;Cholelithiasis&quot;\n</td>\n<td>\n&quot;up to 2,377 European ancestry cases, 22,203 European ancestry controls&quot;\n</td>\n<td>\n&quot;NA&quot;\n</td>\n<td>\n&quot;Illumina [NR] (imputed)&quot;\n</td>\n<td>\n0\n</td>\n<td>\n&quot;cholelithiasis&quot;\n</td>\n<td>\n&quot;http://www.ebi.ac.uk/efo/EFO_0004799&quot;\n</td>\n<td>\n&quot;GCST010177&quot;\n</td>\n<td>\n&quot;Genome-wide genotyping array&quot;\n</td>\n<td>\nnull\n</td>\n<td>\nnull\n</td>\n<td>\nnull\n</td>\n<td>\nnull\n</td>\n<td>\nnull\n</td>\n<td>\nnull\n</td>\n</tr>\n<tr>\n<td>\n&quot;2021-06-22&quot;\n</td>\n<td>\n33293549\n</td>\n<td>\n&quot;Sargurupremraj M&quot;\n</td>\n<td>\n&quot;2020-12-08&quot;\n</td>\n<td>\n&quot;Nat Commun&quot;\n</td>\n<td>\n&quot;www.ncbi.nlm.nih.gov/pubmed/33293549&quot;\n</td>\n<td>\n&quot;Cerebral small vessel disease genomics and its implications across the lifespan.&quot;\n</td>\n<td>\n&quot;White matter hyperintensity volume x hypertension interaction (2df)&quot;\n</td>\n<td>\n&quot;46,055 European ancestry individuals&quot;\n</td>\n<td>\n&quot;NA&quot;\n</td>\n<td>\n&quot;Affymetrix, Illumina [9900000] (imputed)&quot;\n</td>\n<td>\n26\n</td>\n<td>\n&quot;hypertension, white matter hyperintensity measurement&quot;\n</td>\n<td>\n&quot;http://www.ebi.ac.uk/efo/EFO_0000537, http://www.ebi.ac.uk/efo/EFO_0005665&quot;\n</td>\n<td>\n&quot;GCST011953&quot;\n</td>\n<td>\n&quot;Genome-wide genotyping array&quot;\n</td>\n<td>\nnull\n</td>\n<td>\nnull\n</td>\n<td>\nnull\n</td>\n<td>\nnull\n</td>\n<td>\nnull\n</td>\n<td>\nnull\n</td>\n</tr>\n</tbody>\n</table>\n</div>"
     },
     "execution_count": 3,
     "metadata": {},
     "output_type": "execute_result"
    }
   ],
   "source": [
    "gwas = pl.read_csv(\"/home/antonkulaga/Downloads/gwas-catalog-v1.0.3-studies-r2022-12-15.tsv\", sep=\"\\t\")\n",
    "gwas.head()"
   ],
   "metadata": {
    "collapsed": false
   }
  },
  {
   "cell_type": "code",
   "execution_count": 13,
   "outputs": [
    {
     "data": {
      "text/plain": "shape: (8961, 5)\n┌──────────────────────────────────────────────────────────────┬──────────────────────────────────────────────────────────────────────────────────────────────────────────────────────────┬─────────┬────────────────────┬────────┐\n│ trait                                                        ┆ trait_uri                                                                                                                ┆ studies ┆ association_counts ┆ papers │\n│ ---                                                          ┆ ---                                                                                                                      ┆ ---     ┆ ---                ┆ ---    │\n│ str                                                          ┆ str                                                                                                                      ┆ u32     ┆ i64                ┆ u32    │\n╞══════════════════════════════════════════════════════════════╪══════════════════════════════════════════════════════════════════════════════════════════════════════════════════════════╪═════════╪════════════════════╪════════╡\n│ blood protein measurement                                    ┆ http://www.ebi.ac.uk/efo/EFO_0007937                                                                                     ┆ 5354    ┆ 8587               ┆ 5354   │\n├╌╌╌╌╌╌╌╌╌╌╌╌╌╌╌╌╌╌╌╌╌╌╌╌╌╌╌╌╌╌╌╌╌╌╌╌╌╌╌╌╌╌╌╌╌╌╌╌╌╌╌╌╌╌╌╌╌╌╌╌╌╌┼╌╌╌╌╌╌╌╌╌╌╌╌╌╌╌╌╌╌╌╌╌╌╌╌╌╌╌╌╌╌╌╌╌╌╌╌╌╌╌╌╌╌╌╌╌╌╌╌╌╌╌╌╌╌╌╌╌╌╌╌╌╌╌╌╌╌╌╌╌╌╌╌╌╌╌╌╌╌╌╌╌╌╌╌╌╌╌╌╌╌╌╌╌╌╌╌╌╌╌╌╌╌╌╌╌╌╌╌╌╌╌╌╌╌╌╌╌╌╌╌╌╌┼╌╌╌╌╌╌╌╌╌┼╌╌╌╌╌╌╌╌╌╌╌╌╌╌╌╌╌╌╌╌┼╌╌╌╌╌╌╌╌┤\n│ protein measurement                                          ┆ http://www.ebi.ac.uk/efo/EFO_0004747                                                                                     ┆ 5242    ┆ 3814               ┆ 5242   │\n├╌╌╌╌╌╌╌╌╌╌╌╌╌╌╌╌╌╌╌╌╌╌╌╌╌╌╌╌╌╌╌╌╌╌╌╌╌╌╌╌╌╌╌╌╌╌╌╌╌╌╌╌╌╌╌╌╌╌╌╌╌╌┼╌╌╌╌╌╌╌╌╌╌╌╌╌╌╌╌╌╌╌╌╌╌╌╌╌╌╌╌╌╌╌╌╌╌╌╌╌╌╌╌╌╌╌╌╌╌╌╌╌╌╌╌╌╌╌╌╌╌╌╌╌╌╌╌╌╌╌╌╌╌╌╌╌╌╌╌╌╌╌╌╌╌╌╌╌╌╌╌╌╌╌╌╌╌╌╌╌╌╌╌╌╌╌╌╌╌╌╌╌╌╌╌╌╌╌╌╌╌╌╌╌╌┼╌╌╌╌╌╌╌╌╌┼╌╌╌╌╌╌╌╌╌╌╌╌╌╌╌╌╌╌╌╌┼╌╌╌╌╌╌╌╌┤\n│ metabolite measurement                                       ┆ http://www.ebi.ac.uk/efo/EFO_0004725                                                                                     ┆ 3040    ┆ 2776               ┆ 3040   │\n├╌╌╌╌╌╌╌╌╌╌╌╌╌╌╌╌╌╌╌╌╌╌╌╌╌╌╌╌╌╌╌╌╌╌╌╌╌╌╌╌╌╌╌╌╌╌╌╌╌╌╌╌╌╌╌╌╌╌╌╌╌╌┼╌╌╌╌╌╌╌╌╌╌╌╌╌╌╌╌╌╌╌╌╌╌╌╌╌╌╌╌╌╌╌╌╌╌╌╌╌╌╌╌╌╌╌╌╌╌╌╌╌╌╌╌╌╌╌╌╌╌╌╌╌╌╌╌╌╌╌╌╌╌╌╌╌╌╌╌╌╌╌╌╌╌╌╌╌╌╌╌╌╌╌╌╌╌╌╌╌╌╌╌╌╌╌╌╌╌╌╌╌╌╌╌╌╌╌╌╌╌╌╌╌╌┼╌╌╌╌╌╌╌╌╌┼╌╌╌╌╌╌╌╌╌╌╌╌╌╌╌╌╌╌╌╌┼╌╌╌╌╌╌╌╌┤\n│ gut microbiome measurement                                   ┆ http://www.ebi.ac.uk/efo/EFO_0007874                                                                                     ┆ 2300    ┆ 6547               ┆ 2300   │\n├╌╌╌╌╌╌╌╌╌╌╌╌╌╌╌╌╌╌╌╌╌╌╌╌╌╌╌╌╌╌╌╌╌╌╌╌╌╌╌╌╌╌╌╌╌╌╌╌╌╌╌╌╌╌╌╌╌╌╌╌╌╌┼╌╌╌╌╌╌╌╌╌╌╌╌╌╌╌╌╌╌╌╌╌╌╌╌╌╌╌╌╌╌╌╌╌╌╌╌╌╌╌╌╌╌╌╌╌╌╌╌╌╌╌╌╌╌╌╌╌╌╌╌╌╌╌╌╌╌╌╌╌╌╌╌╌╌╌╌╌╌╌╌╌╌╌╌╌╌╌╌╌╌╌╌╌╌╌╌╌╌╌╌╌╌╌╌╌╌╌╌╌╌╌╌╌╌╌╌╌╌╌╌╌╌┼╌╌╌╌╌╌╌╌╌┼╌╌╌╌╌╌╌╌╌╌╌╌╌╌╌╌╌╌╌╌┼╌╌╌╌╌╌╌╌┤\n│ functional brain measurement                                 ┆ http://www.ebi.ac.uk/efo/EFO_0007849                                                                                     ┆ 1811    ┆ 147                ┆ 1811   │\n├╌╌╌╌╌╌╌╌╌╌╌╌╌╌╌╌╌╌╌╌╌╌╌╌╌╌╌╌╌╌╌╌╌╌╌╌╌╌╌╌╌╌╌╌╌╌╌╌╌╌╌╌╌╌╌╌╌╌╌╌╌╌┼╌╌╌╌╌╌╌╌╌╌╌╌╌╌╌╌╌╌╌╌╌╌╌╌╌╌╌╌╌╌╌╌╌╌╌╌╌╌╌╌╌╌╌╌╌╌╌╌╌╌╌╌╌╌╌╌╌╌╌╌╌╌╌╌╌╌╌╌╌╌╌╌╌╌╌╌╌╌╌╌╌╌╌╌╌╌╌╌╌╌╌╌╌╌╌╌╌╌╌╌╌╌╌╌╌╌╌╌╌╌╌╌╌╌╌╌╌╌╌╌╌╌┼╌╌╌╌╌╌╌╌╌┼╌╌╌╌╌╌╌╌╌╌╌╌╌╌╌╌╌╌╌╌┼╌╌╌╌╌╌╌╌┤\n│ brain connectivity measurement                               ┆ http://www.ebi.ac.uk/efo/EFO_0005210                                                                                     ┆ 1706    ┆ 100                ┆ 1706   │\n├╌╌╌╌╌╌╌╌╌╌╌╌╌╌╌╌╌╌╌╌╌╌╌╌╌╌╌╌╌╌╌╌╌╌╌╌╌╌╌╌╌╌╌╌╌╌╌╌╌╌╌╌╌╌╌╌╌╌╌╌╌╌┼╌╌╌╌╌╌╌╌╌╌╌╌╌╌╌╌╌╌╌╌╌╌╌╌╌╌╌╌╌╌╌╌╌╌╌╌╌╌╌╌╌╌╌╌╌╌╌╌╌╌╌╌╌╌╌╌╌╌╌╌╌╌╌╌╌╌╌╌╌╌╌╌╌╌╌╌╌╌╌╌╌╌╌╌╌╌╌╌╌╌╌╌╌╌╌╌╌╌╌╌╌╌╌╌╌╌╌╌╌╌╌╌╌╌╌╌╌╌╌╌╌╌┼╌╌╌╌╌╌╌╌╌┼╌╌╌╌╌╌╌╌╌╌╌╌╌╌╌╌╌╌╌╌┼╌╌╌╌╌╌╌╌┤\n│ phosphatidylcholine measurement                              ┆ http://www.ebi.ac.uk/efo/EFO_0010226                                                                                     ┆ 733     ┆ 4805               ┆ 733    │\n├╌╌╌╌╌╌╌╌╌╌╌╌╌╌╌╌╌╌╌╌╌╌╌╌╌╌╌╌╌╌╌╌╌╌╌╌╌╌╌╌╌╌╌╌╌╌╌╌╌╌╌╌╌╌╌╌╌╌╌╌╌╌┼╌╌╌╌╌╌╌╌╌╌╌╌╌╌╌╌╌╌╌╌╌╌╌╌╌╌╌╌╌╌╌╌╌╌╌╌╌╌╌╌╌╌╌╌╌╌╌╌╌╌╌╌╌╌╌╌╌╌╌╌╌╌╌╌╌╌╌╌╌╌╌╌╌╌╌╌╌╌╌╌╌╌╌╌╌╌╌╌╌╌╌╌╌╌╌╌╌╌╌╌╌╌╌╌╌╌╌╌╌╌╌╌╌╌╌╌╌╌╌╌╌╌┼╌╌╌╌╌╌╌╌╌┼╌╌╌╌╌╌╌╌╌╌╌╌╌╌╌╌╌╌╌╌┼╌╌╌╌╌╌╌╌┤\n│ clinical treatment                                           ┆ http://www.ebi.ac.uk/efo/EFO_0007056                                                                                     ┆ 687     ┆ 31                 ┆ 687    │\n├╌╌╌╌╌╌╌╌╌╌╌╌╌╌╌╌╌╌╌╌╌╌╌╌╌╌╌╌╌╌╌╌╌╌╌╌╌╌╌╌╌╌╌╌╌╌╌╌╌╌╌╌╌╌╌╌╌╌╌╌╌╌┼╌╌╌╌╌╌╌╌╌╌╌╌╌╌╌╌╌╌╌╌╌╌╌╌╌╌╌╌╌╌╌╌╌╌╌╌╌╌╌╌╌╌╌╌╌╌╌╌╌╌╌╌╌╌╌╌╌╌╌╌╌╌╌╌╌╌╌╌╌╌╌╌╌╌╌╌╌╌╌╌╌╌╌╌╌╌╌╌╌╌╌╌╌╌╌╌╌╌╌╌╌╌╌╌╌╌╌╌╌╌╌╌╌╌╌╌╌╌╌╌╌╌┼╌╌╌╌╌╌╌╌╌┼╌╌╌╌╌╌╌╌╌╌╌╌╌╌╌╌╌╌╌╌┼╌╌╌╌╌╌╌╌┤\n│ employment status                                            ┆ http://www.ebi.ac.uk/efo/EFO_0005241                                                                                     ┆ 687     ┆ 10                 ┆ 687    │\n├╌╌╌╌╌╌╌╌╌╌╌╌╌╌╌╌╌╌╌╌╌╌╌╌╌╌╌╌╌╌╌╌╌╌╌╌╌╌╌╌╌╌╌╌╌╌╌╌╌╌╌╌╌╌╌╌╌╌╌╌╌╌┼╌╌╌╌╌╌╌╌╌╌╌╌╌╌╌╌╌╌╌╌╌╌╌╌╌╌╌╌╌╌╌╌╌╌╌╌╌╌╌╌╌╌╌╌╌╌╌╌╌╌╌╌╌╌╌╌╌╌╌╌╌╌╌╌╌╌╌╌╌╌╌╌╌╌╌╌╌╌╌╌╌╌╌╌╌╌╌╌╌╌╌╌╌╌╌╌╌╌╌╌╌╌╌╌╌╌╌╌╌╌╌╌╌╌╌╌╌╌╌╌╌╌┼╌╌╌╌╌╌╌╌╌┼╌╌╌╌╌╌╌╌╌╌╌╌╌╌╌╌╌╌╌╌┼╌╌╌╌╌╌╌╌┤\n│ brain volume measurement                                     ┆ http://www.ebi.ac.uk/efo/EFO_0006930                                                                                     ┆ 657     ┆ 1847               ┆ 657    │\n├╌╌╌╌╌╌╌╌╌╌╌╌╌╌╌╌╌╌╌╌╌╌╌╌╌╌╌╌╌╌╌╌╌╌╌╌╌╌╌╌╌╌╌╌╌╌╌╌╌╌╌╌╌╌╌╌╌╌╌╌╌╌┼╌╌╌╌╌╌╌╌╌╌╌╌╌╌╌╌╌╌╌╌╌╌╌╌╌╌╌╌╌╌╌╌╌╌╌╌╌╌╌╌╌╌╌╌╌╌╌╌╌╌╌╌╌╌╌╌╌╌╌╌╌╌╌╌╌╌╌╌╌╌╌╌╌╌╌╌╌╌╌╌╌╌╌╌╌╌╌╌╌╌╌╌╌╌╌╌╌╌╌╌╌╌╌╌╌╌╌╌╌╌╌╌╌╌╌╌╌╌╌╌╌╌┼╌╌╌╌╌╌╌╌╌┼╌╌╌╌╌╌╌╌╌╌╌╌╌╌╌╌╌╌╌╌┼╌╌╌╌╌╌╌╌┤\n│ ...                                                          ┆ ...                                                                                                                      ┆ ...     ┆ ...                ┆ ...    │\n├╌╌╌╌╌╌╌╌╌╌╌╌╌╌╌╌╌╌╌╌╌╌╌╌╌╌╌╌╌╌╌╌╌╌╌╌╌╌╌╌╌╌╌╌╌╌╌╌╌╌╌╌╌╌╌╌╌╌╌╌╌╌┼╌╌╌╌╌╌╌╌╌╌╌╌╌╌╌╌╌╌╌╌╌╌╌╌╌╌╌╌╌╌╌╌╌╌╌╌╌╌╌╌╌╌╌╌╌╌╌╌╌╌╌╌╌╌╌╌╌╌╌╌╌╌╌╌╌╌╌╌╌╌╌╌╌╌╌╌╌╌╌╌╌╌╌╌╌╌╌╌╌╌╌╌╌╌╌╌╌╌╌╌╌╌╌╌╌╌╌╌╌╌╌╌╌╌╌╌╌╌╌╌╌╌┼╌╌╌╌╌╌╌╌╌┼╌╌╌╌╌╌╌╌╌╌╌╌╌╌╌╌╌╌╌╌┼╌╌╌╌╌╌╌╌┤\n│ total cholesterol measurement, total campesterol measurement ┆ http://www.ebi.ac.uk/efo/EFO_0004574, http://www.ebi.ac.uk/efo/EFO_0020962                                               ┆ 1       ┆ 0                  ┆ 1      │\n├╌╌╌╌╌╌╌╌╌╌╌╌╌╌╌╌╌╌╌╌╌╌╌╌╌╌╌╌╌╌╌╌╌╌╌╌╌╌╌╌╌╌╌╌╌╌╌╌╌╌╌╌╌╌╌╌╌╌╌╌╌╌┼╌╌╌╌╌╌╌╌╌╌╌╌╌╌╌╌╌╌╌╌╌╌╌╌╌╌╌╌╌╌╌╌╌╌╌╌╌╌╌╌╌╌╌╌╌╌╌╌╌╌╌╌╌╌╌╌╌╌╌╌╌╌╌╌╌╌╌╌╌╌╌╌╌╌╌╌╌╌╌╌╌╌╌╌╌╌╌╌╌╌╌╌╌╌╌╌╌╌╌╌╌╌╌╌╌╌╌╌╌╌╌╌╌╌╌╌╌╌╌╌╌╌┼╌╌╌╌╌╌╌╌╌┼╌╌╌╌╌╌╌╌╌╌╌╌╌╌╌╌╌╌╌╌┼╌╌╌╌╌╌╌╌┤\n│ phytanate measurement                                        ┆ http://www.ebi.ac.uk/efo/EFO_0801065                                                                                     ┆ 1       ┆ 0                  ┆ 1      │\n├╌╌╌╌╌╌╌╌╌╌╌╌╌╌╌╌╌╌╌╌╌╌╌╌╌╌╌╌╌╌╌╌╌╌╌╌╌╌╌╌╌╌╌╌╌╌╌╌╌╌╌╌╌╌╌╌╌╌╌╌╌╌┼╌╌╌╌╌╌╌╌╌╌╌╌╌╌╌╌╌╌╌╌╌╌╌╌╌╌╌╌╌╌╌╌╌╌╌╌╌╌╌╌╌╌╌╌╌╌╌╌╌╌╌╌╌╌╌╌╌╌╌╌╌╌╌╌╌╌╌╌╌╌╌╌╌╌╌╌╌╌╌╌╌╌╌╌╌╌╌╌╌╌╌╌╌╌╌╌╌╌╌╌╌╌╌╌╌╌╌╌╌╌╌╌╌╌╌╌╌╌╌╌╌╌┼╌╌╌╌╌╌╌╌╌┼╌╌╌╌╌╌╌╌╌╌╌╌╌╌╌╌╌╌╌╌┼╌╌╌╌╌╌╌╌┤\n│ psychotic symptoms, response to anticonvulsant               ┆ http://www.ebi.ac.uk/efo/EFO_0005940, http://purl.obolibrary.org/obo/GO_0036277                                          ┆ 1       ┆ 0                  ┆ 1      │\n├╌╌╌╌╌╌╌╌╌╌╌╌╌╌╌╌╌╌╌╌╌╌╌╌╌╌╌╌╌╌╌╌╌╌╌╌╌╌╌╌╌╌╌╌╌╌╌╌╌╌╌╌╌╌╌╌╌╌╌╌╌╌┼╌╌╌╌╌╌╌╌╌╌╌╌╌╌╌╌╌╌╌╌╌╌╌╌╌╌╌╌╌╌╌╌╌╌╌╌╌╌╌╌╌╌╌╌╌╌╌╌╌╌╌╌╌╌╌╌╌╌╌╌╌╌╌╌╌╌╌╌╌╌╌╌╌╌╌╌╌╌╌╌╌╌╌╌╌╌╌╌╌╌╌╌╌╌╌╌╌╌╌╌╌╌╌╌╌╌╌╌╌╌╌╌╌╌╌╌╌╌╌╌╌╌┼╌╌╌╌╌╌╌╌╌┼╌╌╌╌╌╌╌╌╌╌╌╌╌╌╌╌╌╌╌╌┼╌╌╌╌╌╌╌╌┤\n│ X-17351 measurement                                          ┆ http://www.ebi.ac.uk/efo/EFO_0800774                                                                                     ┆ 1       ┆ 0                  ┆ 1      │\n├╌╌╌╌╌╌╌╌╌╌╌╌╌╌╌╌╌╌╌╌╌╌╌╌╌╌╌╌╌╌╌╌╌╌╌╌╌╌╌╌╌╌╌╌╌╌╌╌╌╌╌╌╌╌╌╌╌╌╌╌╌╌┼╌╌╌╌╌╌╌╌╌╌╌╌╌╌╌╌╌╌╌╌╌╌╌╌╌╌╌╌╌╌╌╌╌╌╌╌╌╌╌╌╌╌╌╌╌╌╌╌╌╌╌╌╌╌╌╌╌╌╌╌╌╌╌╌╌╌╌╌╌╌╌╌╌╌╌╌╌╌╌╌╌╌╌╌╌╌╌╌╌╌╌╌╌╌╌╌╌╌╌╌╌╌╌╌╌╌╌╌╌╌╌╌╌╌╌╌╌╌╌╌╌╌┼╌╌╌╌╌╌╌╌╌┼╌╌╌╌╌╌╌╌╌╌╌╌╌╌╌╌╌╌╌╌┼╌╌╌╌╌╌╌╌┤\n│ X-24970 measurement                                          ┆ http://www.ebi.ac.uk/efo/EFO_0800913                                                                                     ┆ 1       ┆ 0                  ┆ 1      │\n├╌╌╌╌╌╌╌╌╌╌╌╌╌╌╌╌╌╌╌╌╌╌╌╌╌╌╌╌╌╌╌╌╌╌╌╌╌╌╌╌╌╌╌╌╌╌╌╌╌╌╌╌╌╌╌╌╌╌╌╌╌╌┼╌╌╌╌╌╌╌╌╌╌╌╌╌╌╌╌╌╌╌╌╌╌╌╌╌╌╌╌╌╌╌╌╌╌╌╌╌╌╌╌╌╌╌╌╌╌╌╌╌╌╌╌╌╌╌╌╌╌╌╌╌╌╌╌╌╌╌╌╌╌╌╌╌╌╌╌╌╌╌╌╌╌╌╌╌╌╌╌╌╌╌╌╌╌╌╌╌╌╌╌╌╌╌╌╌╌╌╌╌╌╌╌╌╌╌╌╌╌╌╌╌╌┼╌╌╌╌╌╌╌╌╌┼╌╌╌╌╌╌╌╌╌╌╌╌╌╌╌╌╌╌╌╌┼╌╌╌╌╌╌╌╌┤\n│ X-17690 measurement                                          ┆ http://www.ebi.ac.uk/efo/EFO_0800788                                                                                     ┆ 1       ┆ 0                  ┆ 1      │\n├╌╌╌╌╌╌╌╌╌╌╌╌╌╌╌╌╌╌╌╌╌╌╌╌╌╌╌╌╌╌╌╌╌╌╌╌╌╌╌╌╌╌╌╌╌╌╌╌╌╌╌╌╌╌╌╌╌╌╌╌╌╌┼╌╌╌╌╌╌╌╌╌╌╌╌╌╌╌╌╌╌╌╌╌╌╌╌╌╌╌╌╌╌╌╌╌╌╌╌╌╌╌╌╌╌╌╌╌╌╌╌╌╌╌╌╌╌╌╌╌╌╌╌╌╌╌╌╌╌╌╌╌╌╌╌╌╌╌╌╌╌╌╌╌╌╌╌╌╌╌╌╌╌╌╌╌╌╌╌╌╌╌╌╌╌╌╌╌╌╌╌╌╌╌╌╌╌╌╌╌╌╌╌╌╌┼╌╌╌╌╌╌╌╌╌┼╌╌╌╌╌╌╌╌╌╌╌╌╌╌╌╌╌╌╌╌┼╌╌╌╌╌╌╌╌┤\n│ disorder of ear                                              ┆ http://purl.obolibrary.org/obo/MONDO_0021205                                                                             ┆ 1       ┆ 0                  ┆ 1      │\n├╌╌╌╌╌╌╌╌╌╌╌╌╌╌╌╌╌╌╌╌╌╌╌╌╌╌╌╌╌╌╌╌╌╌╌╌╌╌╌╌╌╌╌╌╌╌╌╌╌╌╌╌╌╌╌╌╌╌╌╌╌╌┼╌╌╌╌╌╌╌╌╌╌╌╌╌╌╌╌╌╌╌╌╌╌╌╌╌╌╌╌╌╌╌╌╌╌╌╌╌╌╌╌╌╌╌╌╌╌╌╌╌╌╌╌╌╌╌╌╌╌╌╌╌╌╌╌╌╌╌╌╌╌╌╌╌╌╌╌╌╌╌╌╌╌╌╌╌╌╌╌╌╌╌╌╌╌╌╌╌╌╌╌╌╌╌╌╌╌╌╌╌╌╌╌╌╌╌╌╌╌╌╌╌╌┼╌╌╌╌╌╌╌╌╌┼╌╌╌╌╌╌╌╌╌╌╌╌╌╌╌╌╌╌╌╌┼╌╌╌╌╌╌╌╌┤\n│ type 2 diabetes mellitus, obesity, coronary artery disease   ┆ http://purl.obolibrary.org/obo/MONDO_0005148, http://www.ebi.ac.uk/efo/EFO_0001073, http://www.ebi.ac.uk/efo/EFO_0001645 ┆ 1       ┆ 0                  ┆ 1      │\n├╌╌╌╌╌╌╌╌╌╌╌╌╌╌╌╌╌╌╌╌╌╌╌╌╌╌╌╌╌╌╌╌╌╌╌╌╌╌╌╌╌╌╌╌╌╌╌╌╌╌╌╌╌╌╌╌╌╌╌╌╌╌┼╌╌╌╌╌╌╌╌╌╌╌╌╌╌╌╌╌╌╌╌╌╌╌╌╌╌╌╌╌╌╌╌╌╌╌╌╌╌╌╌╌╌╌╌╌╌╌╌╌╌╌╌╌╌╌╌╌╌╌╌╌╌╌╌╌╌╌╌╌╌╌╌╌╌╌╌╌╌╌╌╌╌╌╌╌╌╌╌╌╌╌╌╌╌╌╌╌╌╌╌╌╌╌╌╌╌╌╌╌╌╌╌╌╌╌╌╌╌╌╌╌╌┼╌╌╌╌╌╌╌╌╌┼╌╌╌╌╌╌╌╌╌╌╌╌╌╌╌╌╌╌╌╌┼╌╌╌╌╌╌╌╌┤\n│ familial hypercholesterolemia                                ┆ http://www.ebi.ac.uk/efo/EFO_0004911                                                                                     ┆ 1       ┆ 0                  ┆ 1      │\n├╌╌╌╌╌╌╌╌╌╌╌╌╌╌╌╌╌╌╌╌╌╌╌╌╌╌╌╌╌╌╌╌╌╌╌╌╌╌╌╌╌╌╌╌╌╌╌╌╌╌╌╌╌╌╌╌╌╌╌╌╌╌┼╌╌╌╌╌╌╌╌╌╌╌╌╌╌╌╌╌╌╌╌╌╌╌╌╌╌╌╌╌╌╌╌╌╌╌╌╌╌╌╌╌╌╌╌╌╌╌╌╌╌╌╌╌╌╌╌╌╌╌╌╌╌╌╌╌╌╌╌╌╌╌╌╌╌╌╌╌╌╌╌╌╌╌╌╌╌╌╌╌╌╌╌╌╌╌╌╌╌╌╌╌╌╌╌╌╌╌╌╌╌╌╌╌╌╌╌╌╌╌╌╌╌┼╌╌╌╌╌╌╌╌╌┼╌╌╌╌╌╌╌╌╌╌╌╌╌╌╌╌╌╌╌╌┼╌╌╌╌╌╌╌╌┤\n│ survival time, lymphoid leukemia                             ┆ http://www.ebi.ac.uk/efo/EFO_0000714, http://www.ebi.ac.uk/efo/EFO_0004289                                               ┆ 1       ┆ 0                  ┆ 1      │\n└──────────────────────────────────────────────────────────────┴──────────────────────────────────────────────────────────────────────────────────────────────────────────────────────────┴─────────┴────────────────────┴────────┘",
      "text/html": "<div>\n<style scoped>\n    .dataframe tbody tr th:only-of-type {\n        vertical-align: middle;\n    }\n\n    .dataframe tbody tr th {\n        vertical-align: top;\n    }\n\n    .dataframe thead th {\n        text-align: right;\n    }\n\n    .dataframe td {\n        white-space: pre;\n    }\n\n    .dataframe td {\n        padding-top: 0;\n    }\n\n    .dataframe td {\n        padding-bottom: 0;\n    }\n\n    .dataframe td {\n        line-height: 95%;\n    }\n</style>\n<table border=\"1\" class=\"dataframe\" >\n<small>shape: (8961, 5)</small>\n<thead>\n<tr>\n<th>\ntrait\n</th>\n<th>\ntrait_uri\n</th>\n<th>\nstudies\n</th>\n<th>\nassociation_counts\n</th>\n<th>\npapers\n</th>\n</tr>\n<tr>\n<td>\nstr\n</td>\n<td>\nstr\n</td>\n<td>\nu32\n</td>\n<td>\ni64\n</td>\n<td>\nu32\n</td>\n</tr>\n</thead>\n<tbody>\n<tr>\n<td>\n&quot;blood protein measurement&quot;\n</td>\n<td>\n&quot;http://www.ebi.ac.uk/efo/EFO_0007937&quot;\n</td>\n<td>\n5354\n</td>\n<td>\n8587\n</td>\n<td>\n5354\n</td>\n</tr>\n<tr>\n<td>\n&quot;protein measurement&quot;\n</td>\n<td>\n&quot;http://www.ebi.ac.uk/efo/EFO_0004747&quot;\n</td>\n<td>\n5242\n</td>\n<td>\n3814\n</td>\n<td>\n5242\n</td>\n</tr>\n<tr>\n<td>\n&quot;metabolite measurement&quot;\n</td>\n<td>\n&quot;http://www.ebi.ac.uk/efo/EFO_0004725&quot;\n</td>\n<td>\n3040\n</td>\n<td>\n2776\n</td>\n<td>\n3040\n</td>\n</tr>\n<tr>\n<td>\n&quot;gut microbiome measurement&quot;\n</td>\n<td>\n&quot;http://www.ebi.ac.uk/efo/EFO_0007874&quot;\n</td>\n<td>\n2300\n</td>\n<td>\n6547\n</td>\n<td>\n2300\n</td>\n</tr>\n<tr>\n<td>\n&quot;functional brain measurement&quot;\n</td>\n<td>\n&quot;http://www.ebi.ac.uk/efo/EFO_0007849&quot;\n</td>\n<td>\n1811\n</td>\n<td>\n147\n</td>\n<td>\n1811\n</td>\n</tr>\n<tr>\n<td>\n&quot;brain connectivity measurement&quot;\n</td>\n<td>\n&quot;http://www.ebi.ac.uk/efo/EFO_0005210&quot;\n</td>\n<td>\n1706\n</td>\n<td>\n100\n</td>\n<td>\n1706\n</td>\n</tr>\n<tr>\n<td>\n&quot;phosphatidylcholine measurement&quot;\n</td>\n<td>\n&quot;http://www.ebi.ac.uk/efo/EFO_0010226&quot;\n</td>\n<td>\n733\n</td>\n<td>\n4805\n</td>\n<td>\n733\n</td>\n</tr>\n<tr>\n<td>\n&quot;clinical treatment&quot;\n</td>\n<td>\n&quot;http://www.ebi.ac.uk/efo/EFO_0007056&quot;\n</td>\n<td>\n687\n</td>\n<td>\n31\n</td>\n<td>\n687\n</td>\n</tr>\n<tr>\n<td>\n&quot;employment status&quot;\n</td>\n<td>\n&quot;http://www.ebi.ac.uk/efo/EFO_0005241&quot;\n</td>\n<td>\n687\n</td>\n<td>\n10\n</td>\n<td>\n687\n</td>\n</tr>\n<tr>\n<td>\n&quot;brain volume measurement&quot;\n</td>\n<td>\n&quot;http://www.ebi.ac.uk/efo/EFO_0006930&quot;\n</td>\n<td>\n657\n</td>\n<td>\n1847\n</td>\n<td>\n657\n</td>\n</tr>\n<tr>\n<td>\n...\n</td>\n<td>\n...\n</td>\n<td>\n...\n</td>\n<td>\n...\n</td>\n<td>\n...\n</td>\n</tr>\n<tr>\n<td>\n&quot;total cholesterol measurement, total campesterol measurement&quot;\n</td>\n<td>\n&quot;http://www.ebi.ac.uk/efo/EFO_0004574, http://www.ebi.ac.uk/efo/EFO_0020962&quot;\n</td>\n<td>\n1\n</td>\n<td>\n0\n</td>\n<td>\n1\n</td>\n</tr>\n<tr>\n<td>\n&quot;phytanate measurement&quot;\n</td>\n<td>\n&quot;http://www.ebi.ac.uk/efo/EFO_0801065&quot;\n</td>\n<td>\n1\n</td>\n<td>\n0\n</td>\n<td>\n1\n</td>\n</tr>\n<tr>\n<td>\n&quot;psychotic symptoms, response to anticonvulsant&quot;\n</td>\n<td>\n&quot;http://www.ebi.ac.uk/efo/EFO_0005940, http://purl.obolibrary.org/obo/GO_0036277&quot;\n</td>\n<td>\n1\n</td>\n<td>\n0\n</td>\n<td>\n1\n</td>\n</tr>\n<tr>\n<td>\n&quot;X-17351 measurement&quot;\n</td>\n<td>\n&quot;http://www.ebi.ac.uk/efo/EFO_0800774&quot;\n</td>\n<td>\n1\n</td>\n<td>\n0\n</td>\n<td>\n1\n</td>\n</tr>\n<tr>\n<td>\n&quot;X-24970 measurement&quot;\n</td>\n<td>\n&quot;http://www.ebi.ac.uk/efo/EFO_0800913&quot;\n</td>\n<td>\n1\n</td>\n<td>\n0\n</td>\n<td>\n1\n</td>\n</tr>\n<tr>\n<td>\n&quot;X-17690 measurement&quot;\n</td>\n<td>\n&quot;http://www.ebi.ac.uk/efo/EFO_0800788&quot;\n</td>\n<td>\n1\n</td>\n<td>\n0\n</td>\n<td>\n1\n</td>\n</tr>\n<tr>\n<td>\n&quot;disorder of ear&quot;\n</td>\n<td>\n&quot;http://purl.obolibrary.org/obo/MONDO_0021205&quot;\n</td>\n<td>\n1\n</td>\n<td>\n0\n</td>\n<td>\n1\n</td>\n</tr>\n<tr>\n<td>\n&quot;type 2 diabetes mellitus, obesity, coronary artery disease&quot;\n</td>\n<td>\n&quot;http://purl.obolibrary.org/obo/MONDO_0005148, http://www.ebi.ac.uk/efo/EFO_0001073, http://www.ebi.ac.uk/efo/EFO_0001645&quot;\n</td>\n<td>\n1\n</td>\n<td>\n0\n</td>\n<td>\n1\n</td>\n</tr>\n<tr>\n<td>\n&quot;familial hypercholesterolemia&quot;\n</td>\n<td>\n&quot;http://www.ebi.ac.uk/efo/EFO_0004911&quot;\n</td>\n<td>\n1\n</td>\n<td>\n0\n</td>\n<td>\n1\n</td>\n</tr>\n<tr>\n<td>\n&quot;survival time, lymphoid leukemia&quot;\n</td>\n<td>\n&quot;http://www.ebi.ac.uk/efo/EFO_0000714, http://www.ebi.ac.uk/efo/EFO_0004289&quot;\n</td>\n<td>\n1\n</td>\n<td>\n0\n</td>\n<td>\n1\n</td>\n</tr>\n</tbody>\n</table>\n</div>"
     },
     "execution_count": 13,
     "metadata": {},
     "output_type": "execute_result"
    }
   ],
   "source": [
    "traits = gwas\\\n",
    "    .groupby([pl.col(\"MAPPED_TRAIT\").alias(\"trait\"), pl.col(\"MAPPED_TRAIT_URI\").alias(\"trait_uri\")])\\\n",
    "    .agg([pl.count(\"STUDY ACCESSION\").alias(\"studies\"), pl.sum(\"ASSOCIATION COUNT\").alias(\"association_counts\"), pl.count(\"PUBMED ID\").alias(\"papers\")])\\\n",
    "    .sort([\"studies\",\"association_counts\", \"papers\"], True)\n",
    "traits"
   ],
   "metadata": {
    "collapsed": false
   }
  },
  {
   "cell_type": "code",
   "execution_count": 14,
   "outputs": [],
   "source": [
    "traits.write_csv(\"/home/antonkulaga/Downloads/TRAITS.tsv\", sep=\"\\t\")"
   ],
   "metadata": {
    "collapsed": false
   }
  },
  {
   "cell_type": "code",
   "execution_count": null,
   "outputs": [],
   "source": [
    "no_measure = traits.filter(~pl.col(\"trait\").str.contains(\"measurement\") & ~pl.col(\"trait\").str.contains(\"count\"))\n",
    "    no_measure .write_csv(\"/home/antonkulaga/Downloads/traits_no_measurement.tsv\",  sep=\"\\t\")\n",
    "no_measure#%%\n",
    "import polars as pl\n",
    "from pathlib import Path\n",
    "from pycomfort.files import *\n",
    "from pycomfort import files\n",
    "import pyarrow\n",
    "import pandas as pd\n",
    "from functional import seq\n",
    "from typing import *\n",
    "import functools"
   ],
   "metadata": {
    "collapsed": false
   }
  },
  {
   "cell_type": "code",
   "execution_count": null,
   "outputs": [],
   "source": [
    "pl.Config.set_tbl_width_chars(10000)\n",
    "pl.Config.set_fmt_str_lengths(1000)\n",
    "pl.Config.set_tbl_rows(20)"
   ],
   "metadata": {
    "collapsed": false
   }
  },
  {
   "cell_type": "code",
   "execution_count": null,
   "outputs": [],
   "source": [
    "gwas = pl.read_csv(\"/home/antonkulaga/Downloads/gwas-catalog-v1.0.3-studies-r2022-12-15.tsv\", sep=\"\\t\")\n",
    "gwas.head()"
   ],
   "metadata": {
    "collapsed": false
   }
  },
  {
   "cell_type": "code",
   "execution_count": null,
   "outputs": [],
   "source": [
    "traits = gwas\\\n",
    "    .groupby([pl.col(\"MAPPED_TRAIT\").alias(\"trait\"), pl.col(\"MAPPED_TRAIT_URI\").alias(\"trait_uri\")])\\\n",
    "    .agg([pl.count(\"STUDY ACCESSION\").alias(\"studies\"), pl.sum(\"ASSOCIATION COUNT\").alias(\"association_counts\"), pl.count(\"PUBMED ID\").alias(\"papers\")])\\\n",
    "    .sort([\"studies\",\"association_counts\", \"papers\"], True)\n",
    "traits"
   ],
   "metadata": {
    "collapsed": false
   }
  },
  {
   "cell_type": "code",
   "execution_count": null,
   "outputs": [],
   "source": [
    "traits.write_csv(\"/home/antonkulaga/Downloads/TRAITS.tsv\", sep=\"\\t\")"
   ],
   "metadata": {
    "collapsed": false
   }
  },
  {
   "cell_type": "code",
   "execution_count": 20,
   "outputs": [
    {
     "data": {
      "text/plain": "(3325, 5)"
     },
     "execution_count": 20,
     "metadata": {},
     "output_type": "execute_result"
    }
   ],
   "source": [
    "no_measure = traits.filter(~pl.col(\"trait\").str.contains(\"measurement\") & ~pl.col(\"trait\").str.contains(\"count\"))\n",
    "no_measure .write_csv(\"/home/antonkulaga/Downloads/traits_no_measurement.tsv\",  sep=\"\\t\")\n",
    "no_measure.shape"
   ],
   "metadata": {
    "collapsed": false
   }
  },
  {
   "cell_type": "code",
   "execution_count": null,
   "outputs": [],
   "source": [],
   "metadata": {
    "collapsed": false
   }
  },
  {
   "cell_type": "code",
   "execution_count": null,
   "outputs": [],
   "source": [],
   "metadata": {
    "collapsed": false
   }
  }
 ],
 "metadata": {
  "kernelspec": {
   "display_name": "Python 3",
   "language": "python",
   "name": "python3"
  },
  "language_info": {
   "codemirror_mode": {
    "name": "ipython",
    "version": 2
   },
   "file_extension": ".py",
   "mimetype": "text/x-python",
   "name": "python",
   "nbconvert_exporter": "python",
   "pygments_lexer": "ipython2",
   "version": "2.7.6"
  }
 },
 "nbformat": 4,
 "nbformat_minor": 0
}
