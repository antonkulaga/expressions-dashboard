{
 "cells": [
  {
   "cell_type": "markdown",
   "id": "aff6d562-c702-4701-812e-f3179f72b8bd",
   "metadata": {},
   "source": [
    "# Cell lines analisys\n",
    "## Preprocessing notebooks that makes expression matrix analysis for further ##"
   ]
  },
  {
   "cell_type": "code",
   "execution_count": 29,
   "id": "cff657db-8864-4d10-9300-6e546811964b",
   "metadata": {},
   "outputs": [],
   "source": [
    "import polars as pl\n",
    "from pathlib import Path\n",
    "from pycomfort.files import *\n",
    "from pycomfort import files\n",
    "import pyarrow\n",
    "import pandas as pd\n",
    "from functional import seq\n",
    "from typing import *\n",
    "import functools\n",
    "from pycomfort.files import *"
   ]
  },
  {
   "cell_type": "code",
   "execution_count": 30,
   "id": "dccb1c65-e9d8-4e23-8f5c-bd7b7b5a28a0",
   "metadata": {},
   "outputs": [],
   "source": [
    "import genomepy\n",
    "from genotations import *\n",
    "from genotations import ensembl\n",
    "from genotations.genomes import *\n",
    "from genotations.quantification import *"
   ]
  },
  {
   "cell_type": "code",
   "execution_count": 31,
   "id": "acb4a666-0bf2-4fb2-b898-47ee3759e4f2",
   "metadata": {},
   "outputs": [
    {
     "name": "stdout",
     "output_type": "stream",
     "text": [
      "[PosixPath('/home/antonkulaga/sources/expressions-dashboard/dashboard'), '/home/antonkulaga/sources/expressions-dashboard/notebooks/..', PosixPath('/home/antonkulaga/sources/expressions-dashboard/dashboard'), '/home/antonkulaga/sources/expressions-dashboard/notebooks/..', '/home/antonkulaga/.local/share/JetBrains/Toolbox/apps/IDEA-U/ch-0/223.8617.56.plugins/python/helpers-pro/jupyter_debug', '/home/antonkulaga/.local/share/JetBrains/Toolbox/apps/IDEA-U/ch-0/223.8617.56.plugins/python/helpers/pydev', PosixPath('/home/antonkulaga/sources/expressions-dashboard/dashboard'), '/home/antonkulaga/sources/expressions-dashboard/notebooks/..', '/home/antonkulaga/sources/expressions-dashboard/notebooks', '/home/antonkulaga/sources/expressions-dashboard', '/home/antonkulaga/micromamba/envs/dashboard/lib/python310.zip', '/home/antonkulaga/micromamba/envs/dashboard/lib/python3.10', '/home/antonkulaga/micromamba/envs/dashboard/lib/python3.10/lib-dynload', '', '/home/antonkulaga/.local/lib/python3.10/site-packages', '/home/antonkulaga/micromamba/envs/dashboard/lib/python3.10/site-packages']\n",
      "The autoreload extension is already loaded. To reload it, use:\n",
      "  %reload_ext autoreload\n"
     ]
    }
   ],
   "source": [
    "import sys\n",
    "\n",
    "base = Path(\"..\")\n",
    "local = (base / \"dashboard\").resolve()\n",
    "if local.exists():\n",
    "    sys.path.insert(0, Path(\"..\").absolute().as_posix())\n",
    "    sys.path.insert(0, local)\n",
    "    print(sys.path)\n",
    "else:\n",
    "    base = Path(\".\")\n",
    "%load_ext autoreload\n",
    "%autoreload 2"
   ]
  },
  {
   "cell_type": "code",
   "execution_count": 32,
   "id": "e3446737-20a2-4e6c-a981-4800f08e36ee",
   "metadata": {},
   "outputs": [],
   "source": [
    "from dashboard.config import *\n",
    "from dashboard.prepare import *\n",
    "from dashboard.models import *\n",
    "from dashboard.cell_models import *"
   ]
  },
  {
   "cell_type": "code",
   "execution_count": 33,
   "outputs": [],
   "source": [
    "apply_settings()"
   ],
   "metadata": {
    "collapsed": false
   }
  },
  {
   "cell_type": "markdown",
   "id": "ac3c60ee-547a-42f3-99ab-c197884d909a",
   "metadata": {},
   "source": [
    "## Setting up Paths"
   ]
  },
  {
   "cell_type": "code",
   "execution_count": 34,
   "id": "a041a59e-65c1-4462-af2c-e52b34f421a8",
   "metadata": {},
   "outputs": [],
   "source": [
    "locations = Locations(base)"
   ]
  },
  {
   "cell_type": "code",
   "execution_count": 35,
   "outputs": [
    {
     "name": "stdout",
     "output_type": "stream",
     "text": [
      "cell_lines\n",
      "\t.gitignore\n",
      "\tcell_lines_toc.tsv\n",
      "\tSKOV3\n",
      "\t\tSAMN20710031\n",
      "\t\t\tSAMN20710031_header.tsv\n",
      "\t\t\tSAMN20710031_body.tsv\n",
      "\t\t\tSAMN20710031.tsv\n",
      "\t\t\tSAMN20710031.json\n",
      "\t\t\tSRR15414945\n",
      "\t\t\t\tSRR15414945_2.fastq.gz\n",
      "\tTHP-1\n",
      "\t\tSAMN16623488\n",
      "\t\t\tSAMN16623488_header.tsv\n",
      "\t\t\tSAMN16623488_body.tsv\n",
      "\t\t\tSAMN16623488.json\n",
      "\t\t\tSAMN16623488.tsv\n",
      "\t\t\tSRR12964434\n",
      "\t\t\t\tSRR12964434_1.fastq.gz\n",
      "\t\t\t\tSRR12964434_2.fastq.gz\n",
      "\t\t\t\tquant_SRR12964434\n",
      "\t\t\t\t\tcmd_info.json\n",
      "\t\t\t\t\tlib_format_counts.json\n",
      "\t\t\t\t\tquant.sf\n",
      "\t\t\t\t\tquant.genes.sf\n",
      "\t\t\t\t\taux_info\n",
      "\t\t\t\t\t\texpected_bias.gz\n",
      "\t\t\t\t\t\tobserved_bias.gz\n",
      "\t\t\t\t\t\tobserved_bias_3p.gz\n",
      "\t\t\t\t\t\tunmapped_names.txt\n",
      "\t\t\t\t\t\tobs_gc.gz\n",
      "\t\t\t\t\t\tambig_info.tsv\n",
      "\t\t\t\t\t\tmeta_info.json\n",
      "\t\t\t\t\t\texp_gc.gz\n",
      "\t\t\t\t\t\tfld.gz\n",
      "\t\t\t\t\t\tobs5_seq.gz\n",
      "\t\t\t\t\t\texp3_seq.gz\n",
      "\t\t\t\t\t\tobs3_seq.gz\n",
      "\t\t\t\t\t\texp5_seq.gz\n",
      "\t\t\t\t\t\tbootstrap\n",
      "\t\t\t\t\t\t\tnames.tsv.gz\n",
      "\t\t\t\t\t\t\tbootstraps.gz\n",
      "\t\t\t\t\tlogs\n",
      "\t\t\t\t\t\tsalmon_quant.log\n",
      "\t\t\t\t\tlibParams\n",
      "\t\t\t\t\t\tflenDist.txt\n",
      "\t\tSAMN16623489\n",
      "\t\t\tSAMN16623489_body.tsv\n",
      "\t\t\tSAMN16623489.json\n",
      "\t\t\tSAMN16623489.tsv\n",
      "\t\t\tSAMN16623489_header.tsv\n",
      "\t\t\tSRR12964433\n",
      "\t\t\t\tSRR12964433_2.fastq.gz\n",
      "\t\t\t\tSRR12964433_1.fastq.gz\n",
      "\t\t\t\tquant_SRR12964433\n",
      "\t\t\t\t\tcmd_info.json\n",
      "\t\t\t\t\tlib_format_counts.json\n",
      "\t\t\t\t\tquant.sf\n",
      "\t\t\t\t\tquant.genes.sf\n",
      "\t\t\t\t\taux_info\n",
      "\t\t\t\t\t\texpected_bias.gz\n",
      "\t\t\t\t\t\tobserved_bias.gz\n",
      "\t\t\t\t\t\tobserved_bias_3p.gz\n",
      "\t\t\t\t\t\tunmapped_names.txt\n",
      "\t\t\t\t\t\tobs_gc.gz\n",
      "\t\t\t\t\t\tambig_info.tsv\n",
      "\t\t\t\t\t\tmeta_info.json\n",
      "\t\t\t\t\t\texp_gc.gz\n",
      "\t\t\t\t\t\tfld.gz\n",
      "\t\t\t\t\t\tobs5_seq.gz\n",
      "\t\t\t\t\t\texp3_seq.gz\n",
      "\t\t\t\t\t\tobs3_seq.gz\n",
      "\t\t\t\t\t\texp5_seq.gz\n",
      "\t\t\t\t\t\tbootstrap\n",
      "\t\t\t\t\t\t\tnames.tsv.gz\n",
      "\t\t\t\t\t\t\tbootstraps.gz\n",
      "\t\t\t\t\tlogs\n",
      "\t\t\t\t\t\tsalmon_quant.log\n",
      "\t\t\t\t\tlibParams\n",
      "\t\t\t\t\t\tflenDist.txt\n",
      "\t\tSAMN16623487\n",
      "\t\t\tSAMN16623487.json\n",
      "\t\t\tSAMN16623487.tsv\n",
      "\t\t\tSAMN16623487_body.tsv\n",
      "\t\t\tSAMN16623487_header.tsv\n",
      "\t\t\tSRR12964435\n",
      "\t\t\t\tSRR12964435_2.fastq.gz\n",
      "\t\t\t\tSRR12964435_1.fastq.gz\n",
      "\t\t\t\tquant_SRR12964435\n",
      "\t\t\t\t\tcmd_info.json\n",
      "\t\t\t\t\tlib_format_counts.json\n",
      "\t\t\t\t\tquant.sf\n",
      "\t\t\t\t\tquant.genes.sf\n",
      "\t\t\t\t\taux_info\n",
      "\t\t\t\t\t\texpected_bias.gz\n",
      "\t\t\t\t\t\tobserved_bias.gz\n",
      "\t\t\t\t\t\tobserved_bias_3p.gz\n",
      "\t\t\t\t\t\tunmapped_names.txt\n",
      "\t\t\t\t\t\tobs_gc.gz\n",
      "\t\t\t\t\t\tambig_info.tsv\n",
      "\t\t\t\t\t\tmeta_info.json\n",
      "\t\t\t\t\t\texp_gc.gz\n",
      "\t\t\t\t\t\tfld.gz\n",
      "\t\t\t\t\t\tobs5_seq.gz\n",
      "\t\t\t\t\t\texp3_seq.gz\n",
      "\t\t\t\t\t\tobs3_seq.gz\n",
      "\t\t\t\t\t\texp5_seq.gz\n",
      "\t\t\t\t\t\tbootstrap\n",
      "\t\t\t\t\t\t\tnames.tsv.gz\n",
      "\t\t\t\t\t\t\tbootstraps.gz\n",
      "\t\t\t\t\tlogs\n",
      "\t\t\t\t\t\tsalmon_quant.log\n",
      "\t\t\t\t\tlibParams\n",
      "\t\t\t\t\t\tflenDist.txt\n",
      "\tRAW\n"
     ]
    }
   ],
   "source": [
    "tprint(locations.cell_lines)"
   ],
   "metadata": {
    "collapsed": false
   }
  },
  {
   "cell_type": "code",
   "execution_count": 37,
   "outputs": [
    {
     "data": {
      "text/plain": "[PosixPath('../data/inputs/cell_lines/THP-1/SAMN16623488/SRR12964434/quant_SRR12964434'),\n PosixPath('../data/inputs/cell_lines/THP-1/SAMN16623489/SRR12964433/quant_SRR12964433'),\n PosixPath('../data/inputs/cell_lines/THP-1/SAMN16623487/SRR12964435/quant_SRR12964435')]"
     },
     "execution_count": 37,
     "metadata": {},
     "output_type": "execute_result"
    }
   ],
   "source": [
    "traverse(locations.cell_lines, lambda d: d.name.startswith(\"quant_\"))"
   ],
   "metadata": {
    "collapsed": false
   }
  },
  {
   "cell_type": "code",
   "execution_count": 38,
   "outputs": [
    {
     "name": "stdout",
     "output_type": "stream",
     "text": [
      "CELL_LINES\n",
      "\tSKOV3\n",
      "\tEA.hy926\n",
      "\tPANC-1\n",
      "\tMelJuSo\n",
      "\tHEK293T\n",
      "\tB16F1\n",
      "\tCCD-1070Sk\n",
      "\tTHP-1\n",
      "\tA549\n",
      "\tB16F10\n",
      "\tRAW\n"
     ]
    }
   ],
   "source": [
    "samples = Path(\"/home/antonkulaga/samples/CELL_LINES\")\n",
    "tprint(samples, max_depth=1)"
   ],
   "metadata": {
    "collapsed": false
   }
  },
  {
   "cell_type": "markdown",
   "id": "b4fac677-5392-47cb-af43-6eec302d7aca",
   "metadata": {},
   "source": [
    "## Loading data"
   ]
  },
  {
   "cell_type": "code",
   "execution_count": null,
   "id": "cb967432-f81a-4ba2-b1d6-2cd9142a64d5",
   "metadata": {},
   "outputs": [],
   "source": []
  }
 ],
 "metadata": {
  "kernelspec": {
   "display_name": "Python 3 (ipykernel)",
   "language": "python",
   "name": "python3"
  },
  "language_info": {
   "codemirror_mode": {
    "name": "ipython",
    "version": 3
   },
   "file_extension": ".py",
   "mimetype": "text/x-python",
   "name": "python",
   "nbconvert_exporter": "python",
   "pygments_lexer": "ipython3",
   "version": "3.10.8"
  }
 },
 "nbformat": 4,
 "nbformat_minor": 5
}
