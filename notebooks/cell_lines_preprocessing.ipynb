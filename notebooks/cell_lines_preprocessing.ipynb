{
 "cells": [
  {
   "cell_type": "markdown",
   "id": "aff6d562-c702-4701-812e-f3179f72b8bd",
   "metadata": {},
   "source": [
    "# Cell lines analisys\n",
    "## Preprocessing notebooks that makes expression matrix analysis for further ##"
   ]
  },
  {
   "cell_type": "code",
   "execution_count": 19,
   "id": "cff657db-8864-4d10-9300-6e546811964b",
   "metadata": {},
   "outputs": [],
   "source": [
    "import polars as pl\n",
    "from pathlib import Path\n",
    "from pycomfort.files import *\n",
    "from pycomfort import files\n",
    "import pyarrow\n",
    "import pandas as pd\n",
    "from functional import seq\n",
    "from typing import *\n",
    "import functools\n",
    "from pycomfort.files import *"
   ]
  },
  {
   "cell_type": "code",
   "execution_count": 12,
   "id": "dccb1c65-e9d8-4e23-8f5c-bd7b7b5a28a0",
   "metadata": {},
   "outputs": [],
   "source": [
    "import genomepy\n",
    "from genotations import *\n",
    "from genotations import ensembl\n",
    "from genotations.genomes import *\n",
    "from genotations.quantification import *"
   ]
  },
  {
   "cell_type": "code",
   "execution_count": 13,
   "id": "acb4a666-0bf2-4fb2-b898-47ee3759e4f2",
   "metadata": {},
   "outputs": [
    {
     "name": "stdout",
     "output_type": "stream",
     "text": [
      "[PosixPath('/home/antonkulaga/sources/expressions-dashboard/dashboard'), '/home/antonkulaga/sources/expressions-dashboard/notebooks/..', '/home/antonkulaga/.local/share/JetBrains/Toolbox/apps/IDEA-U/ch-0/223.8617.56.plugins/python/helpers-pro/jupyter_debug', '/home/antonkulaga/.local/share/JetBrains/Toolbox/apps/IDEA-U/ch-0/223.8617.56.plugins/python/helpers/pydev', PosixPath('/home/antonkulaga/sources/expressions-dashboard/dashboard'), '/home/antonkulaga/sources/expressions-dashboard/notebooks/..', '/home/antonkulaga/sources/expressions-dashboard/notebooks', '/home/antonkulaga/sources/expressions-dashboard', '/home/antonkulaga/micromamba/envs/dashboard/lib/python310.zip', '/home/antonkulaga/micromamba/envs/dashboard/lib/python3.10', '/home/antonkulaga/micromamba/envs/dashboard/lib/python3.10/lib-dynload', '', '/home/antonkulaga/.local/lib/python3.10/site-packages', '/home/antonkulaga/micromamba/envs/dashboard/lib/python3.10/site-packages']\n",
      "The autoreload extension is already loaded. To reload it, use:\n",
      "  %reload_ext autoreload\n"
     ]
    }
   ],
   "source": [
    "import sys\n",
    "\n",
    "base = Path(\"..\")\n",
    "local = (base / \"dashboard\").resolve()\n",
    "if local.exists():\n",
    "    sys.path.insert(0, Path(\"..\").absolute().as_posix())\n",
    "    sys.path.insert(0, local)\n",
    "    print(sys.path)\n",
    "else:\n",
    "    base = Path(\".\")\n",
    "%load_ext autoreload\n",
    "%autoreload 2"
   ]
  },
  {
   "cell_type": "code",
   "execution_count": 24,
   "id": "e3446737-20a2-4e6c-a981-4800f08e36ee",
   "metadata": {},
   "outputs": [],
   "source": [
    "from dashboard.config import *\n",
    "from dashboard.prepare import *\n",
    "from dashboard.models import *\n",
    "from dashboard.cell_models import *"
   ]
  },
  {
   "cell_type": "code",
   "execution_count": 15,
   "outputs": [],
   "source": [
    "apply_settings()"
   ],
   "metadata": {
    "collapsed": false
   }
  },
  {
   "cell_type": "markdown",
   "id": "ac3c60ee-547a-42f3-99ab-c197884d909a",
   "metadata": {},
   "source": [
    "## Setting up Paths"
   ]
  },
  {
   "cell_type": "code",
   "execution_count": 16,
   "id": "a041a59e-65c1-4462-af2c-e52b34f421a8",
   "metadata": {},
   "outputs": [],
   "source": [
    "locations = Locations(base)"
   ]
  },
  {
   "cell_type": "code",
   "execution_count": 17,
   "outputs": [
    {
     "name": "stdout",
     "output_type": "stream",
     "text": [
      "cell_lines\n",
      "\tcell_lines_toc.tsv\n"
     ]
    }
   ],
   "source": [
    "tprint(locations.cell_lines)"
   ],
   "metadata": {
    "collapsed": false
   }
  },
  {
   "cell_type": "code",
   "execution_count": 22,
   "outputs": [
    {
     "name": "stdout",
     "output_type": "stream",
     "text": [
      "CELL_LINES\n",
      "\tSKOV3\n",
      "\tEA.hy926\n",
      "\tPANC-1\n",
      "\tMelJuSo\n",
      "\tHEK293T\n",
      "\tB16F1\n",
      "\tCCD-1070Sk\n",
      "\tTHP-1\n",
      "\tA549\n",
      "\tB16F10\n",
      "\tRAW\n"
     ]
    }
   ],
   "source": [
    "samples = Path(\"/home/antonkulaga/samples/CELL_LINES\")\n",
    "tprint(samples, max_depth=1)"
   ],
   "metadata": {
    "collapsed": false
   }
  },
  {
   "cell_type": "code",
   "execution_count": 28,
   "outputs": [
    {
     "data": {
      "text/plain": "shape: (11, 10)\n┌────────────────┬───────────────────────────────────────┬─────────┬────────────────────────────────────┬─────┬────────────────┬──────────────────────────────────────────────────────────┬─────────┬──────────────────────┐\n│ Cell line name ┆ URL                                   ┆ Species ┆ Phenotype                          ┆ ... ┆ Modified lines ┆ Owners                                                   ┆ Sources ┆ Commens              │\n│ ---            ┆ ---                                   ┆ ---     ┆ ---                                ┆     ┆ ---            ┆ ---                                                      ┆ ---     ┆ ---                  │\n│ str            ┆ str                                   ┆ str     ┆ str                                ┆     ┆ str            ┆ str                                                      ┆ str     ┆ str                  │\n╞════════════════╪═══════════════════════════════════════╪═════════╪════════════════════════════════════╪═════╪════════════════╪══════════════════════════════════════════════════════════╪═════════╪══════════════════════╡\n│ INS-1          ┆ https://www.cellosaurus.org/CVCL_0352 ┆ Rat     ┆ Celule Beta de insulinom           ┆ ... ┆ null           ┆ Molecular Cell Biology Department                        ┆ null    ┆ null                 │\n├╌╌╌╌╌╌╌╌╌╌╌╌╌╌╌╌┼╌╌╌╌╌╌╌╌╌╌╌╌╌╌╌╌╌╌╌╌╌╌╌╌╌╌╌╌╌╌╌╌╌╌╌╌╌╌╌┼╌╌╌╌╌╌╌╌╌┼╌╌╌╌╌╌╌╌╌╌╌╌╌╌╌╌╌╌╌╌╌╌╌╌╌╌╌╌╌╌╌╌╌╌╌╌┼╌╌╌╌╌┼╌╌╌╌╌╌╌╌╌╌╌╌╌╌╌╌┼╌╌╌╌╌╌╌╌╌╌╌╌╌╌╌╌╌╌╌╌╌╌╌╌╌╌╌╌╌╌╌╌╌╌╌╌╌╌╌╌╌╌╌╌╌╌╌╌╌╌╌╌╌╌╌╌╌╌┼╌╌╌╌╌╌╌╌╌┼╌╌╌╌╌╌╌╌╌╌╌╌╌╌╌╌╌╌╌╌╌╌┤\n│ PANC-1         ┆ https://www.cellosaurus.org/CVCL_0480 ┆ Rat     ┆ Beta cells                         ┆ ... ┆ null           ┆ Molecular Cell Biology Department                        ┆ null    ┆ null                 │\n├╌╌╌╌╌╌╌╌╌╌╌╌╌╌╌╌┼╌╌╌╌╌╌╌╌╌╌╌╌╌╌╌╌╌╌╌╌╌╌╌╌╌╌╌╌╌╌╌╌╌╌╌╌╌╌╌┼╌╌╌╌╌╌╌╌╌┼╌╌╌╌╌╌╌╌╌╌╌╌╌╌╌╌╌╌╌╌╌╌╌╌╌╌╌╌╌╌╌╌╌╌╌╌┼╌╌╌╌╌┼╌╌╌╌╌╌╌╌╌╌╌╌╌╌╌╌┼╌╌╌╌╌╌╌╌╌╌╌╌╌╌╌╌╌╌╌╌╌╌╌╌╌╌╌╌╌╌╌╌╌╌╌╌╌╌╌╌╌╌╌╌╌╌╌╌╌╌╌╌╌╌╌╌╌╌┼╌╌╌╌╌╌╌╌╌┼╌╌╌╌╌╌╌╌╌╌╌╌╌╌╌╌╌╌╌╌╌╌┤\n│ MelJuSo        ┆ https://www.cellosaurus.org/CVCL_1403 ┆ Human   ┆ Celule de melanom uman faza VGP    ┆ ... ┆ null           ┆ Molecular Cell Biology Department                        ┆ null    ┆ null                 │\n├╌╌╌╌╌╌╌╌╌╌╌╌╌╌╌╌┼╌╌╌╌╌╌╌╌╌╌╌╌╌╌╌╌╌╌╌╌╌╌╌╌╌╌╌╌╌╌╌╌╌╌╌╌╌╌╌┼╌╌╌╌╌╌╌╌╌┼╌╌╌╌╌╌╌╌╌╌╌╌╌╌╌╌╌╌╌╌╌╌╌╌╌╌╌╌╌╌╌╌╌╌╌╌┼╌╌╌╌╌┼╌╌╌╌╌╌╌╌╌╌╌╌╌╌╌╌┼╌╌╌╌╌╌╌╌╌╌╌╌╌╌╌╌╌╌╌╌╌╌╌╌╌╌╌╌╌╌╌╌╌╌╌╌╌╌╌╌╌╌╌╌╌╌╌╌╌╌╌╌╌╌╌╌╌╌┼╌╌╌╌╌╌╌╌╌┼╌╌╌╌╌╌╌╌╌╌╌╌╌╌╌╌╌╌╌╌╌╌┤\n│ HEK293T        ┆ https://www.cellosaurus.org/CVCL_0063 ┆ Human   ┆ Celule umane embrionare de rinichi ┆ ... ┆ null           ┆ Molecular Cell Biology Department, Enzymology Department ┆ null    ┆ null                 │\n├╌╌╌╌╌╌╌╌╌╌╌╌╌╌╌╌┼╌╌╌╌╌╌╌╌╌╌╌╌╌╌╌╌╌╌╌╌╌╌╌╌╌╌╌╌╌╌╌╌╌╌╌╌╌╌╌┼╌╌╌╌╌╌╌╌╌┼╌╌╌╌╌╌╌╌╌╌╌╌╌╌╌╌╌╌╌╌╌╌╌╌╌╌╌╌╌╌╌╌╌╌╌╌┼╌╌╌╌╌┼╌╌╌╌╌╌╌╌╌╌╌╌╌╌╌╌┼╌╌╌╌╌╌╌╌╌╌╌╌╌╌╌╌╌╌╌╌╌╌╌╌╌╌╌╌╌╌╌╌╌╌╌╌╌╌╌╌╌╌╌╌╌╌╌╌╌╌╌╌╌╌╌╌╌╌┼╌╌╌╌╌╌╌╌╌┼╌╌╌╌╌╌╌╌╌╌╌╌╌╌╌╌╌╌╌╌╌╌┤\n│ CCD-1070Sk     ┆ https://www.cellosaurus.org/CVCL_2332 ┆ null    ┆ null                               ┆ ... ┆ null           ┆ Molecular Cell Biology Department                        ┆ null    ┆ null                 │\n├╌╌╌╌╌╌╌╌╌╌╌╌╌╌╌╌┼╌╌╌╌╌╌╌╌╌╌╌╌╌╌╌╌╌╌╌╌╌╌╌╌╌╌╌╌╌╌╌╌╌╌╌╌╌╌╌┼╌╌╌╌╌╌╌╌╌┼╌╌╌╌╌╌╌╌╌╌╌╌╌╌╌╌╌╌╌╌╌╌╌╌╌╌╌╌╌╌╌╌╌╌╌╌┼╌╌╌╌╌┼╌╌╌╌╌╌╌╌╌╌╌╌╌╌╌╌┼╌╌╌╌╌╌╌╌╌╌╌╌╌╌╌╌╌╌╌╌╌╌╌╌╌╌╌╌╌╌╌╌╌╌╌╌╌╌╌╌╌╌╌╌╌╌╌╌╌╌╌╌╌╌╌╌╌╌┼╌╌╌╌╌╌╌╌╌┼╌╌╌╌╌╌╌╌╌╌╌╌╌╌╌╌╌╌╌╌╌╌┤\n│ RAW 264.7      ┆ https://www.cellosaurus.org/CVCL_0493 ┆ Mouse   ┆ null                               ┆ ... ┆ null           ┆ Molecular Cell Biology Department                        ┆ null    ┆ FAILED, need to redo │\n├╌╌╌╌╌╌╌╌╌╌╌╌╌╌╌╌┼╌╌╌╌╌╌╌╌╌╌╌╌╌╌╌╌╌╌╌╌╌╌╌╌╌╌╌╌╌╌╌╌╌╌╌╌╌╌╌┼╌╌╌╌╌╌╌╌╌┼╌╌╌╌╌╌╌╌╌╌╌╌╌╌╌╌╌╌╌╌╌╌╌╌╌╌╌╌╌╌╌╌╌╌╌╌┼╌╌╌╌╌┼╌╌╌╌╌╌╌╌╌╌╌╌╌╌╌╌┼╌╌╌╌╌╌╌╌╌╌╌╌╌╌╌╌╌╌╌╌╌╌╌╌╌╌╌╌╌╌╌╌╌╌╌╌╌╌╌╌╌╌╌╌╌╌╌╌╌╌╌╌╌╌╌╌╌╌┼╌╌╌╌╌╌╌╌╌┼╌╌╌╌╌╌╌╌╌╌╌╌╌╌╌╌╌╌╌╌╌╌┤\n│ SKOV3          ┆ https://www.cellosaurus.org/CVCL_0532 ┆ Human   ┆ null                               ┆ ... ┆ null           ┆ Molecular Cell Biology Department                        ┆ null    ┆ null                 │\n├╌╌╌╌╌╌╌╌╌╌╌╌╌╌╌╌┼╌╌╌╌╌╌╌╌╌╌╌╌╌╌╌╌╌╌╌╌╌╌╌╌╌╌╌╌╌╌╌╌╌╌╌╌╌╌╌┼╌╌╌╌╌╌╌╌╌┼╌╌╌╌╌╌╌╌╌╌╌╌╌╌╌╌╌╌╌╌╌╌╌╌╌╌╌╌╌╌╌╌╌╌╌╌┼╌╌╌╌╌┼╌╌╌╌╌╌╌╌╌╌╌╌╌╌╌╌┼╌╌╌╌╌╌╌╌╌╌╌╌╌╌╌╌╌╌╌╌╌╌╌╌╌╌╌╌╌╌╌╌╌╌╌╌╌╌╌╌╌╌╌╌╌╌╌╌╌╌╌╌╌╌╌╌╌╌┼╌╌╌╌╌╌╌╌╌┼╌╌╌╌╌╌╌╌╌╌╌╌╌╌╌╌╌╌╌╌╌╌┤\n│ B16F10         ┆ https://www.cellosaurus.org/CVCL_0159 ┆ Mouse   ┆ null                               ┆ ... ┆ null           ┆ Ligand-Receptor Interactions Department                  ┆ null    ┆ null                 │\n├╌╌╌╌╌╌╌╌╌╌╌╌╌╌╌╌┼╌╌╌╌╌╌╌╌╌╌╌╌╌╌╌╌╌╌╌╌╌╌╌╌╌╌╌╌╌╌╌╌╌╌╌╌╌╌╌┼╌╌╌╌╌╌╌╌╌┼╌╌╌╌╌╌╌╌╌╌╌╌╌╌╌╌╌╌╌╌╌╌╌╌╌╌╌╌╌╌╌╌╌╌╌╌┼╌╌╌╌╌┼╌╌╌╌╌╌╌╌╌╌╌╌╌╌╌╌┼╌╌╌╌╌╌╌╌╌╌╌╌╌╌╌╌╌╌╌╌╌╌╌╌╌╌╌╌╌╌╌╌╌╌╌╌╌╌╌╌╌╌╌╌╌╌╌╌╌╌╌╌╌╌╌╌╌╌┼╌╌╌╌╌╌╌╌╌┼╌╌╌╌╌╌╌╌╌╌╌╌╌╌╌╌╌╌╌╌╌╌┤\n│ B16F1          ┆ https://www.cellosaurus.org/CVCL_0158 ┆ Mouse   ┆ null                               ┆ ... ┆ null           ┆ Ligand-Receptor Interactions Department                  ┆ null    ┆ null                 │\n├╌╌╌╌╌╌╌╌╌╌╌╌╌╌╌╌┼╌╌╌╌╌╌╌╌╌╌╌╌╌╌╌╌╌╌╌╌╌╌╌╌╌╌╌╌╌╌╌╌╌╌╌╌╌╌╌┼╌╌╌╌╌╌╌╌╌┼╌╌╌╌╌╌╌╌╌╌╌╌╌╌╌╌╌╌╌╌╌╌╌╌╌╌╌╌╌╌╌╌╌╌╌╌┼╌╌╌╌╌┼╌╌╌╌╌╌╌╌╌╌╌╌╌╌╌╌┼╌╌╌╌╌╌╌╌╌╌╌╌╌╌╌╌╌╌╌╌╌╌╌╌╌╌╌╌╌╌╌╌╌╌╌╌╌╌╌╌╌╌╌╌╌╌╌╌╌╌╌╌╌╌╌╌╌╌┼╌╌╌╌╌╌╌╌╌┼╌╌╌╌╌╌╌╌╌╌╌╌╌╌╌╌╌╌╌╌╌╌┤\n│ THP-1          ┆ https://www.cellosaurus.org/CVCL_0006 ┆ Human   ┆ null                               ┆ ... ┆ null           ┆ Ligand-Receptor Interactions Department                  ┆ null    ┆ null                 │\n├╌╌╌╌╌╌╌╌╌╌╌╌╌╌╌╌┼╌╌╌╌╌╌╌╌╌╌╌╌╌╌╌╌╌╌╌╌╌╌╌╌╌╌╌╌╌╌╌╌╌╌╌╌╌╌╌┼╌╌╌╌╌╌╌╌╌┼╌╌╌╌╌╌╌╌╌╌╌╌╌╌╌╌╌╌╌╌╌╌╌╌╌╌╌╌╌╌╌╌╌╌╌╌┼╌╌╌╌╌┼╌╌╌╌╌╌╌╌╌╌╌╌╌╌╌╌┼╌╌╌╌╌╌╌╌╌╌╌╌╌╌╌╌╌╌╌╌╌╌╌╌╌╌╌╌╌╌╌╌╌╌╌╌╌╌╌╌╌╌╌╌╌╌╌╌╌╌╌╌╌╌╌╌╌╌┼╌╌╌╌╌╌╌╌╌┼╌╌╌╌╌╌╌╌╌╌╌╌╌╌╌╌╌╌╌╌╌╌┤\n│ MDBK           ┆ https://www.cellosaurus.org/CVCL_0421 ┆ Bovine  ┆ null                               ┆ ... ┆ null           ┆ Ligand-Receptor Interactions Department                  ┆ null    ┆ null                 │\n└────────────────┴───────────────────────────────────────┴─────────┴────────────────────────────────────┴─────┴────────────────┴──────────────────────────────────────────────────────────┴─────────┴──────────────────────┘",
      "text/html": "<div>\n<style scoped>\n    .dataframe tbody tr th:only-of-type {\n        vertical-align: middle;\n    }\n\n    .dataframe tbody tr th {\n        vertical-align: top;\n    }\n\n    .dataframe thead th {\n        text-align: right;\n    }\n\n    .dataframe td {\n        white-space: pre;\n    }\n\n    .dataframe td {\n        padding-top: 0;\n    }\n\n    .dataframe td {\n        padding-bottom: 0;\n    }\n\n    .dataframe td {\n        line-height: 95%;\n    }\n</style>\n<table border=\"1\" class=\"dataframe\" >\n<small>shape: (11, 10)</small>\n<thead>\n<tr>\n<th>\nCell line name\n</th>\n<th>\nURL\n</th>\n<th>\nSpecies\n</th>\n<th>\nPhenotype\n</th>\n<th>\nTissue\n</th>\n<th>\nSamples\n</th>\n<th>\nModified lines\n</th>\n<th>\nOwners\n</th>\n<th>\nSources\n</th>\n<th>\nCommens\n</th>\n</tr>\n<tr>\n<td>\nstr\n</td>\n<td>\nstr\n</td>\n<td>\nstr\n</td>\n<td>\nstr\n</td>\n<td>\nstr\n</td>\n<td>\nstr\n</td>\n<td>\nstr\n</td>\n<td>\nstr\n</td>\n<td>\nstr\n</td>\n<td>\nstr\n</td>\n</tr>\n</thead>\n<tbody>\n<tr>\n<td>\n&quot;INS-1&quot;\n</td>\n<td>\n&quot;https://www.cellosaurus.org/CVCL_0352&quot;\n</td>\n<td>\n&quot;Rat&quot;\n</td>\n<td>\n&quot;Celule Beta de insulinom &quot;\n</td>\n<td>\n&quot;Insulinom/Pancreas&quot;\n</td>\n<td>\n&quot;SAMN07421988, SAMN07421989, SAMN07421987, SAMN07421986&quot;\n</td>\n<td>\nnull\n</td>\n<td>\n&quot;Molecular Cell Biology Department&quot;\n</td>\n<td>\nnull\n</td>\n<td>\nnull\n</td>\n</tr>\n<tr>\n<td>\n&quot;PANC-1 &quot;\n</td>\n<td>\n&quot;https://www.cellosaurus.org/CVCL_0480&quot;\n</td>\n<td>\n&quot;Rat&quot;\n</td>\n<td>\n&quot;Beta cells&quot;\n</td>\n<td>\n&quot;Pancreas&quot;\n</td>\n<td>\n&quot;SAMN10460093, SAMN06642004&quot;\n</td>\n<td>\nnull\n</td>\n<td>\n&quot;Molecular Cell Biology Department&quot;\n</td>\n<td>\nnull\n</td>\n<td>\nnull\n</td>\n</tr>\n<tr>\n<td>\n&quot;MelJuSo &quot;\n</td>\n<td>\n&quot;https://www.cellosaurus.org/CVCL_1403&quot;\n</td>\n<td>\n&quot;Human&quot;\n</td>\n<td>\n&quot;Celule de melanom uman faza VGP&quot;\n</td>\n<td>\n&quot;Melanoma&quot;\n</td>\n<td>\n&quot;SAMN07168087, SAMN07168088, SAMN07168089, SAMN07168090, SAMN07168091, SAMN07168092&quot;\n</td>\n<td>\nnull\n</td>\n<td>\n&quot;Molecular Cell Biology Department&quot;\n</td>\n<td>\nnull\n</td>\n<td>\nnull\n</td>\n</tr>\n<tr>\n<td>\n&quot;HEK293T&quot;\n</td>\n<td>\n&quot;https://www.cellosaurus.org/CVCL_0063&quot;\n</td>\n<td>\n&quot;Human&quot;\n</td>\n<td>\n&quot;Celule umane embrionare de rinichi&quot;\n</td>\n<td>\n&quot;Human kidney&quot;\n</td>\n<td>\n&quot;SAMN22420271, SAMN22420269, SAMN22420270&quot;\n</td>\n<td>\nnull\n</td>\n<td>\n&quot;Molecular Cell Biology Department, Enzymology Department&quot;\n</td>\n<td>\nnull\n</td>\n<td>\nnull\n</td>\n</tr>\n<tr>\n<td>\n&quot;CCD-1070Sk&quot;\n</td>\n<td>\n&quot;https://www.cellosaurus.org/CVCL_2332&quot;\n</td>\n<td>\nnull\n</td>\n<td>\nnull\n</td>\n<td>\nnull\n</td>\n<td>\n&quot;SAMN21374231, SAMN21374232, SAMN21374233, SAMN21374234 &quot;\n</td>\n<td>\nnull\n</td>\n<td>\n&quot;Molecular Cell Biology Department&quot;\n</td>\n<td>\nnull\n</td>\n<td>\nnull\n</td>\n</tr>\n<tr>\n<td>\n&quot;RAW 264.7&quot;\n</td>\n<td>\n&quot;https://www.cellosaurus.org/CVCL_0493&quot;\n</td>\n<td>\n&quot;Mouse&quot;\n</td>\n<td>\nnull\n</td>\n<td>\nnull\n</td>\n<td>\n&quot;SAMN32489934, SAMN32489935&quot;\n</td>\n<td>\nnull\n</td>\n<td>\n&quot;Molecular Cell Biology Department&quot;\n</td>\n<td>\nnull\n</td>\n<td>\n&quot;FAILED, need to redo&quot;\n</td>\n</tr>\n<tr>\n<td>\n&quot;SKOV3&quot;\n</td>\n<td>\n&quot;https://www.cellosaurus.org/CVCL_0532&quot;\n</td>\n<td>\n&quot;Human&quot;\n</td>\n<td>\nnull\n</td>\n<td>\nnull\n</td>\n<td>\n&quot;SAMN20710030 , SAMN20710031, SAMN20710032 &quot;\n</td>\n<td>\nnull\n</td>\n<td>\n&quot;Molecular Cell Biology Department&quot;\n</td>\n<td>\nnull\n</td>\n<td>\nnull\n</td>\n</tr>\n<tr>\n<td>\n&quot;B16F10&quot;\n</td>\n<td>\n&quot;https://www.cellosaurus.org/CVCL_0159&quot;\n</td>\n<td>\n&quot;Mouse&quot;\n</td>\n<td>\nnull\n</td>\n<td>\n&quot;Melanoma&quot;\n</td>\n<td>\n&quot;SAMN22137224, SAMN22137225, SAMN22137226&quot;\n</td>\n<td>\nnull\n</td>\n<td>\n&quot;Ligand-Receptor Interactions Department&quot;\n</td>\n<td>\nnull\n</td>\n<td>\nnull\n</td>\n</tr>\n<tr>\n<td>\n&quot;B16F1&quot;\n</td>\n<td>\n&quot;https://www.cellosaurus.org/CVCL_0158&quot;\n</td>\n<td>\n&quot;Mouse&quot;\n</td>\n<td>\nnull\n</td>\n<td>\nnull\n</td>\n<td>\n&quot;SAMN07340361, SAMN07340362, SAMN07340363&quot;\n</td>\n<td>\nnull\n</td>\n<td>\n&quot;Ligand-Receptor Interactions Department&quot;\n</td>\n<td>\nnull\n</td>\n<td>\nnull\n</td>\n</tr>\n<tr>\n<td>\n&quot;THP-1&quot;\n</td>\n<td>\n&quot;https://www.cellosaurus.org/CVCL_0006&quot;\n</td>\n<td>\n&quot;Human&quot;\n</td>\n<td>\nnull\n</td>\n<td>\n&quot;macrophages&quot;\n</td>\n<td>\n&quot;SAMN16623487, SAMN16623488, SAMN16623489&quot;\n</td>\n<td>\nnull\n</td>\n<td>\n&quot;Ligand-Receptor Interactions Department&quot;\n</td>\n<td>\nnull\n</td>\n<td>\nnull\n</td>\n</tr>\n<tr>\n<td>\n&quot;MDBK&quot;\n</td>\n<td>\n&quot;https://www.cellosaurus.org/CVCL_0421&quot;\n</td>\n<td>\n&quot;Bovine&quot;\n</td>\n<td>\nnull\n</td>\n<td>\n&quot;Kidney&quot;\n</td>\n<td>\n&quot;SAMN04378088&quot;\n</td>\n<td>\nnull\n</td>\n<td>\n&quot;Ligand-Receptor Interactions Department&quot;\n</td>\n<td>\nnull\n</td>\n<td>\nnull\n</td>\n</tr>\n</tbody>\n</table>\n</div>"
     },
     "execution_count": 28,
     "metadata": {},
     "output_type": "execute_result"
    }
   ],
   "source": [
    "Cells(locations.cell_lines).toc_samples"
   ],
   "metadata": {
    "collapsed": false
   }
  },
  {
   "cell_type": "markdown",
   "id": "b4fac677-5392-47cb-af43-6eec302d7aca",
   "metadata": {},
   "source": [
    "## Loading data"
   ]
  },
  {
   "cell_type": "code",
   "execution_count": null,
   "id": "cb967432-f81a-4ba2-b1d6-2cd9142a64d5",
   "metadata": {},
   "outputs": [],
   "source": []
  }
 ],
 "metadata": {
  "kernelspec": {
   "display_name": "Python 3 (ipykernel)",
   "language": "python",
   "name": "python3"
  },
  "language_info": {
   "codemirror_mode": {
    "name": "ipython",
    "version": 3
   },
   "file_extension": ".py",
   "mimetype": "text/x-python",
   "name": "python",
   "nbconvert_exporter": "python",
   "pygments_lexer": "ipython3",
   "version": "3.10.8"
  }
 },
 "nbformat": 4,
 "nbformat_minor": 5
}
