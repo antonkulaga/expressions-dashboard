{
 "cells": [
  {
   "cell_type": "markdown",
   "source": [
    "Notebooks to make experiments\n",
    "-----------------------------"
   ],
   "metadata": {
    "collapsed": false
   }
  },
  {
   "cell_type": "code",
   "execution_count": 1,
   "outputs": [
    {
     "name": "stderr",
     "output_type": "stream",
     "text": [
      "/home/antonkulaga/micromamba/envs/dashboard/lib/python3.10/site-packages/tqdm/auto.py:22: TqdmWarning: IProgress not found. Please update jupyter and ipywidgets. See https://ipywidgets.readthedocs.io/en/stable/user_install.html\n",
      "  from .autonotebook import tqdm as notebook_tqdm\n"
     ]
    }
   ],
   "source": [
    "import genotations.ensembl\n",
    "import polars as pl\n",
    "from pycomfort.files import *"
   ],
   "metadata": {
    "collapsed": false
   }
  },
  {
   "cell_type": "code",
   "execution_count": 2,
   "outputs": [
    {
     "name": "stdout",
     "output_type": "stream",
     "text": [
      "[PosixPath('/home/antonkulaga/sources/expressions-dashboard/dashboard'), '/home/antonkulaga/sources/expressions-dashboard/notebooks/..', '/home/antonkulaga/sources/expressions-dashboard/notebooks', '/home/antonkulaga/sources/expressions-dashboard', '/home/antonkulaga/micromamba/envs/dashboard/lib/python310.zip', '/home/antonkulaga/micromamba/envs/dashboard/lib/python3.10', '/home/antonkulaga/micromamba/envs/dashboard/lib/python3.10/lib-dynload', '', '/home/antonkulaga/.local/lib/python3.10/site-packages', '/home/antonkulaga/micromamba/envs/dashboard/lib/python3.10/site-packages']\n"
     ]
    }
   ],
   "source": [
    "import sys\n",
    "\n",
    "base = Path(\"..\")\n",
    "local = (base / \"dashboard\").resolve()\n",
    "if local.exists():\n",
    "    sys.path.insert(0, Path(\"..\").absolute().as_posix())\n",
    "    sys.path.insert(0, local)\n",
    "    print(sys.path)\n",
    "else:\n",
    "    base = Path(\".\")\n",
    "%load_ext autoreload\n",
    "%autoreload 2"
   ],
   "metadata": {
    "collapsed": false
   }
  },
  {
   "cell_type": "code",
   "execution_count": 3,
   "outputs": [
    {
     "data": {
      "text/plain": "polars.cfg.Config"
     },
     "execution_count": 3,
     "metadata": {},
     "output_type": "execute_result"
    }
   ],
   "source": [
    "pl.Config.set_tbl_width_chars(10000)\n",
    "pl.Config.set_fmt_str_lengths(1000)\n",
    "pl.Config.set_tbl_rows(20)"
   ],
   "metadata": {
    "collapsed": false
   }
  },
  {
   "cell_type": "code",
   "execution_count": 4,
   "outputs": [],
   "source": [
    "from dashboard.cell_models import *\n",
    "from dashboard.config import *"
   ],
   "metadata": {
    "collapsed": false
   }
  },
  {
   "cell_type": "code",
   "execution_count": 5,
   "outputs": [
    {
     "data": {
      "text/plain": "PosixPath('../data/inputs/cell_lines/CACHE')"
     },
     "execution_count": 5,
     "metadata": {},
     "output_type": "execute_result"
    }
   ],
   "source": [
    "locations = Locations(base)\n",
    "locations.cell_lines_cache"
   ],
   "metadata": {
    "collapsed": false
   }
  },
  {
   "cell_type": "code",
   "execution_count": 6,
   "outputs": [
    {
     "name": "stdout",
     "output_type": "stream",
     "text": [
      "cell line /home/antonkulaga/sources/expressions-dashboard/data/inputs/cell_lines/INS-1 does not seem to exist!\n"
     ]
    }
   ],
   "source": [
    "cells = Cells(locations.cell_lines)"
   ],
   "metadata": {
    "collapsed": false
   }
  },
  {
   "cell_type": "code",
   "execution_count": 7,
   "outputs": [
    {
     "data": {
      "text/plain": "shape: (181192, 37)\n┌─────────────────┬───────────┬─────────────────┬─────────────────┬─────┬───────────┬───────────┬────────────┬───────────┐\n│ gene            ┆ gene_name ┆ transcript      ┆ transcript_name ┆ ... ┆ SRR791585 ┆ SRR791586 ┆ sum_TPM    ┆ avg_TPM   │\n│ ---             ┆ ---       ┆ ---             ┆ ---             ┆     ┆ ---       ┆ ---       ┆ ---        ┆ ---       │\n│ str             ┆ str       ┆ str             ┆ str             ┆     ┆ f64       ┆ f64       ┆ f64        ┆ f64       │\n╞═════════════════╪═══════════╪═════════════════╪═════════════════╪═════╪═══════════╪═══════════╪════════════╪═══════════╡\n│ ENSG00000160072 ┆ ATAD3B    ┆ ENST00000673477 ┆ ATAD3B-206      ┆ ... ┆ 0.21437   ┆ 0.891146  ┆ 58.747214  ┆ 1.95824   │\n├╌╌╌╌╌╌╌╌╌╌╌╌╌╌╌╌╌┼╌╌╌╌╌╌╌╌╌╌╌┼╌╌╌╌╌╌╌╌╌╌╌╌╌╌╌╌╌┼╌╌╌╌╌╌╌╌╌╌╌╌╌╌╌╌╌┼╌╌╌╌╌┼╌╌╌╌╌╌╌╌╌╌╌┼╌╌╌╌╌╌╌╌╌╌╌┼╌╌╌╌╌╌╌╌╌╌╌╌┼╌╌╌╌╌╌╌╌╌╌╌┤\n│ ENSG00000160072 ┆ ATAD3B    ┆ ENST00000472194 ┆ ATAD3B-203      ┆ ... ┆ 1.458627  ┆ 2.209116  ┆ 95.800547  ┆ 3.193352  │\n├╌╌╌╌╌╌╌╌╌╌╌╌╌╌╌╌╌┼╌╌╌╌╌╌╌╌╌╌╌┼╌╌╌╌╌╌╌╌╌╌╌╌╌╌╌╌╌┼╌╌╌╌╌╌╌╌╌╌╌╌╌╌╌╌╌┼╌╌╌╌╌┼╌╌╌╌╌╌╌╌╌╌╌┼╌╌╌╌╌╌╌╌╌╌╌┼╌╌╌╌╌╌╌╌╌╌╌╌┼╌╌╌╌╌╌╌╌╌╌╌┤\n│ ENSG00000160072 ┆ ATAD3B    ┆ ENST00000378736 ┆ ATAD3B-202      ┆ ... ┆ 11.433503 ┆ 5.468538  ┆ 349.919495 ┆ 11.663983 │\n├╌╌╌╌╌╌╌╌╌╌╌╌╌╌╌╌╌┼╌╌╌╌╌╌╌╌╌╌╌┼╌╌╌╌╌╌╌╌╌╌╌╌╌╌╌╌╌┼╌╌╌╌╌╌╌╌╌╌╌╌╌╌╌╌╌┼╌╌╌╌╌┼╌╌╌╌╌╌╌╌╌╌╌┼╌╌╌╌╌╌╌╌╌╌╌┼╌╌╌╌╌╌╌╌╌╌╌╌┼╌╌╌╌╌╌╌╌╌╌╌┤\n│ ENSG00000160072 ┆ ATAD3B    ┆ ENST00000485748 ┆ ATAD3B-205      ┆ ... ┆ 5.026678  ┆ 4.356042  ┆ 88.660416  ┆ 2.955347  │\n├╌╌╌╌╌╌╌╌╌╌╌╌╌╌╌╌╌┼╌╌╌╌╌╌╌╌╌╌╌┼╌╌╌╌╌╌╌╌╌╌╌╌╌╌╌╌╌┼╌╌╌╌╌╌╌╌╌╌╌╌╌╌╌╌╌┼╌╌╌╌╌┼╌╌╌╌╌╌╌╌╌╌╌┼╌╌╌╌╌╌╌╌╌╌╌┼╌╌╌╌╌╌╌╌╌╌╌╌┼╌╌╌╌╌╌╌╌╌╌╌┤\n│ ENSG00000160072 ┆ ATAD3B    ┆ ENST00000474481 ┆ ATAD3B-204      ┆ ... ┆ 3.248964  ┆ 2.264501  ┆ 58.339484  ┆ 1.944649  │\n├╌╌╌╌╌╌╌╌╌╌╌╌╌╌╌╌╌┼╌╌╌╌╌╌╌╌╌╌╌┼╌╌╌╌╌╌╌╌╌╌╌╌╌╌╌╌╌┼╌╌╌╌╌╌╌╌╌╌╌╌╌╌╌╌╌┼╌╌╌╌╌┼╌╌╌╌╌╌╌╌╌╌╌┼╌╌╌╌╌╌╌╌╌╌╌┼╌╌╌╌╌╌╌╌╌╌╌╌┼╌╌╌╌╌╌╌╌╌╌╌┤\n│ ENSG00000160072 ┆ ATAD3B    ┆ ENST00000308647 ┆ ATAD3B-201      ┆ ... ┆ 8.763597  ┆ 9.665032  ┆ 307.994322 ┆ 10.266477 │\n├╌╌╌╌╌╌╌╌╌╌╌╌╌╌╌╌╌┼╌╌╌╌╌╌╌╌╌╌╌┼╌╌╌╌╌╌╌╌╌╌╌╌╌╌╌╌╌┼╌╌╌╌╌╌╌╌╌╌╌╌╌╌╌╌╌┼╌╌╌╌╌┼╌╌╌╌╌╌╌╌╌╌╌┼╌╌╌╌╌╌╌╌╌╌╌┼╌╌╌╌╌╌╌╌╌╌╌╌┼╌╌╌╌╌╌╌╌╌╌╌┤\n│ ENSG00000279928 ┆ DDX11L17  ┆ ENST00000624431 ┆ DDX11L17-201    ┆ ... ┆ 0.0       ┆ 0.0       ┆ 5.478644   ┆ 0.182621  │\n├╌╌╌╌╌╌╌╌╌╌╌╌╌╌╌╌╌┼╌╌╌╌╌╌╌╌╌╌╌┼╌╌╌╌╌╌╌╌╌╌╌╌╌╌╌╌╌┼╌╌╌╌╌╌╌╌╌╌╌╌╌╌╌╌╌┼╌╌╌╌╌┼╌╌╌╌╌╌╌╌╌╌╌┼╌╌╌╌╌╌╌╌╌╌╌┼╌╌╌╌╌╌╌╌╌╌╌╌┼╌╌╌╌╌╌╌╌╌╌╌┤\n│ ENSG00000142611 ┆ PRDM16    ┆ ENST00000511072 ┆ PRDM16-206      ┆ ... ┆ 0.0       ┆ 0.0       ┆ 2.074532   ┆ 0.069151  │\n├╌╌╌╌╌╌╌╌╌╌╌╌╌╌╌╌╌┼╌╌╌╌╌╌╌╌╌╌╌┼╌╌╌╌╌╌╌╌╌╌╌╌╌╌╌╌╌┼╌╌╌╌╌╌╌╌╌╌╌╌╌╌╌╌╌┼╌╌╌╌╌┼╌╌╌╌╌╌╌╌╌╌╌┼╌╌╌╌╌╌╌╌╌╌╌┼╌╌╌╌╌╌╌╌╌╌╌╌┼╌╌╌╌╌╌╌╌╌╌╌┤\n│ ENSG00000142611 ┆ PRDM16    ┆ ENST00000607632 ┆ PRDM16-210      ┆ ... ┆ 0.0       ┆ 0.0       ┆ 17.053475  ┆ 0.568449  │\n├╌╌╌╌╌╌╌╌╌╌╌╌╌╌╌╌╌┼╌╌╌╌╌╌╌╌╌╌╌┼╌╌╌╌╌╌╌╌╌╌╌╌╌╌╌╌╌┼╌╌╌╌╌╌╌╌╌╌╌╌╌╌╌╌╌┼╌╌╌╌╌┼╌╌╌╌╌╌╌╌╌╌╌┼╌╌╌╌╌╌╌╌╌╌╌┼╌╌╌╌╌╌╌╌╌╌╌╌┼╌╌╌╌╌╌╌╌╌╌╌┤\n│ ENSG00000142611 ┆ PRDM16    ┆ ENST00000378391 ┆ PRDM16-203      ┆ ... ┆ 0.0       ┆ 0.0       ┆ 4.079119   ┆ 0.135971  │\n├╌╌╌╌╌╌╌╌╌╌╌╌╌╌╌╌╌┼╌╌╌╌╌╌╌╌╌╌╌┼╌╌╌╌╌╌╌╌╌╌╌╌╌╌╌╌╌┼╌╌╌╌╌╌╌╌╌╌╌╌╌╌╌╌╌┼╌╌╌╌╌┼╌╌╌╌╌╌╌╌╌╌╌┼╌╌╌╌╌╌╌╌╌╌╌┼╌╌╌╌╌╌╌╌╌╌╌╌┼╌╌╌╌╌╌╌╌╌╌╌┤\n│ ...             ┆ ...       ┆ ...             ┆ ...             ┆ ... ┆ ...       ┆ ...       ┆ ...        ┆ ...       │\n├╌╌╌╌╌╌╌╌╌╌╌╌╌╌╌╌╌┼╌╌╌╌╌╌╌╌╌╌╌┼╌╌╌╌╌╌╌╌╌╌╌╌╌╌╌╌╌┼╌╌╌╌╌╌╌╌╌╌╌╌╌╌╌╌╌┼╌╌╌╌╌┼╌╌╌╌╌╌╌╌╌╌╌┼╌╌╌╌╌╌╌╌╌╌╌┼╌╌╌╌╌╌╌╌╌╌╌╌┼╌╌╌╌╌╌╌╌╌╌╌┤\n│ ENSG00000277630 ┆ null      ┆ ENST00000616157 ┆ null            ┆ ... ┆ 0.0       ┆ 0.0       ┆ 9.561101   ┆ 0.318703  │\n├╌╌╌╌╌╌╌╌╌╌╌╌╌╌╌╌╌┼╌╌╌╌╌╌╌╌╌╌╌┼╌╌╌╌╌╌╌╌╌╌╌╌╌╌╌╌╌┼╌╌╌╌╌╌╌╌╌╌╌╌╌╌╌╌╌┼╌╌╌╌╌┼╌╌╌╌╌╌╌╌╌╌╌┼╌╌╌╌╌╌╌╌╌╌╌┼╌╌╌╌╌╌╌╌╌╌╌╌┼╌╌╌╌╌╌╌╌╌╌╌┤\n│ ENSG00000278384 ┆ null      ┆ ENST00000612565 ┆ null            ┆ ... ┆ 0.0       ┆ 0.0       ┆ 109.425705 ┆ 3.647523  │\n├╌╌╌╌╌╌╌╌╌╌╌╌╌╌╌╌╌┼╌╌╌╌╌╌╌╌╌╌╌┼╌╌╌╌╌╌╌╌╌╌╌╌╌╌╌╌╌┼╌╌╌╌╌╌╌╌╌╌╌╌╌╌╌╌╌┼╌╌╌╌╌┼╌╌╌╌╌╌╌╌╌╌╌┼╌╌╌╌╌╌╌╌╌╌╌┼╌╌╌╌╌╌╌╌╌╌╌╌┼╌╌╌╌╌╌╌╌╌╌╌┤\n│ ENSG00000278633 ┆ null      ┆ ENST00000619792 ┆ null            ┆ ... ┆ 0.0       ┆ 0.0       ┆ 20.719232  ┆ 0.690641  │\n├╌╌╌╌╌╌╌╌╌╌╌╌╌╌╌╌╌┼╌╌╌╌╌╌╌╌╌╌╌┼╌╌╌╌╌╌╌╌╌╌╌╌╌╌╌╌╌┼╌╌╌╌╌╌╌╌╌╌╌╌╌╌╌╌╌┼╌╌╌╌╌┼╌╌╌╌╌╌╌╌╌╌╌┼╌╌╌╌╌╌╌╌╌╌╌┼╌╌╌╌╌╌╌╌╌╌╌╌┼╌╌╌╌╌╌╌╌╌╌╌┤\n│ ENSG00000276345 ┆ null      ┆ ENST00000612848 ┆ null            ┆ ... ┆ 65.34589  ┆ 63.927028 ┆ 598.972934 ┆ 19.965764 │\n├╌╌╌╌╌╌╌╌╌╌╌╌╌╌╌╌╌┼╌╌╌╌╌╌╌╌╌╌╌┼╌╌╌╌╌╌╌╌╌╌╌╌╌╌╌╌╌┼╌╌╌╌╌╌╌╌╌╌╌╌╌╌╌╌╌┼╌╌╌╌╌┼╌╌╌╌╌╌╌╌╌╌╌┼╌╌╌╌╌╌╌╌╌╌╌┼╌╌╌╌╌╌╌╌╌╌╌╌┼╌╌╌╌╌╌╌╌╌╌╌┤\n│ ENSG00000275063 ┆ null      ┆ ENST00000618003 ┆ null            ┆ ... ┆ 15.442726 ┆ 12.274373 ┆ 223.405227 ┆ 7.4468409 │\n├╌╌╌╌╌╌╌╌╌╌╌╌╌╌╌╌╌┼╌╌╌╌╌╌╌╌╌╌╌┼╌╌╌╌╌╌╌╌╌╌╌╌╌╌╌╌╌┼╌╌╌╌╌╌╌╌╌╌╌╌╌╌╌╌╌┼╌╌╌╌╌┼╌╌╌╌╌╌╌╌╌╌╌┼╌╌╌╌╌╌╌╌╌╌╌┼╌╌╌╌╌╌╌╌╌╌╌╌┼╌╌╌╌╌╌╌╌╌╌╌┤\n│ ENSG00000277856 ┆ null      ┆ ENST00000619729 ┆ null            ┆ ... ┆ 0.0       ┆ 21.245256 ┆ 121.993811 ┆ 4.06646   │\n├╌╌╌╌╌╌╌╌╌╌╌╌╌╌╌╌╌┼╌╌╌╌╌╌╌╌╌╌╌┼╌╌╌╌╌╌╌╌╌╌╌╌╌╌╌╌╌┼╌╌╌╌╌╌╌╌╌╌╌╌╌╌╌╌╌┼╌╌╌╌╌┼╌╌╌╌╌╌╌╌╌╌╌┼╌╌╌╌╌╌╌╌╌╌╌┼╌╌╌╌╌╌╌╌╌╌╌╌┼╌╌╌╌╌╌╌╌╌╌╌┤\n│ ENSG00000271254 ┆ null      ┆ ENST00000614336 ┆ null            ┆ ... ┆ 44.288209 ┆ 41.632101 ┆ 605.564769 ┆ 20.185492 │\n├╌╌╌╌╌╌╌╌╌╌╌╌╌╌╌╌╌┼╌╌╌╌╌╌╌╌╌╌╌┼╌╌╌╌╌╌╌╌╌╌╌╌╌╌╌╌╌┼╌╌╌╌╌╌╌╌╌╌╌╌╌╌╌╌╌┼╌╌╌╌╌┼╌╌╌╌╌╌╌╌╌╌╌┼╌╌╌╌╌╌╌╌╌╌╌┼╌╌╌╌╌╌╌╌╌╌╌╌┼╌╌╌╌╌╌╌╌╌╌╌┤\n│ ENSG00000271254 ┆ null      ┆ ENST00000612640 ┆ null            ┆ ... ┆ 8.282681  ┆ 8.779706  ┆ 207.403766 ┆ 6.913459  │\n├╌╌╌╌╌╌╌╌╌╌╌╌╌╌╌╌╌┼╌╌╌╌╌╌╌╌╌╌╌┼╌╌╌╌╌╌╌╌╌╌╌╌╌╌╌╌╌┼╌╌╌╌╌╌╌╌╌╌╌╌╌╌╌╌╌┼╌╌╌╌╌┼╌╌╌╌╌╌╌╌╌╌╌┼╌╌╌╌╌╌╌╌╌╌╌┼╌╌╌╌╌╌╌╌╌╌╌╌┼╌╌╌╌╌╌╌╌╌╌╌┤\n│ ENSG00000268674 ┆ null      ┆ ENST00000601199 ┆ null            ┆ ... ┆ 1.883344  ┆ 0.924659  ┆ 104.621136 ┆ 3.487371  │\n├╌╌╌╌╌╌╌╌╌╌╌╌╌╌╌╌╌┼╌╌╌╌╌╌╌╌╌╌╌┼╌╌╌╌╌╌╌╌╌╌╌╌╌╌╌╌╌┼╌╌╌╌╌╌╌╌╌╌╌╌╌╌╌╌╌┼╌╌╌╌╌┼╌╌╌╌╌╌╌╌╌╌╌┼╌╌╌╌╌╌╌╌╌╌╌┼╌╌╌╌╌╌╌╌╌╌╌╌┼╌╌╌╌╌╌╌╌╌╌╌┤\n│ ENSG00000277475 ┆ null      ┆ ENST00000612315 ┆ null            ┆ ... ┆ 0.0       ┆ 0.515884  ┆ 44.937805  ┆ 1.497927  │\n└─────────────────┴───────────┴─────────────────┴─────────────────┴─────┴───────────┴───────────┴────────────┴───────────┘",
      "text/html": "<div>\n<style scoped>\n    .dataframe tbody tr th:only-of-type {\n        vertical-align: middle;\n    }\n\n    .dataframe tbody tr th {\n        vertical-align: top;\n    }\n\n    .dataframe thead th {\n        text-align: right;\n    }\n\n    .dataframe td {\n        white-space: pre;\n    }\n\n    .dataframe td {\n        padding-top: 0;\n    }\n\n    .dataframe td {\n        padding-bottom: 0;\n    }\n\n    .dataframe td {\n        line-height: 95%;\n    }\n</style>\n<table border=\"1\" class=\"dataframe\" >\n<small>shape: (181192, 37)</small>\n<thead>\n<tr>\n<th>\ngene\n</th>\n<th>\ngene_name\n</th>\n<th>\ntranscript\n</th>\n<th>\ntranscript_name\n</th>\n<th>\ncoordinates\n</th>\n<th>\nSRR8235265\n</th>\n<th>\nSRR5371363\n</th>\n<th>\nSRR5604839\n</th>\n<th>\nSRR5604838\n</th>\n<th>\nSRR5604837\n</th>\n<th>\nSRR5604836\n</th>\n<th>\nSRR5604835\n</th>\n<th>\nSRR5604834\n</th>\n<th>\nSRR16495650\n</th>\n<th>\nSRR16495651\n</th>\n<th>\nSRR16495652\n</th>\n<th>\nSRR15858108\n</th>\n<th>\nSRR15858109\n</th>\n<th>\nSRR15858110\n</th>\n<th>\nSRR15858111\n</th>\n<th>\nSRR15414944\n</th>\n<th>\nSRR15414945\n</th>\n<th>\nSRR15414946\n</th>\n<th>\nSRR12964435\n</th>\n<th>\nSRR12964434\n</th>\n<th>\nSRR12964433\n</th>\n<th>\nSRR791578\n</th>\n<th>\nSRR791579\n</th>\n<th>\nSRR791580\n</th>\n<th>\nSRR791581\n</th>\n<th>\nSRR791582\n</th>\n<th>\nSRR791583\n</th>\n<th>\nSRR791584\n</th>\n<th>\nSRR791585\n</th>\n<th>\nSRR791586\n</th>\n<th>\nsum_TPM\n</th>\n<th>\navg_TPM\n</th>\n</tr>\n<tr>\n<td>\nstr\n</td>\n<td>\nstr\n</td>\n<td>\nstr\n</td>\n<td>\nstr\n</td>\n<td>\nlist[str]\n</td>\n<td>\nf64\n</td>\n<td>\nf64\n</td>\n<td>\nf64\n</td>\n<td>\nf64\n</td>\n<td>\nf64\n</td>\n<td>\nf64\n</td>\n<td>\nf64\n</td>\n<td>\nf64\n</td>\n<td>\nf64\n</td>\n<td>\nf64\n</td>\n<td>\nf64\n</td>\n<td>\nf64\n</td>\n<td>\nf64\n</td>\n<td>\nf64\n</td>\n<td>\nf64\n</td>\n<td>\nf64\n</td>\n<td>\nf64\n</td>\n<td>\nf64\n</td>\n<td>\nf64\n</td>\n<td>\nf64\n</td>\n<td>\nf64\n</td>\n<td>\nf64\n</td>\n<td>\nf64\n</td>\n<td>\nf64\n</td>\n<td>\nf64\n</td>\n<td>\nf64\n</td>\n<td>\nf64\n</td>\n<td>\nf64\n</td>\n<td>\nf64\n</td>\n<td>\nf64\n</td>\n<td>\nf64\n</td>\n<td>\nf64\n</td>\n</tr>\n</thead>\n<tbody>\n<tr>\n<td>\n&quot;ENSG00000160072&quot;\n</td>\n<td>\n&quot;ATAD3B&quot;\n</td>\n<td>\n&quot;ENST00000673477&quot;\n</td>\n<td>\n&quot;ATAD3B-206&quot;\n</td>\n<td>\n[&quot;1&quot;, &quot;+&quot;, ... &quot;1497848&quot;]\n</td>\n<td>\n1.364197\n</td>\n<td>\n2.571821\n</td>\n<td>\n0.207459\n</td>\n<td>\n0.0\n</td>\n<td>\n0.399999\n</td>\n<td>\n0.348264\n</td>\n<td>\n0.492693\n</td>\n<td>\n0.296975\n</td>\n<td>\n13.71319\n</td>\n<td>\n13.903911\n</td>\n<td>\n12.991879\n</td>\n<td>\n0.325118\n</td>\n<td>\n0.0\n</td>\n<td>\n0.052683\n</td>\n<td>\n0.063679\n</td>\n<td>\n2.406655\n</td>\n<td>\n1.436828\n</td>\n<td>\n1.891166\n</td>\n<td>\n0.575307\n</td>\n<td>\n0.538494\n</td>\n<td>\n0.486934\n</td>\n<td>\n0.284702\n</td>\n<td>\n0.788468\n</td>\n<td>\n0.72825\n</td>\n<td>\n0.464598\n</td>\n<td>\n0.799522\n</td>\n<td>\n0.119906\n</td>\n<td>\n0.389\n</td>\n<td>\n0.21437\n</td>\n<td>\n0.891146\n</td>\n<td>\n58.747214\n</td>\n<td>\n1.95824\n</td>\n</tr>\n<tr>\n<td>\n&quot;ENSG00000160072&quot;\n</td>\n<td>\n&quot;ATAD3B&quot;\n</td>\n<td>\n&quot;ENST00000472194&quot;\n</td>\n<td>\n&quot;ATAD3B-203&quot;\n</td>\n<td>\n[&quot;1&quot;, &quot;+&quot;, ... &quot;1497848&quot;]\n</td>\n<td>\n3.841269\n</td>\n<td>\n4.23179\n</td>\n<td>\n2.541214\n</td>\n<td>\n1.491505\n</td>\n<td>\n2.680904\n</td>\n<td>\n2.488504\n</td>\n<td>\n2.079261\n</td>\n<td>\n2.73597\n</td>\n<td>\n5.265575\n</td>\n<td>\n5.717403\n</td>\n<td>\n6.22392\n</td>\n<td>\n3.399759\n</td>\n<td>\n5.393255\n</td>\n<td>\n3.904751\n</td>\n<td>\n5.178149\n</td>\n<td>\n2.998579\n</td>\n<td>\n3.009131\n</td>\n<td>\n3.703389\n</td>\n<td>\n1.280738\n</td>\n<td>\n1.639748\n</td>\n<td>\n1.555247\n</td>\n<td>\n3.254995\n</td>\n<td>\n2.845197\n</td>\n<td>\n4.218506\n</td>\n<td>\n3.299047\n</td>\n<td>\n1.986261\n</td>\n<td>\n2.920085\n</td>\n<td>\n2.248652\n</td>\n<td>\n1.458627\n</td>\n<td>\n2.209116\n</td>\n<td>\n95.800547\n</td>\n<td>\n3.193352\n</td>\n</tr>\n<tr>\n<td>\n&quot;ENSG00000160072&quot;\n</td>\n<td>\n&quot;ATAD3B&quot;\n</td>\n<td>\n&quot;ENST00000378736&quot;\n</td>\n<td>\n&quot;ATAD3B-202&quot;\n</td>\n<td>\n[&quot;1&quot;, &quot;+&quot;, ... &quot;1482662&quot;]\n</td>\n<td>\n13.920957\n</td>\n<td>\n0.0\n</td>\n<td>\n11.486906\n</td>\n<td>\n14.826905\n</td>\n<td>\n10.778183\n</td>\n<td>\n10.664271\n</td>\n<td>\n13.077089\n</td>\n<td>\n11.635958\n</td>\n<td>\n38.695216\n</td>\n<td>\n46.431438\n</td>\n<td>\n46.976869\n</td>\n<td>\n0.0\n</td>\n<td>\n2.491407\n</td>\n<td>\n0.0\n</td>\n<td>\n0.0\n</td>\n<td>\n13.282038\n</td>\n<td>\n13.60517\n</td>\n<td>\n13.809614\n</td>\n<td>\n2.764502\n</td>\n<td>\n8.784495\n</td>\n<td>\n5.404321\n</td>\n<td>\n15.441857\n</td>\n<td>\n5.563461\n</td>\n<td>\n5.985299\n</td>\n<td>\n12.824104\n</td>\n<td>\n7.501205\n</td>\n<td>\n0.0\n</td>\n<td>\n7.066189\n</td>\n<td>\n11.433503\n</td>\n<td>\n5.468538\n</td>\n<td>\n349.919495\n</td>\n<td>\n11.663983\n</td>\n</tr>\n<tr>\n<td>\n&quot;ENSG00000160072&quot;\n</td>\n<td>\n&quot;ATAD3B&quot;\n</td>\n<td>\n&quot;ENST00000485748&quot;\n</td>\n<td>\n&quot;ATAD3B-205&quot;\n</td>\n<td>\n[&quot;1&quot;, &quot;+&quot;, ... &quot;1496202&quot;]\n</td>\n<td>\n3.813955\n</td>\n<td>\n6.70268\n</td>\n<td>\n0.910829\n</td>\n<td>\n0.857829\n</td>\n<td>\n1.994058\n</td>\n<td>\n1.050162\n</td>\n<td>\n1.807281\n</td>\n<td>\n1.399338\n</td>\n<td>\n5.322858\n</td>\n<td>\n4.694451\n</td>\n<td>\n5.773778\n</td>\n<td>\n0.479339\n</td>\n<td>\n2.31151\n</td>\n<td>\n1.011807\n</td>\n<td>\n1.093038\n</td>\n<td>\n3.849869\n</td>\n<td>\n3.245793\n</td>\n<td>\n2.371651\n</td>\n<td>\n0.785504\n</td>\n<td>\n0.72285\n</td>\n<td>\n1.624428\n</td>\n<td>\n2.99423\n</td>\n<td>\n3.654591\n</td>\n<td>\n2.73088\n</td>\n<td>\n5.245649\n</td>\n<td>\n3.928865\n</td>\n<td>\n3.442296\n</td>\n<td>\n5.458177\n</td>\n<td>\n5.026678\n</td>\n<td>\n4.356042\n</td>\n<td>\n88.660416\n</td>\n<td>\n2.955347\n</td>\n</tr>\n<tr>\n<td>\n&quot;ENSG00000160072&quot;\n</td>\n<td>\n&quot;ATAD3B&quot;\n</td>\n<td>\n&quot;ENST00000474481&quot;\n</td>\n<td>\n&quot;ATAD3B-204&quot;\n</td>\n<td>\n[&quot;1&quot;, &quot;+&quot;, ... &quot;1496201&quot;]\n</td>\n<td>\n3.319899\n</td>\n<td>\n4.647751\n</td>\n<td>\n0.930333\n</td>\n<td>\n0.710214\n</td>\n<td>\n0.810988\n</td>\n<td>\n0.843292\n</td>\n<td>\n0.753651\n</td>\n<td>\n0.495939\n</td>\n<td>\n2.214718\n</td>\n<td>\n2.519853\n</td>\n<td>\n1.759567\n</td>\n<td>\n0.798758\n</td>\n<td>\n2.317627\n</td>\n<td>\n1.246616\n</td>\n<td>\n2.271708\n</td>\n<td>\n2.393359\n</td>\n<td>\n4.035483\n</td>\n<td>\n2.232829\n</td>\n<td>\n0.183011\n</td>\n<td>\n0.574893\n</td>\n<td>\n0.575849\n</td>\n<td>\n2.901972\n</td>\n<td>\n2.990714\n</td>\n<td>\n1.963344\n</td>\n<td>\n1.802896\n</td>\n<td>\n1.612073\n</td>\n<td>\n2.791132\n</td>\n<td>\n3.12755\n</td>\n<td>\n3.248964\n</td>\n<td>\n2.264501\n</td>\n<td>\n58.339484\n</td>\n<td>\n1.944649\n</td>\n</tr>\n<tr>\n<td>\n&quot;ENSG00000160072&quot;\n</td>\n<td>\n&quot;ATAD3B&quot;\n</td>\n<td>\n&quot;ENST00000308647&quot;\n</td>\n<td>\n&quot;ATAD3B-201&quot;\n</td>\n<td>\n[&quot;1&quot;, &quot;+&quot;, ... &quot;1496201&quot;]\n</td>\n<td>\n13.986792\n</td>\n<td>\n0.0\n</td>\n<td>\n7.619874\n</td>\n<td>\n8.561665\n</td>\n<td>\n7.378783\n</td>\n<td>\n9.578397\n</td>\n<td>\n9.837923\n</td>\n<td>\n11.69397\n</td>\n<td>\n40.329241\n</td>\n<td>\n40.250734\n</td>\n<td>\n40.403127\n</td>\n<td>\n0.0\n</td>\n<td>\n2.472112\n</td>\n<td>\n1.057633\n</td>\n<td>\n2.944669\n</td>\n<td>\n6.59105\n</td>\n<td>\n7.466874\n</td>\n<td>\n7.687044\n</td>\n<td>\n2.222981\n</td>\n<td>\n2.745399\n</td>\n<td>\n2.907158\n</td>\n<td>\n8.158889\n</td>\n<td>\n7.582054\n</td>\n<td>\n10.172756\n</td>\n<td>\n10.461968\n</td>\n<td>\n8.384675\n</td>\n<td>\n9.2477\n</td>\n<td>\n9.822225\n</td>\n<td>\n8.763597\n</td>\n<td>\n9.665032\n</td>\n<td>\n307.994322\n</td>\n<td>\n10.266477\n</td>\n</tr>\n<tr>\n<td>\n&quot;ENSG00000279928&quot;\n</td>\n<td>\n&quot;DDX11L17&quot;\n</td>\n<td>\n&quot;ENST00000624431&quot;\n</td>\n<td>\n&quot;DDX11L17-201&quot;\n</td>\n<td>\n[&quot;1&quot;, &quot;+&quot;, ... &quot;184174&quot;]\n</td>\n<td>\n1.182113\n</td>\n<td>\n2.235128\n</td>\n<td>\n0.481319\n</td>\n<td>\n0.0\n</td>\n<td>\n0.662412\n</td>\n<td>\n0.0\n</td>\n<td>\n0.0\n</td>\n<td>\n0.0\n</td>\n<td>\n0.0\n</td>\n<td>\n0.0\n</td>\n<td>\n0.0\n</td>\n<td>\n0.0\n</td>\n<td>\n0.0\n</td>\n<td>\n0.0\n</td>\n<td>\n0.0\n</td>\n<td>\n0.0\n</td>\n<td>\n0.0\n</td>\n<td>\n0.0\n</td>\n<td>\n0.0\n</td>\n<td>\n0.0\n</td>\n<td>\n0.0\n</td>\n<td>\n0.0\n</td>\n<td>\n0.375872\n</td>\n<td>\n0.5418\n</td>\n<td>\n0.0\n</td>\n<td>\n0.0\n</td>\n<td>\n0.0\n</td>\n<td>\n0.0\n</td>\n<td>\n0.0\n</td>\n<td>\n0.0\n</td>\n<td>\n5.478644\n</td>\n<td>\n0.182621\n</td>\n</tr>\n<tr>\n<td>\n&quot;ENSG00000142611&quot;\n</td>\n<td>\n&quot;PRDM16&quot;\n</td>\n<td>\n&quot;ENST00000511072&quot;\n</td>\n<td>\n&quot;PRDM16-206&quot;\n</td>\n<td>\n[&quot;1&quot;, &quot;+&quot;, ... &quot;3434342&quot;]\n</td>\n<td>\n0.0\n</td>\n<td>\n0.0\n</td>\n<td>\n0.0\n</td>\n<td>\n0.0\n</td>\n<td>\n0.0\n</td>\n<td>\n0.337364\n</td>\n<td>\n0.779952\n</td>\n<td>\n0.0\n</td>\n<td>\n0.578086\n</td>\n<td>\n0.37913\n</td>\n<td>\n0.0\n</td>\n<td>\n0.0\n</td>\n<td>\n0.0\n</td>\n<td>\n0.0\n</td>\n<td>\n0.0\n</td>\n<td>\n0.0\n</td>\n<td>\n0.0\n</td>\n<td>\n0.0\n</td>\n<td>\n0.0\n</td>\n<td>\n0.0\n</td>\n<td>\n0.0\n</td>\n<td>\n0.0\n</td>\n<td>\n0.0\n</td>\n<td>\n0.0\n</td>\n<td>\n0.0\n</td>\n<td>\n0.0\n</td>\n<td>\n0.0\n</td>\n<td>\n0.0\n</td>\n<td>\n0.0\n</td>\n<td>\n0.0\n</td>\n<td>\n2.074532\n</td>\n<td>\n0.069151\n</td>\n</tr>\n<tr>\n<td>\n&quot;ENSG00000142611&quot;\n</td>\n<td>\n&quot;PRDM16&quot;\n</td>\n<td>\n&quot;ENST00000607632&quot;\n</td>\n<td>\n&quot;PRDM16-210&quot;\n</td>\n<td>\n[&quot;1&quot;, &quot;+&quot;, ... &quot;3186591&quot;]\n</td>\n<td>\n0.0\n</td>\n<td>\n7.894428\n</td>\n<td>\n0.0\n</td>\n<td>\n0.0\n</td>\n<td>\n0.869685\n</td>\n<td>\n1.398972\n</td>\n<td>\n0.0\n</td>\n<td>\n2.529221\n</td>\n<td>\n1.446975\n</td>\n<td>\n1.427903\n</td>\n<td>\n1.111933\n</td>\n<td>\n0.0\n</td>\n<td>\n0.0\n</td>\n<td>\n0.0\n</td>\n<td>\n0.0\n</td>\n<td>\n0.0\n</td>\n<td>\n0.0\n</td>\n<td>\n0.0\n</td>\n<td>\n0.0\n</td>\n<td>\n0.0\n</td>\n<td>\n0.0\n</td>\n<td>\n0.0\n</td>\n<td>\n0.0\n</td>\n<td>\n0.0\n</td>\n<td>\n0.374358\n</td>\n<td>\n0.0\n</td>\n<td>\n0.0\n</td>\n<td>\n0.0\n</td>\n<td>\n0.0\n</td>\n<td>\n0.0\n</td>\n<td>\n17.053475\n</td>\n<td>\n0.568449\n</td>\n</tr>\n<tr>\n<td>\n&quot;ENSG00000142611&quot;\n</td>\n<td>\n&quot;PRDM16&quot;\n</td>\n<td>\n&quot;ENST00000378391&quot;\n</td>\n<td>\n&quot;PRDM16-203&quot;\n</td>\n<td>\n[&quot;1&quot;, &quot;+&quot;, ... &quot;3435421&quot;]\n</td>\n<td>\n0.0\n</td>\n<td>\n0.0\n</td>\n<td>\n0.507321\n</td>\n<td>\n0.527942\n</td>\n<td>\n0.428103\n</td>\n<td>\n0.494081\n</td>\n<td>\n0.363311\n</td>\n<td>\n0.55398\n</td>\n<td>\n0.282281\n</td>\n<td>\n0.312794\n</td>\n<td>\n0.56955\n</td>\n<td>\n0.0\n</td>\n<td>\n0.0\n</td>\n<td>\n0.0\n</td>\n<td>\n0.0\n</td>\n<td>\n0.0\n</td>\n<td>\n0.0\n</td>\n<td>\n0.0\n</td>\n<td>\n0.0\n</td>\n<td>\n0.0\n</td>\n<td>\n0.0\n</td>\n<td>\n0.0\n</td>\n<td>\n0.0\n</td>\n<td>\n0.0\n</td>\n<td>\n0.0\n</td>\n<td>\n0.0\n</td>\n<td>\n0.039756\n</td>\n<td>\n0.0\n</td>\n<td>\n0.0\n</td>\n<td>\n0.0\n</td>\n<td>\n4.079119\n</td>\n<td>\n0.135971\n</td>\n</tr>\n<tr>\n<td>\n...\n</td>\n<td>\n...\n</td>\n<td>\n...\n</td>\n<td>\n...\n</td>\n<td>\n...\n</td>\n<td>\n...\n</td>\n<td>\n...\n</td>\n<td>\n...\n</td>\n<td>\n...\n</td>\n<td>\n...\n</td>\n<td>\n...\n</td>\n<td>\n...\n</td>\n<td>\n...\n</td>\n<td>\n...\n</td>\n<td>\n...\n</td>\n<td>\n...\n</td>\n<td>\n...\n</td>\n<td>\n...\n</td>\n<td>\n...\n</td>\n<td>\n...\n</td>\n<td>\n...\n</td>\n<td>\n...\n</td>\n<td>\n...\n</td>\n<td>\n...\n</td>\n<td>\n...\n</td>\n<td>\n...\n</td>\n<td>\n...\n</td>\n<td>\n...\n</td>\n<td>\n...\n</td>\n<td>\n...\n</td>\n<td>\n...\n</td>\n<td>\n...\n</td>\n<td>\n...\n</td>\n<td>\n...\n</td>\n<td>\n...\n</td>\n<td>\n...\n</td>\n<td>\n...\n</td>\n</tr>\n<tr>\n<td>\n&quot;ENSG00000277630&quot;\n</td>\n<td>\nnull\n</td>\n<td>\n&quot;ENST00000616157&quot;\n</td>\n<td>\nnull\n</td>\n<td>\n[&quot;GL000213.1&quot;, &quot;-&quot;, ... &quot;139659&quot;]\n</td>\n<td>\n0.0\n</td>\n<td>\n9.561101\n</td>\n<td>\n0.0\n</td>\n<td>\n0.0\n</td>\n<td>\n0.0\n</td>\n<td>\n0.0\n</td>\n<td>\n0.0\n</td>\n<td>\n0.0\n</td>\n<td>\n0.0\n</td>\n<td>\n0.0\n</td>\n<td>\n0.0\n</td>\n<td>\n0.0\n</td>\n<td>\n0.0\n</td>\n<td>\n0.0\n</td>\n<td>\n0.0\n</td>\n<td>\n0.0\n</td>\n<td>\n0.0\n</td>\n<td>\n0.0\n</td>\n<td>\n0.0\n</td>\n<td>\n0.0\n</td>\n<td>\n0.0\n</td>\n<td>\n0.0\n</td>\n<td>\n0.0\n</td>\n<td>\n0.0\n</td>\n<td>\n0.0\n</td>\n<td>\n0.0\n</td>\n<td>\n0.0\n</td>\n<td>\n0.0\n</td>\n<td>\n0.0\n</td>\n<td>\n0.0\n</td>\n<td>\n9.561101\n</td>\n<td>\n0.318703\n</td>\n</tr>\n<tr>\n<td>\n&quot;ENSG00000278384&quot;\n</td>\n<td>\nnull\n</td>\n<td>\n&quot;ENST00000612565&quot;\n</td>\n<td>\nnull\n</td>\n<td>\n[&quot;GL000218.1&quot;, &quot;-&quot;, ... &quot;54893&quot;]\n</td>\n<td>\n4.763533\n</td>\n<td>\n40.616449\n</td>\n<td>\n4.7919\n</td>\n<td>\n4.543599\n</td>\n<td>\n4.178343\n</td>\n<td>\n4.686823\n</td>\n<td>\n5.165218\n</td>\n<td>\n5.538647\n</td>\n<td>\n3.811735\n</td>\n<td>\n4.312965\n</td>\n<td>\n3.808313\n</td>\n<td>\n0.113373\n</td>\n<td>\n0.379329\n</td>\n<td>\n0.204154\n</td>\n<td>\n0.453552\n</td>\n<td>\n1.439084\n</td>\n<td>\n1.261515\n</td>\n<td>\n1.266399\n</td>\n<td>\n4.733395\n</td>\n<td>\n6.107971\n</td>\n<td>\n6.28116\n</td>\n<td>\n0.207325\n</td>\n<td>\n0.371473\n</td>\n<td>\n0.0\n</td>\n<td>\n0.109804\n</td>\n<td>\n0.208914\n</td>\n<td>\n0.070732\n</td>\n<td>\n0.0\n</td>\n<td>\n0.0\n</td>\n<td>\n0.0\n</td>\n<td>\n109.425705\n</td>\n<td>\n3.647523\n</td>\n</tr>\n<tr>\n<td>\n&quot;ENSG00000278633&quot;\n</td>\n<td>\nnull\n</td>\n<td>\n&quot;ENST00000619792&quot;\n</td>\n<td>\nnull\n</td>\n<td>\n[&quot;KI270731.1&quot;, &quot;-&quot;, ... &quot;13001&quot;]\n</td>\n<td>\n0.0\n</td>\n<td>\n20.503767\n</td>\n<td>\n0.0\n</td>\n<td>\n0.0\n</td>\n<td>\n0.0\n</td>\n<td>\n0.0\n</td>\n<td>\n0.0\n</td>\n<td>\n0.0\n</td>\n<td>\n0.0\n</td>\n<td>\n0.021853\n</td>\n<td>\n0.0\n</td>\n<td>\n0.0\n</td>\n<td>\n0.0\n</td>\n<td>\n0.0\n</td>\n<td>\n0.145415\n</td>\n<td>\n0.0\n</td>\n<td>\n0.0\n</td>\n<td>\n0.048197\n</td>\n<td>\n0.0\n</td>\n<td>\n0.0\n</td>\n<td>\n0.0\n</td>\n<td>\n0.0\n</td>\n<td>\n0.0\n</td>\n<td>\n0.0\n</td>\n<td>\n0.0\n</td>\n<td>\n0.0\n</td>\n<td>\n0.0\n</td>\n<td>\n0.0\n</td>\n<td>\n0.0\n</td>\n<td>\n0.0\n</td>\n<td>\n20.719232\n</td>\n<td>\n0.690641\n</td>\n</tr>\n<tr>\n<td>\n&quot;ENSG00000276345&quot;\n</td>\n<td>\nnull\n</td>\n<td>\n&quot;ENST00000612848&quot;\n</td>\n<td>\nnull\n</td>\n<td>\n[&quot;KI270721.1&quot;, &quot;+&quot;, ... &quot;11802&quot;]\n</td>\n<td>\n0.0\n</td>\n<td>\n5.481332\n</td>\n<td>\n0.0\n</td>\n<td>\n1.007428\n</td>\n<td>\n0.896936\n</td>\n<td>\n0.0\n</td>\n<td>\n3.686379\n</td>\n<td>\n0.0\n</td>\n<td>\n0.0\n</td>\n<td>\n0.0\n</td>\n<td>\n0.169276\n</td>\n<td>\n0.0\n</td>\n<td>\n0.0\n</td>\n<td>\n0.0\n</td>\n<td>\n0.0\n</td>\n<td>\n0.0\n</td>\n<td>\n0.0\n</td>\n<td>\n0.0\n</td>\n<td>\n0.0\n</td>\n<td>\n0.0\n</td>\n<td>\n0.0\n</td>\n<td>\n70.138286\n</td>\n<td>\n71.213316\n</td>\n<td>\n60.807832\n</td>\n<td>\n64.363125\n</td>\n<td>\n63.234321\n</td>\n<td>\n70.97372\n</td>\n<td>\n57.728065\n</td>\n<td>\n65.34589\n</td>\n<td>\n63.927028\n</td>\n<td>\n598.972934\n</td>\n<td>\n19.965764\n</td>\n</tr>\n<tr>\n<td>\n&quot;ENSG00000275063&quot;\n</td>\n<td>\nnull\n</td>\n<td>\n&quot;ENST00000618003&quot;\n</td>\n<td>\nnull\n</td>\n<td>\n[&quot;KI270726.1&quot;, &quot;+&quot;, ... &quot;41876&quot;]\n</td>\n<td>\n0.0\n</td>\n<td>\n0.0\n</td>\n<td>\n0.0\n</td>\n<td>\n0.0\n</td>\n<td>\n0.0\n</td>\n<td>\n0.0\n</td>\n<td>\n0.0\n</td>\n<td>\n0.0\n</td>\n<td>\n0.0\n</td>\n<td>\n0.0\n</td>\n<td>\n0.0\n</td>\n<td>\n0.0\n</td>\n<td>\n0.0\n</td>\n<td>\n0.0\n</td>\n<td>\n0.0\n</td>\n<td>\n0.0\n</td>\n<td>\n0.0\n</td>\n<td>\n0.0\n</td>\n<td>\n0.0\n</td>\n<td>\n0.0\n</td>\n<td>\n0.0\n</td>\n<td>\n32.898874\n</td>\n<td>\n32.488524\n</td>\n<td>\n26.040098\n</td>\n<td>\n26.267248\n</td>\n<td>\n18.301793\n</td>\n<td>\n23.525301\n</td>\n<td>\n36.16629\n</td>\n<td>\n15.442726\n</td>\n<td>\n12.274373\n</td>\n<td>\n223.405227\n</td>\n<td>\n7.4468409\n</td>\n</tr>\n<tr>\n<td>\n&quot;ENSG00000277856&quot;\n</td>\n<td>\nnull\n</td>\n<td>\n&quot;ENST00000619729&quot;\n</td>\n<td>\nnull\n</td>\n<td>\n[&quot;KI270726.1&quot;, &quot;+&quot;, ... &quot;26534&quot;]\n</td>\n<td>\n0.0\n</td>\n<td>\n0.0\n</td>\n<td>\n0.0\n</td>\n<td>\n0.0\n</td>\n<td>\n0.0\n</td>\n<td>\n0.0\n</td>\n<td>\n0.0\n</td>\n<td>\n0.0\n</td>\n<td>\n0.0\n</td>\n<td>\n0.0\n</td>\n<td>\n0.0\n</td>\n<td>\n0.0\n</td>\n<td>\n0.0\n</td>\n<td>\n0.0\n</td>\n<td>\n0.0\n</td>\n<td>\n0.0\n</td>\n<td>\n0.0\n</td>\n<td>\n0.0\n</td>\n<td>\n0.0\n</td>\n<td>\n0.0\n</td>\n<td>\n0.0\n</td>\n<td>\n18.443295\n</td>\n<td>\n17.46923\n</td>\n<td>\n8.745172\n</td>\n<td>\n16.207455\n</td>\n<td>\n10.791277\n</td>\n<td>\n16.628554\n</td>\n<td>\n12.463572\n</td>\n<td>\n0.0\n</td>\n<td>\n21.245256\n</td>\n<td>\n121.993811\n</td>\n<td>\n4.06646\n</td>\n</tr>\n<tr>\n<td>\n&quot;ENSG00000271254&quot;\n</td>\n<td>\nnull\n</td>\n<td>\n&quot;ENST00000614336&quot;\n</td>\n<td>\nnull\n</td>\n<td>\n[&quot;KI270711.1&quot;, &quot;-&quot;, ... &quot;24650&quot;]\n</td>\n<td>\n7.567923\n</td>\n<td>\n13.716575\n</td>\n<td>\n7.935838\n</td>\n<td>\n6.484386\n</td>\n<td>\n6.806973\n</td>\n<td>\n6.617088\n</td>\n<td>\n5.449629\n</td>\n<td>\n6.096419\n</td>\n<td>\n17.924289\n</td>\n<td>\n17.28174\n</td>\n<td>\n16.942145\n</td>\n<td>\n4.447478\n</td>\n<td>\n5.00713\n</td>\n<td>\n4.197023\n</td>\n<td>\n3.118351\n</td>\n<td>\n33.797291\n</td>\n<td>\n33.954871\n</td>\n<td>\n32.63451\n</td>\n<td>\n1.588479\n</td>\n<td>\n2.194194\n</td>\n<td>\n1.59622\n</td>\n<td>\n40.808775\n</td>\n<td>\n39.858424\n</td>\n<td>\n41.700199\n</td>\n<td>\n36.761232\n</td>\n<td>\n41.343304\n</td>\n<td>\n42.86711\n</td>\n<td>\n40.946863\n</td>\n<td>\n44.288209\n</td>\n<td>\n41.632101\n</td>\n<td>\n605.564769\n</td>\n<td>\n20.185492\n</td>\n</tr>\n<tr>\n<td>\n&quot;ENSG00000271254&quot;\n</td>\n<td>\nnull\n</td>\n<td>\n&quot;ENST00000612640&quot;\n</td>\n<td>\nnull\n</td>\n<td>\n[&quot;KI270711.1&quot;, &quot;-&quot;, ... &quot;29626&quot;]\n</td>\n<td>\n4.452391\n</td>\n<td>\n2.015256\n</td>\n<td>\n1.080914\n</td>\n<td>\n1.606875\n</td>\n<td>\n0.862063\n</td>\n<td>\n1.832641\n</td>\n<td>\n0.0\n</td>\n<td>\n1.206561\n</td>\n<td>\n10.108499\n</td>\n<td>\n7.730849\n</td>\n<td>\n9.023512\n</td>\n<td>\n0.091946\n</td>\n<td>\n0.412947\n</td>\n<td>\n0.164991\n</td>\n<td>\n0.0\n</td>\n<td>\n21.887268\n</td>\n<td>\n23.23827\n</td>\n<td>\n24.10478\n</td>\n<td>\n0.0\n</td>\n<td>\n1.695226\n</td>\n<td>\n0.0\n</td>\n<td>\n8.308789\n</td>\n<td>\n12.579153\n</td>\n<td>\n11.474448\n</td>\n<td>\n10.94373\n</td>\n<td>\n13.026568\n</td>\n<td>\n12.041407\n</td>\n<td>\n10.452295\n</td>\n<td>\n8.282681\n</td>\n<td>\n8.779706\n</td>\n<td>\n207.403766\n</td>\n<td>\n6.913459\n</td>\n</tr>\n<tr>\n<td>\n&quot;ENSG00000268674&quot;\n</td>\n<td>\nnull\n</td>\n<td>\n&quot;ENST00000601199&quot;\n</td>\n<td>\nnull\n</td>\n<td>\n[&quot;KI270713.1&quot;, &quot;+&quot;, ... &quot;35916&quot;]\n</td>\n<td>\n11.504419\n</td>\n<td>\n58.797142\n</td>\n<td>\n1.550684\n</td>\n<td>\n0.99142\n</td>\n<td>\n1.688057\n</td>\n<td>\n0.482751\n</td>\n<td>\n1.373569\n</td>\n<td>\n0.0\n</td>\n<td>\n0.507108\n</td>\n<td>\n1.725351\n</td>\n<td>\n0.886775\n</td>\n<td>\n0.0\n</td>\n<td>\n0.390547\n</td>\n<td>\n0.0\n</td>\n<td>\n0.0\n</td>\n<td>\n3.529182\n</td>\n<td>\n2.845081\n</td>\n<td>\n3.259705\n</td>\n<td>\n1.873386\n</td>\n<td>\n2.212837\n</td>\n<td>\n2.649553\n</td>\n<td>\n1.776623\n</td>\n<td>\n0.440941\n</td>\n<td>\n1.788549\n</td>\n<td>\n0.0\n</td>\n<td>\n0.890351\n</td>\n<td>\n0.649102\n</td>\n<td>\n0.0\n</td>\n<td>\n1.883344\n</td>\n<td>\n0.924659\n</td>\n<td>\n104.621136\n</td>\n<td>\n3.487371\n</td>\n</tr>\n<tr>\n<td>\n&quot;ENSG00000277475&quot;\n</td>\n<td>\nnull\n</td>\n<td>\n&quot;ENST00000612315&quot;\n</td>\n<td>\nnull\n</td>\n<td>\n[&quot;KI270713.1&quot;, &quot;-&quot;, ... &quot;32528&quot;]\n</td>\n<td>\n5.215969\n</td>\n<td>\n27.034752\n</td>\n<td>\n0.0\n</td>\n<td>\n0.0\n</td>\n<td>\n0.0\n</td>\n<td>\n0.0\n</td>\n<td>\n0.0\n</td>\n<td>\n0.0\n</td>\n<td>\n0.343589\n</td>\n<td>\n0.0\n</td>\n<td>\n0.057149\n</td>\n<td>\n0.0\n</td>\n<td>\n0.0\n</td>\n<td>\n0.0\n</td>\n<td>\n0.0\n</td>\n<td>\n3.185182\n</td>\n<td>\n1.793538\n</td>\n<td>\n3.750735\n</td>\n<td>\n0.0\n</td>\n<td>\n0.0\n</td>\n<td>\n0.0\n</td>\n<td>\n0.669622\n</td>\n<td>\n0.490149\n</td>\n<td>\n0.990084\n</td>\n<td>\n0.0\n</td>\n<td>\n0.493983\n</td>\n<td>\n0.0\n</td>\n<td>\n0.397169\n</td>\n<td>\n0.0\n</td>\n<td>\n0.515884\n</td>\n<td>\n44.937805\n</td>\n<td>\n1.497927\n</td>\n</tr>\n</tbody>\n</table>\n</div>"
     },
     "execution_count": 7,
     "metadata": {},
     "output_type": "execute_result"
    }
   ],
   "source": [
    "species = cells.species_expressions_by_name[\"Homo_sapiens\"]\n",
    "species.transcript_expressions"
   ],
   "metadata": {
    "collapsed": false
   }
  },
  {
   "cell_type": "code",
   "execution_count": 8,
   "outputs": [
    {
     "data": {
      "text/plain": "['gene',\n 'gene_name',\n 'transcript',\n 'transcript_name',\n 'coordinates',\n 'SRR8235265',\n 'SRR5371363',\n 'SRR5604839',\n 'SRR5604838',\n 'SRR5604837',\n 'SRR5604836',\n 'SRR5604835',\n 'SRR5604834',\n 'SRR16495650',\n 'SRR16495651',\n 'SRR16495652',\n 'SRR15858108',\n 'SRR15858109',\n 'SRR15858110',\n 'SRR15858111',\n 'SRR15414944',\n 'SRR15414945',\n 'SRR15414946',\n 'SRR12964435',\n 'SRR12964434',\n 'SRR12964433',\n 'SRR791578',\n 'SRR791579',\n 'SRR791580',\n 'SRR791581',\n 'SRR791582',\n 'SRR791583',\n 'SRR791584',\n 'SRR791585',\n 'SRR791586',\n 'sum_TPM',\n 'avg_TPM']"
     },
     "execution_count": 8,
     "metadata": {},
     "output_type": "execute_result"
    }
   ],
   "source": [
    "species.transcript_expressions.columns"
   ],
   "metadata": {
    "collapsed": false
   }
  },
  {
   "cell_type": "markdown",
   "source": [
    "Work check\n",
    "===========\n",
    "Checking that everything works"
   ],
   "metadata": {
    "collapsed": false
   }
  },
  {
   "cell_type": "code",
   "execution_count": null,
   "outputs": [],
   "source": [
    "cells.toc_samples"
   ],
   "metadata": {
    "collapsed": false
   }
  },
  {
   "cell_type": "code",
   "execution_count": null,
   "outputs": [],
   "source": [
    "summaries = SpeciesExpressions.summaries_from_samples(cells.samples)\n",
    "summaries"
   ],
   "metadata": {
    "collapsed": false
   }
  },
  {
   "cell_type": "code",
   "execution_count": null,
   "outputs": [],
   "source": [
    "seq(summaries).map(lambda s: s.species)"
   ],
   "metadata": {
    "collapsed": false
   }
  },
  {
   "cell_type": "code",
   "execution_count": 18,
   "outputs": [
    {
     "data": {
      "text/plain": "[<dashboard.cell_models.SpeciesExpressions object at 0x7fdc282c6920>]"
     },
     "execution_count": 18,
     "metadata": {},
     "output_type": "execute_result"
    }
   ],
   "source": [
    "SpeciesExpressions.load_summaries_from(locations.cell_lines_cache)"
   ],
   "metadata": {
    "collapsed": false
   }
  },
  {
   "cell_type": "code",
   "execution_count": 19,
   "outputs": [
    {
     "name": "stdout",
     "output_type": "stream",
     "text": [
      "genes summarized for Homo_sapiens: runs 30, merged genes shape (194142, 31)\n",
      "transcripts summarized for Homo_sapiens: runs 30, merged transcripts shape (194142, 31)\n",
      "could not find quantification data for /home/antonkulaga/sources/expressions-dashboard/data/inputs/cell_lines/B16F10/SAMN22137224/SRR16242848\n",
      "could not find quantification data for /home/antonkulaga/sources/expressions-dashboard/data/inputs/cell_lines/B16F10/SAMN22137224/SRR16242848\n",
      "could not find quantification data for /home/antonkulaga/sources/expressions-dashboard/data/inputs/cell_lines/B16F10/SAMN22137225/SRR16242849\n",
      "could not find quantification data for /home/antonkulaga/sources/expressions-dashboard/data/inputs/cell_lines/B16F10/SAMN22137225/SRR16242849\n",
      "could not find quantification data for /home/antonkulaga/sources/expressions-dashboard/data/inputs/cell_lines/B16F10/SAMN22137226/SRR16242850\n",
      "could not find quantification data for /home/antonkulaga/sources/expressions-dashboard/data/inputs/cell_lines/B16F10/SAMN22137226/SRR16242850\n",
      "could not find quantification data for /home/antonkulaga/sources/expressions-dashboard/data/inputs/cell_lines/B16F1/SAMN07340361/SRR5815762\n",
      "could not find quantification data for /home/antonkulaga/sources/expressions-dashboard/data/inputs/cell_lines/B16F1/SAMN07340361/SRR5815762\n",
      "could not find quantification data for /home/antonkulaga/sources/expressions-dashboard/data/inputs/cell_lines/B16F1/SAMN07340362/SRR5815761\n",
      "could not find quantification data for /home/antonkulaga/sources/expressions-dashboard/data/inputs/cell_lines/B16F1/SAMN07340362/SRR5815761\n",
      "could not find quantification data for /home/antonkulaga/sources/expressions-dashboard/data/inputs/cell_lines/B16F1/SAMN07340363/SRR5815760\n",
      "could not find quantification data for /home/antonkulaga/sources/expressions-dashboard/data/inputs/cell_lines/B16F1/SAMN07340363/SRR5815760\n",
      "no quantified transcripts (second try) found in [<dashboard.cell_models.Run object at 0x7fde3efc0850>, <dashboard.cell_models.Run object at 0x7fde3efc01c0>, <dashboard.cell_models.Run object at 0x7fde3efc06a0>, <dashboard.cell_models.Run object at 0x7fde3efc0250>, <dashboard.cell_models.Run object at 0x7fde3efc1270>, <dashboard.cell_models.Run object at 0x7fde3efc03a0>]\n",
      "could not find quantification data for /home/antonkulaga/sources/expressions-dashboard/data/inputs/cell_lines/MDBK/SAMN04378088/SRR3068342\n",
      "could not find quantification data for /home/antonkulaga/sources/expressions-dashboard/data/inputs/cell_lines/MDBK/SAMN04378088/SRR3068342\n",
      "could not find quantification data for /home/antonkulaga/sources/expressions-dashboard/data/inputs/cell_lines/MDBK/SAMN04378088/SRR3068343\n",
      "could not find quantification data for /home/antonkulaga/sources/expressions-dashboard/data/inputs/cell_lines/MDBK/SAMN04378088/SRR3068343\n",
      "could not find quantification data for /home/antonkulaga/sources/expressions-dashboard/data/inputs/cell_lines/MDBK/SAMN04378088/SRR3068344\n",
      "could not find quantification data for /home/antonkulaga/sources/expressions-dashboard/data/inputs/cell_lines/MDBK/SAMN04378088/SRR3068344\n",
      "could not find quantification data for /home/antonkulaga/sources/expressions-dashboard/data/inputs/cell_lines/MDBK/SAMN04378088/SRR3068361\n",
      "could not find quantification data for /home/antonkulaga/sources/expressions-dashboard/data/inputs/cell_lines/MDBK/SAMN04378088/SRR3068361\n",
      "could not find quantification data for /home/antonkulaga/sources/expressions-dashboard/data/inputs/cell_lines/MDBK/SAMN04378088/SRR3068362\n",
      "could not find quantification data for /home/antonkulaga/sources/expressions-dashboard/data/inputs/cell_lines/MDBK/SAMN04378088/SRR3068362\n",
      "could not find quantification data for /home/antonkulaga/sources/expressions-dashboard/data/inputs/cell_lines/MDBK/SAMN04378088/SRR3068364\n",
      "could not find quantification data for /home/antonkulaga/sources/expressions-dashboard/data/inputs/cell_lines/MDBK/SAMN04378088/SRR3068364\n",
      "no quantified transcripts (second try) found in [<dashboard.cell_models.Run object at 0x7fde3efc04c0>, <dashboard.cell_models.Run object at 0x7fde3efc1db0>, <dashboard.cell_models.Run object at 0x7fde3efc1a50>, <dashboard.cell_models.Run object at 0x7fde3efc1cc0>, <dashboard.cell_models.Run object at 0x7fde3efc1ae0>, <dashboard.cell_models.Run object at 0x7fde3efc1a20>]\n"
     ]
    },
    {
     "data": {
      "text/plain": "[<dashboard.cell_models.SpeciesExpressions at 0x7fde9218fbb0>,\n <dashboard.cell_models.SpeciesExpressions at 0x7fde9218ff10>,\n <dashboard.cell_models.SpeciesExpressions at 0x7fde9218f8b0>]"
     },
     "execution_count": 19,
     "metadata": {},
     "output_type": "execute_result"
    }
   ],
   "source": [
    "summaries = SpeciesExpressions.summaries_from_samples(cells.samples)\n",
    "summaries"
   ],
   "metadata": {
    "collapsed": false
   }
  }
 ],
 "metadata": {
  "kernelspec": {
   "display_name": "Python 3",
   "language": "python",
   "name": "python3"
  },
  "language_info": {
   "codemirror_mode": {
    "name": "ipython",
    "version": 2
   },
   "file_extension": ".py",
   "mimetype": "text/x-python",
   "name": "python",
   "nbconvert_exporter": "python",
   "pygments_lexer": "ipython2",
   "version": "2.7.6"
  }
 },
 "nbformat": 4,
 "nbformat_minor": 0
}
