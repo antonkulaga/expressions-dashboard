{
 "cells": [
  {
   "cell_type": "code",
   "execution_count": 6,
   "outputs": [],
   "source": [
    "# Inspect cells lines to find what needs to be quantified"
   ],
   "metadata": {
    "collapsed": false
   }
  },
  {
   "cell_type": "code",
   "execution_count": 1,
   "outputs": [
    {
     "name": "stderr",
     "output_type": "stream",
     "text": [
      "/home/antonkulaga/micromamba/envs/dashboard/lib/python3.10/site-packages/tqdm/auto.py:22: TqdmWarning: IProgress not found. Please update jupyter and ipywidgets. See https://ipywidgets.readthedocs.io/en/stable/user_install.html\n",
      "  from .autonotebook import tqdm as notebook_tqdm\n"
     ]
    }
   ],
   "source": [
    "import genotations.ensembl\n",
    "import polars as pl\n",
    "from pycomfort.files import *"
   ],
   "metadata": {
    "collapsed": false
   }
  },
  {
   "cell_type": "code",
   "execution_count": 2,
   "outputs": [
    {
     "name": "stdout",
     "output_type": "stream",
     "text": [
      "[PosixPath('/home/antonkulaga/sources/expressions-dashboard/dashboard'), '/home/antonkulaga/sources/expressions-dashboard/notebooks/..', '/home/antonkulaga/sources/expressions-dashboard/notebooks', '/home/antonkulaga/sources/expressions-dashboard', '/home/antonkulaga/micromamba/envs/dashboard/lib/python310.zip', '/home/antonkulaga/micromamba/envs/dashboard/lib/python3.10', '/home/antonkulaga/micromamba/envs/dashboard/lib/python3.10/lib-dynload', '', '/home/antonkulaga/.local/lib/python3.10/site-packages', '/home/antonkulaga/micromamba/envs/dashboard/lib/python3.10/site-packages']\n"
     ]
    }
   ],
   "source": [
    "import sys\n",
    "\n",
    "base = Path(\"..\")\n",
    "local = (base / \"dashboard\").resolve()\n",
    "if local.exists():\n",
    "    sys.path.insert(0, Path(\"..\").absolute().as_posix())\n",
    "    sys.path.insert(0, local)\n",
    "    print(sys.path)\n",
    "else:\n",
    "    base = Path(\".\")\n",
    "%load_ext autoreload\n",
    "%autoreload 2"
   ],
   "metadata": {
    "collapsed": false
   }
  },
  {
   "cell_type": "code",
   "execution_count": 3,
   "outputs": [
    {
     "data": {
      "text/plain": "polars.cfg.Config"
     },
     "execution_count": 3,
     "metadata": {},
     "output_type": "execute_result"
    }
   ],
   "source": [
    "pl.Config.set_tbl_width_chars(10000)\n",
    "pl.Config.set_fmt_str_lengths(1000)\n",
    "pl.Config.set_tbl_rows(20)"
   ],
   "metadata": {
    "collapsed": false
   }
  },
  {
   "cell_type": "code",
   "execution_count": 4,
   "outputs": [],
   "source": [
    "from dashboard.cell_models import *\n",
    "from dashboard.config import *"
   ],
   "metadata": {
    "collapsed": false
   }
  },
  {
   "cell_type": "code",
   "execution_count": 5,
   "outputs": [
    {
     "data": {
      "text/plain": "PosixPath('../data/inputs/cell_lines/CACHE')"
     },
     "execution_count": 5,
     "metadata": {},
     "output_type": "execute_result"
    }
   ],
   "source": [
    "locations = Locations(base)\n",
    "locations.cell_lines_cache"
   ],
   "metadata": {
    "collapsed": false
   }
  },
  {
   "cell_type": "code",
   "execution_count": 7,
   "outputs": [
    {
     "name": "stdout",
     "output_type": "stream",
     "text": [
      "cell line /home/antonkulaga/sources/expressions-dashboard/data/inputs/cell_lines/Glu-Tag does not seem to exist!\n",
      "cell line /home/antonkulaga/sources/expressions-dashboard/data/inputs/cell_lines/INS-1 does not seem to exist!\n"
     ]
    }
   ],
   "source": [
    "cells = Cells(locations.cell_lines)"
   ],
   "metadata": {
    "collapsed": false
   }
  },
  {
   "cell_type": "code",
   "execution_count": 9,
   "outputs": [
    {
     "data": {
      "text/plain": "dict_keys(['Homo_sapiens'])"
     },
     "execution_count": 9,
     "metadata": {},
     "output_type": "execute_result"
    }
   ],
   "source": [
    "cells.species_expressions_by_name.keys()"
   ],
   "metadata": {
    "collapsed": false
   }
  },
  {
   "cell_type": "code",
   "execution_count": 89,
   "outputs": [
    {
     "name": "stdout",
     "output_type": "stream",
     "text": [
      "/home/antonkulaga/sources/expressions-dashboard/data/inputs/cell_lines\n",
      "QUANTS: \n",
      "['SKOV3', 'EA.hy926', 'PANC-1', 'MelJuSo', 'HEK293T', 'Jurkat', 'CCD-1070Sk', 'THP-1', 'A549', 'RAW_264.7', 'A375', 'B16F10']\n",
      "NO QUANTS: \n",
      "['MDBK', 'INS1', 'B16F1', 'Glu-Tag', 'B16F10']\n",
      "EMPTY\n",
      "['SkMel-23', 'HepaRG', 'CACHE', 'Me275', 'BV2', 'COLO205', 'MNT-1', 'RAW']\n"
     ]
    }
   ],
   "source": [
    "print(cells.folder.absolute())\n",
    "positive_quants: OrderedDict = OrderedDict()\n",
    "negative_quants: OrderedDict = OrderedDict()\n",
    "empty_quants: list = []\n",
    "for line in dirs(cells.folder):\n",
    "   samples = dirs(line)\n",
    "   positive = dirs(line).flat_map(lambda s:\n",
    "                              dirs(s).filter(\n",
    "                                  lambda r: dirs(r).exists(lambda d: d.name.startswith(\"quant\"))\n",
    "                              ).map(lambda r: r.name)).to_list()\n",
    "   negative = dirs(line).flat_map(lambda s:\n",
    "                              dirs(s).filter(\n",
    "                                  lambda r: not dirs(r).exists(lambda d: d.name.startswith(\"quant\"))\n",
    "                              ).map(lambda r: r.name)).to_list()\n",
    "   if len(positive) > 0:\n",
    "       positive_quants[line.name] = positive\n",
    "   if len(negative) > 0:\n",
    "       negative_quants[line.name] = negative\n",
    "   if len(positive) ==0 and len(negative) == 0:\n",
    "       empty_quants.append(line.name)\n",
    "\n",
    "print(\"QUANTS: \")\n",
    "print(list(positive_quants.keys()))\n",
    "print(\"NO QUANTS: \")\n",
    "print(list(negative_quants.keys()))\n",
    "print(\"EMPTY\")\n",
    "print(empty_quants)\n"
   ],
   "metadata": {
    "collapsed": false
   }
  },
  {
   "cell_type": "code",
   "execution_count": 25,
   "outputs": [
    {
     "name": "stdout",
     "output_type": "stream",
     "text": [
      "cell_lines\n",
      "\t.gitignore\n",
      "\tcell_lines_toc.tsv\n",
      "\tMDBK\n",
      "\tSKOV3\n",
      "\tHepaRG\n",
      "\tEA.hy926\n",
      "\tPANC-1\n",
      "\tINS1\n",
      "\tCACHE\n",
      "\t\t.gitignore\n",
      "\t\tHomo_sapiens_gene_names.parquet\n",
      "\t\tHomo_sapiens_transcript_expressions.parquet\n",
      "\t\tHomo_sapiens_transcript_expressions_with_exons.parquet\n",
      "\t\tHomo_sapiens_gene_expressions.parquet\n",
      "\tMelJuSo\n",
      "\tHEK293T\n",
      "\tJurkat\n",
      "\tB16F1\n",
      "\tRAW 264.7\n",
      "\tCCD-1070Sk\n",
      "\tTHP-1\n",
      "\tA549\n",
      "\tRAW_264.7\n",
      "\tB16F10\n",
      "\tRAW\n"
     ]
    }
   ],
   "source": [
    "tprint(cells.folder, 1)"
   ],
   "metadata": {
    "collapsed": false
   }
  },
  {
   "cell_type": "code",
   "execution_count": 90,
   "outputs": [
    {
     "name": "stdout",
     "output_type": "stream",
     "text": [
      "/home/antonkulaga/sources/expressions-dashboard/data/inputs/cell_lines/INS-1\n",
      "/home/antonkulaga/sources/expressions-dashboard/data/inputs/cell_lines/PANC-1 \n",
      "/home/antonkulaga/sources/expressions-dashboard/data/inputs/cell_lines/RAW 264.7\n"
     ]
    }
   ],
   "source": [
    "non_human_lines = cells.toc_samples.filter(pl.col(\"Species\") != \"Human\").select(\"Cell line name\").to_series().to_list()\n",
    "for l in non_human_lines:\n",
    "    line = (cells.folder / l)\n",
    "    if not line.exists():\n",
    "        print(line)\n"
   ],
   "metadata": {
    "collapsed": false
   }
  },
  {
   "cell_type": "code",
   "execution_count": 91,
   "outputs": [
    {
     "data": {
      "text/plain": "['Glu-Tag',\n 'INS-1',\n 'PANC-1 ',\n 'CCD-1070Sk',\n 'RAW 264.7',\n 'B16F10',\n 'B16F1',\n 'MDBK']"
     },
     "execution_count": 91,
     "metadata": {},
     "output_type": "execute_result"
    }
   ],
   "source": [
    "non_human_lines"
   ],
   "metadata": {
    "collapsed": false
   }
  },
  {
   "cell_type": "markdown",
   "source": [
    "##"
   ],
   "metadata": {
    "collapsed": false
   }
  }
 ],
 "metadata": {
  "kernelspec": {
   "display_name": "Python 3",
   "language": "python",
   "name": "python3"
  },
  "language_info": {
   "codemirror_mode": {
    "name": "ipython",
    "version": 2
   },
   "file_extension": ".py",
   "mimetype": "text/x-python",
   "name": "python",
   "nbconvert_exporter": "python",
   "pygments_lexer": "ipython2",
   "version": "2.7.6"
  }
 },
 "nbformat": 4,
 "nbformat_minor": 0
}
