{
 "cells": [
  {
   "cell_type": "code",
   "execution_count": 1,
   "outputs": [],
   "source": [
    "# Inspect cells lines to find what needs to be quantified"
   ],
   "metadata": {
    "collapsed": false
   }
  },
  {
   "cell_type": "code",
   "execution_count": 2,
   "outputs": [
    {
     "name": "stderr",
     "output_type": "stream",
     "text": [
      "/home/antonkulaga/micromamba/envs/dashboard/lib/python3.10/site-packages/tqdm/auto.py:22: TqdmWarning: IProgress not found. Please update jupyter and ipywidgets. See https://ipywidgets.readthedocs.io/en/stable/user_install.html\n",
      "  from .autonotebook import tqdm as notebook_tqdm\n"
     ]
    }
   ],
   "source": [
    "import genotations.ensembl\n",
    "import polars as pl\n",
    "from pycomfort.files import *"
   ],
   "metadata": {
    "collapsed": false
   }
  },
  {
   "cell_type": "code",
   "execution_count": 3,
   "outputs": [
    {
     "name": "stdout",
     "output_type": "stream",
     "text": [
      "[PosixPath('/home/antonkulaga/sources/expressions-dashboard/dashboard'), '/home/antonkulaga/sources/expressions-dashboard/notebooks/..', '/home/antonkulaga/sources/expressions-dashboard/notebooks', '/home/antonkulaga/sources/expressions-dashboard', '/home/antonkulaga/micromamba/envs/dashboard/lib/python310.zip', '/home/antonkulaga/micromamba/envs/dashboard/lib/python3.10', '/home/antonkulaga/micromamba/envs/dashboard/lib/python3.10/lib-dynload', '', '/home/antonkulaga/.local/lib/python3.10/site-packages', '/home/antonkulaga/micromamba/envs/dashboard/lib/python3.10/site-packages']\n"
     ]
    }
   ],
   "source": [
    "import sys\n",
    "\n",
    "base = Path(\"..\")\n",
    "local = (base / \"dashboard\").resolve()\n",
    "if local.exists():\n",
    "    sys.path.insert(0, Path(\"..\").absolute().as_posix())\n",
    "    sys.path.insert(0, local)\n",
    "    print(sys.path)\n",
    "else:\n",
    "    base = Path(\".\")\n",
    "%load_ext autoreload\n",
    "%autoreload 2"
   ],
   "metadata": {
    "collapsed": false
   }
  },
  {
   "cell_type": "code",
   "execution_count": 4,
   "outputs": [
    {
     "data": {
      "text/plain": "polars.cfg.Config"
     },
     "execution_count": 4,
     "metadata": {},
     "output_type": "execute_result"
    }
   ],
   "source": [
    "pl.Config.set_tbl_width_chars(10000)\n",
    "pl.Config.set_fmt_str_lengths(1000)\n",
    "pl.Config.set_tbl_rows(20)"
   ],
   "metadata": {
    "collapsed": false
   }
  },
  {
   "cell_type": "code",
   "execution_count": 5,
   "outputs": [],
   "source": [
    "from dashboard.cell_models import *\n",
    "from dashboard.config import *"
   ],
   "metadata": {
    "collapsed": false
   }
  },
  {
   "cell_type": "code",
   "execution_count": 6,
   "outputs": [
    {
     "data": {
      "text/plain": "PosixPath('../data/inputs/CACHE')"
     },
     "execution_count": 6,
     "metadata": {},
     "output_type": "execute_result"
    }
   ],
   "source": [
    "locations = Locations(base)\n",
    "locations.cell_lines_cache"
   ],
   "metadata": {
    "collapsed": false
   }
  },
  {
   "cell_type": "code",
   "execution_count": 11,
   "outputs": [
    {
     "name": "stdout",
     "output_type": "stream",
     "text": [
      "writing samples metas to ../data/inputs/CACHE/samples_meta.parquet\n",
      "writing advanced toc to ../data/inputs/CACHE/samples_toc.parquet\n"
     ]
    },
    {
     "data": {
      "text/plain": "shape: (51, 10)\n┌───────────────────┬───────────────────────────────────────┬───────────────────┬─────────────────────────────────────────────┬─────┬─────────────────────────────────────────────────────────────────────────────────────────────────────────────────────────────────────────────────┬───────────────────────────────────┬─────────────────────────────────────────────────────────────────────┬──────────────────────────────────────────┐\n│ Cell line name    ┆ URL                                   ┆ Species           ┆ Phenotype                                   ┆ ... ┆ Modified lines                                                                                                                                  ┆ Owners                            ┆ Sources                                                             ┆ Commens                                  │\n│ ---               ┆ ---                                   ┆ ---               ┆ ---                                         ┆     ┆ ---                                                                                                                                             ┆ ---                               ┆ ---                                                                 ┆ ---                                      │\n│ str               ┆ str                                   ┆ str               ┆ str                                         ┆     ┆ str                                                                                                                                             ┆ str                               ┆ str                                                                 ┆ str                                      │\n╞═══════════════════╪═══════════════════════════════════════╪═══════════════════╪═════════════════════════════════════════════╪═════╪═════════════════════════════════════════════════════════════════════════════════════════════════════════════════════════════════════════════════╪═══════════════════════════════════╪═════════════════════════════════════════════════════════════════════╪══════════════════════════════════════════╡\n│ Alpha TC1 clone 6 ┆ https://www.cellosaurus.org/CVCL_B036 ┆ Homo_sapiens      ┆ Alpha Cells                                 ┆ ... ┆ null                                                                                                                                            ┆ Molecular Cell Biology Department ┆ ATCC/FPena                                                          ┆ null                                     │\n├╌╌╌╌╌╌╌╌╌╌╌╌╌╌╌╌╌╌╌┼╌╌╌╌╌╌╌╌╌╌╌╌╌╌╌╌╌╌╌╌╌╌╌╌╌╌╌╌╌╌╌╌╌╌╌╌╌╌╌┼╌╌╌╌╌╌╌╌╌╌╌╌╌╌╌╌╌╌╌┼╌╌╌╌╌╌╌╌╌╌╌╌╌╌╌╌╌╌╌╌╌╌╌╌╌╌╌╌╌╌╌╌╌╌╌╌╌╌╌╌╌╌╌╌╌┼╌╌╌╌╌┼╌╌╌╌╌╌╌╌╌╌╌╌╌╌╌╌╌╌╌╌╌╌╌╌╌╌╌╌╌╌╌╌╌╌╌╌╌╌╌╌╌╌╌╌╌╌╌╌╌╌╌╌╌╌╌╌╌╌╌╌╌╌╌╌╌╌╌╌╌╌╌╌╌╌╌╌╌╌╌╌╌╌╌╌╌╌╌╌╌╌╌╌╌╌╌╌╌╌╌╌╌╌╌╌╌╌╌╌╌╌╌╌╌╌╌╌╌╌╌╌╌╌╌╌╌╌╌╌╌╌╌╌╌╌╌╌╌╌╌╌╌╌╌╌╌┼╌╌╌╌╌╌╌╌╌╌╌╌╌╌╌╌╌╌╌╌╌╌╌╌╌╌╌╌╌╌╌╌╌╌╌┼╌╌╌╌╌╌╌╌╌╌╌╌╌╌╌╌╌╌╌╌╌╌╌╌╌╌╌╌╌╌╌╌╌╌╌╌╌╌╌╌╌╌╌╌╌╌╌╌╌╌╌╌╌╌╌╌╌╌╌╌╌╌╌╌╌╌╌╌╌┼╌╌╌╌╌╌╌╌╌╌╌╌╌╌╌╌╌╌╌╌╌╌╌╌╌╌╌╌╌╌╌╌╌╌╌╌╌╌╌╌╌╌┤\n│ Glu-Tag           ┆ https://www.cellosaurus.org/CVCL_J406 ┆ Mus_musculus      ┆ Murine enteroendocrine                      ┆ ... ┆ INS-1+EDEM1, EDEM2, EDEM3, XTP-3B, OS-9.1, OS9.2 (IBAR)                                                                                         ┆ Molecular Cell Biology Department ┆ Drucker/F Pena                                                      ┆ null                                     │\n├╌╌╌╌╌╌╌╌╌╌╌╌╌╌╌╌╌╌╌┼╌╌╌╌╌╌╌╌╌╌╌╌╌╌╌╌╌╌╌╌╌╌╌╌╌╌╌╌╌╌╌╌╌╌╌╌╌╌╌┼╌╌╌╌╌╌╌╌╌╌╌╌╌╌╌╌╌╌╌┼╌╌╌╌╌╌╌╌╌╌╌╌╌╌╌╌╌╌╌╌╌╌╌╌╌╌╌╌╌╌╌╌╌╌╌╌╌╌╌╌╌╌╌╌╌┼╌╌╌╌╌┼╌╌╌╌╌╌╌╌╌╌╌╌╌╌╌╌╌╌╌╌╌╌╌╌╌╌╌╌╌╌╌╌╌╌╌╌╌╌╌╌╌╌╌╌╌╌╌╌╌╌╌╌╌╌╌╌╌╌╌╌╌╌╌╌╌╌╌╌╌╌╌╌╌╌╌╌╌╌╌╌╌╌╌╌╌╌╌╌╌╌╌╌╌╌╌╌╌╌╌╌╌╌╌╌╌╌╌╌╌╌╌╌╌╌╌╌╌╌╌╌╌╌╌╌╌╌╌╌╌╌╌╌╌╌╌╌╌╌╌╌╌╌╌╌╌┼╌╌╌╌╌╌╌╌╌╌╌╌╌╌╌╌╌╌╌╌╌╌╌╌╌╌╌╌╌╌╌╌╌╌╌┼╌╌╌╌╌╌╌╌╌╌╌╌╌╌╌╌╌╌╌╌╌╌╌╌╌╌╌╌╌╌╌╌╌╌╌╌╌╌╌╌╌╌╌╌╌╌╌╌╌╌╌╌╌╌╌╌╌╌╌╌╌╌╌╌╌╌╌╌╌┼╌╌╌╌╌╌╌╌╌╌╌╌╌╌╌╌╌╌╌╌╌╌╌╌╌╌╌╌╌╌╌╌╌╌╌╌╌╌╌╌╌╌┤\n│ INS-1             ┆ https://www.cellosaurus.org/CVCL_0352 ┆ Rattus_norvegicus ┆ Celule Beta de insulinom                    ┆ ... ┆ INS-1+EDEM1, EDEM2, EDEM3, XTP-3B, OS-9.1, OS9.2 (IBAR), INS-1 shEDEM1(IBAR)                                                                    ┆ Molecular Cell Biology Department ┆ Donatie Dr. Donatie Dr. Peter van der Sluijs, Univ. Utrecht, Olanda ┆ null                                     │\n├╌╌╌╌╌╌╌╌╌╌╌╌╌╌╌╌╌╌╌┼╌╌╌╌╌╌╌╌╌╌╌╌╌╌╌╌╌╌╌╌╌╌╌╌╌╌╌╌╌╌╌╌╌╌╌╌╌╌╌┼╌╌╌╌╌╌╌╌╌╌╌╌╌╌╌╌╌╌╌┼╌╌╌╌╌╌╌╌╌╌╌╌╌╌╌╌╌╌╌╌╌╌╌╌╌╌╌╌╌╌╌╌╌╌╌╌╌╌╌╌╌╌╌╌╌┼╌╌╌╌╌┼╌╌╌╌╌╌╌╌╌╌╌╌╌╌╌╌╌╌╌╌╌╌╌╌╌╌╌╌╌╌╌╌╌╌╌╌╌╌╌╌╌╌╌╌╌╌╌╌╌╌╌╌╌╌╌╌╌╌╌╌╌╌╌╌╌╌╌╌╌╌╌╌╌╌╌╌╌╌╌╌╌╌╌╌╌╌╌╌╌╌╌╌╌╌╌╌╌╌╌╌╌╌╌╌╌╌╌╌╌╌╌╌╌╌╌╌╌╌╌╌╌╌╌╌╌╌╌╌╌╌╌╌╌╌╌╌╌╌╌╌╌╌╌╌╌┼╌╌╌╌╌╌╌╌╌╌╌╌╌╌╌╌╌╌╌╌╌╌╌╌╌╌╌╌╌╌╌╌╌╌╌┼╌╌╌╌╌╌╌╌╌╌╌╌╌╌╌╌╌╌╌╌╌╌╌╌╌╌╌╌╌╌╌╌╌╌╌╌╌╌╌╌╌╌╌╌╌╌╌╌╌╌╌╌╌╌╌╌╌╌╌╌╌╌╌╌╌╌╌╌╌┼╌╌╌╌╌╌╌╌╌╌╌╌╌╌╌╌╌╌╌╌╌╌╌╌╌╌╌╌╌╌╌╌╌╌╌╌╌╌╌╌╌╌┤\n│ 1.1B4             ┆ https://www.cellosaurus.org/CVCL_1778 ┆ Homo_sapiens      ┆ Betta cells, problematic cell line          ┆ ... ┆ null                                                                                                                                            ┆ Molecular Cell Biology Department ┆ Sigma-Aldrich                                                       ┆ Classified by Celausaurus as problematic │\n├╌╌╌╌╌╌╌╌╌╌╌╌╌╌╌╌╌╌╌┼╌╌╌╌╌╌╌╌╌╌╌╌╌╌╌╌╌╌╌╌╌╌╌╌╌╌╌╌╌╌╌╌╌╌╌╌╌╌╌┼╌╌╌╌╌╌╌╌╌╌╌╌╌╌╌╌╌╌╌┼╌╌╌╌╌╌╌╌╌╌╌╌╌╌╌╌╌╌╌╌╌╌╌╌╌╌╌╌╌╌╌╌╌╌╌╌╌╌╌╌╌╌╌╌╌┼╌╌╌╌╌┼╌╌╌╌╌╌╌╌╌╌╌╌╌╌╌╌╌╌╌╌╌╌╌╌╌╌╌╌╌╌╌╌╌╌╌╌╌╌╌╌╌╌╌╌╌╌╌╌╌╌╌╌╌╌╌╌╌╌╌╌╌╌╌╌╌╌╌╌╌╌╌╌╌╌╌╌╌╌╌╌╌╌╌╌╌╌╌╌╌╌╌╌╌╌╌╌╌╌╌╌╌╌╌╌╌╌╌╌╌╌╌╌╌╌╌╌╌╌╌╌╌╌╌╌╌╌╌╌╌╌╌╌╌╌╌╌╌╌╌╌╌╌╌╌╌┼╌╌╌╌╌╌╌╌╌╌╌╌╌╌╌╌╌╌╌╌╌╌╌╌╌╌╌╌╌╌╌╌╌╌╌┼╌╌╌╌╌╌╌╌╌╌╌╌╌╌╌╌╌╌╌╌╌╌╌╌╌╌╌╌╌╌╌╌╌╌╌╌╌╌╌╌╌╌╌╌╌╌╌╌╌╌╌╌╌╌╌╌╌╌╌╌╌╌╌╌╌╌╌╌╌┼╌╌╌╌╌╌╌╌╌╌╌╌╌╌╌╌╌╌╌╌╌╌╌╌╌╌╌╌╌╌╌╌╌╌╌╌╌╌╌╌╌╌┤\n│ PANC-1            ┆ https://www.cellosaurus.org/CVCL_0480 ┆ Homo_sapiens      ┆ Beta cells                                  ┆ ... ┆ null                                                                                                                                            ┆ Molecular Cell Biology Department ┆ null                                                                ┆ null                                     │\n├╌╌╌╌╌╌╌╌╌╌╌╌╌╌╌╌╌╌╌┼╌╌╌╌╌╌╌╌╌╌╌╌╌╌╌╌╌╌╌╌╌╌╌╌╌╌╌╌╌╌╌╌╌╌╌╌╌╌╌┼╌╌╌╌╌╌╌╌╌╌╌╌╌╌╌╌╌╌╌┼╌╌╌╌╌╌╌╌╌╌╌╌╌╌╌╌╌╌╌╌╌╌╌╌╌╌╌╌╌╌╌╌╌╌╌╌╌╌╌╌╌╌╌╌╌┼╌╌╌╌╌┼╌╌╌╌╌╌╌╌╌╌╌╌╌╌╌╌╌╌╌╌╌╌╌╌╌╌╌╌╌╌╌╌╌╌╌╌╌╌╌╌╌╌╌╌╌╌╌╌╌╌╌╌╌╌╌╌╌╌╌╌╌╌╌╌╌╌╌╌╌╌╌╌╌╌╌╌╌╌╌╌╌╌╌╌╌╌╌╌╌╌╌╌╌╌╌╌╌╌╌╌╌╌╌╌╌╌╌╌╌╌╌╌╌╌╌╌╌╌╌╌╌╌╌╌╌╌╌╌╌╌╌╌╌╌╌╌╌╌╌╌╌╌╌╌╌┼╌╌╌╌╌╌╌╌╌╌╌╌╌╌╌╌╌╌╌╌╌╌╌╌╌╌╌╌╌╌╌╌╌╌╌┼╌╌╌╌╌╌╌╌╌╌╌╌╌╌╌╌╌╌╌╌╌╌╌╌╌╌╌╌╌╌╌╌╌╌╌╌╌╌╌╌╌╌╌╌╌╌╌╌╌╌╌╌╌╌╌╌╌╌╌╌╌╌╌╌╌╌╌╌╌┼╌╌╌╌╌╌╌╌╌╌╌╌╌╌╌╌╌╌╌╌╌╌╌╌╌╌╌╌╌╌╌╌╌╌╌╌╌╌╌╌╌╌┤\n│ MelJuSo           ┆ https://www.cellosaurus.org/CVCL_1403 ┆ Homo_sapiens      ┆ Celule de melanom uman faza VGP             ┆ ... ┆ MJS DCT-KO (tehnologia Crispr/Cas 9) (IBAR)                                                                                                     ┆ Molecular Cell Biology Department ┆ null                                                                ┆ null                                     │\n├╌╌╌╌╌╌╌╌╌╌╌╌╌╌╌╌╌╌╌┼╌╌╌╌╌╌╌╌╌╌╌╌╌╌╌╌╌╌╌╌╌╌╌╌╌╌╌╌╌╌╌╌╌╌╌╌╌╌╌┼╌╌╌╌╌╌╌╌╌╌╌╌╌╌╌╌╌╌╌┼╌╌╌╌╌╌╌╌╌╌╌╌╌╌╌╌╌╌╌╌╌╌╌╌╌╌╌╌╌╌╌╌╌╌╌╌╌╌╌╌╌╌╌╌╌┼╌╌╌╌╌┼╌╌╌╌╌╌╌╌╌╌╌╌╌╌╌╌╌╌╌╌╌╌╌╌╌╌╌╌╌╌╌╌╌╌╌╌╌╌╌╌╌╌╌╌╌╌╌╌╌╌╌╌╌╌╌╌╌╌╌╌╌╌╌╌╌╌╌╌╌╌╌╌╌╌╌╌╌╌╌╌╌╌╌╌╌╌╌╌╌╌╌╌╌╌╌╌╌╌╌╌╌╌╌╌╌╌╌╌╌╌╌╌╌╌╌╌╌╌╌╌╌╌╌╌╌╌╌╌╌╌╌╌╌╌╌╌╌╌╌╌╌╌╌╌╌┼╌╌╌╌╌╌╌╌╌╌╌╌╌╌╌╌╌╌╌╌╌╌╌╌╌╌╌╌╌╌╌╌╌╌╌┼╌╌╌╌╌╌╌╌╌╌╌╌╌╌╌╌╌╌╌╌╌╌╌╌╌╌╌╌╌╌╌╌╌╌╌╌╌╌╌╌╌╌╌╌╌╌╌╌╌╌╌╌╌╌╌╌╌╌╌╌╌╌╌╌╌╌╌╌╌┼╌╌╌╌╌╌╌╌╌╌╌╌╌╌╌╌╌╌╌╌╌╌╌╌╌╌╌╌╌╌╌╌╌╌╌╌╌╌╌╌╌╌┤\n│ SKMel 28          ┆ https://www.cellosaurus.org/CVCL_0526 ┆ Homo_sapiens      ┆ Celule melanom uman , amelanotic metastatic ┆ ... ┆ null                                                                                                                                            ┆ Molecular Cell Biology Department ┆ ATCC accession no. HTB-72                                           ┆ null                                     │\n├╌╌╌╌╌╌╌╌╌╌╌╌╌╌╌╌╌╌╌┼╌╌╌╌╌╌╌╌╌╌╌╌╌╌╌╌╌╌╌╌╌╌╌╌╌╌╌╌╌╌╌╌╌╌╌╌╌╌╌┼╌╌╌╌╌╌╌╌╌╌╌╌╌╌╌╌╌╌╌┼╌╌╌╌╌╌╌╌╌╌╌╌╌╌╌╌╌╌╌╌╌╌╌╌╌╌╌╌╌╌╌╌╌╌╌╌╌╌╌╌╌╌╌╌╌┼╌╌╌╌╌┼╌╌╌╌╌╌╌╌╌╌╌╌╌╌╌╌╌╌╌╌╌╌╌╌╌╌╌╌╌╌╌╌╌╌╌╌╌╌╌╌╌╌╌╌╌╌╌╌╌╌╌╌╌╌╌╌╌╌╌╌╌╌╌╌╌╌╌╌╌╌╌╌╌╌╌╌╌╌╌╌╌╌╌╌╌╌╌╌╌╌╌╌╌╌╌╌╌╌╌╌╌╌╌╌╌╌╌╌╌╌╌╌╌╌╌╌╌╌╌╌╌╌╌╌╌╌╌╌╌╌╌╌╌╌╌╌╌╌╌╌╌╌╌╌╌┼╌╌╌╌╌╌╌╌╌╌╌╌╌╌╌╌╌╌╌╌╌╌╌╌╌╌╌╌╌╌╌╌╌╌╌┼╌╌╌╌╌╌╌╌╌╌╌╌╌╌╌╌╌╌╌╌╌╌╌╌╌╌╌╌╌╌╌╌╌╌╌╌╌╌╌╌╌╌╌╌╌╌╌╌╌╌╌╌╌╌╌╌╌╌╌╌╌╌╌╌╌╌╌╌╌┼╌╌╌╌╌╌╌╌╌╌╌╌╌╌╌╌╌╌╌╌╌╌╌╌╌╌╌╌╌╌╌╌╌╌╌╌╌╌╌╌╌╌┤\n│ SKMel 23          ┆ https://www.cellosaurus.org/CVCL_6027 ┆ Homo_sapiens      ┆ Melanoma                                    ┆ ... ┆ null                                                                                                                                            ┆ Molecular Cell Biology Department ┆ null                                                                ┆ null                                     │\n├╌╌╌╌╌╌╌╌╌╌╌╌╌╌╌╌╌╌╌┼╌╌╌╌╌╌╌╌╌╌╌╌╌╌╌╌╌╌╌╌╌╌╌╌╌╌╌╌╌╌╌╌╌╌╌╌╌╌╌┼╌╌╌╌╌╌╌╌╌╌╌╌╌╌╌╌╌╌╌┼╌╌╌╌╌╌╌╌╌╌╌╌╌╌╌╌╌╌╌╌╌╌╌╌╌╌╌╌╌╌╌╌╌╌╌╌╌╌╌╌╌╌╌╌╌┼╌╌╌╌╌┼╌╌╌╌╌╌╌╌╌╌╌╌╌╌╌╌╌╌╌╌╌╌╌╌╌╌╌╌╌╌╌╌╌╌╌╌╌╌╌╌╌╌╌╌╌╌╌╌╌╌╌╌╌╌╌╌╌╌╌╌╌╌╌╌╌╌╌╌╌╌╌╌╌╌╌╌╌╌╌╌╌╌╌╌╌╌╌╌╌╌╌╌╌╌╌╌╌╌╌╌╌╌╌╌╌╌╌╌╌╌╌╌╌╌╌╌╌╌╌╌╌╌╌╌╌╌╌╌╌╌╌╌╌╌╌╌╌╌╌╌╌╌╌╌╌┼╌╌╌╌╌╌╌╌╌╌╌╌╌╌╌╌╌╌╌╌╌╌╌╌╌╌╌╌╌╌╌╌╌╌╌┼╌╌╌╌╌╌╌╌╌╌╌╌╌╌╌╌╌╌╌╌╌╌╌╌╌╌╌╌╌╌╌╌╌╌╌╌╌╌╌╌╌╌╌╌╌╌╌╌╌╌╌╌╌╌╌╌╌╌╌╌╌╌╌╌╌╌╌╌╌┼╌╌╌╌╌╌╌╌╌╌╌╌╌╌╌╌╌╌╌╌╌╌╌╌╌╌╌╌╌╌╌╌╌╌╌╌╌╌╌╌╌╌┤\n│ MNT-1             ┆ https://www.cellosaurus.org/CVCL_5624 ┆ Homo_sapiens      ┆ Human melanoma cells, pigmented, metastatic ┆ ... ┆ null                                                                                                                                            ┆ Molecular Cell Biology Department ┆ Donatie Dr. P.G.Natali (UniversityLaSapienza, Rome,Italy)           ┆ null                                     │\n├╌╌╌╌╌╌╌╌╌╌╌╌╌╌╌╌╌╌╌┼╌╌╌╌╌╌╌╌╌╌╌╌╌╌╌╌╌╌╌╌╌╌╌╌╌╌╌╌╌╌╌╌╌╌╌╌╌╌╌┼╌╌╌╌╌╌╌╌╌╌╌╌╌╌╌╌╌╌╌┼╌╌╌╌╌╌╌╌╌╌╌╌╌╌╌╌╌╌╌╌╌╌╌╌╌╌╌╌╌╌╌╌╌╌╌╌╌╌╌╌╌╌╌╌╌┼╌╌╌╌╌┼╌╌╌╌╌╌╌╌╌╌╌╌╌╌╌╌╌╌╌╌╌╌╌╌╌╌╌╌╌╌╌╌╌╌╌╌╌╌╌╌╌╌╌╌╌╌╌╌╌╌╌╌╌╌╌╌╌╌╌╌╌╌╌╌╌╌╌╌╌╌╌╌╌╌╌╌╌╌╌╌╌╌╌╌╌╌╌╌╌╌╌╌╌╌╌╌╌╌╌╌╌╌╌╌╌╌╌╌╌╌╌╌╌╌╌╌╌╌╌╌╌╌╌╌╌╌╌╌╌╌╌╌╌╌╌╌╌╌╌╌╌╌╌╌╌┼╌╌╌╌╌╌╌╌╌╌╌╌╌╌╌╌╌╌╌╌╌╌╌╌╌╌╌╌╌╌╌╌╌╌╌┼╌╌╌╌╌╌╌╌╌╌╌╌╌╌╌╌╌╌╌╌╌╌╌╌╌╌╌╌╌╌╌╌╌╌╌╌╌╌╌╌╌╌╌╌╌╌╌╌╌╌╌╌╌╌╌╌╌╌╌╌╌╌╌╌╌╌╌╌╌┼╌╌╌╌╌╌╌╌╌╌╌╌╌╌╌╌╌╌╌╌╌╌╌╌╌╌╌╌╌╌╌╌╌╌╌╌╌╌╌╌╌╌┤\n│ A375              ┆ https://www.cellosaurus.org/CVCL_0132 ┆ Homo_sapiens      ┆ Melanoma, metastatic                        ┆ ... ┆ A375- WT/Tyr; ST/Tyr; D1, D2, D3, D4, D5,D6,D7 Tyr;D123/Tyr; D567/Tyr; D1all/Tyr; wt/Tyr-EDEM1, EDEM2, EDEM3; wt/TyrOS9.1; wt/TyrXTP3-B  (IBAR) ┆ Molecular Cell Biology Department ┆ null                                                                ┆ null                                     │\n├╌╌╌╌╌╌╌╌╌╌╌╌╌╌╌╌╌╌╌┼╌╌╌╌╌╌╌╌╌╌╌╌╌╌╌╌╌╌╌╌╌╌╌╌╌╌╌╌╌╌╌╌╌╌╌╌╌╌╌┼╌╌╌╌╌╌╌╌╌╌╌╌╌╌╌╌╌╌╌┼╌╌╌╌╌╌╌╌╌╌╌╌╌╌╌╌╌╌╌╌╌╌╌╌╌╌╌╌╌╌╌╌╌╌╌╌╌╌╌╌╌╌╌╌╌┼╌╌╌╌╌┼╌╌╌╌╌╌╌╌╌╌╌╌╌╌╌╌╌╌╌╌╌╌╌╌╌╌╌╌╌╌╌╌╌╌╌╌╌╌╌╌╌╌╌╌╌╌╌╌╌╌╌╌╌╌╌╌╌╌╌╌╌╌╌╌╌╌╌╌╌╌╌╌╌╌╌╌╌╌╌╌╌╌╌╌╌╌╌╌╌╌╌╌╌╌╌╌╌╌╌╌╌╌╌╌╌╌╌╌╌╌╌╌╌╌╌╌╌╌╌╌╌╌╌╌╌╌╌╌╌╌╌╌╌╌╌╌╌╌╌╌╌╌╌╌╌┼╌╌╌╌╌╌╌╌╌╌╌╌╌╌╌╌╌╌╌╌╌╌╌╌╌╌╌╌╌╌╌╌╌╌╌┼╌╌╌╌╌╌╌╌╌╌╌╌╌╌╌╌╌╌╌╌╌╌╌╌╌╌╌╌╌╌╌╌╌╌╌╌╌╌╌╌╌╌╌╌╌╌╌╌╌╌╌╌╌╌╌╌╌╌╌╌╌╌╌╌╌╌╌╌╌┼╌╌╌╌╌╌╌╌╌╌╌╌╌╌╌╌╌╌╌╌╌╌╌╌╌╌╌╌╌╌╌╌╌╌╌╌╌╌╌╌╌╌┤\n│ ...               ┆ ...                                   ┆ ...               ┆ ...                                         ┆ ... ┆ ...                                                                                                                                             ┆ ...                               ┆ ...                                                                 ┆ ...                                      │\n├╌╌╌╌╌╌╌╌╌╌╌╌╌╌╌╌╌╌╌┼╌╌╌╌╌╌╌╌╌╌╌╌╌╌╌╌╌╌╌╌╌╌╌╌╌╌╌╌╌╌╌╌╌╌╌╌╌╌╌┼╌╌╌╌╌╌╌╌╌╌╌╌╌╌╌╌╌╌╌┼╌╌╌╌╌╌╌╌╌╌╌╌╌╌╌╌╌╌╌╌╌╌╌╌╌╌╌╌╌╌╌╌╌╌╌╌╌╌╌╌╌╌╌╌╌┼╌╌╌╌╌┼╌╌╌╌╌╌╌╌╌╌╌╌╌╌╌╌╌╌╌╌╌╌╌╌╌╌╌╌╌╌╌╌╌╌╌╌╌╌╌╌╌╌╌╌╌╌╌╌╌╌╌╌╌╌╌╌╌╌╌╌╌╌╌╌╌╌╌╌╌╌╌╌╌╌╌╌╌╌╌╌╌╌╌╌╌╌╌╌╌╌╌╌╌╌╌╌╌╌╌╌╌╌╌╌╌╌╌╌╌╌╌╌╌╌╌╌╌╌╌╌╌╌╌╌╌╌╌╌╌╌╌╌╌╌╌╌╌╌╌╌╌╌╌╌╌┼╌╌╌╌╌╌╌╌╌╌╌╌╌╌╌╌╌╌╌╌╌╌╌╌╌╌╌╌╌╌╌╌╌╌╌┼╌╌╌╌╌╌╌╌╌╌╌╌╌╌╌╌╌╌╌╌╌╌╌╌╌╌╌╌╌╌╌╌╌╌╌╌╌╌╌╌╌╌╌╌╌╌╌╌╌╌╌╌╌╌╌╌╌╌╌╌╌╌╌╌╌╌╌╌╌┼╌╌╌╌╌╌╌╌╌╌╌╌╌╌╌╌╌╌╌╌╌╌╌╌╌╌╌╌╌╌╌╌╌╌╌╌╌╌╌╌╌╌┤\n│ Jurkat            ┆ https://www.cellosaurus.org/CVCL_0065 ┆ Homo_sapiens      ┆ Childhood T acute lymphoblastic leukemia    ┆ ... ┆ null                                                                                                                                            ┆ Enzymology Department             ┆ null                                                                ┆ null                                     │\n├╌╌╌╌╌╌╌╌╌╌╌╌╌╌╌╌╌╌╌┼╌╌╌╌╌╌╌╌╌╌╌╌╌╌╌╌╌╌╌╌╌╌╌╌╌╌╌╌╌╌╌╌╌╌╌╌╌╌╌┼╌╌╌╌╌╌╌╌╌╌╌╌╌╌╌╌╌╌╌┼╌╌╌╌╌╌╌╌╌╌╌╌╌╌╌╌╌╌╌╌╌╌╌╌╌╌╌╌╌╌╌╌╌╌╌╌╌╌╌╌╌╌╌╌╌┼╌╌╌╌╌┼╌╌╌╌╌╌╌╌╌╌╌╌╌╌╌╌╌╌╌╌╌╌╌╌╌╌╌╌╌╌╌╌╌╌╌╌╌╌╌╌╌╌╌╌╌╌╌╌╌╌╌╌╌╌╌╌╌╌╌╌╌╌╌╌╌╌╌╌╌╌╌╌╌╌╌╌╌╌╌╌╌╌╌╌╌╌╌╌╌╌╌╌╌╌╌╌╌╌╌╌╌╌╌╌╌╌╌╌╌╌╌╌╌╌╌╌╌╌╌╌╌╌╌╌╌╌╌╌╌╌╌╌╌╌╌╌╌╌╌╌╌╌╌╌╌┼╌╌╌╌╌╌╌╌╌╌╌╌╌╌╌╌╌╌╌╌╌╌╌╌╌╌╌╌╌╌╌╌╌╌╌┼╌╌╌╌╌╌╌╌╌╌╌╌╌╌╌╌╌╌╌╌╌╌╌╌╌╌╌╌╌╌╌╌╌╌╌╌╌╌╌╌╌╌╌╌╌╌╌╌╌╌╌╌╌╌╌╌╌╌╌╌╌╌╌╌╌╌╌╌╌┼╌╌╌╌╌╌╌╌╌╌╌╌╌╌╌╌╌╌╌╌╌╌╌╌╌╌╌╌╌╌╌╌╌╌╌╌╌╌╌╌╌╌┤\n│ U937              ┆ https://www.cellosaurus.org/CVCL_0007 ┆ Homo_sapiens      ┆ null                                        ┆ ... ┆ null                                                                                                                                            ┆ Enzymology Department             ┆ null                                                                ┆ null                                     │\n├╌╌╌╌╌╌╌╌╌╌╌╌╌╌╌╌╌╌╌┼╌╌╌╌╌╌╌╌╌╌╌╌╌╌╌╌╌╌╌╌╌╌╌╌╌╌╌╌╌╌╌╌╌╌╌╌╌╌╌┼╌╌╌╌╌╌╌╌╌╌╌╌╌╌╌╌╌╌╌┼╌╌╌╌╌╌╌╌╌╌╌╌╌╌╌╌╌╌╌╌╌╌╌╌╌╌╌╌╌╌╌╌╌╌╌╌╌╌╌╌╌╌╌╌╌┼╌╌╌╌╌┼╌╌╌╌╌╌╌╌╌╌╌╌╌╌╌╌╌╌╌╌╌╌╌╌╌╌╌╌╌╌╌╌╌╌╌╌╌╌╌╌╌╌╌╌╌╌╌╌╌╌╌╌╌╌╌╌╌╌╌╌╌╌╌╌╌╌╌╌╌╌╌╌╌╌╌╌╌╌╌╌╌╌╌╌╌╌╌╌╌╌╌╌╌╌╌╌╌╌╌╌╌╌╌╌╌╌╌╌╌╌╌╌╌╌╌╌╌╌╌╌╌╌╌╌╌╌╌╌╌╌╌╌╌╌╌╌╌╌╌╌╌╌╌╌╌┼╌╌╌╌╌╌╌╌╌╌╌╌╌╌╌╌╌╌╌╌╌╌╌╌╌╌╌╌╌╌╌╌╌╌╌┼╌╌╌╌╌╌╌╌╌╌╌╌╌╌╌╌╌╌╌╌╌╌╌╌╌╌╌╌╌╌╌╌╌╌╌╌╌╌╌╌╌╌╌╌╌╌╌╌╌╌╌╌╌╌╌╌╌╌╌╌╌╌╌╌╌╌╌╌╌┼╌╌╌╌╌╌╌╌╌╌╌╌╌╌╌╌╌╌╌╌╌╌╌╌╌╌╌╌╌╌╌╌╌╌╌╌╌╌╌╌╌╌┤\n│ SHSY-5Y           ┆ https://www.cellosaurus.org/CVCL_0019 ┆ Homo_sapiens      ┆ null                                        ┆ ... ┆ null                                                                                                                                            ┆ Enzymology Department             ┆ null                                                                ┆ null                                     │\n├╌╌╌╌╌╌╌╌╌╌╌╌╌╌╌╌╌╌╌┼╌╌╌╌╌╌╌╌╌╌╌╌╌╌╌╌╌╌╌╌╌╌╌╌╌╌╌╌╌╌╌╌╌╌╌╌╌╌╌┼╌╌╌╌╌╌╌╌╌╌╌╌╌╌╌╌╌╌╌┼╌╌╌╌╌╌╌╌╌╌╌╌╌╌╌╌╌╌╌╌╌╌╌╌╌╌╌╌╌╌╌╌╌╌╌╌╌╌╌╌╌╌╌╌╌┼╌╌╌╌╌┼╌╌╌╌╌╌╌╌╌╌╌╌╌╌╌╌╌╌╌╌╌╌╌╌╌╌╌╌╌╌╌╌╌╌╌╌╌╌╌╌╌╌╌╌╌╌╌╌╌╌╌╌╌╌╌╌╌╌╌╌╌╌╌╌╌╌╌╌╌╌╌╌╌╌╌╌╌╌╌╌╌╌╌╌╌╌╌╌╌╌╌╌╌╌╌╌╌╌╌╌╌╌╌╌╌╌╌╌╌╌╌╌╌╌╌╌╌╌╌╌╌╌╌╌╌╌╌╌╌╌╌╌╌╌╌╌╌╌╌╌╌╌╌╌╌┼╌╌╌╌╌╌╌╌╌╌╌╌╌╌╌╌╌╌╌╌╌╌╌╌╌╌╌╌╌╌╌╌╌╌╌┼╌╌╌╌╌╌╌╌╌╌╌╌╌╌╌╌╌╌╌╌╌╌╌╌╌╌╌╌╌╌╌╌╌╌╌╌╌╌╌╌╌╌╌╌╌╌╌╌╌╌╌╌╌╌╌╌╌╌╌╌╌╌╌╌╌╌╌╌╌┼╌╌╌╌╌╌╌╌╌╌╌╌╌╌╌╌╌╌╌╌╌╌╌╌╌╌╌╌╌╌╌╌╌╌╌╌╌╌╌╌╌╌┤\n│ LNCaP             ┆ https://www.cellosaurus.org/CVCL_0395 ┆ Homo_sapiens      ┆ null                                        ┆ ... ┆ null                                                                                                                                            ┆ Enzymology Department             ┆ null                                                                ┆ null                                     │\n├╌╌╌╌╌╌╌╌╌╌╌╌╌╌╌╌╌╌╌┼╌╌╌╌╌╌╌╌╌╌╌╌╌╌╌╌╌╌╌╌╌╌╌╌╌╌╌╌╌╌╌╌╌╌╌╌╌╌╌┼╌╌╌╌╌╌╌╌╌╌╌╌╌╌╌╌╌╌╌┼╌╌╌╌╌╌╌╌╌╌╌╌╌╌╌╌╌╌╌╌╌╌╌╌╌╌╌╌╌╌╌╌╌╌╌╌╌╌╌╌╌╌╌╌╌┼╌╌╌╌╌┼╌╌╌╌╌╌╌╌╌╌╌╌╌╌╌╌╌╌╌╌╌╌╌╌╌╌╌╌╌╌╌╌╌╌╌╌╌╌╌╌╌╌╌╌╌╌╌╌╌╌╌╌╌╌╌╌╌╌╌╌╌╌╌╌╌╌╌╌╌╌╌╌╌╌╌╌╌╌╌╌╌╌╌╌╌╌╌╌╌╌╌╌╌╌╌╌╌╌╌╌╌╌╌╌╌╌╌╌╌╌╌╌╌╌╌╌╌╌╌╌╌╌╌╌╌╌╌╌╌╌╌╌╌╌╌╌╌╌╌╌╌╌╌╌╌┼╌╌╌╌╌╌╌╌╌╌╌╌╌╌╌╌╌╌╌╌╌╌╌╌╌╌╌╌╌╌╌╌╌╌╌┼╌╌╌╌╌╌╌╌╌╌╌╌╌╌╌╌╌╌╌╌╌╌╌╌╌╌╌╌╌╌╌╌╌╌╌╌╌╌╌╌╌╌╌╌╌╌╌╌╌╌╌╌╌╌╌╌╌╌╌╌╌╌╌╌╌╌╌╌╌┼╌╌╌╌╌╌╌╌╌╌╌╌╌╌╌╌╌╌╌╌╌╌╌╌╌╌╌╌╌╌╌╌╌╌╌╌╌╌╌╌╌╌┤\n│ MCF-7             ┆ https://www.cellosaurus.org/CVCL_0031 ┆ Homo_sapiens      ┆ null                                        ┆ ... ┆ null                                                                                                                                            ┆ Enzymology Department             ┆ null                                                                ┆ null                                     │\n├╌╌╌╌╌╌╌╌╌╌╌╌╌╌╌╌╌╌╌┼╌╌╌╌╌╌╌╌╌╌╌╌╌╌╌╌╌╌╌╌╌╌╌╌╌╌╌╌╌╌╌╌╌╌╌╌╌╌╌┼╌╌╌╌╌╌╌╌╌╌╌╌╌╌╌╌╌╌╌┼╌╌╌╌╌╌╌╌╌╌╌╌╌╌╌╌╌╌╌╌╌╌╌╌╌╌╌╌╌╌╌╌╌╌╌╌╌╌╌╌╌╌╌╌╌┼╌╌╌╌╌┼╌╌╌╌╌╌╌╌╌╌╌╌╌╌╌╌╌╌╌╌╌╌╌╌╌╌╌╌╌╌╌╌╌╌╌╌╌╌╌╌╌╌╌╌╌╌╌╌╌╌╌╌╌╌╌╌╌╌╌╌╌╌╌╌╌╌╌╌╌╌╌╌╌╌╌╌╌╌╌╌╌╌╌╌╌╌╌╌╌╌╌╌╌╌╌╌╌╌╌╌╌╌╌╌╌╌╌╌╌╌╌╌╌╌╌╌╌╌╌╌╌╌╌╌╌╌╌╌╌╌╌╌╌╌╌╌╌╌╌╌╌╌╌╌╌┼╌╌╌╌╌╌╌╌╌╌╌╌╌╌╌╌╌╌╌╌╌╌╌╌╌╌╌╌╌╌╌╌╌╌╌┼╌╌╌╌╌╌╌╌╌╌╌╌╌╌╌╌╌╌╌╌╌╌╌╌╌╌╌╌╌╌╌╌╌╌╌╌╌╌╌╌╌╌╌╌╌╌╌╌╌╌╌╌╌╌╌╌╌╌╌╌╌╌╌╌╌╌╌╌╌┼╌╌╌╌╌╌╌╌╌╌╌╌╌╌╌╌╌╌╌╌╌╌╌╌╌╌╌╌╌╌╌╌╌╌╌╌╌╌╌╌╌╌┤\n│ MEF PLCγ1+/+      ┆ null                                  ┆ Mus_musculus      ┆ null                                        ┆ ... ┆ null                                                                                                                                            ┆ Enzymology Department             ┆ null                                                                ┆ null                                     │\n├╌╌╌╌╌╌╌╌╌╌╌╌╌╌╌╌╌╌╌┼╌╌╌╌╌╌╌╌╌╌╌╌╌╌╌╌╌╌╌╌╌╌╌╌╌╌╌╌╌╌╌╌╌╌╌╌╌╌╌┼╌╌╌╌╌╌╌╌╌╌╌╌╌╌╌╌╌╌╌┼╌╌╌╌╌╌╌╌╌╌╌╌╌╌╌╌╌╌╌╌╌╌╌╌╌╌╌╌╌╌╌╌╌╌╌╌╌╌╌╌╌╌╌╌╌┼╌╌╌╌╌┼╌╌╌╌╌╌╌╌╌╌╌╌╌╌╌╌╌╌╌╌╌╌╌╌╌╌╌╌╌╌╌╌╌╌╌╌╌╌╌╌╌╌╌╌╌╌╌╌╌╌╌╌╌╌╌╌╌╌╌╌╌╌╌╌╌╌╌╌╌╌╌╌╌╌╌╌╌╌╌╌╌╌╌╌╌╌╌╌╌╌╌╌╌╌╌╌╌╌╌╌╌╌╌╌╌╌╌╌╌╌╌╌╌╌╌╌╌╌╌╌╌╌╌╌╌╌╌╌╌╌╌╌╌╌╌╌╌╌╌╌╌╌╌╌╌┼╌╌╌╌╌╌╌╌╌╌╌╌╌╌╌╌╌╌╌╌╌╌╌╌╌╌╌╌╌╌╌╌╌╌╌┼╌╌╌╌╌╌╌╌╌╌╌╌╌╌╌╌╌╌╌╌╌╌╌╌╌╌╌╌╌╌╌╌╌╌╌╌╌╌╌╌╌╌╌╌╌╌╌╌╌╌╌╌╌╌╌╌╌╌╌╌╌╌╌╌╌╌╌╌╌┼╌╌╌╌╌╌╌╌╌╌╌╌╌╌╌╌╌╌╌╌╌╌╌╌╌╌╌╌╌╌╌╌╌╌╌╌╌╌╌╌╌╌┤\n│ MEF PLCγ1-/-      ┆ null                                  ┆ Mus_musculus      ┆ null                                        ┆ ... ┆ null                                                                                                                                            ┆ Enzymology Department             ┆ null                                                                ┆ null                                     │\n├╌╌╌╌╌╌╌╌╌╌╌╌╌╌╌╌╌╌╌┼╌╌╌╌╌╌╌╌╌╌╌╌╌╌╌╌╌╌╌╌╌╌╌╌╌╌╌╌╌╌╌╌╌╌╌╌╌╌╌┼╌╌╌╌╌╌╌╌╌╌╌╌╌╌╌╌╌╌╌┼╌╌╌╌╌╌╌╌╌╌╌╌╌╌╌╌╌╌╌╌╌╌╌╌╌╌╌╌╌╌╌╌╌╌╌╌╌╌╌╌╌╌╌╌╌┼╌╌╌╌╌┼╌╌╌╌╌╌╌╌╌╌╌╌╌╌╌╌╌╌╌╌╌╌╌╌╌╌╌╌╌╌╌╌╌╌╌╌╌╌╌╌╌╌╌╌╌╌╌╌╌╌╌╌╌╌╌╌╌╌╌╌╌╌╌╌╌╌╌╌╌╌╌╌╌╌╌╌╌╌╌╌╌╌╌╌╌╌╌╌╌╌╌╌╌╌╌╌╌╌╌╌╌╌╌╌╌╌╌╌╌╌╌╌╌╌╌╌╌╌╌╌╌╌╌╌╌╌╌╌╌╌╌╌╌╌╌╌╌╌╌╌╌╌╌╌╌┼╌╌╌╌╌╌╌╌╌╌╌╌╌╌╌╌╌╌╌╌╌╌╌╌╌╌╌╌╌╌╌╌╌╌╌┼╌╌╌╌╌╌╌╌╌╌╌╌╌╌╌╌╌╌╌╌╌╌╌╌╌╌╌╌╌╌╌╌╌╌╌╌╌╌╌╌╌╌╌╌╌╌╌╌╌╌╌╌╌╌╌╌╌╌╌╌╌╌╌╌╌╌╌╌╌┼╌╌╌╌╌╌╌╌╌╌╌╌╌╌╌╌╌╌╌╌╌╌╌╌╌╌╌╌╌╌╌╌╌╌╌╌╌╌╌╌╌╌┤\n│ Raji              ┆ https://www.cellosaurus.org/CVCL_0511 ┆ Homo_sapiens      ┆ null                                        ┆ ... ┆ null                                                                                                                                            ┆ Enzymology Department             ┆ null                                                                ┆ null                                     │\n├╌╌╌╌╌╌╌╌╌╌╌╌╌╌╌╌╌╌╌┼╌╌╌╌╌╌╌╌╌╌╌╌╌╌╌╌╌╌╌╌╌╌╌╌╌╌╌╌╌╌╌╌╌╌╌╌╌╌╌┼╌╌╌╌╌╌╌╌╌╌╌╌╌╌╌╌╌╌╌┼╌╌╌╌╌╌╌╌╌╌╌╌╌╌╌╌╌╌╌╌╌╌╌╌╌╌╌╌╌╌╌╌╌╌╌╌╌╌╌╌╌╌╌╌╌┼╌╌╌╌╌┼╌╌╌╌╌╌╌╌╌╌╌╌╌╌╌╌╌╌╌╌╌╌╌╌╌╌╌╌╌╌╌╌╌╌╌╌╌╌╌╌╌╌╌╌╌╌╌╌╌╌╌╌╌╌╌╌╌╌╌╌╌╌╌╌╌╌╌╌╌╌╌╌╌╌╌╌╌╌╌╌╌╌╌╌╌╌╌╌╌╌╌╌╌╌╌╌╌╌╌╌╌╌╌╌╌╌╌╌╌╌╌╌╌╌╌╌╌╌╌╌╌╌╌╌╌╌╌╌╌╌╌╌╌╌╌╌╌╌╌╌╌╌╌╌╌┼╌╌╌╌╌╌╌╌╌╌╌╌╌╌╌╌╌╌╌╌╌╌╌╌╌╌╌╌╌╌╌╌╌╌╌┼╌╌╌╌╌╌╌╌╌╌╌╌╌╌╌╌╌╌╌╌╌╌╌╌╌╌╌╌╌╌╌╌╌╌╌╌╌╌╌╌╌╌╌╌╌╌╌╌╌╌╌╌╌╌╌╌╌╌╌╌╌╌╌╌╌╌╌╌╌┼╌╌╌╌╌╌╌╌╌╌╌╌╌╌╌╌╌╌╌╌╌╌╌╌╌╌╌╌╌╌╌╌╌╌╌╌╌╌╌╌╌╌┤\n│ M14K              ┆ https://www.cellosaurus.org/CVCL_8102 ┆ Homo_sapiens      ┆ null                                        ┆ ... ┆ null                                                                                                                                            ┆ Enzymology Department             ┆ null                                                                ┆ null                                     │\n├╌╌╌╌╌╌╌╌╌╌╌╌╌╌╌╌╌╌╌┼╌╌╌╌╌╌╌╌╌╌╌╌╌╌╌╌╌╌╌╌╌╌╌╌╌╌╌╌╌╌╌╌╌╌╌╌╌╌╌┼╌╌╌╌╌╌╌╌╌╌╌╌╌╌╌╌╌╌╌┼╌╌╌╌╌╌╌╌╌╌╌╌╌╌╌╌╌╌╌╌╌╌╌╌╌╌╌╌╌╌╌╌╌╌╌╌╌╌╌╌╌╌╌╌╌┼╌╌╌╌╌┼╌╌╌╌╌╌╌╌╌╌╌╌╌╌╌╌╌╌╌╌╌╌╌╌╌╌╌╌╌╌╌╌╌╌╌╌╌╌╌╌╌╌╌╌╌╌╌╌╌╌╌╌╌╌╌╌╌╌╌╌╌╌╌╌╌╌╌╌╌╌╌╌╌╌╌╌╌╌╌╌╌╌╌╌╌╌╌╌╌╌╌╌╌╌╌╌╌╌╌╌╌╌╌╌╌╌╌╌╌╌╌╌╌╌╌╌╌╌╌╌╌╌╌╌╌╌╌╌╌╌╌╌╌╌╌╌╌╌╌╌╌╌╌╌╌┼╌╌╌╌╌╌╌╌╌╌╌╌╌╌╌╌╌╌╌╌╌╌╌╌╌╌╌╌╌╌╌╌╌╌╌┼╌╌╌╌╌╌╌╌╌╌╌╌╌╌╌╌╌╌╌╌╌╌╌╌╌╌╌╌╌╌╌╌╌╌╌╌╌╌╌╌╌╌╌╌╌╌╌╌╌╌╌╌╌╌╌╌╌╌╌╌╌╌╌╌╌╌╌╌╌┼╌╌╌╌╌╌╌╌╌╌╌╌╌╌╌╌╌╌╌╌╌╌╌╌╌╌╌╌╌╌╌╌╌╌╌╌╌╌╌╌╌╌┤\n│ MDA-MB-231        ┆ https://www.cellosaurus.org/CVCL_0062 ┆ Homo_sapiens      ┆ null                                        ┆ ... ┆ null                                                                                                                                            ┆ Enzymology Department             ┆ null                                                                ┆ null                                     │\n└───────────────────┴───────────────────────────────────────┴───────────────────┴─────────────────────────────────────────────┴─────┴─────────────────────────────────────────────────────────────────────────────────────────────────────────────────────────────────────────────────┴───────────────────────────────────┴─────────────────────────────────────────────────────────────────────┴──────────────────────────────────────────┘",
      "text/html": "<div>\n<style scoped>\n    .dataframe tbody tr th:only-of-type {\n        vertical-align: middle;\n    }\n\n    .dataframe tbody tr th {\n        vertical-align: top;\n    }\n\n    .dataframe thead th {\n        text-align: right;\n    }\n\n    .dataframe td {\n        white-space: pre;\n    }\n\n    .dataframe td {\n        padding-top: 0;\n    }\n\n    .dataframe td {\n        padding-bottom: 0;\n    }\n\n    .dataframe td {\n        line-height: 95%;\n    }\n</style>\n<table border=\"1\" class=\"dataframe\" >\n<small>shape: (51, 10)</small>\n<thead>\n<tr>\n<th>\nCell line name\n</th>\n<th>\nURL\n</th>\n<th>\nSpecies\n</th>\n<th>\nPhenotype\n</th>\n<th>\nTissue\n</th>\n<th>\nSamples\n</th>\n<th>\nModified lines\n</th>\n<th>\nOwners\n</th>\n<th>\nSources\n</th>\n<th>\nCommens\n</th>\n</tr>\n<tr>\n<td>\nstr\n</td>\n<td>\nstr\n</td>\n<td>\nstr\n</td>\n<td>\nstr\n</td>\n<td>\nstr\n</td>\n<td>\nstr\n</td>\n<td>\nstr\n</td>\n<td>\nstr\n</td>\n<td>\nstr\n</td>\n<td>\nstr\n</td>\n</tr>\n</thead>\n<tbody>\n<tr>\n<td>\n&quot;Alpha TC1 clone 6&quot;\n</td>\n<td>\n&quot;https://www.cellosaurus.org/CVCL_B036&quot;\n</td>\n<td>\n&quot;Homo_sapiens&quot;\n</td>\n<td>\n&quot;Alpha Cells&quot;\n</td>\n<td>\n&quot;Pancreas&quot;\n</td>\n<td>\n&quot;N/A&quot;\n</td>\n<td>\nnull\n</td>\n<td>\n&quot;Molecular Cell Biology Department&quot;\n</td>\n<td>\n&quot;ATCC/FPena&quot;\n</td>\n<td>\nnull\n</td>\n</tr>\n<tr>\n<td>\n&quot;Glu-Tag&quot;\n</td>\n<td>\n&quot;https://www.cellosaurus.org/CVCL_J406&quot;\n</td>\n<td>\n&quot;Mus_musculus&quot;\n</td>\n<td>\n&quot;Murine enteroendocrine&quot;\n</td>\n<td>\nnull\n</td>\n<td>\n&quot;SAMN25059472, SAMN25059473, SAMN25059474, SAMN25059475&quot;\n</td>\n<td>\n&quot;INS-1+EDEM1, EDEM2, EDEM3, XTP-3B, OS-9.1, OS9.2 (IBAR)&quot;\n</td>\n<td>\n&quot;Molecular Cell Biology Department&quot;\n</td>\n<td>\n&quot;Drucker/F Pena&quot;\n</td>\n<td>\nnull\n</td>\n</tr>\n<tr>\n<td>\n&quot;INS-1&quot;\n</td>\n<td>\n&quot;https://www.cellosaurus.org/CVCL_0352&quot;\n</td>\n<td>\n&quot;Rattus_norvegicus&quot;\n</td>\n<td>\n&quot;Celule Beta de insulinom &quot;\n</td>\n<td>\n&quot;Insulinom/Pancreas&quot;\n</td>\n<td>\n&quot;SAMN07421988, SAMN07421989, SAMN07421987, SAMN07421986&quot;\n</td>\n<td>\n&quot;INS-1+EDEM1, EDEM2, EDEM3, XTP-3B, OS-9.1, OS9.2 (IBAR), INS-1 shEDEM1(IBAR) &quot;\n</td>\n<td>\n&quot;Molecular Cell Biology Department&quot;\n</td>\n<td>\n&quot;Donatie Dr. Donatie Dr. Peter van der Sluijs, Univ. Utrecht, Olanda&quot;\n</td>\n<td>\nnull\n</td>\n</tr>\n<tr>\n<td>\n&quot;1.1B4&quot;\n</td>\n<td>\n&quot;https://www.cellosaurus.org/CVCL_1778&quot;\n</td>\n<td>\n&quot;Homo_sapiens&quot;\n</td>\n<td>\n&quot;Betta cells, problematic cell line&quot;\n</td>\n<td>\n&quot;Pancreas&quot;\n</td>\n<td>\n&quot;N/A&quot;\n</td>\n<td>\nnull\n</td>\n<td>\n&quot;Molecular Cell Biology Department&quot;\n</td>\n<td>\n&quot;Sigma-Aldrich&quot;\n</td>\n<td>\n&quot;Classified by Celausaurus as problematic&quot;\n</td>\n</tr>\n<tr>\n<td>\n&quot;PANC-1&quot;\n</td>\n<td>\n&quot;https://www.cellosaurus.org/CVCL_0480&quot;\n</td>\n<td>\n&quot;Homo_sapiens&quot;\n</td>\n<td>\n&quot;Beta cells&quot;\n</td>\n<td>\n&quot;Pancreas&quot;\n</td>\n<td>\n&quot;SAMN10460093, SAMN06642004&quot;\n</td>\n<td>\nnull\n</td>\n<td>\n&quot;Molecular Cell Biology Department&quot;\n</td>\n<td>\nnull\n</td>\n<td>\nnull\n</td>\n</tr>\n<tr>\n<td>\n&quot;MelJuSo&quot;\n</td>\n<td>\n&quot;https://www.cellosaurus.org/CVCL_1403&quot;\n</td>\n<td>\n&quot;Homo_sapiens&quot;\n</td>\n<td>\n&quot;Celule de melanom uman faza VGP&quot;\n</td>\n<td>\n&quot;Melanoma&quot;\n</td>\n<td>\n&quot;SAMN07168087, SAMN07168088, SAMN07168089, SAMN07168090, SAMN07168091, SAMN07168092&quot;\n</td>\n<td>\n&quot;MJS DCT-KO (tehnologia Crispr/Cas 9) (IBAR) &quot;\n</td>\n<td>\n&quot;Molecular Cell Biology Department&quot;\n</td>\n<td>\nnull\n</td>\n<td>\nnull\n</td>\n</tr>\n<tr>\n<td>\n&quot;SKMel 28&quot;\n</td>\n<td>\n&quot;https://www.cellosaurus.org/CVCL_0526&quot;\n</td>\n<td>\n&quot;Homo_sapiens&quot;\n</td>\n<td>\n&quot;Celule melanom uman , amelanotic metastatic&quot;\n</td>\n<td>\n&quot;Melanoma&quot;\n</td>\n<td>\nnull\n</td>\n<td>\nnull\n</td>\n<td>\n&quot;Molecular Cell Biology Department&quot;\n</td>\n<td>\n&quot;ATCC accession no. HTB-72&quot;\n</td>\n<td>\nnull\n</td>\n</tr>\n<tr>\n<td>\n&quot;SKMel 23&quot;\n</td>\n<td>\n&quot;https://www.cellosaurus.org/CVCL_6027&quot;\n</td>\n<td>\n&quot;Homo_sapiens&quot;\n</td>\n<td>\n&quot;Melanoma&quot;\n</td>\n<td>\n&quot;Melanoma&quot;\n</td>\n<td>\n&quot;SRR11319892, SRR11319893&quot;\n</td>\n<td>\nnull\n</td>\n<td>\n&quot;Molecular Cell Biology Department&quot;\n</td>\n<td>\nnull\n</td>\n<td>\nnull\n</td>\n</tr>\n<tr>\n<td>\n&quot;MNT-1&quot;\n</td>\n<td>\n&quot;https://www.cellosaurus.org/CVCL_5624&quot;\n</td>\n<td>\n&quot;Homo_sapiens&quot;\n</td>\n<td>\n&quot;Human melanoma cells, pigmented, metastatic&quot;\n</td>\n<td>\nnull\n</td>\n<td>\n&quot;N/A&quot;\n</td>\n<td>\nnull\n</td>\n<td>\n&quot;Molecular Cell Biology Department&quot;\n</td>\n<td>\n&quot;Donatie Dr. P.G.Natali (UniversityLaSapienza, Rome,Italy)&quot;\n</td>\n<td>\nnull\n</td>\n</tr>\n<tr>\n<td>\n&quot;A375&quot;\n</td>\n<td>\n&quot;https://www.cellosaurus.org/CVCL_0132&quot;\n</td>\n<td>\n&quot;Homo_sapiens&quot;\n</td>\n<td>\n&quot;Melanoma, metastatic&quot;\n</td>\n<td>\nnull\n</td>\n<td>\n&quot;SAMN17727015, SAMN17727016, SAMN17727017 &quot;\n</td>\n<td>\n&quot;A375- WT/Tyr; ST/Tyr; D1, D2, D3, D4, D5,D6,D7 Tyr;D123/Tyr; D567/Tyr; D1all/Tyr; wt/Tyr-EDEM1, EDEM2, EDEM3; wt/TyrOS9.1; wt/TyrXTP3-B  (IBAR)&quot;\n</td>\n<td>\n&quot;Molecular Cell Biology Department&quot;\n</td>\n<td>\nnull\n</td>\n<td>\nnull\n</td>\n</tr>\n<tr>\n<td>\n...\n</td>\n<td>\n...\n</td>\n<td>\n...\n</td>\n<td>\n...\n</td>\n<td>\n...\n</td>\n<td>\n...\n</td>\n<td>\n...\n</td>\n<td>\n...\n</td>\n<td>\n...\n</td>\n<td>\n...\n</td>\n</tr>\n<tr>\n<td>\n&quot;Jurkat&quot;\n</td>\n<td>\n&quot;https://www.cellosaurus.org/CVCL_0065&quot;\n</td>\n<td>\n&quot;Homo_sapiens&quot;\n</td>\n<td>\n&quot;Childhood T acute lymphoblastic leukemia&quot;\n</td>\n<td>\nnull\n</td>\n<td>\n&quot;SAMN01985824, SAMN01985825, SAMN01985826&quot;\n</td>\n<td>\nnull\n</td>\n<td>\n&quot;Enzymology Department&quot;\n</td>\n<td>\nnull\n</td>\n<td>\nnull\n</td>\n</tr>\n<tr>\n<td>\n&quot;U937&quot;\n</td>\n<td>\n&quot;https://www.cellosaurus.org/CVCL_0007&quot;\n</td>\n<td>\n&quot;Homo_sapiens&quot;\n</td>\n<td>\nnull\n</td>\n<td>\nnull\n</td>\n<td>\nnull\n</td>\n<td>\nnull\n</td>\n<td>\n&quot;Enzymology Department&quot;\n</td>\n<td>\nnull\n</td>\n<td>\nnull\n</td>\n</tr>\n<tr>\n<td>\n&quot;SHSY-5Y&quot;\n</td>\n<td>\n&quot;https://www.cellosaurus.org/CVCL_0019&quot;\n</td>\n<td>\n&quot;Homo_sapiens&quot;\n</td>\n<td>\nnull\n</td>\n<td>\nnull\n</td>\n<td>\nnull\n</td>\n<td>\nnull\n</td>\n<td>\n&quot;Enzymology Department&quot;\n</td>\n<td>\nnull\n</td>\n<td>\nnull\n</td>\n</tr>\n<tr>\n<td>\n&quot;LNCaP&quot;\n</td>\n<td>\n&quot;https://www.cellosaurus.org/CVCL_0395&quot;\n</td>\n<td>\n&quot;Homo_sapiens&quot;\n</td>\n<td>\nnull\n</td>\n<td>\nnull\n</td>\n<td>\nnull\n</td>\n<td>\nnull\n</td>\n<td>\n&quot;Enzymology Department&quot;\n</td>\n<td>\nnull\n</td>\n<td>\nnull\n</td>\n</tr>\n<tr>\n<td>\n&quot;MCF-7&quot;\n</td>\n<td>\n&quot;https://www.cellosaurus.org/CVCL_0031&quot;\n</td>\n<td>\n&quot;Homo_sapiens&quot;\n</td>\n<td>\nnull\n</td>\n<td>\nnull\n</td>\n<td>\nnull\n</td>\n<td>\nnull\n</td>\n<td>\n&quot;Enzymology Department&quot;\n</td>\n<td>\nnull\n</td>\n<td>\nnull\n</td>\n</tr>\n<tr>\n<td>\n&quot;MEF PLCγ1+/+&quot;\n</td>\n<td>\nnull\n</td>\n<td>\n&quot;Mus_musculus&quot;\n</td>\n<td>\nnull\n</td>\n<td>\nnull\n</td>\n<td>\nnull\n</td>\n<td>\nnull\n</td>\n<td>\n&quot;Enzymology Department&quot;\n</td>\n<td>\nnull\n</td>\n<td>\nnull\n</td>\n</tr>\n<tr>\n<td>\n&quot;MEF PLCγ1-/-&quot;\n</td>\n<td>\nnull\n</td>\n<td>\n&quot;Mus_musculus&quot;\n</td>\n<td>\nnull\n</td>\n<td>\nnull\n</td>\n<td>\nnull\n</td>\n<td>\nnull\n</td>\n<td>\n&quot;Enzymology Department&quot;\n</td>\n<td>\nnull\n</td>\n<td>\nnull\n</td>\n</tr>\n<tr>\n<td>\n&quot;Raji&quot;\n</td>\n<td>\n&quot;https://www.cellosaurus.org/CVCL_0511&quot;\n</td>\n<td>\n&quot;Homo_sapiens&quot;\n</td>\n<td>\nnull\n</td>\n<td>\nnull\n</td>\n<td>\nnull\n</td>\n<td>\nnull\n</td>\n<td>\n&quot;Enzymology Department&quot;\n</td>\n<td>\nnull\n</td>\n<td>\nnull\n</td>\n</tr>\n<tr>\n<td>\n&quot;M14K&quot;\n</td>\n<td>\n&quot;https://www.cellosaurus.org/CVCL_8102&quot;\n</td>\n<td>\n&quot;Homo_sapiens&quot;\n</td>\n<td>\nnull\n</td>\n<td>\nnull\n</td>\n<td>\nnull\n</td>\n<td>\nnull\n</td>\n<td>\n&quot;Enzymology Department&quot;\n</td>\n<td>\nnull\n</td>\n<td>\nnull\n</td>\n</tr>\n<tr>\n<td>\n&quot;MDA-MB-231&quot;\n</td>\n<td>\n&quot;https://www.cellosaurus.org/CVCL_0062&quot;\n</td>\n<td>\n&quot;Homo_sapiens&quot;\n</td>\n<td>\nnull\n</td>\n<td>\nnull\n</td>\n<td>\nnull\n</td>\n<td>\nnull\n</td>\n<td>\n&quot;Enzymology Department&quot;\n</td>\n<td>\nnull\n</td>\n<td>\nnull\n</td>\n</tr>\n</tbody>\n</table>\n</div>"
     },
     "execution_count": 11,
     "metadata": {},
     "output_type": "execute_result"
    }
   ],
   "source": [
    "cells = Cells(locations.cell_lines, locations.cell_lines_cache)\n",
    "cells.toc"
   ],
   "metadata": {
    "collapsed": false
   }
  },
  {
   "cell_type": "code",
   "execution_count": 9,
   "outputs": [
    {
     "data": {
      "text/plain": "dict_keys(['Homo_sapiens'])"
     },
     "execution_count": 9,
     "metadata": {},
     "output_type": "execute_result"
    }
   ],
   "source": [
    "cells.species_expressions_by_name.keys()"
   ],
   "metadata": {
    "collapsed": false
   }
  },
  {
   "cell_type": "code",
   "execution_count": 89,
   "outputs": [
    {
     "name": "stdout",
     "output_type": "stream",
     "text": [
      "/home/antonkulaga/sources/expressions-dashboard/data/inputs/cell_lines\n",
      "QUANTS: \n",
      "['SKOV3', 'EA.hy926', 'PANC-1', 'MelJuSo', 'HEK293T', 'Jurkat', 'CCD-1070Sk', 'THP-1', 'A549', 'RAW_264.7', 'A375', 'B16F10']\n",
      "NO QUANTS: \n",
      "['MDBK', 'INS1', 'B16F1', 'Glu-Tag', 'B16F10']\n",
      "EMPTY\n",
      "['SkMel-23', 'HepaRG', 'CACHE', 'Me275', 'BV2', 'COLO205', 'MNT-1', 'RAW']\n"
     ]
    }
   ],
   "source": [
    "print(cells.folder.absolute())\n",
    "positive_quants: OrderedDict = OrderedDict()\n",
    "negative_quants: OrderedDict = OrderedDict()\n",
    "empty_quants: list = []\n",
    "for line in dirs(cells.folder):\n",
    "   samples = dirs(line)\n",
    "   positive = dirs(line).flat_map(lambda s:\n",
    "                              dirs(s).filter(\n",
    "                                  lambda r: dirs(r).exists(lambda d: d.name.startswith(\"quant\"))\n",
    "                              ).map(lambda r: r.name)).to_list()\n",
    "   negative = dirs(line).flat_map(lambda s:\n",
    "                              dirs(s).filter(\n",
    "                                  lambda r: not dirs(r).exists(lambda d: d.name.startswith(\"quant\"))\n",
    "                              ).map(lambda r: r.name)).to_list()\n",
    "   if len(positive) > 0:\n",
    "       positive_quants[line.name] = positive\n",
    "   if len(negative) > 0:\n",
    "       negative_quants[line.name] = negative\n",
    "   if len(positive) ==0 and len(negative) == 0:\n",
    "       empty_quants.append(line.name)\n",
    "\n",
    "print(\"QUANTS: \")\n",
    "print(list(positive_quants.keys()))\n",
    "print(\"NO QUANTS: \")\n",
    "print(list(negative_quants.keys()))\n",
    "print(\"EMPTY\")\n",
    "print(empty_quants)\n"
   ],
   "metadata": {
    "collapsed": false
   }
  },
  {
   "cell_type": "code",
   "execution_count": 25,
   "outputs": [
    {
     "name": "stdout",
     "output_type": "stream",
     "text": [
      "cell_lines\n",
      "\t.gitignore\n",
      "\tcell_lines_toc.tsv\n",
      "\tMDBK\n",
      "\tSKOV3\n",
      "\tHepaRG\n",
      "\tEA.hy926\n",
      "\tPANC-1\n",
      "\tINS1\n",
      "\tCACHE\n",
      "\t\t.gitignore\n",
      "\t\tHomo_sapiens_gene_names.parquet\n",
      "\t\tHomo_sapiens_transcript_expressions.parquet\n",
      "\t\tHomo_sapiens_transcript_expressions_with_exons.parquet\n",
      "\t\tHomo_sapiens_gene_expressions.parquet\n",
      "\tMelJuSo\n",
      "\tHEK293T\n",
      "\tJurkat\n",
      "\tB16F1\n",
      "\tRAW 264.7\n",
      "\tCCD-1070Sk\n",
      "\tTHP-1\n",
      "\tA549\n",
      "\tRAW_264.7\n",
      "\tB16F10\n",
      "\tRAW\n"
     ]
    }
   ],
   "source": [
    "tprint(cells.folder, 1)"
   ],
   "metadata": {
    "collapsed": false
   }
  },
  {
   "cell_type": "code",
   "execution_count": 90,
   "outputs": [
    {
     "name": "stdout",
     "output_type": "stream",
     "text": [
      "/home/antonkulaga/sources/expressions-dashboard/data/inputs/cell_lines/INS-1\n",
      "/home/antonkulaga/sources/expressions-dashboard/data/inputs/cell_lines/PANC-1 \n",
      "/home/antonkulaga/sources/expressions-dashboard/data/inputs/cell_lines/RAW 264.7\n"
     ]
    }
   ],
   "source": [
    "non_human_lines = cells.toc_samples.filter(pl.col(\"Species\") != \"Human\").select(\"Cell line name\").to_series().to_list()\n",
    "for l in non_human_lines:\n",
    "    line = (cells.folder / l)\n",
    "    if not line.exists():\n",
    "        print(line)\n"
   ],
   "metadata": {
    "collapsed": false
   }
  },
  {
   "cell_type": "code",
   "execution_count": 91,
   "outputs": [
    {
     "data": {
      "text/plain": "['Glu-Tag',\n 'INS-1',\n 'PANC-1 ',\n 'CCD-1070Sk',\n 'RAW 264.7',\n 'B16F10',\n 'B16F1',\n 'MDBK']"
     },
     "execution_count": 91,
     "metadata": {},
     "output_type": "execute_result"
    }
   ],
   "source": [
    "non_human_lines"
   ],
   "metadata": {
    "collapsed": false
   }
  },
  {
   "cell_type": "markdown",
   "source": [
    "##"
   ],
   "metadata": {
    "collapsed": false
   }
  }
 ],
 "metadata": {
  "kernelspec": {
   "display_name": "Python 3",
   "language": "python",
   "name": "python3"
  },
  "language_info": {
   "codemirror_mode": {
    "name": "ipython",
    "version": 2
   },
   "file_extension": ".py",
   "mimetype": "text/x-python",
   "name": "python",
   "nbconvert_exporter": "python",
   "pygments_lexer": "ipython2",
   "version": "2.7.6"
  }
 },
 "nbformat": 4,
 "nbformat_minor": 0
}
